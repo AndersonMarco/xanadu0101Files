{
 "cells": [
  {
   "cell_type": "markdown",
   "metadata": {},
   "source": [
    " # Introdução\n",
    "\n",
    "O objetivo desse notebook é criar um modelo de predição de gorjetas para as corridas de táxi de Chicago. A base de dados utilizada foi a [Chicago Taxi Trips](https://data.cityofchicago.org/Transportation/Taxi-Trips/wrvz-psew), por ser uma base de dados grande vai ser utilizado PySpark para o tratamento dos dados e criação do modelo de machine learning (**ML**).\n",
    "\n",
    "## Colunas da base utilizadas como entrada\n",
    "\n",
    "As colunas utilizadas como entrada para modelo de ML desenvolvido vão ser:\n",
    "* **Trip Start Timestamp**, a partir dela vai ser derivada a coluna trip_start_hour\n",
    "* **Trip End Timestamp**, a partir dela vai ser derivada a coluna trip_end_hour\n",
    "* **Pickup Community Area**, apenas as 11 áreas  mais frequentes vão ter o nome mantido as outras vão receber o nome m1\n",
    "* **Dropoff Community Area**, apenas as 11 áreas  mais frequentes vão ter o nome mantido as outras vão receber o nome m1\n",
    "* **Company**,  apenas as 19 companias mais frequentes vão ter o nome mantido, as outras vão receber nome m1\n",
    "* **Payment type**\n",
    "* Trip miles\n",
    "* Trip seconds\n",
    "* Fare\n",
    "* Tolls\n",
    "* Extras\n",
    "\n",
    "As colunas em negrito são de dados discretos. Esses dados passaram por um processo de pivoteamento, para que assim sejam criadas colunas númericas a partir destas.\n",
    "\n",
    "## Modelo de Machine learning utilizado\n",
    "\n",
    "O modelo de machine learning utilizado vai ser decido com base nas métricas alcançadas pela criação automatizada de vários modelos de ML, utilizando o **Pycaret**, em uma pequena amostra da base de dados. Apenas 1% da base foi utilizada como amostra por questões de recursos computacionais, isso corresponde a um pouco mais que 160 mil registros de corridas de táxi."
   ]
  },
  {
   "cell_type": "markdown",
   "metadata": {},
   "source": [
    "# Configuração do ambiente\n",
    "\n",
    "Download dos pacotes necessarios\n"
   ]
  },
  {
   "cell_type": "code",
   "execution_count": 41,
   "metadata": {},
   "outputs": [
    {
     "name": "stdout",
     "output_type": "stream",
     "text": [
      "Requirement already up-to-date: google-cloud-bigquery in /home/kite/.local/lib/python3.8/site-packages (3.4.1)\n",
      "Requirement already satisfied, skipping upgrade: protobuf!=3.20.0,!=3.20.1,!=4.21.0,!=4.21.1,!=4.21.2,!=4.21.3,!=4.21.4,!=4.21.5,<5.0.0dev,>=3.19.5 in /home/kite/.local/lib/python3.8/site-packages (from google-cloud-bigquery) (4.21.12)\n",
      "Requirement already satisfied, skipping upgrade: google-api-core[grpc]!=2.0.*,!=2.1.*,!=2.2.*,!=2.3.0,<3.0.0dev,>=1.31.5 in /home/kite/.local/lib/python3.8/site-packages (from google-cloud-bigquery) (2.11.0)\n",
      "Requirement already satisfied, skipping upgrade: packaging<22.0.0dev,>=14.3 in /usr/local/lib/python3.8/dist-packages (from google-cloud-bigquery) (21.3)\n",
      "Requirement already satisfied, skipping upgrade: grpcio<2.0dev,>=1.47.0 in /usr/local/lib/python3.8/dist-packages (from google-cloud-bigquery) (1.47.0)\n",
      "Requirement already satisfied, skipping upgrade: google-resumable-media<3.0dev,>=0.6.0 in /home/kite/.local/lib/python3.8/site-packages (from google-cloud-bigquery) (2.4.0)\n",
      "Requirement already satisfied, skipping upgrade: proto-plus<2.0.0dev,>=1.15.0 in /home/kite/.local/lib/python3.8/site-packages (from google-cloud-bigquery) (1.22.2)\n",
      "Requirement already satisfied, skipping upgrade: google-cloud-core<3.0.0dev,>=1.4.1 in /home/kite/.local/lib/python3.8/site-packages (from google-cloud-bigquery) (2.3.2)\n",
      "Requirement already satisfied, skipping upgrade: requests<3.0.0dev,>=2.21.0 in /home/kite/.local/lib/python3.8/site-packages (from google-cloud-bigquery) (2.28.1)\n",
      "Requirement already satisfied, skipping upgrade: python-dateutil<3.0dev,>=2.7.2 in /usr/local/lib/python3.8/dist-packages (from google-cloud-bigquery) (2.8.2)\n",
      "Requirement already satisfied, skipping upgrade: google-auth<3.0dev,>=2.14.1 in /home/kite/.local/lib/python3.8/site-packages (from google-api-core[grpc]!=2.0.*,!=2.1.*,!=2.2.*,!=2.3.0,<3.0.0dev,>=1.31.5->google-cloud-bigquery) (2.16.0)\n",
      "Requirement already satisfied, skipping upgrade: googleapis-common-protos<2.0dev,>=1.56.2 in /home/kite/.local/lib/python3.8/site-packages (from google-api-core[grpc]!=2.0.*,!=2.1.*,!=2.2.*,!=2.3.0,<3.0.0dev,>=1.31.5->google-cloud-bigquery) (1.58.0)\n",
      "Requirement already satisfied, skipping upgrade: grpcio-status<2.0dev,>=1.33.2; extra == \"grpc\" in /home/kite/.local/lib/python3.8/site-packages (from google-api-core[grpc]!=2.0.*,!=2.1.*,!=2.2.*,!=2.3.0,<3.0.0dev,>=1.31.5->google-cloud-bigquery) (1.51.1)\n",
      "Requirement already satisfied, skipping upgrade: pyparsing!=3.0.5,>=2.0.2 in /usr/local/lib/python3.8/dist-packages (from packaging<22.0.0dev,>=14.3->google-cloud-bigquery) (3.0.9)\n",
      "Requirement already satisfied, skipping upgrade: six>=1.5.2 in /usr/lib/python3/dist-packages (from grpcio<2.0dev,>=1.47.0->google-cloud-bigquery) (1.14.0)\n",
      "Requirement already satisfied, skipping upgrade: google-crc32c<2.0dev,>=1.0 in /home/kite/.local/lib/python3.8/site-packages (from google-resumable-media<3.0dev,>=0.6.0->google-cloud-bigquery) (1.5.0)\n",
      "Requirement already satisfied, skipping upgrade: urllib3<1.27,>=1.21.1 in /usr/lib/python3/dist-packages (from requests<3.0.0dev,>=2.21.0->google-cloud-bigquery) (1.25.8)\n",
      "Requirement already satisfied, skipping upgrade: idna<4,>=2.5 in /usr/lib/python3/dist-packages (from requests<3.0.0dev,>=2.21.0->google-cloud-bigquery) (2.8)\n",
      "Requirement already satisfied, skipping upgrade: certifi>=2017.4.17 in /usr/lib/python3/dist-packages (from requests<3.0.0dev,>=2.21.0->google-cloud-bigquery) (2019.11.28)\n",
      "Requirement already satisfied, skipping upgrade: charset-normalizer<3,>=2 in /home/kite/.local/lib/python3.8/site-packages (from requests<3.0.0dev,>=2.21.0->google-cloud-bigquery) (2.1.1)\n",
      "Requirement already satisfied, skipping upgrade: pyasn1-modules>=0.2.1 in /usr/lib/python3/dist-packages (from google-auth<3.0dev,>=2.14.1->google-api-core[grpc]!=2.0.*,!=2.1.*,!=2.2.*,!=2.3.0,<3.0.0dev,>=1.31.5->google-cloud-bigquery) (0.2.1)\n",
      "Requirement already satisfied, skipping upgrade: rsa<5,>=3.1.4; python_version >= \"3.6\" in /usr/local/lib/python3.8/dist-packages (from google-auth<3.0dev,>=2.14.1->google-api-core[grpc]!=2.0.*,!=2.1.*,!=2.2.*,!=2.3.0,<3.0.0dev,>=1.31.5->google-cloud-bigquery) (4.9)\n",
      "Requirement already satisfied, skipping upgrade: cachetools<6.0,>=2.0.0 in /usr/local/lib/python3.8/dist-packages (from google-auth<3.0dev,>=2.14.1->google-api-core[grpc]!=2.0.*,!=2.1.*,!=2.2.*,!=2.3.0,<3.0.0dev,>=1.31.5->google-cloud-bigquery) (5.2.0)\n",
      "Requirement already satisfied, skipping upgrade: pyasn1>=0.1.3 in /usr/lib/python3/dist-packages (from rsa<5,>=3.1.4; python_version >= \"3.6\"->google-auth<3.0dev,>=2.14.1->google-api-core[grpc]!=2.0.*,!=2.1.*,!=2.2.*,!=2.3.0,<3.0.0dev,>=1.31.5->google-cloud-bigquery) (0.4.2)\n",
      "Requirement already satisfied: pyspark in /usr/local/lib/python3.8/dist-packages (3.3.0)\n",
      "Requirement already satisfied: py4j==0.10.9.5 in /usr/local/lib/python3.8/dist-packages (from pyspark) (0.10.9.5)\n",
      "Requirement already satisfied: pandas in /usr/local/lib/python3.8/dist-packages (1.4.3)\n",
      "Requirement already satisfied: python-dateutil>=2.8.1 in /usr/local/lib/python3.8/dist-packages (from pandas) (2.8.2)\n",
      "Requirement already satisfied: numpy>=1.18.5; platform_machine != \"aarch64\" and platform_machine != \"arm64\" and python_version < \"3.10\" in /usr/local/lib/python3.8/dist-packages (from pandas) (1.23.1)\n",
      "Requirement already satisfied: pytz>=2020.1 in /usr/local/lib/python3.8/dist-packages (from pandas) (2022.1)\n",
      "Requirement already satisfied: six>=1.5 in /usr/lib/python3/dist-packages (from python-dateutil>=2.8.1->pandas) (1.14.0)\n"
     ]
    },
    {
     "data": {
      "text/plain": [
       "0"
      ]
     },
     "execution_count": 41,
     "metadata": {},
     "output_type": "execute_result"
    }
   ],
   "source": [
    "import os\n",
    "\n",
    "os.system('pip install --upgrade google-cloud-bigquery')\n",
    "os.system('pip install pyspark')\n",
    "os.system('pip install pandas')\n",
    "os.system('pip install pycaret')\n",
    "os.system('pip install shap')"
   ]
  },
  {
   "cell_type": "markdown",
   "metadata": {},
   "source": [
    " Carregamento dos pacotes"
   ]
  },
  {
   "cell_type": "code",
   "execution_count": 5,
   "metadata": {},
   "outputs": [],
   "source": [
    "import os\n",
    "import pandas as pd\n",
    "from pyspark.sql import SparkSession\n",
    "import pyspark\n",
    "import re\n",
    "from pyspark.sql.functions import col, udf\n",
    "import time\n",
    "import datetime\n",
    "import pyspark.sql.functions as F\n",
    "from pyspark.sql.functions import expr\n",
    "from pyspark.ml.feature import StandardScaler\n",
    "from pyspark.ml.feature import VectorAssembler\n",
    "from pyspark.ml.regression import LinearRegression\n",
    "from pyspark.mllib.evaluation import RegressionMetrics\n",
    "from pyspark.ml.evaluation import RegressionEvaluator\n",
    "from pyspark.mllib.tree import RandomForest\n",
    "from pyspark.ml.regression import RandomForestRegressor\n",
    "import pycaret\n",
    "import numpy as np"
   ]
  },
  {
   "cell_type": "markdown",
   "metadata": {},
   "source": [
    " Inicialização do spark"
   ]
  },
  {
   "cell_type": "code",
   "execution_count": 6,
   "metadata": {},
   "outputs": [
    {
     "name": "stdout",
     "output_type": "stream",
     "text": [
      "23/01/12 23:51:49 WARN Utils: Your hostname, DESKTOP-DHUKHBA resolves to a loopback address: 127.0.1.1; using 192.168.255.136 instead (on interface eth0)\n",
      "23/01/12 23:51:49 WARN Utils: Set SPARK_LOCAL_IP if you need to bind to another address\n"
     ]
    },
    {
     "name": "stderr",
     "output_type": "stream",
     "text": [
      "Setting default log level to \"WARN\".\n",
      "To adjust logging level use sc.setLogLevel(newLevel). For SparkR, use setLogLevel(newLevel).\n"
     ]
    },
    {
     "name": "stdout",
     "output_type": "stream",
     "text": [
      "23/01/12 23:51:50 WARN NativeCodeLoader: Unable to load native-hadoop library for your platform... using builtin-java classes where applicable\n",
      "23/01/12 23:51:51 WARN SparkConf: Note that spark.local.dir will be overridden by the value set by the cluster manager (via SPARK_LOCAL_DIRS in mesos/standalone/kubernetes and LOCAL_DIRS in YARN).\n"
     ]
    }
   ],
   "source": [
    "import os \n",
    "os.environ[\"SPARK_LOCAL_DIRS\"]='spark_temp'\n",
    "\n",
    "MAX_MEMORY = \"10g\"\n",
    "\n",
    "spark = SparkSession.builder.appName('sparkdf341')\\\n",
    "        .config(\"spark.executor.memory\", MAX_MEMORY)\\\n",
    "        .config(\"spark.driver.memory\", MAX_MEMORY)\\\n",
    "        .config(\"spark.local.dir\",os.environ[\"SPARK_LOCAL_DIRS\"])\\\n",
    "        .getOrCreate()"
   ]
  },
  {
   "cell_type": "markdown",
   "metadata": {},
   "source": [
    " # Carregamento e otmizações na base de dados"
   ]
  },
  {
   "cell_type": "markdown",
   "metadata": {},
   "source": [
    " A base de dados fica armazenado na variável **df**\n",
    "\n",
    "  ---\n",
    "\n",
    " Carregamento da base"
   ]
  },
  {
   "cell_type": "code",
   "execution_count": 3,
   "metadata": {},
   "outputs": [],
   "source": [
    "pathToDatabse='database.csv'\n",
    "pathToParquet='database.parquet'\n",
    "\n",
    "if(os.path.exists(pathToDatabse)==False):\n",
    "    os.system('curl https://data.cityofchicago.org/api/views/wrvz-psew/rows.tsv?accessType=DOWNLOAD  -o '+pathToDatabse)\n",
    "\n",
    "df=spark.read.csv(pathToDatabse, header=True,sep='\\t')"
   ]
  },
  {
   "cell_type": "markdown",
   "metadata": {},
   "source": [
    " Otimização da base"
   ]
  },
  {
   "cell_type": "code",
   "execution_count": 5,
   "metadata": {},
   "outputs": [
    {
     "name": "stderr",
     "output_type": "stream",
     "text": [
      "                                                                                \r"
     ]
    },
    {
     "name": "stdout",
     "output_type": "stream",
     "text": [
      "23/01/11 13:10:36 WARN SharedInMemoryCache: Evicting cached table partition metadata from memory due to size constraints (spark.sql.hive.filesourcePartitionFileCacheSize = 262144000 bytes). This may impact query planning performance.\n"
     ]
    },
    {
     "name": "stderr",
     "output_type": "stream",
     "text": [
      "                                                                                \r"
     ]
    }
   ],
   "source": [
    "def remove_special_characters(df):\n",
    "    columns=list(df.columns)\n",
    "    for col in columns:\n",
    "        col1=col.replace(\" \",\"_\")\n",
    "        col1=re.sub(r\"[^a-zA-Z0-9 ]\", \"_\", col1)\n",
    "        \n",
    "        df=df.withColumnRenamed(col,col1)\n",
    "    return df\n",
    "\n",
    "def get_date_from_datetime_in_str(x):\n",
    "    try:\n",
    "        return datetime.datetime.strptime(x,'%m/%d/%Y %I:%M:%S %p').strftime('%Y-%m-%d')\n",
    "    except:\n",
    "        return \"-1\"\n",
    "    \n",
    "\n",
    "def get_time_from_datetime_in_str(x):\n",
    "    try:\n",
    "        return datetime.datetime.strptime(x,'%m/%d/%Y %I:%M:%S %p').strftime('%H:%M')\n",
    "    except:\n",
    "        return \"-1\"\n",
    "\n",
    "if(os.path.exists(pathToParquet)==False):\n",
    "    get_time_from_datetime_in_str_udf=udf(lambda z: get_time_from_datetime_in_str(z))\n",
    "    get_date_from_datetime_in_str_udf=udf(lambda z: get_date_from_datetime_in_str(z))\n",
    "    df_t=df\n",
    "    df_t=df_t.withColumn(\"Trip Start Timestamp Hour Minute\",\n",
    "                     get_time_from_datetime_in_str_udf(col(\"Trip Start Timestamp\")))\n",
    "    df_t=df_t.withColumn(\"Trip Start Timestamp Date\",\n",
    "                     get_date_from_datetime_in_str_udf(col(\"Trip Start Timestamp\")))\n",
    "\n",
    "    df_t=df_t.withColumn(\"Trip End Timestamp Hour Minute\",\n",
    "                     get_time_from_datetime_in_str_udf(col(\"Trip End Timestamp\")))\n",
    "    df_t=df_t.withColumn(\"Trip End Timestamp Date\",\n",
    "                     get_date_from_datetime_in_str_udf(col(\"Trip End Timestamp\")))\n",
    "\n",
    "\n",
    "\n",
    "    df_t=remove_special_characters(df_t)\n",
    "    try:\n",
    "        df_t.write.partitionBy(\"Trip_Start_Timestamp_Date\").parquet(pathToParquet)\n",
    "    except:\n",
    "        pass\n",
    "\n",
    "df=spark.read.parquet(pathToParquet)\n",
    "n_rows_df=df.count()"
   ]
  },
  {
   "cell_type": "markdown",
   "metadata": {},
   "source": [
    " Converter dados da base"
   ]
  },
  {
   "cell_type": "code",
   "execution_count": 6,
   "metadata": {},
   "outputs": [],
   "source": [
    "df=df.withColumn(\"Trip_Miles\",df.Trip_Miles.cast('double'))\n",
    "df=df.withColumn(\"Trip_Seconds\",df.Trip_Seconds.cast('double'))\n",
    "df=df.withColumn(\"Fare\",df.Fare.cast('double'))\n",
    "df=df.withColumn(\"Tolls\",df.Tolls.cast('double'))\n",
    "df=df.withColumn(\"Extras\",df.Extras.cast('double'))\n",
    "df=df.withColumn(\"Trip_Total\",df.Trip_Total.cast('double'))\n",
    "df=df.withColumn(\"Tips\",df.Tips.cast('double'))"
   ]
  },
  {
   "cell_type": "code",
   "execution_count": 7,
   "metadata": {},
   "outputs": [
    {
     "name": "stdout",
     "output_type": "stream",
     "text": [
      "23/01/11 13:11:13 WARN package: Truncated the string representation of a plan since it was too large. This behavior can be adjusted by setting 'spark.sql.debug.maxToStringFields'.\n",
      "+--------------------+--------------------+--------------------+--------------------+------------+----------+-------------------+--------------------+---------------------+----------------------+-----+----+-----+------+----------+------------+--------------------+------------------------+-------------------------+------------------------+-------------------------+--------------------------+--------------------------+--------------------------------+------------------------------+-----------------------+-------------------------+\n",
      "|             Trip_ID|             Taxi_ID|Trip_Start_Timestamp|  Trip_End_Timestamp|Trip_Seconds|Trip_Miles|Pickup_Census_Tract|Dropoff_Census_Tract|Pickup_Community_Area|Dropoff_Community_Area| Fare|Tips|Tolls|Extras|Trip_Total|Payment_Type|             Company|Pickup_Centroid_Latitude|Pickup_Centroid_Longitude|Pickup_Centroid_Location|Dropoff_Centroid_Latitude|Dropoff_Centroid_Longitude|Dropoff_Centroid__Location|Trip_Start_Timestamp_Hour_Minute|Trip_End_Timestamp_Hour_Minute|Trip_End_Timestamp_Date|Trip_Start_Timestamp_Date|\n",
      "+--------------------+--------------------+--------------------+--------------------+------------+----------+-------------------+--------------------+---------------------+----------------------+-----+----+-----+------+----------+------------+--------------------+------------------------+-------------------------+------------------------+-------------------------+--------------------------+--------------------------+--------------------------------+------------------------------+-----------------------+-------------------------+\n",
      "|24cc0cfc8b826e38c...|2059659f66366de2e...|04/30/2019 06:15:...|04/30/2019 06:15:...|       345.0|      0.98|        17031839100|         17031839100|                   32|                    32|  6.0| 3.0|  0.0|   0.0|       9.5| Credit Card|            Sun Taxi|            41.880994471|            -87.632746489|    POINT (-87.632746...|             41.880994471|             -87.632746489|      POINT (-87.632746...|                           18:15|                         18:15|             2019-04-30|               2019-04-30|\n",
      "|5cc71ff0e297bece7...|e3b1277a5bbff6918...|04/30/2019 09:00:...|04/30/2019 09:15:...|       809.0|      2.24|               null|                null|                    7|                     7| 10.0| 2.0|  0.0|   0.0|      12.5| Credit Card|            Sun Taxi|            41.922686284|            -87.649488729|    POINT (-87.649488...|             41.922686284|             -87.649488729|      POINT (-87.649488...|                           09:00|                         09:15|             2019-04-30|               2019-04-30|\n",
      "|3d6652a35f9b2ed35...|874561d0f9044737c...|04/30/2019 01:00:...|04/30/2019 01:00:...|       455.0|       3.1|               null|                null|                   76|                  null|10.75| 0.0|  0.0|   9.0|     19.75|        Cash|        Blue Diamond|            41.980264315|            -87.913624596|    POINT (-87.913624...|                     null|                      null|                      null|                           01:00|                         01:00|             2019-04-30|               2019-04-30|\n",
      "|0a35db30d93658ff8...|cf39200ae52386dfa...|04/30/2019 01:15:...|04/30/2019 01:30:...|       722.0|      2.17|        17031839100|         17031080100|                   32|                     8| 9.75| 0.0|  0.0|   0.0|      9.75|        Cash|           Flash Cab|            41.880994471|            -87.632746489|    POINT (-87.632746...|             41.907520075|               -87.6266589|      POINT (-87.626658...|                           13:15|                         13:30|             2019-04-30|               2019-04-30|\n",
      "|6043a06bd537a5056...|8a408d82201bd7e5f...|04/30/2019 01:45:...|04/30/2019 02:00:...|       179.0|      0.53|               null|                null|                   28|                    28|  4.5| 2.0|  0.0|   1.5|       8.5| Credit Card|           Flash Cab|            41.874005383|             -87.66351755|    POINT (-87.663517...|             41.874005383|              -87.66351755|      POINT (-87.663517...|                           01:45|                         02:00|             2019-04-30|               2019-04-30|\n",
      "|3b40b896daf00cc64...|b98f8275bad36ea09...|04/30/2019 07:30:...|05/01/2019 06:45:...|     40711.0|      6.03|               null|                null|                   32|                    32|17.25| 0.0|  0.0|   0.0|     17.25|        Cash|Nova Taxi Affilia...|            41.878865584|            -87.625192142|    POINT (-87.625192...|             41.878865584|             -87.625192142|      POINT (-87.625192...|                           19:30|                         06:45|             2019-05-01|               2019-04-30|\n",
      "|1dfc67a8d416cf278...|f3f6edc7047f9c7de...|04/30/2019 12:00:...|04/30/2019 12:30:...|      1345.0|       8.1|        17031081500|         17031411000|                    8|                    41|23.25| 0.0|  0.0|   1.0|     24.25|        Cash|Taxi Affiliation ...|            41.892507781|            -87.626214906|    POINT (-87.626214...|             41.790506261|             -87.583143717|      POINT (-87.583143...|                           12:00|                         12:30|             2019-04-30|               2019-04-30|\n",
      "|e202413d035647696...|874561d0f9044737c...|04/30/2019 06:00:...|04/30/2019 06:15:...|       956.0|       1.7|        17031839100|         17031330200|                   32|                    33| 10.0| 0.0|  0.0|   0.0|      10.0|        Cash|        Blue Diamond|            41.880994471|            -87.632746489|    POINT (-87.632746...|             41.861280847|             -87.630580061|      POINT (-87.630580...|                           18:00|                         18:15|             2019-04-30|               2019-04-30|\n",
      "|f97ce469ffaaad8e7...|e1cf6c401b0eff912...|04/30/2019 10:15:...|04/30/2019 10:45:...|      1951.0|     26.95|        17031980000|         17031320100|                   76|                    32|63.75| 9.0|  0.0|   4.0|     77.25| Credit Card|           Flash Cab|             41.97907082|            -87.903039661|    POINT (-87.903039...|             41.884987192|             -87.620992913|      POINT (-87.620992...|                           22:15|                         22:45|             2019-04-30|               2019-04-30|\n",
      "|5b63c64d7b10357b8...|8aa56dbaf30cae892...|04/30/2019 06:45:...|04/30/2019 07:00:...|       474.0|      0.97|        17031081500|         17031281900|                    8|                    28| 6.75| 0.0|  0.0|   0.0|      6.75|        Cash|           Flash Cab|            41.892507781|            -87.626214906|    POINT (-87.626214...|             41.879255084|             -87.642648998|      POINT (-87.642648...|                           18:45|                         19:00|             2019-04-30|               2019-04-30|\n",
      "|8cd9cf65c3b8ac8b6...|e36f5577d4a9e6a37...|04/30/2019 01:45:...|04/30/2019 01:45:...|       589.0|       1.3|        17031320400|         17031281900|                   32|                    28|  7.5| 0.0|  0.0|   0.0|       7.5|        Cash|Taxi Affiliation ...|            41.877406123|            -87.621971652|    POINT (-87.621971...|             41.879255084|             -87.642648998|      POINT (-87.642648...|                           13:45|                         13:45|             2019-04-30|               2019-04-30|\n",
      "|a09e531f854e02faf...|d82a174530aa996c2...|04/30/2019 11:30:...|04/30/2019 11:30:...|       314.0|      0.51|        17031081700|         17031081500|                    8|                     8|  5.0| 4.0|  0.0|   0.0|       9.5| Credit Card|           Flash Cab|            41.892042136|             -87.63186395|    POINT (-87.631863...|             41.892507781|             -87.626214906|      POINT (-87.626214...|                           11:30|                         11:30|             2019-04-30|               2019-04-30|\n",
      "|9b96a07fda3d91252...|2059659f66366de2e...|04/30/2019 12:30:...|04/30/2019 01:00:...|      1151.0|     14.96|               null|                null|                   32|                  null|37.25|7.55|  0.0|   0.0|      45.3| Credit Card|            Sun Taxi|            41.878865584|            -87.625192142|    POINT (-87.625192...|                     null|                      null|                      null|                           00:30|                         01:00|             2019-04-30|               2019-04-30|\n",
      "|6d8891b8519583df0...|4324dfe74f160fb8c...|04/30/2019 06:00:...|04/30/2019 06:00:...|       519.0|       1.2|        17031842200|         17031081000|                    8|                     8|  6.5| 0.0|  0.0|   1.0|       7.5|        Cash|     Chicago Taxicab|            41.904935302|            -87.649907226|    POINT (-87.649907...|             41.900265687|              -87.63210922|      POINT (-87.632109...|                           18:00|                         18:00|             2019-04-30|               2019-04-30|\n",
      "|ab8c44dc554aa91bd...|a38f985a8df43cf3a...|04/30/2019 02:00:...|04/30/2019 02:00:...|         0.0|       0.0|               null|                null|                   59|                    59| 3.25| 0.0|  0.0|   0.0|      3.25|        Cash|    Medallion Leasin|            41.829922304|            -87.672502646|    POINT (-87.672502...|             41.829922304|             -87.672502646|      POINT (-87.672502...|                           14:00|                         14:00|             2019-04-30|               2019-04-30|\n",
      "|0dd1c93859b400a4c...|c531f081cad817a36...|04/30/2019 01:45:...|04/30/2019 02:00:...|       395.0|      1.69|               null|                null|                    1|                    77|  7.5| 0.0|  0.0|   0.0|       7.5|        Cash|           Flash Cab|            42.009622881|            -87.670166857|    POINT (-87.670166...|               41.9867118|             -87.663416405|      POINT (-87.663416...|                           01:45|                         02:00|             2019-04-30|               2019-04-30|\n",
      "|fb79f378a01f15b08...|c531f081cad817a36...|04/30/2019 03:45:...|04/30/2019 03:45:...|       293.0|      0.75|               null|                null|                    1|                     1|  5.0| 4.0|  0.0|   0.0|       9.5| Credit Card|           Flash Cab|            42.009622881|            -87.670166857|    POINT (-87.670166...|             42.009622881|             -87.670166857|      POINT (-87.670166...|                           03:45|                         03:45|             2019-04-30|               2019-04-30|\n",
      "|dc56e9fe950963547...|5cf9aaaa3a08328ae...|04/30/2019 07:30:...|04/30/2019 08:00:...|      2280.0|      14.3|               null|                null|                   76|                     4| 37.5| 0.0|  0.0|   4.0|      41.5|        Cash|    Medallion Leasin|            41.980264315|            -87.913624596|    POINT (-87.913624...|             41.975170943|             -87.687515515|      POINT (-87.687515...|                           19:30|                         20:00|             2019-04-30|               2019-04-30|\n",
      "|9654932d9646d3d85...|e1b4b14cef919ac34...|04/30/2019 12:45:...|04/30/2019 01:15:...|      1140.0|      14.5|               null|                null|                   76|                  null|36.25| 5.0|  0.0|  24.0|     65.75| Credit Card|    Medallion Leasin|            41.980264315|            -87.913624596|    POINT (-87.913624...|                     null|                      null|                      null|                           12:45|                         13:15|             2019-04-30|               2019-04-30|\n",
      "|0416a63309ccc6de1...|e87c704a9b1b4c7e9...|04/30/2019 11:30:...|04/30/2019 11:45:...|       656.0|       1.4|        17031320100|         17031281900|                   32|                    28|  7.5| 1.5|  0.0|   0.0|       9.5| Credit Card|        City Service|            41.884987192|            -87.620992913|    POINT (-87.620992...|             41.879255084|             -87.642648998|      POINT (-87.642648...|                           11:30|                         11:45|             2019-04-30|               2019-04-30|\n",
      "+--------------------+--------------------+--------------------+--------------------+------------+----------+-------------------+--------------------+---------------------+----------------------+-----+----+-----+------+----------+------------+--------------------+------------------------+-------------------------+------------------------+-------------------------+--------------------------+--------------------------+--------------------------------+------------------------------+-----------------------+-------------------------+\n",
      "only showing top 20 rows\n",
      "\n"
     ]
    }
   ],
   "source": [
    "df.show()"
   ]
  },
  {
   "cell_type": "markdown",
   "metadata": {},
   "source": [
    " # Tratamento da base de dados\n",
    " ## Retirar linha inválidas da base\n",
    " Retirar linhas onde **Trip_Miles** é igual a zero ou **Trip_Seconds** é igual a zero"
   ]
  },
  {
   "cell_type": "code",
   "execution_count": 8,
   "metadata": {},
   "outputs": [],
   "source": [
    "df=df[(df['Trip_Miles']>0.0) & (df['Trip_Seconds']>0.0)]"
   ]
  },
  {
   "cell_type": "markdown",
   "metadata": {},
   "source": [
    " Porcentagem da quantidades de linhas que permaneceram"
   ]
  },
  {
   "cell_type": "code",
   "execution_count": 9,
   "metadata": {},
   "outputs": [
    {
     "name": "stderr",
     "output_type": "stream",
     "text": [
      "                                                                                \r"
     ]
    },
    {
     "name": "stdout",
     "output_type": "stream",
     "text": [
      "0.7857097290668086\n"
     ]
    },
    {
     "name": "stderr",
     "output_type": "stream",
     "text": [
      "                                                                                \r"
     ]
    }
   ],
   "source": [
    "print(df.count()/n_rows_df)\n",
    "n_rows_df=df.count()"
   ]
  },
  {
   "cell_type": "markdown",
   "metadata": {},
   "source": [
    " ## Normalizar os nomes das companias\n",
    " Companias com pouca frequência vão ter o nome 'm1'\n",
    " ### Tabela mostrando a curva de pareto para a frequência dos nomes das companias"
   ]
  },
  {
   "cell_type": "code",
   "execution_count": 10,
   "metadata": {},
   "outputs": [
    {
     "name": "stdout",
     "output_type": "stream",
     "text": [
      "23/01/11 13:12:44 WARN WindowExec: No Partition Defined for Window operation! Moving all data to a single partition, this can cause serious performance degradation.\n",
      "23/01/11 13:12:44 WARN WindowExec: No Partition Defined for Window operation! Moving all data to a single partition, this can cause serious performance degradation.\n",
      "23/01/11 13:12:44 WARN WindowExec: No Partition Defined for Window operation! Moving all data to a single partition, this can cause serious performance degradation.\n"
     ]
    },
    {
     "name": "stderr",
     "output_type": "stream",
     "text": [
      "[Stage 13:==================================================>(5486 + 12) / 5511]\r"
     ]
    },
    {
     "name": "stdout",
     "output_type": "stream",
     "text": [
      "23/01/11 13:13:35 WARN WindowExec: No Partition Defined for Window operation! Moving all data to a single partition, this can cause serious performance degradation.\n",
      "23/01/11 13:13:35 WARN WindowExec: No Partition Defined for Window operation! Moving all data to a single partition, this can cause serious performance degradation.\n"
     ]
    },
    {
     "name": "stderr",
     "output_type": "stream",
     "text": [
      "\r",
      "[Stage 15:================================================>       (12 + 2) / 14]\r",
      "\r",
      "                                                                                \r"
     ]
    },
    {
     "name": "stdout",
     "output_type": "stream",
     "text": [
      "23/01/11 13:13:36 WARN WindowExec: No Partition Defined for Window operation! Moving all data to a single partition, this can cause serious performance degradation.\n",
      "23/01/11 13:13:36 WARN WindowExec: No Partition Defined for Window operation! Moving all data to a single partition, this can cause serious performance degradation.\n",
      "23/01/11 13:13:36 WARN WindowExec: No Partition Defined for Window operation! Moving all data to a single partition, this can cause serious performance degradation.\n",
      "23/01/11 13:13:36 WARN WindowExec: No Partition Defined for Window operation! Moving all data to a single partition, this can cause serious performance degradation.\n",
      "+--------------------+-------------------+\n",
      "|             Company|             pareto|\n",
      "+--------------------+-------------------+\n",
      "|                null|0.19986685092742143|\n",
      "|Taxi Affiliation ...| 0.3605392378862002|\n",
      "|           Flash Cab| 0.4786760961159568|\n",
      "|          Yellow Cab| 0.5378961097069753|\n",
      "|Dispatch Taxi Aff...| 0.5876181623394462|\n",
      "|Chicago Carriage ...| 0.6362457259884621|\n",
      "|Choice Taxi Assoc...|  0.675038622154915|\n",
      "|        City Service| 0.7115138003563017|\n",
      "|            Sun Taxi| 0.7478888509028575|\n",
      "|    Medallion Leasin| 0.7782671124868998|\n",
      "|Taxi Affiliation ...| 0.7999540996074587|\n",
      "|     American United| 0.8186120463810999|\n",
      "|Northwest Managem...| 0.8357287635671153|\n",
      "|          Globe Taxi| 0.8514234951740379|\n",
      "|Blue Ribbon Taxi ...|  0.866481616134103|\n",
      "|Star North Manage...| 0.8814918280541819|\n",
      "|KOAM Taxi Associa...| 0.8933410880805897|\n",
      "| Top Cab Affiliation| 0.9039738913144498|\n",
      "|            303 Taxi| 0.9132295397414473|\n",
      "|        Checker Taxi| 0.9219692393989045|\n",
      "+--------------------+-------------------+\n",
      "only showing top 20 rows\n",
      "\n"
     ]
    }
   ],
   "source": [
    "df_pareto_company=df.groupBy(\"Company\")\\\n",
    "                    .count()\\\n",
    "                    .withColumnRenamed('count','count_company')\\\n",
    "                    .orderBy(col('count_company').desc())\n",
    "df_pareto_company=df_pareto_company.withColumn('cumsum',\n",
    "                                             expr('sum(count_company) over (order by count_company desc)'))\n",
    "\n",
    "df_pareto_company=df_pareto_company.withColumn('pareto',df_pareto_company['cumsum']/n_rows_df)\n",
    "df_pareto_company[['Company','pareto']].show()"
   ]
  },
  {
   "cell_type": "markdown",
   "metadata": {},
   "source": [
    " ### Normaliza/Seta para 'm1' os nomes das companias para companias abaixo das 19 primeiras mais frequentes."
   ]
  },
  {
   "cell_type": "code",
   "execution_count": 11,
   "metadata": {},
   "outputs": [
    {
     "name": "stderr",
     "output_type": "stream",
     "text": [
      "                                                                                \r"
     ]
    }
   ],
   "source": [
    "companies_most_importants=[]\n",
    "companies_most_importants_row_format=df_pareto_company[['Company']].head(19)\n",
    "for company in companies_most_importants_row_format:\n",
    "    companies_most_importants.append(company['Company'])\n",
    "\n",
    "normalize_company_names_udf=udf(lambda x:  x if(x in companies_most_importants) else 'm1')\n",
    "df=df.withColumn(\"company_normalized\",\n",
    "                     normalize_company_names_udf(col(\"Company\")))"
   ]
  },
  {
   "cell_type": "markdown",
   "metadata": {},
   "source": [
    " ## Normalizar as áreas de Pickup\n",
    " Áreas com pouca frequência vão ter o valor m1\n",
    "\n",
    "\n",
    " Áreas com valores null vão ter o valor m2\n",
    " ### Substituir valores null por m2"
   ]
  },
  {
   "cell_type": "code",
   "execution_count": 12,
   "metadata": {},
   "outputs": [],
   "source": [
    "df=df.fillna('m2', subset=['Pickup_Community_Area'])"
   ]
  },
  {
   "cell_type": "markdown",
   "metadata": {},
   "source": [
    " ### Tabela mostrando a curva de pareto para a frequência das Áreas"
   ]
  },
  {
   "cell_type": "code",
   "execution_count": 13,
   "metadata": {},
   "outputs": [
    {
     "name": "stdout",
     "output_type": "stream",
     "text": [
      "23/01/11 13:14:31 WARN WindowExec: No Partition Defined for Window operation! Moving all data to a single partition, this can cause serious performance degradation.\n",
      "23/01/11 13:14:31 WARN WindowExec: No Partition Defined for Window operation! Moving all data to a single partition, this can cause serious performance degradation.\n",
      "23/01/11 13:14:31 WARN WindowExec: No Partition Defined for Window operation! Moving all data to a single partition, this can cause serious performance degradation.\n"
     ]
    },
    {
     "name": "stderr",
     "output_type": "stream",
     "text": [
      "[Stage 28:==================================================>(5489 + 12) / 5511]\r"
     ]
    },
    {
     "name": "stdout",
     "output_type": "stream",
     "text": [
      "23/01/11 13:15:27 WARN WindowExec: No Partition Defined for Window operation! Moving all data to a single partition, this can cause serious performance degradation.\n",
      "23/01/11 13:15:27 WARN WindowExec: No Partition Defined for Window operation! Moving all data to a single partition, this can cause serious performance degradation.\n"
     ]
    },
    {
     "name": "stderr",
     "output_type": "stream",
     "text": [
      "\r",
      "                                                                                \r"
     ]
    },
    {
     "name": "stdout",
     "output_type": "stream",
     "text": [
      "23/01/11 13:15:28 WARN WindowExec: No Partition Defined for Window operation! Moving all data to a single partition, this can cause serious performance degradation.\n",
      "23/01/11 13:15:28 WARN WindowExec: No Partition Defined for Window operation! Moving all data to a single partition, this can cause serious performance degradation.\n",
      "23/01/11 13:15:28 WARN WindowExec: No Partition Defined for Window operation! Moving all data to a single partition, this can cause serious performance degradation.\n",
      "23/01/11 13:15:28 WARN WindowExec: No Partition Defined for Window operation! Moving all data to a single partition, this can cause serious performance degradation.\n",
      "+---------------------+------------------+\n",
      "|Pickup_Community_Area|            pareto|\n",
      "+---------------------+------------------+\n",
      "|                    8| 0.295146140761722|\n",
      "|                   32|0.5105832306855411|\n",
      "|                   28| 0.597641151402734|\n",
      "|                   m2|0.6816039018753958|\n",
      "|                   76|0.7538399322532344|\n",
      "|                    6|0.8070128287586077|\n",
      "|                    7|0.8480071092438359|\n",
      "|                   24|0.8744267993368976|\n",
      "|                   33| 0.898688095141483|\n",
      "|                   56|0.9171572850238076|\n",
      "|                    3| 0.930941768035734|\n",
      "|                   77|0.9402904983046985|\n",
      "|                   22|0.9496135514674708|\n",
      "|                    5|0.9546853240786302|\n",
      "|                    4|0.9592948528098288|\n",
      "|                    1| 0.963423574773689|\n",
      "|                    2|0.9672347190046809|\n",
      "|                   41|0.9708180216719378|\n",
      "|                   16|0.9743026829590984|\n",
      "|                   21|0.9766056687699942|\n",
      "+---------------------+------------------+\n",
      "only showing top 20 rows\n",
      "\n"
     ]
    }
   ],
   "source": [
    "df_pareto_area_pickup=df.groupBy(\"Pickup_Community_Area\")\\\n",
    "                    .count()\\\n",
    "                    .withColumnRenamed('count','count_area_pickup')\\\n",
    "                    .orderBy(col('count_area_pickup').desc())\n",
    "df_pareto_area_pickup=df_pareto_area_pickup.withColumn('cumsum',\n",
    "                                             expr('sum(count_area_pickup) over (order by count_area_pickup desc)'))\n",
    "\n",
    "df_pareto_area_pickup=df_pareto_area_pickup.withColumn('pareto',df_pareto_area_pickup['cumsum']/n_rows_df)\n",
    "df_pareto_area_pickup[['Pickup_Community_Area','pareto']].show()"
   ]
  },
  {
   "cell_type": "markdown",
   "metadata": {},
   "source": [
    " ### Normaliza/Seta para m1 os nomes das áreas para as áreas abaixo das 11 primeiras mais frequentes."
   ]
  },
  {
   "cell_type": "code",
   "execution_count": 14,
   "metadata": {},
   "outputs": [
    {
     "name": "stderr",
     "output_type": "stream",
     "text": [
      "                                                                                \r"
     ]
    }
   ],
   "source": [
    "pickup_areas_most_importants=[]\n",
    "pickup_areas_most_importants_row_format=df_pareto_area_pickup[['Pickup_Community_Area']].head(11)\n",
    "for area in pickup_areas_most_importants_row_format:\n",
    "    pickup_areas_most_importants.append(area['Pickup_Community_Area'])\n",
    "\n",
    "normalize_pickup_area_udf=udf(lambda x:  x if(x in pickup_areas_most_importants) else 'm1')\n",
    "df=df.withColumn(\"pickup_area_normalized\",\n",
    "                     normalize_pickup_area_udf(col(\"Pickup_Community_Area\")))"
   ]
  },
  {
   "cell_type": "markdown",
   "metadata": {},
   "source": [
    " ## Normalizar as áreas de Dropoff\n",
    " Áreas com pouca frequência vão ter o valor m1\n",
    "\n",
    "\n",
    " Áreas com valores null vão ter o valor m2\n",
    " ### Substituir valores null por m2"
   ]
  },
  {
   "cell_type": "code",
   "execution_count": 15,
   "metadata": {},
   "outputs": [],
   "source": [
    "df=df.fillna('m2', subset=['Dropoff_Community_Area'])"
   ]
  },
  {
   "cell_type": "markdown",
   "metadata": {},
   "source": [
    " ### Tabela mostrando a curva de pareto para a frequência das Áreas"
   ]
  },
  {
   "cell_type": "code",
   "execution_count": 16,
   "metadata": {},
   "outputs": [
    {
     "name": "stdout",
     "output_type": "stream",
     "text": [
      "23/01/11 13:16:23 WARN WindowExec: No Partition Defined for Window operation! Moving all data to a single partition, this can cause serious performance degradation.\n",
      "23/01/11 13:16:23 WARN WindowExec: No Partition Defined for Window operation! Moving all data to a single partition, this can cause serious performance degradation.\n",
      "23/01/11 13:16:23 WARN WindowExec: No Partition Defined for Window operation! Moving all data to a single partition, this can cause serious performance degradation.\n"
     ]
    },
    {
     "name": "stderr",
     "output_type": "stream",
     "text": [
      "[Stage 43:==================================================>(5496 + 12) / 5511]\r"
     ]
    },
    {
     "name": "stdout",
     "output_type": "stream",
     "text": [
      "23/01/11 13:17:17 WARN WindowExec: No Partition Defined for Window operation! Moving all data to a single partition, this can cause serious performance degradation.\n",
      "23/01/11 13:17:17 WARN WindowExec: No Partition Defined for Window operation! Moving all data to a single partition, this can cause serious performance degradation.\n"
     ]
    },
    {
     "name": "stderr",
     "output_type": "stream",
     "text": [
      "\r",
      "                                                                                \r"
     ]
    },
    {
     "name": "stdout",
     "output_type": "stream",
     "text": [
      "23/01/11 13:17:18 WARN WindowExec: No Partition Defined for Window operation! Moving all data to a single partition, this can cause serious performance degradation.\n",
      "23/01/11 13:17:18 WARN WindowExec: No Partition Defined for Window operation! Moving all data to a single partition, this can cause serious performance degradation.\n",
      "23/01/11 13:17:18 WARN WindowExec: No Partition Defined for Window operation! Moving all data to a single partition, this can cause serious performance degradation.\n",
      "23/01/11 13:17:18 WARN WindowExec: No Partition Defined for Window operation! Moving all data to a single partition, this can cause serious performance degradation.\n",
      "+----------------------+------------------+\n",
      "|dropoff_Community_Area|            pareto|\n",
      "+----------------------+------------------+\n",
      "|                     8|0.2664798686730132|\n",
      "|                    32|0.4480058406243971|\n",
      "|                    m2|0.5527192126972638|\n",
      "|                    28| 0.645471648920764|\n",
      "|                     6| 0.704076214178408|\n",
      "|                     7|0.7578312266632713|\n",
      "|                    24|0.7974227933911768|\n",
      "|                    76|0.8338368291105874|\n",
      "|                    33|0.8639499119195658|\n",
      "|                     3|0.8809389089779545|\n",
      "|                    22|0.8962185781543421|\n",
      "|                    56|0.9080152029114816|\n",
      "|                    77|0.9191573319751642|\n",
      "|                     5|0.9277074289950125|\n",
      "|                     4|0.9348383637358915|\n",
      "|                     1|0.9404693487706907|\n",
      "|                    16|0.9455919407840784|\n",
      "|                    41|0.9507002608287785|\n",
      "|                     2|0.9554649218174404|\n",
      "|                    21|0.9593433277535843|\n",
      "+----------------------+------------------+\n",
      "only showing top 20 rows\n",
      "\n"
     ]
    }
   ],
   "source": [
    "df_pareto_area_dropoff=df.groupBy(\"Dropoff_Community_Area\")\\\n",
    "                    .count()\\\n",
    "                    .withColumnRenamed('count','count_area_dropoff')\\\n",
    "                    .orderBy(col('count_area_dropoff').desc())\n",
    "df_pareto_area_dropoff=df_pareto_area_dropoff.withColumn('cumsum',\n",
    "                                             expr('sum(count_area_dropoff) over (order by count_area_dropoff desc)'))\n",
    "\n",
    "df_pareto_area_dropoff=df_pareto_area_dropoff.withColumn('pareto',df_pareto_area_dropoff['cumsum']/n_rows_df)\n",
    "df_pareto_area_dropoff[['dropoff_Community_Area','pareto']].show()"
   ]
  },
  {
   "cell_type": "markdown",
   "metadata": {},
   "source": [
    " ### Normaliza/Seta para m1 os nomes das áreas para as áreas abaixo das 11 primeiras mais frequentes."
   ]
  },
  {
   "cell_type": "code",
   "execution_count": 17,
   "metadata": {},
   "outputs": [
    {
     "name": "stderr",
     "output_type": "stream",
     "text": [
      "                                                                                \r"
     ]
    }
   ],
   "source": [
    "dropoff_areas_most_importants=[]\n",
    "dropoff_areas_most_importants_row_format=df_pareto_area_dropoff[['Dropoff_Community_Area']].head(11)\n",
    "for area in dropoff_areas_most_importants_row_format:\n",
    "    dropoff_areas_most_importants.append(area['Dropoff_Community_Area'])\n",
    "\n",
    "normalize_dropoff_area_udf=udf(lambda x:  x if(x in dropoff_areas_most_importants) else 'm1')\n",
    "df=df.withColumn(\"dropoff_area_normalized\",\n",
    "                     normalize_dropoff_area_udf(col(\"Dropoff_Community_Area\")))"
   ]
  },
  {
   "cell_type": "markdown",
   "metadata": {},
   "source": [
    " ## Faz um pivoteamento da informacao hora nos campos Trip_End_Timestamp_Hour_Minute e Trip_Start_Timestamp_Hour_Minute"
   ]
  },
  {
   "cell_type": "code",
   "execution_count": 18,
   "metadata": {},
   "outputs": [],
   "source": [
    "columns_to_use=[\"Trip_ID\",'Trip_Miles','Trip_Seconds',\n",
    "                'Fare','Tips','Tolls','Extras','Trip_Total']"
   ]
  },
  {
   "cell_type": "markdown",
   "metadata": {},
   "source": [
    " ### Cria o campos de hora sem os minutos"
   ]
  },
  {
   "cell_type": "code",
   "execution_count": 19,
   "metadata": {},
   "outputs": [],
   "source": [
    "extract_hour_udf=udf(lambda z: z.split(\":\")[0])\n",
    "df_1=df.withColumn(\"trip_start_hour\",\n",
    "                  extract_hour_udf(col(\"Trip_Start_Timestamp_Hour_Minute\")))\n",
    "\n",
    "df_1=df_1.withColumn(\"trip_end_hour\",\n",
    "                  extract_hour_udf(col(\"Trip_End_Timestamp_Hour_Minute\")))"
   ]
  },
  {
   "cell_type": "markdown",
   "metadata": {},
   "source": [
    " ### Pivoteamento dos campos de horas"
   ]
  },
  {
   "cell_type": "code",
   "execution_count": 20,
   "metadata": {},
   "outputs": [
    {
     "name": "stderr",
     "output_type": "stream",
     "text": [
      "                                                                                \r"
     ]
    }
   ],
   "source": [
    "columns_to_useT=columns_to_use+['trip_end_hour',\"Trip_End_Timestamp_Date\"]+['pickup_area_normalized','dropoff_area_normalized','company_normalized','Payment_Type']\n",
    "df_1=df_1.groupBy(columns_to_useT).pivot(\"trip_start_hour\").count()\n",
    "for c in df_1.columns:\n",
    "    if(not(c  in  columns_to_useT)):\n",
    "        df_1=df_1.withColumnRenamed(c,'trip_start_hour__'+c)\n",
    "        columns_to_use.append('trip_start_hour__'+c)\n",
    "\n",
    "\n",
    "columns_to_useT=columns_to_use+[\"Trip_End_Timestamp_Date\"]+['pickup_area_normalized','dropoff_area_normalized','company_normalized','Payment_Type']\n",
    "df_1=df_1.groupBy(columns_to_useT).pivot(\"trip_end_hour\").count()\n",
    "for c in df_1.columns:\n",
    "    if(not(c  in  columns_to_useT)):\n",
    "        df_1=df_1.withColumnRenamed(c,'trip_end_hour__'+c)\n",
    "        columns_to_use.append('trip_end_hour__'+c)"
   ]
  },
  {
   "cell_type": "markdown",
   "metadata": {},
   "source": [
    " ### Cria o campo mês sem dia ou ano"
   ]
  },
  {
   "cell_type": "code",
   "execution_count": 21,
   "metadata": {},
   "outputs": [],
   "source": [
    "extract_month_udf=udf(lambda z: z.split(\"-\")[1])\n",
    "\n",
    "\n",
    "df_1=df_1.withColumn(\"trip_month\",\n",
    "                  extract_month_udf(col(\"Trip_End_Timestamp_Date\")))"
   ]
  },
  {
   "cell_type": "markdown",
   "metadata": {},
   "source": [
    " ### Pivoteamento do campo mês"
   ]
  },
  {
   "cell_type": "code",
   "execution_count": 22,
   "metadata": {},
   "outputs": [
    {
     "name": "stderr",
     "output_type": "stream",
     "text": [
      "                                                                                \r"
     ]
    }
   ],
   "source": [
    "columns_to_useT=columns_to_use+['pickup_area_normalized','dropoff_area_normalized','company_normalized','Payment_Type']\n",
    "df_1=df_1.groupBy(columns_to_useT).pivot(\"trip_month\").count()\n",
    "for c in df_1.columns:\n",
    "    if(not(c  in  columns_to_useT)):\n",
    "        df_1=df_1.withColumnRenamed(c,'trip_month__'+c)\n",
    "        columns_to_use.append('trip_month__'+c)\n",
    "\n",
    "\n",
    "df=df_1"
   ]
  },
  {
   "cell_type": "markdown",
   "metadata": {},
   "source": [
    " ##Substituir campos nulos em Patment_Type por 'm1'"
   ]
  },
  {
   "cell_type": "code",
   "execution_count": 23,
   "metadata": {},
   "outputs": [],
   "source": [
    "df=df.fillna('m1', subset=['Payment_Type'])"
   ]
  },
  {
   "cell_type": "markdown",
   "metadata": {},
   "source": [
    " ## Pivoteamento das colunas dropoff_area_normalized, pickup_area_normalized e company_normalized."
   ]
  },
  {
   "cell_type": "code",
   "execution_count": 24,
   "metadata": {},
   "outputs": [
    {
     "name": "stderr",
     "output_type": "stream",
     "text": [
      "                                                                                \r"
     ]
    }
   ],
   "source": [
    "columns_to_useT=columns_to_use+['pickup_area_normalized','company_normalized','Payment_Type']\n",
    "df_1=df.groupBy(columns_to_useT).pivot(\"dropoff_area_normalized\").count()\n",
    "\n",
    "for c in df_1.columns:\n",
    "    if(not(c  in  columns_to_useT)):\n",
    "        df_1=df_1.withColumnRenamed(c,'dropoff_area__'+c)\n",
    "        columns_to_use.append('dropoff_area__'+c)\n",
    "\n",
    "\n",
    "\n",
    "columns_to_useT=columns_to_use+['company_normalized','Payment_Type']\n",
    "df_1=df_1.groupBy(columns_to_useT).pivot(\"pickup_area_normalized\").count()       \n",
    "\n",
    "for c in df_1.columns:\n",
    "    if(not(c  in  columns_to_useT)):\n",
    "        df_1=df_1.withColumnRenamed(c,'pickup_area__'+c)\n",
    "        columns_to_use.append('pickup_area__'+c)\n",
    "        \n",
    "\n",
    "columns_to_useT=columns_to_use+['Payment_Type']\n",
    "df_1=df_1.groupBy(columns_to_useT)\\\n",
    "       .pivot(\"company_normalized\").count()\n",
    "\n",
    "\n",
    "for c in df_1.columns:\n",
    "    if(not(c  in  columns_to_useT)):\n",
    "        newNameForC=c.replace(\" \",\"_\")\n",
    "        newNameForC=re.sub(r\"[^a-zA-Z0-9 ]\", \"_\", newNameForC)\n",
    "        df_1=df_1.withColumnRenamed(c,'company__'+newNameForC)\n",
    "        columns_to_use.append('company__'+newNameForC)\n",
    "\n",
    "\n",
    "df_1=df_1.groupBy(columns_to_use)\\\n",
    "         .pivot(\"Payment_Type\").count()\n",
    "for c in df_1.columns:\n",
    "    if(not(c  in  columns_to_use)):\n",
    "        newNameForC=c.replace(\" \",\"_\")\n",
    "        newNameForC=re.sub(r\"[^a-zA-Z0-9 ]\", \"_\", c)\n",
    "        df_1=df_1.withColumnRenamed(c,'payment_type__'+newNameForC)\n",
    "        columns_to_use.append('payment_type__'+newNameForC)"
   ]
  },
  {
   "cell_type": "markdown",
   "metadata": {},
   "source": [
    " ## Trocar None por 0 nos campos"
   ]
  },
  {
   "cell_type": "code",
   "execution_count": 25,
   "metadata": {},
   "outputs": [],
   "source": [
    "df=df_1.fillna(0)"
   ]
  },
  {
   "cell_type": "markdown",
   "metadata": {},
   "source": [
    " ## Imprimir algumas linhas para ver se esta tudo certo"
   ]
  },
  {
   "cell_type": "code",
   "execution_count": 26,
   "metadata": {},
   "outputs": [
    {
     "name": "stderr",
     "output_type": "stream",
     "text": [
      "                                                                                \r"
     ]
    },
    {
     "data": {
      "text/plain": [
       "[Row(Trip_ID='653f058e33c4fbeeaf20af84f2f57e2cecdb7d4e', Trip_Miles=1.0, Trip_Seconds=300.0, Fare=6.0, Tips=2.0, Tolls=0.0, Extras=1.0, Trip_Total=9.5, trip_start_hour__00=0, trip_start_hour__01=0, trip_start_hour__02=0, trip_start_hour__03=0, trip_start_hour__04=0, trip_start_hour__05=0, trip_start_hour__06=0, trip_start_hour__07=0, trip_start_hour__08=0, trip_start_hour__09=0, trip_start_hour__10=0, trip_start_hour__11=0, trip_start_hour__12=0, trip_start_hour__13=0, trip_start_hour__14=0, trip_start_hour__15=0, trip_start_hour__16=0, trip_start_hour__17=0, trip_start_hour__18=0, trip_start_hour__19=0, trip_start_hour__20=1, trip_start_hour__21=0, trip_start_hour__22=0, trip_start_hour__23=0, trip_end_hour__00=0, trip_end_hour__01=0, trip_end_hour__02=0, trip_end_hour__03=0, trip_end_hour__04=0, trip_end_hour__05=0, trip_end_hour__06=0, trip_end_hour__07=0, trip_end_hour__08=0, trip_end_hour__09=0, trip_end_hour__10=0, trip_end_hour__11=0, trip_end_hour__12=0, trip_end_hour__13=0, trip_end_hour__14=0, trip_end_hour__15=0, trip_end_hour__16=0, trip_end_hour__17=0, trip_end_hour__18=0, trip_end_hour__19=0, trip_end_hour__20=1, trip_end_hour__21=0, trip_end_hour__22=0, trip_end_hour__23=0, trip_month__01=0, trip_month__02=0, trip_month__03=0, trip_month__04=0, trip_month__05=0, trip_month__06=0, trip_month__07=0, trip_month__08=0, trip_month__09=1, trip_month__10=0, trip_month__11=0, trip_month__12=0, dropoff_area__22=0, dropoff_area__24=0, dropoff_area__28=1, dropoff_area__3=0, dropoff_area__32=0, dropoff_area__33=0, dropoff_area__6=0, dropoff_area__7=0, dropoff_area__76=0, dropoff_area__8=0, dropoff_area__m1=0, dropoff_area__m2=0, pickup_area__24=0, pickup_area__28=0, pickup_area__3=0, pickup_area__32=1, pickup_area__33=0, pickup_area__56=0, pickup_area__6=0, pickup_area__7=0, pickup_area__76=0, pickup_area__8=0, pickup_area__m1=0, pickup_area__m2=0, company__null=0, company__303_Taxi=0, company__American_United=0, company__Blue_Ribbon_Taxi_Association_Inc_=0, company__Chicago_Carriage_Cab_Corp=0, company__Choice_Taxi_Association=0, company__City_Service=0, company__Dispatch_Taxi_Affiliation=0, company__Flash_Cab=0, company__Globe_Taxi=0, company__KOAM_Taxi_Association=0, company__Medallion_Leasin=1, company__Northwest_Management_LLC=0, company__Star_North_Management_LLC=0, company__Sun_Taxi=0, company__Taxi_Affiliation_Service_Yellow=0, company__Taxi_Affiliation_Services=0, company__Top_Cab_Affiliation=0, company__Yellow_Cab=0, company__m1=0, payment_type__Cash=0, payment_type__Credit Card=1, payment_type__Dispute=0, payment_type__Mobile=0, payment_type__No Charge=0, payment_type__Pcard=0, payment_type__Prcard=0, payment_type__Prepaid=0, payment_type__Split=0, payment_type__Unknown=0, payment_type__Way2ride=0)]"
      ]
     },
     "execution_count": 26,
     "metadata": {},
     "output_type": "execute_result"
    }
   ],
   "source": [
    "df[df['Trip_ID']=='653f058e33c4fbeeaf20af84f2f57e2cecdb7d4e'].collect()"
   ]
  },
  {
   "cell_type": "code",
   "execution_count": 27,
   "metadata": {},
   "outputs": [
    {
     "name": "stderr",
     "output_type": "stream",
     "text": [
      "                                                                                \r"
     ]
    },
    {
     "data": {
      "text/plain": [
       "[Row(Trip_ID='555367fed559070dea5d72de8ea31845e5d50033', Trip_Miles=9.32, Trip_Seconds=1776.0, Fare=26.75, Tips=0.0, Tolls=0.0, Extras=0.0, Trip_Total=26.75, trip_start_hour__00=0, trip_start_hour__01=0, trip_start_hour__02=0, trip_start_hour__03=0, trip_start_hour__04=0, trip_start_hour__05=0, trip_start_hour__06=0, trip_start_hour__07=0, trip_start_hour__08=0, trip_start_hour__09=0, trip_start_hour__10=0, trip_start_hour__11=0, trip_start_hour__12=0, trip_start_hour__13=0, trip_start_hour__14=0, trip_start_hour__15=0, trip_start_hour__16=0, trip_start_hour__17=0, trip_start_hour__18=0, trip_start_hour__19=0, trip_start_hour__20=1, trip_start_hour__21=0, trip_start_hour__22=0, trip_start_hour__23=0, trip_end_hour__00=0, trip_end_hour__01=0, trip_end_hour__02=0, trip_end_hour__03=0, trip_end_hour__04=0, trip_end_hour__05=0, trip_end_hour__06=0, trip_end_hour__07=0, trip_end_hour__08=0, trip_end_hour__09=0, trip_end_hour__10=0, trip_end_hour__11=0, trip_end_hour__12=0, trip_end_hour__13=0, trip_end_hour__14=0, trip_end_hour__15=0, trip_end_hour__16=0, trip_end_hour__17=0, trip_end_hour__18=0, trip_end_hour__19=0, trip_end_hour__20=1, trip_end_hour__21=0, trip_end_hour__22=0, trip_end_hour__23=0, trip_month__01=0, trip_month__02=0, trip_month__03=0, trip_month__04=0, trip_month__05=0, trip_month__06=0, trip_month__07=0, trip_month__08=0, trip_month__09=1, trip_month__10=0, trip_month__11=0, trip_month__12=0, dropoff_area__22=0, dropoff_area__24=0, dropoff_area__28=0, dropoff_area__3=0, dropoff_area__32=0, dropoff_area__33=0, dropoff_area__6=0, dropoff_area__7=0, dropoff_area__76=0, dropoff_area__8=1, dropoff_area__m1=0, dropoff_area__m2=0, pickup_area__24=0, pickup_area__28=0, pickup_area__3=0, pickup_area__32=0, pickup_area__33=0, pickup_area__56=0, pickup_area__6=0, pickup_area__7=0, pickup_area__76=0, pickup_area__8=0, pickup_area__m1=1, pickup_area__m2=0, company__null=0, company__303_Taxi=0, company__American_United=0, company__Blue_Ribbon_Taxi_Association_Inc_=0, company__Chicago_Carriage_Cab_Corp=0, company__Choice_Taxi_Association=0, company__City_Service=0, company__Dispatch_Taxi_Affiliation=0, company__Flash_Cab=0, company__Globe_Taxi=0, company__KOAM_Taxi_Association=0, company__Medallion_Leasin=0, company__Northwest_Management_LLC=0, company__Star_North_Management_LLC=0, company__Sun_Taxi=0, company__Taxi_Affiliation_Service_Yellow=0, company__Taxi_Affiliation_Services=0, company__Top_Cab_Affiliation=0, company__Yellow_Cab=0, company__m1=1, payment_type__Cash=0, payment_type__Credit Card=0, payment_type__Dispute=0, payment_type__Mobile=0, payment_type__No Charge=0, payment_type__Pcard=0, payment_type__Prcard=1, payment_type__Prepaid=0, payment_type__Split=0, payment_type__Unknown=0, payment_type__Way2ride=0)]"
      ]
     },
     "execution_count": 27,
     "metadata": {},
     "output_type": "execute_result"
    }
   ],
   "source": [
    "df[df['Trip_ID']=='555367fed559070dea5d72de8ea31845e5d50033'].collect()"
   ]
  },
  {
   "cell_type": "markdown",
   "metadata": {},
   "source": [
    " ## Salva os resultados obtidos até agora"
   ]
  },
  {
   "cell_type": "code",
   "execution_count": 28,
   "metadata": {},
   "outputs": [
    {
     "name": "stderr",
     "output_type": "stream",
     "text": [
      "[Stage 276:>                                                     (0 + 12) / 200]\r"
     ]
    },
    {
     "name": "stdout",
     "output_type": "stream",
     "text": [
      "23/01/11 14:30:38 WARN RowBasedKeyValueBatch: Calling spill() on RowBasedKeyValueBatch. Will not spill but return 0.\n",
      "23/01/11 14:30:38 WARN RowBasedKeyValueBatch: Calling spill() on RowBasedKeyValueBatch. Will not spill but return 0.\n",
      "23/01/11 14:30:38 WARN RowBasedKeyValueBatch: Calling spill() on RowBasedKeyValueBatch. Will not spill but return 0.\n",
      "23/01/11 14:30:38 WARN RowBasedKeyValueBatch: Calling spill() on RowBasedKeyValueBatch. Will not spill but return 0.\n",
      "23/01/11 14:30:38 WARN RowBasedKeyValueBatch: Calling spill() on RowBasedKeyValueBatch. Will not spill but return 0.\n",
      "23/01/11 14:30:38 WARN RowBasedKeyValueBatch: Calling spill() on RowBasedKeyValueBatch. Will not spill but return 0.\n",
      "23/01/11 14:30:38 WARN RowBasedKeyValueBatch: Calling spill() on RowBasedKeyValueBatch. Will not spill but return 0.\n",
      "23/01/11 14:30:38 WARN RowBasedKeyValueBatch: Calling spill() on RowBasedKeyValueBatch. Will not spill but return 0.\n",
      "23/01/11 14:30:38 WARN RowBasedKeyValueBatch: Calling spill() on RowBasedKeyValueBatch. Will not spill but return 0.\n",
      "23/01/11 14:30:38 WARN RowBasedKeyValueBatch: Calling spill() on RowBasedKeyValueBatch. Will not spill but return 0.\n",
      "23/01/11 14:30:38 WARN RowBasedKeyValueBatch: Calling spill() on RowBasedKeyValueBatch. Will not spill but return 0.\n",
      "23/01/11 14:30:38 WARN RowBasedKeyValueBatch: Calling spill() on RowBasedKeyValueBatch. Will not spill but return 0.\n",
      "23/01/11 14:30:45 WARN RowBasedKeyValueBatch: Calling spill() on RowBasedKeyValueBatch. Will not spill but return 0.\n",
      "23/01/11 14:30:46 WARN RowBasedKeyValueBatch: Calling spill() on RowBasedKeyValueBatch. Will not spill but return 0.\n",
      "23/01/11 14:30:46 WARN RowBasedKeyValueBatch: Calling spill() on RowBasedKeyValueBatch. Will not spill but return 0.\n",
      "23/01/11 14:30:46 WARN RowBasedKeyValueBatch: Calling spill() on RowBasedKeyValueBatch. Will not spill but return 0.\n",
      "23/01/11 14:30:46 WARN RowBasedKeyValueBatch: Calling spill() on RowBasedKeyValueBatch. Will not spill but return 0.\n",
      "23/01/11 14:30:46 WARN RowBasedKeyValueBatch: Calling spill() on RowBasedKeyValueBatch. Will not spill but return 0.\n",
      "23/01/11 14:30:46 WARN RowBasedKeyValueBatch: Calling spill() on RowBasedKeyValueBatch. Will not spill but return 0.\n",
      "23/01/11 14:30:46 WARN RowBasedKeyValueBatch: Calling spill() on RowBasedKeyValueBatch. Will not spill but return 0.\n",
      "23/01/11 14:30:46 WARN RowBasedKeyValueBatch: Calling spill() on RowBasedKeyValueBatch. Will not spill but return 0.\n",
      "23/01/11 14:30:46 WARN RowBasedKeyValueBatch: Calling spill() on RowBasedKeyValueBatch. Will not spill but return 0.\n",
      "23/01/11 14:30:46 WARN RowBasedKeyValueBatch: Calling spill() on RowBasedKeyValueBatch. Will not spill but return 0.\n",
      "23/01/11 14:30:47 WARN RowBasedKeyValueBatch: Calling spill() on RowBasedKeyValueBatch. Will not spill but return 0.\n"
     ]
    },
    {
     "name": "stderr",
     "output_type": "stream",
     "text": [
      "[Stage 276:===>                                                 (12 + 12) / 200]\r"
     ]
    },
    {
     "name": "stdout",
     "output_type": "stream",
     "text": [
      "23/01/11 14:32:50 WARN RowBasedKeyValueBatch: Calling spill() on RowBasedKeyValueBatch. Will not spill but return 0.\n",
      "23/01/11 14:32:53 WARN RowBasedKeyValueBatch: Calling spill() on RowBasedKeyValueBatch. Will not spill but return 0.\n",
      "23/01/11 14:32:56 WARN RowBasedKeyValueBatch: Calling spill() on RowBasedKeyValueBatch. Will not spill but return 0.\n",
      "23/01/11 14:32:58 WARN RowBasedKeyValueBatch: Calling spill() on RowBasedKeyValueBatch. Will not spill but return 0.\n",
      "23/01/11 14:32:58 WARN RowBasedKeyValueBatch: Calling spill() on RowBasedKeyValueBatch. Will not spill but return 0.\n",
      "23/01/11 14:32:58 WARN RowBasedKeyValueBatch: Calling spill() on RowBasedKeyValueBatch. Will not spill but return 0.\n",
      "23/01/11 14:32:58 WARN RowBasedKeyValueBatch: Calling spill() on RowBasedKeyValueBatch. Will not spill but return 0.\n",
      "23/01/11 14:32:58 WARN RowBasedKeyValueBatch: Calling spill() on RowBasedKeyValueBatch. Will not spill but return 0.\n",
      "23/01/11 14:32:59 WARN RowBasedKeyValueBatch: Calling spill() on RowBasedKeyValueBatch. Will not spill but return 0.\n",
      "23/01/11 14:32:59 WARN RowBasedKeyValueBatch: Calling spill() on RowBasedKeyValueBatch. Will not spill but return 0.\n",
      "23/01/11 14:33:00 WARN RowBasedKeyValueBatch: Calling spill() on RowBasedKeyValueBatch. Will not spill but return 0.\n",
      "23/01/11 14:33:00 WARN RowBasedKeyValueBatch: Calling spill() on RowBasedKeyValueBatch. Will not spill but return 0.\n",
      "23/01/11 14:33:09 WARN RowBasedKeyValueBatch: Calling spill() on RowBasedKeyValueBatch. Will not spill but return 0.\n",
      "23/01/11 14:33:11 WARN RowBasedKeyValueBatch: Calling spill() on RowBasedKeyValueBatch. Will not spill but return 0.\n",
      "23/01/11 14:33:14 WARN RowBasedKeyValueBatch: Calling spill() on RowBasedKeyValueBatch. Will not spill but return 0.\n",
      "23/01/11 14:33:16 WARN RowBasedKeyValueBatch: Calling spill() on RowBasedKeyValueBatch. Will not spill but return 0.\n",
      "23/01/11 14:33:16 WARN RowBasedKeyValueBatch: Calling spill() on RowBasedKeyValueBatch. Will not spill but return 0.\n",
      "23/01/11 14:33:16 WARN RowBasedKeyValueBatch: Calling spill() on RowBasedKeyValueBatch. Will not spill but return 0.\n",
      "23/01/11 14:33:16 WARN RowBasedKeyValueBatch: Calling spill() on RowBasedKeyValueBatch. Will not spill but return 0.\n",
      "23/01/11 14:33:16 WARN RowBasedKeyValueBatch: Calling spill() on RowBasedKeyValueBatch. Will not spill but return 0.\n",
      "23/01/11 14:33:17 WARN RowBasedKeyValueBatch: Calling spill() on RowBasedKeyValueBatch. Will not spill but return 0.\n",
      "23/01/11 14:33:18 WARN RowBasedKeyValueBatch: Calling spill() on RowBasedKeyValueBatch. Will not spill but return 0.\n",
      "23/01/11 14:33:18 WARN RowBasedKeyValueBatch: Calling spill() on RowBasedKeyValueBatch. Will not spill but return 0.\n",
      "23/01/11 14:33:18 WARN RowBasedKeyValueBatch: Calling spill() on RowBasedKeyValueBatch. Will not spill but return 0.\n"
     ]
    },
    {
     "name": "stderr",
     "output_type": "stream",
     "text": [
      "[Stage 276:======>                                              (24 + 12) / 200]\r"
     ]
    },
    {
     "name": "stdout",
     "output_type": "stream",
     "text": [
      "23/01/11 14:33:42 WARN RowBasedKeyValueBatch: Calling spill() on RowBasedKeyValueBatch. Will not spill but return 0.\n",
      "23/01/11 14:33:42 WARN RowBasedKeyValueBatch: Calling spill() on RowBasedKeyValueBatch. Will not spill but return 0.\n",
      "23/01/11 14:33:42 WARN RowBasedKeyValueBatch: Calling spill() on RowBasedKeyValueBatch. Will not spill but return 0.\n",
      "23/01/11 14:33:44 WARN RowBasedKeyValueBatch: Calling spill() on RowBasedKeyValueBatch. Will not spill but return 0.\n",
      "23/01/11 14:33:45 WARN RowBasedKeyValueBatch: Calling spill() on RowBasedKeyValueBatch. Will not spill but return 0.\n",
      "23/01/11 14:33:45 WARN RowBasedKeyValueBatch: Calling spill() on RowBasedKeyValueBatch. Will not spill but return 0.\n",
      "23/01/11 14:33:48 WARN RowBasedKeyValueBatch: Calling spill() on RowBasedKeyValueBatch. Will not spill but return 0.\n",
      "23/01/11 14:33:48 WARN RowBasedKeyValueBatch: Calling spill() on RowBasedKeyValueBatch. Will not spill but return 0.\n",
      "23/01/11 14:33:48 WARN RowBasedKeyValueBatch: Calling spill() on RowBasedKeyValueBatch. Will not spill but return 0.\n",
      "23/01/11 14:33:48 WARN RowBasedKeyValueBatch: Calling spill() on RowBasedKeyValueBatch. Will not spill but return 0.\n",
      "23/01/11 14:33:48 WARN RowBasedKeyValueBatch: Calling spill() on RowBasedKeyValueBatch. Will not spill but return 0.\n",
      "23/01/11 14:33:48 WARN RowBasedKeyValueBatch: Calling spill() on RowBasedKeyValueBatch. Will not spill but return 0.\n",
      "23/01/11 14:33:48 WARN RowBasedKeyValueBatch: Calling spill() on RowBasedKeyValueBatch. Will not spill but return 0.\n",
      "23/01/11 14:33:48 WARN RowBasedKeyValueBatch: Calling spill() on RowBasedKeyValueBatch. Will not spill but return 0.\n",
      "23/01/11 14:33:48 WARN RowBasedKeyValueBatch: Calling spill() on RowBasedKeyValueBatch. Will not spill but return 0.\n"
     ]
    },
    {
     "name": "stderr",
     "output_type": "stream",
     "text": [
      "[Stage 276:=======>                                             (27 + 12) / 200]\r"
     ]
    },
    {
     "name": "stdout",
     "output_type": "stream",
     "text": [
      "23/01/11 14:34:05 WARN RowBasedKeyValueBatch: Calling spill() on RowBasedKeyValueBatch. Will not spill but return 0.\n",
      "23/01/11 14:34:05 WARN RowBasedKeyValueBatch: Calling spill() on RowBasedKeyValueBatch. Will not spill but return 0.\n",
      "23/01/11 14:34:05 WARN RowBasedKeyValueBatch: Calling spill() on RowBasedKeyValueBatch. Will not spill but return 0.\n",
      "23/01/11 14:34:05 WARN RowBasedKeyValueBatch: Calling spill() on RowBasedKeyValueBatch. Will not spill but return 0.\n",
      "23/01/11 14:34:05 WARN RowBasedKeyValueBatch: Calling spill() on RowBasedKeyValueBatch. Will not spill but return 0.\n",
      "23/01/11 14:34:05 WARN RowBasedKeyValueBatch: Calling spill() on RowBasedKeyValueBatch. Will not spill but return 0.\n",
      "23/01/11 14:34:05 WARN RowBasedKeyValueBatch: Calling spill() on RowBasedKeyValueBatch. Will not spill but return 0.\n",
      "23/01/11 14:34:05 WARN RowBasedKeyValueBatch: Calling spill() on RowBasedKeyValueBatch. Will not spill but return 0.\n",
      "23/01/11 14:34:06 WARN RowBasedKeyValueBatch: Calling spill() on RowBasedKeyValueBatch. Will not spill but return 0.\n",
      "23/01/11 14:34:06 WARN RowBasedKeyValueBatch: Calling spill() on RowBasedKeyValueBatch. Will not spill but return 0.\n",
      "23/01/11 14:34:06 WARN RowBasedKeyValueBatch: Calling spill() on RowBasedKeyValueBatch. Will not spill but return 0.\n",
      "23/01/11 14:34:06 WARN RowBasedKeyValueBatch: Calling spill() on RowBasedKeyValueBatch. Will not spill but return 0.\n",
      "23/01/11 14:34:20 WARN RowBasedKeyValueBatch: Calling spill() on RowBasedKeyValueBatch. Will not spill but return 0.\n",
      "23/01/11 14:34:20 WARN RowBasedKeyValueBatch: Calling spill() on RowBasedKeyValueBatch. Will not spill but return 0.\n",
      "23/01/11 14:34:20 WARN RowBasedKeyValueBatch: Calling spill() on RowBasedKeyValueBatch. Will not spill but return 0.\n"
     ]
    },
    {
     "name": "stderr",
     "output_type": "stream",
     "text": [
      "[Stage 276:=========>                                           (36 + 12) / 200]\r"
     ]
    },
    {
     "name": "stdout",
     "output_type": "stream",
     "text": [
      "23/01/11 14:34:49 WARN RowBasedKeyValueBatch: Calling spill() on RowBasedKeyValueBatch. Will not spill but return 0.\n",
      "23/01/11 14:34:49 WARN RowBasedKeyValueBatch: Calling spill() on RowBasedKeyValueBatch. Will not spill but return 0.\n"
     ]
    },
    {
     "name": "stderr",
     "output_type": "stream",
     "text": [
      "[Stage 276:==========>                                          (39 + 12) / 200]\r"
     ]
    },
    {
     "name": "stdout",
     "output_type": "stream",
     "text": [
      "23/01/11 14:34:53 WARN RowBasedKeyValueBatch: Calling spill() on RowBasedKeyValueBatch. Will not spill but return 0.\n",
      "23/01/11 14:34:54 WARN RowBasedKeyValueBatch: Calling spill() on RowBasedKeyValueBatch. Will not spill but return 0.\n",
      "23/01/11 14:34:54 WARN RowBasedKeyValueBatch: Calling spill() on RowBasedKeyValueBatch. Will not spill but return 0.\n",
      "23/01/11 14:34:55 WARN RowBasedKeyValueBatch: Calling spill() on RowBasedKeyValueBatch. Will not spill but return 0.\n",
      "23/01/11 14:34:56 WARN RowBasedKeyValueBatch: Calling spill() on RowBasedKeyValueBatch. Will not spill but return 0.\n",
      "23/01/11 14:34:56 WARN RowBasedKeyValueBatch: Calling spill() on RowBasedKeyValueBatch. Will not spill but return 0.\n",
      "23/01/11 14:34:57 WARN RowBasedKeyValueBatch: Calling spill() on RowBasedKeyValueBatch. Will not spill but return 0.\n",
      "23/01/11 14:34:58 WARN RowBasedKeyValueBatch: Calling spill() on RowBasedKeyValueBatch. Will not spill but return 0.\n",
      "23/01/11 14:34:58 WARN RowBasedKeyValueBatch: Calling spill() on RowBasedKeyValueBatch. Will not spill but return 0.\n",
      "23/01/11 14:34:58 WARN RowBasedKeyValueBatch: Calling spill() on RowBasedKeyValueBatch. Will not spill but return 0.\n",
      "23/01/11 14:35:02 WARN RowBasedKeyValueBatch: Calling spill() on RowBasedKeyValueBatch. Will not spill but return 0.\n",
      "23/01/11 14:35:03 WARN RowBasedKeyValueBatch: Calling spill() on RowBasedKeyValueBatch. Will not spill but return 0.\n",
      "23/01/11 14:35:08 WARN RowBasedKeyValueBatch: Calling spill() on RowBasedKeyValueBatch. Will not spill but return 0.\n",
      "23/01/11 14:35:10 WARN RowBasedKeyValueBatch: Calling spill() on RowBasedKeyValueBatch. Will not spill but return 0.\n",
      "23/01/11 14:35:10 WARN RowBasedKeyValueBatch: Calling spill() on RowBasedKeyValueBatch. Will not spill but return 0.\n",
      "23/01/11 14:35:13 WARN RowBasedKeyValueBatch: Calling spill() on RowBasedKeyValueBatch. Will not spill but return 0.\n",
      "23/01/11 14:35:14 WARN RowBasedKeyValueBatch: Calling spill() on RowBasedKeyValueBatch. Will not spill but return 0.\n",
      "23/01/11 14:35:14 WARN RowBasedKeyValueBatch: Calling spill() on RowBasedKeyValueBatch. Will not spill but return 0.\n",
      "23/01/11 14:35:15 WARN RowBasedKeyValueBatch: Calling spill() on RowBasedKeyValueBatch. Will not spill but return 0.\n",
      "23/01/11 14:35:16 WARN RowBasedKeyValueBatch: Calling spill() on RowBasedKeyValueBatch. Will not spill but return 0.\n",
      "23/01/11 14:35:16 WARN RowBasedKeyValueBatch: Calling spill() on RowBasedKeyValueBatch. Will not spill but return 0.\n",
      "23/01/11 14:35:16 WARN RowBasedKeyValueBatch: Calling spill() on RowBasedKeyValueBatch. Will not spill but return 0.\n"
     ]
    },
    {
     "name": "stderr",
     "output_type": "stream",
     "text": [
      "[Stage 276:==========>                                          (41 + 12) / 200]\r"
     ]
    },
    {
     "name": "stdout",
     "output_type": "stream",
     "text": [
      "23/01/11 14:35:25 WARN RowBasedKeyValueBatch: Calling spill() on RowBasedKeyValueBatch. Will not spill but return 0.\n"
     ]
    },
    {
     "name": "stderr",
     "output_type": "stream",
     "text": [
      "[Stage 276:============>                                        (48 + 12) / 200]\r"
     ]
    },
    {
     "name": "stdout",
     "output_type": "stream",
     "text": [
      "23/01/11 14:35:32 WARN RowBasedKeyValueBatch: Calling spill() on RowBasedKeyValueBatch. Will not spill but return 0.\n"
     ]
    },
    {
     "name": "stderr",
     "output_type": "stream",
     "text": [
      "[Stage 276:=============>                                       (50 + 12) / 200]\r"
     ]
    },
    {
     "name": "stdout",
     "output_type": "stream",
     "text": [
      "23/01/11 14:35:34 WARN RowBasedKeyValueBatch: Calling spill() on RowBasedKeyValueBatch. Will not spill but return 0.\n"
     ]
    },
    {
     "name": "stderr",
     "output_type": "stream",
     "text": [
      "\r",
      "[Stage 276:=============>                                       (51 + 12) / 200]\r"
     ]
    },
    {
     "name": "stdout",
     "output_type": "stream",
     "text": [
      "23/01/11 14:35:34 WARN RowBasedKeyValueBatch: Calling spill() on RowBasedKeyValueBatch. Will not spill but return 0.\n",
      "23/01/11 14:35:44 WARN RowBasedKeyValueBatch: Calling spill() on RowBasedKeyValueBatch. Will not spill but return 0.\n",
      "23/01/11 14:35:45 WARN RowBasedKeyValueBatch: Calling spill() on RowBasedKeyValueBatch. Will not spill but return 0.\n",
      "23/01/11 14:35:45 WARN RowBasedKeyValueBatch: Calling spill() on RowBasedKeyValueBatch. Will not spill but return 0.\n",
      "23/01/11 14:35:45 WARN RowBasedKeyValueBatch: Calling spill() on RowBasedKeyValueBatch. Will not spill but return 0.\n",
      "23/01/11 14:35:45 WARN RowBasedKeyValueBatch: Calling spill() on RowBasedKeyValueBatch. Will not spill but return 0.\n",
      "23/01/11 14:35:45 WARN RowBasedKeyValueBatch: Calling spill() on RowBasedKeyValueBatch. Will not spill but return 0.\n",
      "23/01/11 14:35:45 WARN RowBasedKeyValueBatch: Calling spill() on RowBasedKeyValueBatch. Will not spill but return 0.\n",
      "23/01/11 14:35:45 WARN RowBasedKeyValueBatch: Calling spill() on RowBasedKeyValueBatch. Will not spill but return 0.\n",
      "23/01/11 14:35:45 WARN RowBasedKeyValueBatch: Calling spill() on RowBasedKeyValueBatch. Will not spill but return 0.\n",
      "23/01/11 14:35:47 WARN RowBasedKeyValueBatch: Calling spill() on RowBasedKeyValueBatch. Will not spill but return 0.\n"
     ]
    },
    {
     "name": "stderr",
     "output_type": "stream",
     "text": [
      "[Stage 276:==============>                                      (53 + 12) / 200]\r"
     ]
    },
    {
     "name": "stdout",
     "output_type": "stream",
     "text": [
      "23/01/11 14:35:54 WARN RowBasedKeyValueBatch: Calling spill() on RowBasedKeyValueBatch. Will not spill but return 0.\n",
      "23/01/11 14:35:54 WARN RowBasedKeyValueBatch: Calling spill() on RowBasedKeyValueBatch. Will not spill but return 0.\n",
      "23/01/11 14:36:02 WARN RowBasedKeyValueBatch: Calling spill() on RowBasedKeyValueBatch. Will not spill but return 0.\n",
      "23/01/11 14:36:03 WARN RowBasedKeyValueBatch: Calling spill() on RowBasedKeyValueBatch. Will not spill but return 0.\n",
      "23/01/11 14:36:03 WARN RowBasedKeyValueBatch: Calling spill() on RowBasedKeyValueBatch. Will not spill but return 0.\n",
      "23/01/11 14:36:03 WARN RowBasedKeyValueBatch: Calling spill() on RowBasedKeyValueBatch. Will not spill but return 0.\n",
      "23/01/11 14:36:03 WARN RowBasedKeyValueBatch: Calling spill() on RowBasedKeyValueBatch. Will not spill but return 0.\n",
      "23/01/11 14:36:03 WARN RowBasedKeyValueBatch: Calling spill() on RowBasedKeyValueBatch. Will not spill but return 0.\n",
      "23/01/11 14:36:04 WARN RowBasedKeyValueBatch: Calling spill() on RowBasedKeyValueBatch. Will not spill but return 0.\n",
      "23/01/11 14:36:04 WARN RowBasedKeyValueBatch: Calling spill() on RowBasedKeyValueBatch. Will not spill but return 0.\n",
      "23/01/11 14:36:04 WARN RowBasedKeyValueBatch: Calling spill() on RowBasedKeyValueBatch. Will not spill but return 0.\n",
      "23/01/11 14:36:05 WARN RowBasedKeyValueBatch: Calling spill() on RowBasedKeyValueBatch. Will not spill but return 0.\n",
      "23/01/11 14:36:12 WARN RowBasedKeyValueBatch: Calling spill() on RowBasedKeyValueBatch. Will not spill but return 0.\n",
      "23/01/11 14:36:12 WARN RowBasedKeyValueBatch: Calling spill() on RowBasedKeyValueBatch. Will not spill but return 0.\n"
     ]
    },
    {
     "name": "stderr",
     "output_type": "stream",
     "text": [
      "[Stage 276:=================>                                   (65 + 12) / 200]\r"
     ]
    },
    {
     "name": "stdout",
     "output_type": "stream",
     "text": [
      "23/01/11 14:36:42 WARN RowBasedKeyValueBatch: Calling spill() on RowBasedKeyValueBatch. Will not spill but return 0.\n",
      "23/01/11 14:36:42 WARN RowBasedKeyValueBatch: Calling spill() on RowBasedKeyValueBatch. Will not spill but return 0.\n",
      "23/01/11 14:36:42 WARN RowBasedKeyValueBatch: Calling spill() on RowBasedKeyValueBatch. Will not spill but return 0.\n",
      "23/01/11 14:36:42 WARN RowBasedKeyValueBatch: Calling spill() on RowBasedKeyValueBatch. Will not spill but return 0.\n",
      "23/01/11 14:36:42 WARN RowBasedKeyValueBatch: Calling spill() on RowBasedKeyValueBatch. Will not spill but return 0.\n",
      "23/01/11 14:36:42 WARN RowBasedKeyValueBatch: Calling spill() on RowBasedKeyValueBatch. Will not spill but return 0.\n",
      "23/01/11 14:36:42 WARN RowBasedKeyValueBatch: Calling spill() on RowBasedKeyValueBatch. Will not spill but return 0.\n",
      "23/01/11 14:36:42 WARN RowBasedKeyValueBatch: Calling spill() on RowBasedKeyValueBatch. Will not spill but return 0.\n",
      "23/01/11 14:36:42 WARN RowBasedKeyValueBatch: Calling spill() on RowBasedKeyValueBatch. Will not spill but return 0.\n",
      "23/01/11 14:36:42 WARN RowBasedKeyValueBatch: Calling spill() on RowBasedKeyValueBatch. Will not spill but return 0.\n",
      "23/01/11 14:36:43 WARN RowBasedKeyValueBatch: Calling spill() on RowBasedKeyValueBatch. Will not spill but return 0.\n",
      "23/01/11 14:36:43 WARN RowBasedKeyValueBatch: Calling spill() on RowBasedKeyValueBatch. Will not spill but return 0.\n",
      "23/01/11 14:37:00 WARN RowBasedKeyValueBatch: Calling spill() on RowBasedKeyValueBatch. Will not spill but return 0.\n",
      "23/01/11 14:37:00 WARN RowBasedKeyValueBatch: Calling spill() on RowBasedKeyValueBatch. Will not spill but return 0.\n",
      "23/01/11 14:37:00 WARN RowBasedKeyValueBatch: Calling spill() on RowBasedKeyValueBatch. Will not spill but return 0.\n",
      "23/01/11 14:37:00 WARN RowBasedKeyValueBatch: Calling spill() on RowBasedKeyValueBatch. Will not spill but return 0.\n",
      "23/01/11 14:37:00 WARN RowBasedKeyValueBatch: Calling spill() on RowBasedKeyValueBatch. Will not spill but return 0.\n",
      "23/01/11 14:37:00 WARN RowBasedKeyValueBatch: Calling spill() on RowBasedKeyValueBatch. Will not spill but return 0.\n",
      "23/01/11 14:37:00 WARN RowBasedKeyValueBatch: Calling spill() on RowBasedKeyValueBatch. Will not spill but return 0.\n",
      "23/01/11 14:37:00 WARN RowBasedKeyValueBatch: Calling spill() on RowBasedKeyValueBatch. Will not spill but return 0.\n",
      "23/01/11 14:37:00 WARN RowBasedKeyValueBatch: Calling spill() on RowBasedKeyValueBatch. Will not spill but return 0.\n",
      "23/01/11 14:37:00 WARN RowBasedKeyValueBatch: Calling spill() on RowBasedKeyValueBatch. Will not spill but return 0.\n",
      "23/01/11 14:37:01 WARN RowBasedKeyValueBatch: Calling spill() on RowBasedKeyValueBatch. Will not spill but return 0.\n",
      "23/01/11 14:37:01 WARN RowBasedKeyValueBatch: Calling spill() on RowBasedKeyValueBatch. Will not spill but return 0.\n"
     ]
    },
    {
     "name": "stderr",
     "output_type": "stream",
     "text": [
      "[Stage 276:====================>                                (77 + 12) / 200]\r"
     ]
    },
    {
     "name": "stdout",
     "output_type": "stream",
     "text": [
      "23/01/11 14:37:45 WARN RowBasedKeyValueBatch: Calling spill() on RowBasedKeyValueBatch. Will not spill but return 0.\n",
      "23/01/11 14:37:45 WARN RowBasedKeyValueBatch: Calling spill() on RowBasedKeyValueBatch. Will not spill but return 0.\n",
      "23/01/11 14:37:45 WARN RowBasedKeyValueBatch: Calling spill() on RowBasedKeyValueBatch. Will not spill but return 0.\n",
      "23/01/11 14:37:45 WARN RowBasedKeyValueBatch: Calling spill() on RowBasedKeyValueBatch. Will not spill but return 0.\n",
      "23/01/11 14:37:45 WARN RowBasedKeyValueBatch: Calling spill() on RowBasedKeyValueBatch. Will not spill but return 0.\n",
      "23/01/11 14:37:45 WARN RowBasedKeyValueBatch: Calling spill() on RowBasedKeyValueBatch. Will not spill but return 0.\n",
      "23/01/11 14:37:45 WARN RowBasedKeyValueBatch: Calling spill() on RowBasedKeyValueBatch. Will not spill but return 0.\n",
      "23/01/11 14:37:45 WARN RowBasedKeyValueBatch: Calling spill() on RowBasedKeyValueBatch. Will not spill but return 0.\n",
      "23/01/11 14:37:45 WARN RowBasedKeyValueBatch: Calling spill() on RowBasedKeyValueBatch. Will not spill but return 0.\n",
      "23/01/11 14:37:45 WARN RowBasedKeyValueBatch: Calling spill() on RowBasedKeyValueBatch. Will not spill but return 0.\n",
      "23/01/11 14:37:45 WARN RowBasedKeyValueBatch: Calling spill() on RowBasedKeyValueBatch. Will not spill but return 0.\n",
      "23/01/11 14:37:45 WARN RowBasedKeyValueBatch: Calling spill() on RowBasedKeyValueBatch. Will not spill but return 0.\n",
      "23/01/11 14:38:03 WARN RowBasedKeyValueBatch: Calling spill() on RowBasedKeyValueBatch. Will not spill but return 0.\n",
      "23/01/11 14:38:04 WARN RowBasedKeyValueBatch: Calling spill() on RowBasedKeyValueBatch. Will not spill but return 0.\n",
      "23/01/11 14:38:05 WARN RowBasedKeyValueBatch: Calling spill() on RowBasedKeyValueBatch. Will not spill but return 0.\n",
      "23/01/11 14:38:05 WARN RowBasedKeyValueBatch: Calling spill() on RowBasedKeyValueBatch. Will not spill but return 0.\n",
      "23/01/11 14:38:05 WARN RowBasedKeyValueBatch: Calling spill() on RowBasedKeyValueBatch. Will not spill but return 0.\n",
      "23/01/11 14:38:05 WARN RowBasedKeyValueBatch: Calling spill() on RowBasedKeyValueBatch. Will not spill but return 0.\n",
      "23/01/11 14:38:05 WARN RowBasedKeyValueBatch: Calling spill() on RowBasedKeyValueBatch. Will not spill but return 0.\n",
      "23/01/11 14:38:05 WARN RowBasedKeyValueBatch: Calling spill() on RowBasedKeyValueBatch. Will not spill but return 0.\n",
      "23/01/11 14:38:05 WARN RowBasedKeyValueBatch: Calling spill() on RowBasedKeyValueBatch. Will not spill but return 0.\n",
      "23/01/11 14:38:06 WARN RowBasedKeyValueBatch: Calling spill() on RowBasedKeyValueBatch. Will not spill but return 0.\n",
      "23/01/11 14:38:06 WARN RowBasedKeyValueBatch: Calling spill() on RowBasedKeyValueBatch. Will not spill but return 0.\n",
      "23/01/11 14:38:06 WARN RowBasedKeyValueBatch: Calling spill() on RowBasedKeyValueBatch. Will not spill but return 0.\n"
     ]
    },
    {
     "name": "stderr",
     "output_type": "stream",
     "text": [
      "[Stage 276:=======================>                             (89 + 12) / 200]\r"
     ]
    },
    {
     "name": "stdout",
     "output_type": "stream",
     "text": [
      "23/01/11 14:38:53 WARN RowBasedKeyValueBatch: Calling spill() on RowBasedKeyValueBatch. Will not spill but return 0.\n",
      "23/01/11 14:38:53 WARN RowBasedKeyValueBatch: Calling spill() on RowBasedKeyValueBatch. Will not spill but return 0.\n",
      "23/01/11 14:38:53 WARN RowBasedKeyValueBatch: Calling spill() on RowBasedKeyValueBatch. Will not spill but return 0.\n",
      "23/01/11 14:38:53 WARN RowBasedKeyValueBatch: Calling spill() on RowBasedKeyValueBatch. Will not spill but return 0.\n",
      "23/01/11 14:38:54 WARN RowBasedKeyValueBatch: Calling spill() on RowBasedKeyValueBatch. Will not spill but return 0.\n",
      "23/01/11 14:38:54 WARN RowBasedKeyValueBatch: Calling spill() on RowBasedKeyValueBatch. Will not spill but return 0.\n",
      "23/01/11 14:38:55 WARN RowBasedKeyValueBatch: Calling spill() on RowBasedKeyValueBatch. Will not spill but return 0.\n",
      "23/01/11 14:38:57 WARN RowBasedKeyValueBatch: Calling spill() on RowBasedKeyValueBatch. Will not spill but return 0.\n",
      "23/01/11 14:38:57 WARN RowBasedKeyValueBatch: Calling spill() on RowBasedKeyValueBatch. Will not spill but return 0.\n",
      "23/01/11 14:38:58 WARN RowBasedKeyValueBatch: Calling spill() on RowBasedKeyValueBatch. Will not spill but return 0.\n",
      "23/01/11 14:38:59 WARN RowBasedKeyValueBatch: Calling spill() on RowBasedKeyValueBatch. Will not spill but return 0.\n",
      "23/01/11 14:38:59 WARN RowBasedKeyValueBatch: Calling spill() on RowBasedKeyValueBatch. Will not spill but return 0.\n",
      "23/01/11 14:39:11 WARN RowBasedKeyValueBatch: Calling spill() on RowBasedKeyValueBatch. Will not spill but return 0.\n",
      "23/01/11 14:39:11 WARN RowBasedKeyValueBatch: Calling spill() on RowBasedKeyValueBatch. Will not spill but return 0.\n",
      "23/01/11 14:39:11 WARN RowBasedKeyValueBatch: Calling spill() on RowBasedKeyValueBatch. Will not spill but return 0.\n",
      "23/01/11 14:39:11 WARN RowBasedKeyValueBatch: Calling spill() on RowBasedKeyValueBatch. Will not spill but return 0.\n",
      "23/01/11 14:39:12 WARN RowBasedKeyValueBatch: Calling spill() on RowBasedKeyValueBatch. Will not spill but return 0.\n",
      "23/01/11 14:39:14 WARN RowBasedKeyValueBatch: Calling spill() on RowBasedKeyValueBatch. Will not spill but return 0.\n",
      "23/01/11 14:39:15 WARN RowBasedKeyValueBatch: Calling spill() on RowBasedKeyValueBatch. Will not spill but return 0.\n",
      "23/01/11 14:39:15 WARN RowBasedKeyValueBatch: Calling spill() on RowBasedKeyValueBatch. Will not spill but return 0.\n",
      "23/01/11 14:39:16 WARN RowBasedKeyValueBatch: Calling spill() on RowBasedKeyValueBatch. Will not spill but return 0.\n",
      "23/01/11 14:39:17 WARN RowBasedKeyValueBatch: Calling spill() on RowBasedKeyValueBatch. Will not spill but return 0.\n",
      "23/01/11 14:39:17 WARN RowBasedKeyValueBatch: Calling spill() on RowBasedKeyValueBatch. Will not spill but return 0.\n",
      "23/01/11 14:39:17 WARN RowBasedKeyValueBatch: Calling spill() on RowBasedKeyValueBatch. Will not spill but return 0.\n"
     ]
    },
    {
     "name": "stderr",
     "output_type": "stream",
     "text": [
      "[Stage 276:==========================>                         (101 + 12) / 200]\r"
     ]
    },
    {
     "name": "stdout",
     "output_type": "stream",
     "text": [
      "23/01/11 14:39:55 WARN RowBasedKeyValueBatch: Calling spill() on RowBasedKeyValueBatch. Will not spill but return 0.\n",
      "23/01/11 14:39:55 WARN RowBasedKeyValueBatch: Calling spill() on RowBasedKeyValueBatch. Will not spill but return 0.\n",
      "23/01/11 14:39:55 WARN RowBasedKeyValueBatch: Calling spill() on RowBasedKeyValueBatch. Will not spill but return 0.\n",
      "23/01/11 14:39:55 WARN RowBasedKeyValueBatch: Calling spill() on RowBasedKeyValueBatch. Will not spill but return 0.\n",
      "23/01/11 14:39:55 WARN RowBasedKeyValueBatch: Calling spill() on RowBasedKeyValueBatch. Will not spill but return 0.\n",
      "23/01/11 14:39:55 WARN RowBasedKeyValueBatch: Calling spill() on RowBasedKeyValueBatch. Will not spill but return 0.\n",
      "23/01/11 14:39:55 WARN RowBasedKeyValueBatch: Calling spill() on RowBasedKeyValueBatch. Will not spill but return 0.\n",
      "23/01/11 14:39:55 WARN RowBasedKeyValueBatch: Calling spill() on RowBasedKeyValueBatch. Will not spill but return 0.\n",
      "23/01/11 14:39:55 WARN RowBasedKeyValueBatch: Calling spill() on RowBasedKeyValueBatch. Will not spill but return 0.\n",
      "23/01/11 14:39:55 WARN RowBasedKeyValueBatch: Calling spill() on RowBasedKeyValueBatch. Will not spill but return 0.\n",
      "23/01/11 14:39:55 WARN RowBasedKeyValueBatch: Calling spill() on RowBasedKeyValueBatch. Will not spill but return 0.\n",
      "23/01/11 14:39:55 WARN RowBasedKeyValueBatch: Calling spill() on RowBasedKeyValueBatch. Will not spill but return 0.\n",
      "23/01/11 14:40:13 WARN RowBasedKeyValueBatch: Calling spill() on RowBasedKeyValueBatch. Will not spill but return 0.\n",
      "23/01/11 14:40:13 WARN RowBasedKeyValueBatch: Calling spill() on RowBasedKeyValueBatch. Will not spill but return 0.\n",
      "23/01/11 14:40:13 WARN RowBasedKeyValueBatch: Calling spill() on RowBasedKeyValueBatch. Will not spill but return 0.\n",
      "23/01/11 14:40:13 WARN RowBasedKeyValueBatch: Calling spill() on RowBasedKeyValueBatch. Will not spill but return 0.\n",
      "23/01/11 14:40:13 WARN RowBasedKeyValueBatch: Calling spill() on RowBasedKeyValueBatch. Will not spill but return 0.\n",
      "23/01/11 14:40:13 WARN RowBasedKeyValueBatch: Calling spill() on RowBasedKeyValueBatch. Will not spill but return 0.\n",
      "23/01/11 14:40:13 WARN RowBasedKeyValueBatch: Calling spill() on RowBasedKeyValueBatch. Will not spill but return 0.\n",
      "23/01/11 14:40:13 WARN RowBasedKeyValueBatch: Calling spill() on RowBasedKeyValueBatch. Will not spill but return 0.\n",
      "23/01/11 14:40:13 WARN RowBasedKeyValueBatch: Calling spill() on RowBasedKeyValueBatch. Will not spill but return 0.\n",
      "23/01/11 14:40:13 WARN RowBasedKeyValueBatch: Calling spill() on RowBasedKeyValueBatch. Will not spill but return 0.\n",
      "23/01/11 14:40:13 WARN RowBasedKeyValueBatch: Calling spill() on RowBasedKeyValueBatch. Will not spill but return 0.\n",
      "23/01/11 14:40:13 WARN RowBasedKeyValueBatch: Calling spill() on RowBasedKeyValueBatch. Will not spill but return 0.\n"
     ]
    },
    {
     "name": "stderr",
     "output_type": "stream",
     "text": [
      "[Stage 276:=============================>                      (113 + 12) / 200]\r"
     ]
    },
    {
     "name": "stdout",
     "output_type": "stream",
     "text": [
      "23/01/11 14:40:58 WARN RowBasedKeyValueBatch: Calling spill() on RowBasedKeyValueBatch. Will not spill but return 0.\n",
      "23/01/11 14:40:58 WARN RowBasedKeyValueBatch: Calling spill() on RowBasedKeyValueBatch. Will not spill but return 0.\n",
      "23/01/11 14:40:58 WARN RowBasedKeyValueBatch: Calling spill() on RowBasedKeyValueBatch. Will not spill but return 0.\n",
      "23/01/11 14:40:58 WARN RowBasedKeyValueBatch: Calling spill() on RowBasedKeyValueBatch. Will not spill but return 0.\n",
      "23/01/11 14:40:58 WARN RowBasedKeyValueBatch: Calling spill() on RowBasedKeyValueBatch. Will not spill but return 0.\n",
      "23/01/11 14:40:58 WARN RowBasedKeyValueBatch: Calling spill() on RowBasedKeyValueBatch. Will not spill but return 0.\n",
      "23/01/11 14:40:58 WARN RowBasedKeyValueBatch: Calling spill() on RowBasedKeyValueBatch. Will not spill but return 0.\n",
      "23/01/11 14:40:58 WARN RowBasedKeyValueBatch: Calling spill() on RowBasedKeyValueBatch. Will not spill but return 0.\n",
      "23/01/11 14:40:58 WARN RowBasedKeyValueBatch: Calling spill() on RowBasedKeyValueBatch. Will not spill but return 0.\n",
      "23/01/11 14:40:58 WARN RowBasedKeyValueBatch: Calling spill() on RowBasedKeyValueBatch. Will not spill but return 0.\n",
      "23/01/11 14:40:58 WARN RowBasedKeyValueBatch: Calling spill() on RowBasedKeyValueBatch. Will not spill but return 0.\n",
      "23/01/11 14:40:58 WARN RowBasedKeyValueBatch: Calling spill() on RowBasedKeyValueBatch. Will not spill but return 0.\n",
      "23/01/11 14:41:15 WARN RowBasedKeyValueBatch: Calling spill() on RowBasedKeyValueBatch. Will not spill but return 0.\n",
      "23/01/11 14:41:15 WARN RowBasedKeyValueBatch: Calling spill() on RowBasedKeyValueBatch. Will not spill but return 0.\n",
      "23/01/11 14:41:15 WARN RowBasedKeyValueBatch: Calling spill() on RowBasedKeyValueBatch. Will not spill but return 0.\n",
      "23/01/11 14:41:16 WARN RowBasedKeyValueBatch: Calling spill() on RowBasedKeyValueBatch. Will not spill but return 0.\n",
      "23/01/11 14:41:16 WARN RowBasedKeyValueBatch: Calling spill() on RowBasedKeyValueBatch. Will not spill but return 0.\n",
      "23/01/11 14:41:16 WARN RowBasedKeyValueBatch: Calling spill() on RowBasedKeyValueBatch. Will not spill but return 0.\n",
      "23/01/11 14:41:16 WARN RowBasedKeyValueBatch: Calling spill() on RowBasedKeyValueBatch. Will not spill but return 0.\n",
      "23/01/11 14:41:16 WARN RowBasedKeyValueBatch: Calling spill() on RowBasedKeyValueBatch. Will not spill but return 0.\n",
      "23/01/11 14:41:16 WARN RowBasedKeyValueBatch: Calling spill() on RowBasedKeyValueBatch. Will not spill but return 0.\n",
      "23/01/11 14:41:16 WARN RowBasedKeyValueBatch: Calling spill() on RowBasedKeyValueBatch. Will not spill but return 0.\n",
      "23/01/11 14:41:16 WARN RowBasedKeyValueBatch: Calling spill() on RowBasedKeyValueBatch. Will not spill but return 0.\n",
      "23/01/11 14:41:16 WARN RowBasedKeyValueBatch: Calling spill() on RowBasedKeyValueBatch. Will not spill but return 0.\n"
     ]
    },
    {
     "name": "stderr",
     "output_type": "stream",
     "text": [
      "[Stage 276:================================>                   (125 + 12) / 200]\r"
     ]
    },
    {
     "name": "stdout",
     "output_type": "stream",
     "text": [
      "23/01/11 14:41:55 WARN RowBasedKeyValueBatch: Calling spill() on RowBasedKeyValueBatch. Will not spill but return 0.\n",
      "23/01/11 14:41:55 WARN RowBasedKeyValueBatch: Calling spill() on RowBasedKeyValueBatch. Will not spill but return 0.\n",
      "23/01/11 14:41:55 WARN RowBasedKeyValueBatch: Calling spill() on RowBasedKeyValueBatch. Will not spill but return 0.\n",
      "23/01/11 14:41:55 WARN RowBasedKeyValueBatch: Calling spill() on RowBasedKeyValueBatch. Will not spill but return 0.\n",
      "23/01/11 14:41:55 WARN RowBasedKeyValueBatch: Calling spill() on RowBasedKeyValueBatch. Will not spill but return 0.\n",
      "23/01/11 14:41:55 WARN RowBasedKeyValueBatch: Calling spill() on RowBasedKeyValueBatch. Will not spill but return 0.\n",
      "23/01/11 14:41:55 WARN RowBasedKeyValueBatch: Calling spill() on RowBasedKeyValueBatch. Will not spill but return 0.\n",
      "23/01/11 14:41:55 WARN RowBasedKeyValueBatch: Calling spill() on RowBasedKeyValueBatch. Will not spill but return 0.\n",
      "23/01/11 14:41:55 WARN RowBasedKeyValueBatch: Calling spill() on RowBasedKeyValueBatch. Will not spill but return 0.\n",
      "23/01/11 14:41:55 WARN RowBasedKeyValueBatch: Calling spill() on RowBasedKeyValueBatch. Will not spill but return 0.\n",
      "23/01/11 14:41:55 WARN RowBasedKeyValueBatch: Calling spill() on RowBasedKeyValueBatch. Will not spill but return 0.\n",
      "23/01/11 14:41:55 WARN RowBasedKeyValueBatch: Calling spill() on RowBasedKeyValueBatch. Will not spill but return 0.\n",
      "23/01/11 14:42:13 WARN RowBasedKeyValueBatch: Calling spill() on RowBasedKeyValueBatch. Will not spill but return 0.\n",
      "23/01/11 14:42:13 WARN RowBasedKeyValueBatch: Calling spill() on RowBasedKeyValueBatch. Will not spill but return 0.\n",
      "23/01/11 14:42:13 WARN RowBasedKeyValueBatch: Calling spill() on RowBasedKeyValueBatch. Will not spill but return 0.\n",
      "23/01/11 14:42:13 WARN RowBasedKeyValueBatch: Calling spill() on RowBasedKeyValueBatch. Will not spill but return 0.\n",
      "23/01/11 14:42:13 WARN RowBasedKeyValueBatch: Calling spill() on RowBasedKeyValueBatch. Will not spill but return 0.\n",
      "23/01/11 14:42:13 WARN RowBasedKeyValueBatch: Calling spill() on RowBasedKeyValueBatch. Will not spill but return 0.\n",
      "23/01/11 14:42:13 WARN RowBasedKeyValueBatch: Calling spill() on RowBasedKeyValueBatch. Will not spill but return 0.\n",
      "23/01/11 14:42:13 WARN RowBasedKeyValueBatch: Calling spill() on RowBasedKeyValueBatch. Will not spill but return 0.\n",
      "23/01/11 14:42:13 WARN RowBasedKeyValueBatch: Calling spill() on RowBasedKeyValueBatch. Will not spill but return 0.\n",
      "23/01/11 14:42:13 WARN RowBasedKeyValueBatch: Calling spill() on RowBasedKeyValueBatch. Will not spill but return 0.\n",
      "23/01/11 14:42:13 WARN RowBasedKeyValueBatch: Calling spill() on RowBasedKeyValueBatch. Will not spill but return 0.\n",
      "23/01/11 14:42:13 WARN RowBasedKeyValueBatch: Calling spill() on RowBasedKeyValueBatch. Will not spill but return 0.\n"
     ]
    },
    {
     "name": "stderr",
     "output_type": "stream",
     "text": [
      "[Stage 276:===================================>                (137 + 12) / 200]\r"
     ]
    },
    {
     "name": "stdout",
     "output_type": "stream",
     "text": [
      "23/01/11 14:43:04 WARN RowBasedKeyValueBatch: Calling spill() on RowBasedKeyValueBatch. Will not spill but return 0.\n",
      "23/01/11 14:43:04 WARN RowBasedKeyValueBatch: Calling spill() on RowBasedKeyValueBatch. Will not spill but return 0.\n",
      "23/01/11 14:43:04 WARN RowBasedKeyValueBatch: Calling spill() on RowBasedKeyValueBatch. Will not spill but return 0.\n",
      "23/01/11 14:43:05 WARN RowBasedKeyValueBatch: Calling spill() on RowBasedKeyValueBatch. Will not spill but return 0.\n",
      "23/01/11 14:43:05 WARN RowBasedKeyValueBatch: Calling spill() on RowBasedKeyValueBatch. Will not spill but return 0.\n",
      "23/01/11 14:43:07 WARN RowBasedKeyValueBatch: Calling spill() on RowBasedKeyValueBatch. Will not spill but return 0.\n",
      "23/01/11 14:43:08 WARN RowBasedKeyValueBatch: Calling spill() on RowBasedKeyValueBatch. Will not spill but return 0.\n",
      "23/01/11 14:43:08 WARN RowBasedKeyValueBatch: Calling spill() on RowBasedKeyValueBatch. Will not spill but return 0.\n",
      "23/01/11 14:43:10 WARN RowBasedKeyValueBatch: Calling spill() on RowBasedKeyValueBatch. Will not spill but return 0.\n",
      "23/01/11 14:43:10 WARN RowBasedKeyValueBatch: Calling spill() on RowBasedKeyValueBatch. Will not spill but return 0.\n",
      "23/01/11 14:43:10 WARN RowBasedKeyValueBatch: Calling spill() on RowBasedKeyValueBatch. Will not spill but return 0.\n",
      "23/01/11 14:43:10 WARN RowBasedKeyValueBatch: Calling spill() on RowBasedKeyValueBatch. Will not spill but return 0.\n",
      "23/01/11 14:43:19 WARN RowBasedKeyValueBatch: Calling spill() on RowBasedKeyValueBatch. Will not spill but return 0.\n",
      "23/01/11 14:43:20 WARN RowBasedKeyValueBatch: Calling spill() on RowBasedKeyValueBatch. Will not spill but return 0.\n",
      "23/01/11 14:43:20 WARN RowBasedKeyValueBatch: Calling spill() on RowBasedKeyValueBatch. Will not spill but return 0.\n",
      "23/01/11 14:43:22 WARN RowBasedKeyValueBatch: Calling spill() on RowBasedKeyValueBatch. Will not spill but return 0.\n",
      "23/01/11 14:43:23 WARN RowBasedKeyValueBatch: Calling spill() on RowBasedKeyValueBatch. Will not spill but return 0.\n",
      "23/01/11 14:43:24 WARN RowBasedKeyValueBatch: Calling spill() on RowBasedKeyValueBatch. Will not spill but return 0.\n",
      "23/01/11 14:43:26 WARN RowBasedKeyValueBatch: Calling spill() on RowBasedKeyValueBatch. Will not spill but return 0.\n",
      "23/01/11 14:43:26 WARN RowBasedKeyValueBatch: Calling spill() on RowBasedKeyValueBatch. Will not spill but return 0.\n",
      "23/01/11 14:43:28 WARN RowBasedKeyValueBatch: Calling spill() on RowBasedKeyValueBatch. Will not spill but return 0.\n",
      "23/01/11 14:43:28 WARN RowBasedKeyValueBatch: Calling spill() on RowBasedKeyValueBatch. Will not spill but return 0.\n",
      "23/01/11 14:43:28 WARN RowBasedKeyValueBatch: Calling spill() on RowBasedKeyValueBatch. Will not spill but return 0.\n",
      "23/01/11 14:43:28 WARN RowBasedKeyValueBatch: Calling spill() on RowBasedKeyValueBatch. Will not spill but return 0.\n"
     ]
    },
    {
     "name": "stderr",
     "output_type": "stream",
     "text": [
      "[Stage 276:======================================>             (149 + 12) / 200]\r"
     ]
    },
    {
     "name": "stdout",
     "output_type": "stream",
     "text": [
      "23/01/11 14:43:52 WARN RowBasedKeyValueBatch: Calling spill() on RowBasedKeyValueBatch. Will not spill but return 0.\n",
      "23/01/11 14:43:52 WARN RowBasedKeyValueBatch: Calling spill() on RowBasedKeyValueBatch. Will not spill but return 0.\n",
      "23/01/11 14:43:52 WARN RowBasedKeyValueBatch: Calling spill() on RowBasedKeyValueBatch. Will not spill but return 0.\n",
      "23/01/11 14:43:52 WARN RowBasedKeyValueBatch: Calling spill() on RowBasedKeyValueBatch. Will not spill but return 0.\n",
      "23/01/11 14:43:52 WARN RowBasedKeyValueBatch: Calling spill() on RowBasedKeyValueBatch. Will not spill but return 0.\n",
      "23/01/11 14:43:52 WARN RowBasedKeyValueBatch: Calling spill() on RowBasedKeyValueBatch. Will not spill but return 0.\n",
      "23/01/11 14:43:52 WARN RowBasedKeyValueBatch: Calling spill() on RowBasedKeyValueBatch. Will not spill but return 0.\n",
      "23/01/11 14:43:52 WARN RowBasedKeyValueBatch: Calling spill() on RowBasedKeyValueBatch. Will not spill but return 0.\n",
      "23/01/11 14:43:54 WARN RowBasedKeyValueBatch: Calling spill() on RowBasedKeyValueBatch. Will not spill but return 0.\n",
      "23/01/11 14:43:55 WARN RowBasedKeyValueBatch: Calling spill() on RowBasedKeyValueBatch. Will not spill but return 0.\n",
      "23/01/11 14:43:55 WARN RowBasedKeyValueBatch: Calling spill() on RowBasedKeyValueBatch. Will not spill but return 0.\n",
      "23/01/11 14:43:55 WARN RowBasedKeyValueBatch: Calling spill() on RowBasedKeyValueBatch. Will not spill but return 0.\n",
      "23/01/11 14:44:10 WARN RowBasedKeyValueBatch: Calling spill() on RowBasedKeyValueBatch. Will not spill but return 0.\n",
      "23/01/11 14:44:10 WARN RowBasedKeyValueBatch: Calling spill() on RowBasedKeyValueBatch. Will not spill but return 0.\n",
      "23/01/11 14:44:10 WARN RowBasedKeyValueBatch: Calling spill() on RowBasedKeyValueBatch. Will not spill but return 0.\n",
      "23/01/11 14:44:10 WARN RowBasedKeyValueBatch: Calling spill() on RowBasedKeyValueBatch. Will not spill but return 0.\n",
      "23/01/11 14:44:11 WARN RowBasedKeyValueBatch: Calling spill() on RowBasedKeyValueBatch. Will not spill but return 0.\n",
      "23/01/11 14:44:11 WARN RowBasedKeyValueBatch: Calling spill() on RowBasedKeyValueBatch. Will not spill but return 0.\n",
      "23/01/11 14:44:11 WARN RowBasedKeyValueBatch: Calling spill() on RowBasedKeyValueBatch. Will not spill but return 0.\n",
      "23/01/11 14:44:11 WARN RowBasedKeyValueBatch: Calling spill() on RowBasedKeyValueBatch. Will not spill but return 0.\n",
      "23/01/11 14:44:12 WARN RowBasedKeyValueBatch: Calling spill() on RowBasedKeyValueBatch. Will not spill but return 0.\n",
      "23/01/11 14:44:12 WARN RowBasedKeyValueBatch: Calling spill() on RowBasedKeyValueBatch. Will not spill but return 0.\n",
      "23/01/11 14:44:13 WARN RowBasedKeyValueBatch: Calling spill() on RowBasedKeyValueBatch. Will not spill but return 0.\n",
      "23/01/11 14:44:13 WARN RowBasedKeyValueBatch: Calling spill() on RowBasedKeyValueBatch. Will not spill but return 0.\n"
     ]
    },
    {
     "name": "stderr",
     "output_type": "stream",
     "text": [
      "[Stage 276:=========================================>          (161 + 12) / 200]\r"
     ]
    },
    {
     "name": "stdout",
     "output_type": "stream",
     "text": [
      "23/01/11 14:44:51 WARN RowBasedKeyValueBatch: Calling spill() on RowBasedKeyValueBatch. Will not spill but return 0.\n",
      "23/01/11 14:44:51 WARN RowBasedKeyValueBatch: Calling spill() on RowBasedKeyValueBatch. Will not spill but return 0.\n",
      "23/01/11 14:44:51 WARN RowBasedKeyValueBatch: Calling spill() on RowBasedKeyValueBatch. Will not spill but return 0.\n",
      "23/01/11 14:44:51 WARN RowBasedKeyValueBatch: Calling spill() on RowBasedKeyValueBatch. Will not spill but return 0.\n",
      "23/01/11 14:44:51 WARN RowBasedKeyValueBatch: Calling spill() on RowBasedKeyValueBatch. Will not spill but return 0.\n",
      "23/01/11 14:44:51 WARN RowBasedKeyValueBatch: Calling spill() on RowBasedKeyValueBatch. Will not spill but return 0.\n",
      "23/01/11 14:44:51 WARN RowBasedKeyValueBatch: Calling spill() on RowBasedKeyValueBatch. Will not spill but return 0.\n",
      "23/01/11 14:44:52 WARN RowBasedKeyValueBatch: Calling spill() on RowBasedKeyValueBatch. Will not spill but return 0.\n",
      "23/01/11 14:44:52 WARN RowBasedKeyValueBatch: Calling spill() on RowBasedKeyValueBatch. Will not spill but return 0.\n",
      "23/01/11 14:44:52 WARN RowBasedKeyValueBatch: Calling spill() on RowBasedKeyValueBatch. Will not spill but return 0.\n",
      "23/01/11 14:44:52 WARN RowBasedKeyValueBatch: Calling spill() on RowBasedKeyValueBatch. Will not spill but return 0.\n",
      "23/01/11 14:44:53 WARN RowBasedKeyValueBatch: Calling spill() on RowBasedKeyValueBatch. Will not spill but return 0.\n",
      "23/01/11 14:45:09 WARN RowBasedKeyValueBatch: Calling spill() on RowBasedKeyValueBatch. Will not spill but return 0.\n",
      "23/01/11 14:45:09 WARN RowBasedKeyValueBatch: Calling spill() on RowBasedKeyValueBatch. Will not spill but return 0.\n",
      "23/01/11 14:45:09 WARN RowBasedKeyValueBatch: Calling spill() on RowBasedKeyValueBatch. Will not spill but return 0.\n",
      "23/01/11 14:45:09 WARN RowBasedKeyValueBatch: Calling spill() on RowBasedKeyValueBatch. Will not spill but return 0.\n",
      "23/01/11 14:45:09 WARN RowBasedKeyValueBatch: Calling spill() on RowBasedKeyValueBatch. Will not spill but return 0.\n",
      "23/01/11 14:45:09 WARN RowBasedKeyValueBatch: Calling spill() on RowBasedKeyValueBatch. Will not spill but return 0.\n",
      "23/01/11 14:45:10 WARN RowBasedKeyValueBatch: Calling spill() on RowBasedKeyValueBatch. Will not spill but return 0.\n",
      "23/01/11 14:45:10 WARN RowBasedKeyValueBatch: Calling spill() on RowBasedKeyValueBatch. Will not spill but return 0.\n",
      "23/01/11 14:45:10 WARN RowBasedKeyValueBatch: Calling spill() on RowBasedKeyValueBatch. Will not spill but return 0.\n",
      "23/01/11 14:45:10 WARN RowBasedKeyValueBatch: Calling spill() on RowBasedKeyValueBatch. Will not spill but return 0.\n",
      "23/01/11 14:45:10 WARN RowBasedKeyValueBatch: Calling spill() on RowBasedKeyValueBatch. Will not spill but return 0.\n",
      "23/01/11 14:45:11 WARN RowBasedKeyValueBatch: Calling spill() on RowBasedKeyValueBatch. Will not spill but return 0.\n"
     ]
    },
    {
     "name": "stderr",
     "output_type": "stream",
     "text": [
      "[Stage 276:============================================>       (173 + 12) / 200]\r"
     ]
    },
    {
     "name": "stdout",
     "output_type": "stream",
     "text": [
      "23/01/11 14:45:51 WARN RowBasedKeyValueBatch: Calling spill() on RowBasedKeyValueBatch. Will not spill but return 0.\n",
      "23/01/11 14:45:51 WARN RowBasedKeyValueBatch: Calling spill() on RowBasedKeyValueBatch. Will not spill but return 0.\n",
      "23/01/11 14:45:51 WARN RowBasedKeyValueBatch: Calling spill() on RowBasedKeyValueBatch. Will not spill but return 0.\n",
      "23/01/11 14:45:51 WARN RowBasedKeyValueBatch: Calling spill() on RowBasedKeyValueBatch. Will not spill but return 0.\n",
      "23/01/11 14:45:51 WARN RowBasedKeyValueBatch: Calling spill() on RowBasedKeyValueBatch. Will not spill but return 0.\n",
      "23/01/11 14:45:51 WARN RowBasedKeyValueBatch: Calling spill() on RowBasedKeyValueBatch. Will not spill but return 0.\n",
      "23/01/11 14:45:51 WARN RowBasedKeyValueBatch: Calling spill() on RowBasedKeyValueBatch. Will not spill but return 0.\n",
      "23/01/11 14:45:51 WARN RowBasedKeyValueBatch: Calling spill() on RowBasedKeyValueBatch. Will not spill but return 0.\n",
      "23/01/11 14:45:51 WARN RowBasedKeyValueBatch: Calling spill() on RowBasedKeyValueBatch. Will not spill but return 0.\n",
      "23/01/11 14:45:51 WARN RowBasedKeyValueBatch: Calling spill() on RowBasedKeyValueBatch. Will not spill but return 0.\n",
      "23/01/11 14:45:51 WARN RowBasedKeyValueBatch: Calling spill() on RowBasedKeyValueBatch. Will not spill but return 0.\n",
      "23/01/11 14:45:51 WARN RowBasedKeyValueBatch: Calling spill() on RowBasedKeyValueBatch. Will not spill but return 0.\n",
      "23/01/11 14:46:09 WARN RowBasedKeyValueBatch: Calling spill() on RowBasedKeyValueBatch. Will not spill but return 0.\n",
      "23/01/11 14:46:09 WARN RowBasedKeyValueBatch: Calling spill() on RowBasedKeyValueBatch. Will not spill but return 0.\n",
      "23/01/11 14:46:09 WARN RowBasedKeyValueBatch: Calling spill() on RowBasedKeyValueBatch. Will not spill but return 0.\n",
      "23/01/11 14:46:09 WARN RowBasedKeyValueBatch: Calling spill() on RowBasedKeyValueBatch. Will not spill but return 0.\n",
      "23/01/11 14:46:09 WARN RowBasedKeyValueBatch: Calling spill() on RowBasedKeyValueBatch. Will not spill but return 0.\n",
      "23/01/11 14:46:09 WARN RowBasedKeyValueBatch: Calling spill() on RowBasedKeyValueBatch. Will not spill but return 0.\n",
      "23/01/11 14:46:09 WARN RowBasedKeyValueBatch: Calling spill() on RowBasedKeyValueBatch. Will not spill but return 0.\n",
      "23/01/11 14:46:09 WARN RowBasedKeyValueBatch: Calling spill() on RowBasedKeyValueBatch. Will not spill but return 0.\n",
      "23/01/11 14:46:09 WARN RowBasedKeyValueBatch: Calling spill() on RowBasedKeyValueBatch. Will not spill but return 0.\n",
      "23/01/11 14:46:09 WARN RowBasedKeyValueBatch: Calling spill() on RowBasedKeyValueBatch. Will not spill but return 0.\n",
      "23/01/11 14:46:09 WARN RowBasedKeyValueBatch: Calling spill() on RowBasedKeyValueBatch. Will not spill but return 0.\n",
      "23/01/11 14:46:09 WARN RowBasedKeyValueBatch: Calling spill() on RowBasedKeyValueBatch. Will not spill but return 0.\n"
     ]
    },
    {
     "name": "stderr",
     "output_type": "stream",
     "text": [
      "[Stage 276:================================================>   (185 + 12) / 200]\r"
     ]
    },
    {
     "name": "stdout",
     "output_type": "stream",
     "text": [
      "23/01/11 14:46:52 WARN RowBasedKeyValueBatch: Calling spill() on RowBasedKeyValueBatch. Will not spill but return 0.\n",
      "23/01/11 14:46:52 WARN RowBasedKeyValueBatch: Calling spill() on RowBasedKeyValueBatch. Will not spill but return 0.\n",
      "23/01/11 14:46:52 WARN RowBasedKeyValueBatch: Calling spill() on RowBasedKeyValueBatch. Will not spill but return 0.\n",
      "23/01/11 14:46:52 WARN RowBasedKeyValueBatch: Calling spill() on RowBasedKeyValueBatch. Will not spill but return 0.\n",
      "23/01/11 14:46:52 WARN RowBasedKeyValueBatch: Calling spill() on RowBasedKeyValueBatch. Will not spill but return 0.\n",
      "23/01/11 14:46:52 WARN RowBasedKeyValueBatch: Calling spill() on RowBasedKeyValueBatch. Will not spill but return 0.\n",
      "23/01/11 14:46:52 WARN RowBasedKeyValueBatch: Calling spill() on RowBasedKeyValueBatch. Will not spill but return 0.\n",
      "23/01/11 14:46:53 WARN RowBasedKeyValueBatch: Calling spill() on RowBasedKeyValueBatch. Will not spill but return 0.\n",
      "23/01/11 14:46:53 WARN RowBasedKeyValueBatch: Calling spill() on RowBasedKeyValueBatch. Will not spill but return 0.\n",
      "23/01/11 14:46:53 WARN RowBasedKeyValueBatch: Calling spill() on RowBasedKeyValueBatch. Will not spill but return 0.\n",
      "23/01/11 14:46:54 WARN RowBasedKeyValueBatch: Calling spill() on RowBasedKeyValueBatch. Will not spill but return 0.\n",
      "23/01/11 14:46:55 WARN RowBasedKeyValueBatch: Calling spill() on RowBasedKeyValueBatch. Will not spill but return 0.\n",
      "23/01/11 14:47:10 WARN RowBasedKeyValueBatch: Calling spill() on RowBasedKeyValueBatch. Will not spill but return 0.\n",
      "23/01/11 14:47:10 WARN RowBasedKeyValueBatch: Calling spill() on RowBasedKeyValueBatch. Will not spill but return 0.\n",
      "23/01/11 14:47:11 WARN RowBasedKeyValueBatch: Calling spill() on RowBasedKeyValueBatch. Will not spill but return 0.\n",
      "23/01/11 14:47:11 WARN RowBasedKeyValueBatch: Calling spill() on RowBasedKeyValueBatch. Will not spill but return 0.\n",
      "23/01/11 14:47:11 WARN RowBasedKeyValueBatch: Calling spill() on RowBasedKeyValueBatch. Will not spill but return 0.\n",
      "23/01/11 14:47:11 WARN RowBasedKeyValueBatch: Calling spill() on RowBasedKeyValueBatch. Will not spill but return 0.\n",
      "23/01/11 14:47:11 WARN RowBasedKeyValueBatch: Calling spill() on RowBasedKeyValueBatch. Will not spill but return 0.\n",
      "23/01/11 14:47:12 WARN RowBasedKeyValueBatch: Calling spill() on RowBasedKeyValueBatch. Will not spill but return 0.\n",
      "23/01/11 14:47:12 WARN RowBasedKeyValueBatch: Calling spill() on RowBasedKeyValueBatch. Will not spill but return 0.\n",
      "23/01/11 14:47:12 WARN RowBasedKeyValueBatch: Calling spill() on RowBasedKeyValueBatch. Will not spill but return 0.\n",
      "23/01/11 14:47:12 WARN RowBasedKeyValueBatch: Calling spill() on RowBasedKeyValueBatch. Will not spill but return 0.\n",
      "23/01/11 14:47:14 WARN RowBasedKeyValueBatch: Calling spill() on RowBasedKeyValueBatch. Will not spill but return 0.\n"
     ]
    },
    {
     "name": "stderr",
     "output_type": "stream",
     "text": [
      "                                                                                \r"
     ]
    }
   ],
   "source": [
    "df=remove_special_characters(df)\n",
    "df.write.parquet('temp.parquet')"
   ]
  },
  {
   "cell_type": "markdown",
   "metadata": {},
   "source": [
    " ## Carrega os resultados obtidos até agora"
   ]
  },
  {
   "cell_type": "code",
   "execution_count": 8,
   "metadata": {},
   "outputs": [],
   "source": [
    "df=spark.read.parquet('temp.parquet')"
   ]
  },
  {
   "cell_type": "markdown",
   "metadata": {},
   "source": [
    "# Análise da distribuição das gorjetas\n",
    "Para ter um melhor entendimento de algumas metricas de qualidade do modelos de ML (como **MAE* e **MSE**) é necessário fazer uma análise distribuição do atributo predito. A seguir um box plot e um histograma com a distribuição das gorjetas."
   ]
  },
  {
   "cell_type": "code",
   "execution_count": 10,
   "metadata": {},
   "outputs": [
    {
     "name": "stderr",
     "output_type": "stream",
     "text": [
      "                                                                                \r"
     ]
    },
    {
     "data": {
      "image/png": "[encoded data removed]",
      "text/plain": [
       "<Figure size 640x480 with 1 Axes>"
      ]
     },
     "metadata": {},
     "output_type": "display_data"
    }
   ],
   "source": [
    "import seaborn as sns\n",
    "import matplotlib.pyplot as plt\n",
    "import os\n",
    "from scipy import stats\n",
    "import shutil\n",
    "def get_column___tips___from_pyspark(df_pyspark):\n",
    "    #I need to save df[['Tips']] in a CSV file because the PySpark use many ram to convert a\n",
    "    #dataframe to pandas\n",
    "    df_tips=df[['Tips']].repartition(1).write.csv('data_to_plot_histogram.csv',header=True)\n",
    "    files=os.listdir(\"data_to_plot_histogram.csv\")\n",
    "    file_csv=''\n",
    "    for file in files:\n",
    "        if(file[-3:]=='csv'):\n",
    "            file_csv=file\n",
    "            break\n",
    "    \n",
    "    df_dataframe=pd.read_csv(\"data_to_plot_histogram.csv/\"+file_csv)\n",
    "    shutil.rmtree(\"data_to_plot_histogram.csv\")\n",
    "    return df_dataframe\n",
    "    \n",
    "    \n",
    "sns.set(style=\"darkgrid\")\n",
    "df_tips= get_column___tips___from_pyspark(df)\n",
    "df_tips2=df_tips[(np.abs(stats.zscore(df_tips)) < 3)]# Remove outliers\n",
    "sns.histplot(data=df_tips2, x=\"Tips\",bins=8)\n",
    "plt.show()"
   ]
  },
  {
   "cell_type": "markdown",
   "metadata": {},
   "source": [
    "# Estudo do modelo de ML a ser utilizado e análise das variáveis\n",
    "\n",
    "## Colher uma amostras dos dados para utilizar no Pycaret e Scikit\n",
    "\n"
   ]
  },
  {
   "cell_type": "code",
   "execution_count": 114,
   "metadata": {},
   "outputs": [
    {
     "name": "stderr",
     "output_type": "stream",
     "text": [
      "                                                                                \r"
     ]
    },
    {
     "data": {
      "text/html": [
       "<div>\n",
       "<style scoped>\n",
       "    .dataframe tbody tr th:only-of-type {\n",
       "        vertical-align: middle;\n",
       "    }\n",
       "\n",
       "    .dataframe tbody tr th {\n",
       "        vertical-align: top;\n",
       "    }\n",
       "\n",
       "    .dataframe thead th {\n",
       "        text-align: right;\n",
       "    }\n",
       "</style>\n",
       "<table border=\"1\" class=\"dataframe\">\n",
       "  <thead>\n",
       "    <tr style=\"text-align: right;\">\n",
       "      <th></th>\n",
       "      <th>Trip_ID</th>\n",
       "      <th>Trip_Miles</th>\n",
       "      <th>Trip_Seconds</th>\n",
       "      <th>Fare</th>\n",
       "      <th>Tips</th>\n",
       "      <th>Tolls</th>\n",
       "      <th>Extras</th>\n",
       "      <th>Trip_Total</th>\n",
       "      <th>trip_start_hour__00</th>\n",
       "      <th>trip_start_hour__01</th>\n",
       "      <th>...</th>\n",
       "      <th>payment_type__Credit_Card</th>\n",
       "      <th>payment_type__Dispute</th>\n",
       "      <th>payment_type__Mobile</th>\n",
       "      <th>payment_type__No_Charge</th>\n",
       "      <th>payment_type__Pcard</th>\n",
       "      <th>payment_type__Prcard</th>\n",
       "      <th>payment_type__Prepaid</th>\n",
       "      <th>payment_type__Split</th>\n",
       "      <th>payment_type__Unknown</th>\n",
       "      <th>payment_type__Way2ride</th>\n",
       "    </tr>\n",
       "  </thead>\n",
       "  <tbody>\n",
       "    <tr>\n",
       "      <th>0</th>\n",
       "      <td>46e37b9ae5ddad70515f73084d1c4cb0f5340f1e</td>\n",
       "      <td>2.00</td>\n",
       "      <td>600.0</td>\n",
       "      <td>8.44</td>\n",
       "      <td>0.00</td>\n",
       "      <td>0.0</td>\n",
       "      <td>0.0</td>\n",
       "      <td>8.44</td>\n",
       "      <td>0</td>\n",
       "      <td>0</td>\n",
       "      <td>...</td>\n",
       "      <td>0</td>\n",
       "      <td>0</td>\n",
       "      <td>0</td>\n",
       "      <td>0</td>\n",
       "      <td>0</td>\n",
       "      <td>0</td>\n",
       "      <td>0</td>\n",
       "      <td>0</td>\n",
       "      <td>0</td>\n",
       "      <td>0</td>\n",
       "    </tr>\n",
       "    <tr>\n",
       "      <th>1</th>\n",
       "      <td>aaa9e44dd1e6c6bde5c774ecb6fb3394d39b339c</td>\n",
       "      <td>0.10</td>\n",
       "      <td>360.0</td>\n",
       "      <td>7.75</td>\n",
       "      <td>0.00</td>\n",
       "      <td>0.0</td>\n",
       "      <td>0.0</td>\n",
       "      <td>7.75</td>\n",
       "      <td>0</td>\n",
       "      <td>0</td>\n",
       "      <td>...</td>\n",
       "      <td>0</td>\n",
       "      <td>0</td>\n",
       "      <td>0</td>\n",
       "      <td>0</td>\n",
       "      <td>0</td>\n",
       "      <td>0</td>\n",
       "      <td>0</td>\n",
       "      <td>0</td>\n",
       "      <td>0</td>\n",
       "      <td>0</td>\n",
       "    </tr>\n",
       "    <tr>\n",
       "      <th>2</th>\n",
       "      <td>af0281869fb023de08e71d0bcf876b01b641cbbc</td>\n",
       "      <td>1.87</td>\n",
       "      <td>783.0</td>\n",
       "      <td>9.25</td>\n",
       "      <td>2.00</td>\n",
       "      <td>0.0</td>\n",
       "      <td>0.0</td>\n",
       "      <td>11.75</td>\n",
       "      <td>0</td>\n",
       "      <td>0</td>\n",
       "      <td>...</td>\n",
       "      <td>1</td>\n",
       "      <td>0</td>\n",
       "      <td>0</td>\n",
       "      <td>0</td>\n",
       "      <td>0</td>\n",
       "      <td>0</td>\n",
       "      <td>0</td>\n",
       "      <td>0</td>\n",
       "      <td>0</td>\n",
       "      <td>0</td>\n",
       "    </tr>\n",
       "    <tr>\n",
       "      <th>3</th>\n",
       "      <td>001ed4d077719aee50547373dabd6ace7859b52e</td>\n",
       "      <td>1.60</td>\n",
       "      <td>464.0</td>\n",
       "      <td>7.05</td>\n",
       "      <td>0.00</td>\n",
       "      <td>0.0</td>\n",
       "      <td>0.0</td>\n",
       "      <td>7.05</td>\n",
       "      <td>0</td>\n",
       "      <td>0</td>\n",
       "      <td>...</td>\n",
       "      <td>0</td>\n",
       "      <td>0</td>\n",
       "      <td>0</td>\n",
       "      <td>0</td>\n",
       "      <td>0</td>\n",
       "      <td>0</td>\n",
       "      <td>0</td>\n",
       "      <td>0</td>\n",
       "      <td>0</td>\n",
       "      <td>0</td>\n",
       "    </tr>\n",
       "    <tr>\n",
       "      <th>4</th>\n",
       "      <td>1dacb683e4fb64a44d8acb29ad37c6f326fb3647</td>\n",
       "      <td>0.60</td>\n",
       "      <td>180.0</td>\n",
       "      <td>4.75</td>\n",
       "      <td>0.00</td>\n",
       "      <td>0.0</td>\n",
       "      <td>0.0</td>\n",
       "      <td>4.75</td>\n",
       "      <td>0</td>\n",
       "      <td>0</td>\n",
       "      <td>...</td>\n",
       "      <td>0</td>\n",
       "      <td>0</td>\n",
       "      <td>0</td>\n",
       "      <td>0</td>\n",
       "      <td>0</td>\n",
       "      <td>0</td>\n",
       "      <td>0</td>\n",
       "      <td>0</td>\n",
       "      <td>0</td>\n",
       "      <td>0</td>\n",
       "    </tr>\n",
       "    <tr>\n",
       "      <th>...</th>\n",
       "      <td>...</td>\n",
       "      <td>...</td>\n",
       "      <td>...</td>\n",
       "      <td>...</td>\n",
       "      <td>...</td>\n",
       "      <td>...</td>\n",
       "      <td>...</td>\n",
       "      <td>...</td>\n",
       "      <td>...</td>\n",
       "      <td>...</td>\n",
       "      <td>...</td>\n",
       "      <td>...</td>\n",
       "      <td>...</td>\n",
       "      <td>...</td>\n",
       "      <td>...</td>\n",
       "      <td>...</td>\n",
       "      <td>...</td>\n",
       "      <td>...</td>\n",
       "      <td>...</td>\n",
       "      <td>...</td>\n",
       "      <td>...</td>\n",
       "    </tr>\n",
       "    <tr>\n",
       "      <th>161057</th>\n",
       "      <td>ff61befd76022832f22f70839347eca1db139a93</td>\n",
       "      <td>17.70</td>\n",
       "      <td>1416.0</td>\n",
       "      <td>43.75</td>\n",
       "      <td>9.55</td>\n",
       "      <td>0.0</td>\n",
       "      <td>4.0</td>\n",
       "      <td>57.30</td>\n",
       "      <td>0</td>\n",
       "      <td>0</td>\n",
       "      <td>...</td>\n",
       "      <td>1</td>\n",
       "      <td>0</td>\n",
       "      <td>0</td>\n",
       "      <td>0</td>\n",
       "      <td>0</td>\n",
       "      <td>0</td>\n",
       "      <td>0</td>\n",
       "      <td>0</td>\n",
       "      <td>0</td>\n",
       "      <td>0</td>\n",
       "    </tr>\n",
       "    <tr>\n",
       "      <th>161058</th>\n",
       "      <td>ff66db0feab4ef94843acdf64908ac132aa93f12</td>\n",
       "      <td>0.50</td>\n",
       "      <td>480.0</td>\n",
       "      <td>4.85</td>\n",
       "      <td>0.00</td>\n",
       "      <td>0.0</td>\n",
       "      <td>0.0</td>\n",
       "      <td>4.85</td>\n",
       "      <td>0</td>\n",
       "      <td>0</td>\n",
       "      <td>...</td>\n",
       "      <td>0</td>\n",
       "      <td>0</td>\n",
       "      <td>0</td>\n",
       "      <td>0</td>\n",
       "      <td>0</td>\n",
       "      <td>0</td>\n",
       "      <td>0</td>\n",
       "      <td>0</td>\n",
       "      <td>0</td>\n",
       "      <td>0</td>\n",
       "    </tr>\n",
       "    <tr>\n",
       "      <th>161059</th>\n",
       "      <td>ffa669605249ab2236ec1cde7181af998b516139</td>\n",
       "      <td>0.80</td>\n",
       "      <td>960.0</td>\n",
       "      <td>8.75</td>\n",
       "      <td>0.00</td>\n",
       "      <td>0.0</td>\n",
       "      <td>1.5</td>\n",
       "      <td>10.25</td>\n",
       "      <td>0</td>\n",
       "      <td>0</td>\n",
       "      <td>...</td>\n",
       "      <td>0</td>\n",
       "      <td>0</td>\n",
       "      <td>0</td>\n",
       "      <td>0</td>\n",
       "      <td>0</td>\n",
       "      <td>0</td>\n",
       "      <td>0</td>\n",
       "      <td>0</td>\n",
       "      <td>0</td>\n",
       "      <td>0</td>\n",
       "    </tr>\n",
       "    <tr>\n",
       "      <th>161060</th>\n",
       "      <td>ffc343a3f412894260393f3041d653e566810128</td>\n",
       "      <td>1.90</td>\n",
       "      <td>300.0</td>\n",
       "      <td>7.75</td>\n",
       "      <td>0.00</td>\n",
       "      <td>0.0</td>\n",
       "      <td>0.0</td>\n",
       "      <td>7.75</td>\n",
       "      <td>0</td>\n",
       "      <td>0</td>\n",
       "      <td>...</td>\n",
       "      <td>0</td>\n",
       "      <td>0</td>\n",
       "      <td>0</td>\n",
       "      <td>0</td>\n",
       "      <td>0</td>\n",
       "      <td>0</td>\n",
       "      <td>0</td>\n",
       "      <td>0</td>\n",
       "      <td>0</td>\n",
       "      <td>0</td>\n",
       "    </tr>\n",
       "    <tr>\n",
       "      <th>161061</th>\n",
       "      <td>ffe16bdb43e6e226a31009554f7aac1878e0437a</td>\n",
       "      <td>4.00</td>\n",
       "      <td>960.0</td>\n",
       "      <td>12.05</td>\n",
       "      <td>0.00</td>\n",
       "      <td>0.0</td>\n",
       "      <td>1.0</td>\n",
       "      <td>13.05</td>\n",
       "      <td>0</td>\n",
       "      <td>0</td>\n",
       "      <td>...</td>\n",
       "      <td>0</td>\n",
       "      <td>0</td>\n",
       "      <td>0</td>\n",
       "      <td>0</td>\n",
       "      <td>0</td>\n",
       "      <td>0</td>\n",
       "      <td>0</td>\n",
       "      <td>0</td>\n",
       "      <td>0</td>\n",
       "      <td>0</td>\n",
       "    </tr>\n",
       "  </tbody>\n",
       "</table>\n",
       "<p>161062 rows × 123 columns</p>\n",
       "</div>"
      ],
      "text/plain": [
       "                                         Trip_ID  Trip_Miles  Trip_Seconds  \\\n",
       "0       46e37b9ae5ddad70515f73084d1c4cb0f5340f1e        2.00         600.0   \n",
       "1       aaa9e44dd1e6c6bde5c774ecb6fb3394d39b339c        0.10         360.0   \n",
       "2       af0281869fb023de08e71d0bcf876b01b641cbbc        1.87         783.0   \n",
       "3       001ed4d077719aee50547373dabd6ace7859b52e        1.60         464.0   \n",
       "4       1dacb683e4fb64a44d8acb29ad37c6f326fb3647        0.60         180.0   \n",
       "...                                          ...         ...           ...   \n",
       "161057  ff61befd76022832f22f70839347eca1db139a93       17.70        1416.0   \n",
       "161058  ff66db0feab4ef94843acdf64908ac132aa93f12        0.50         480.0   \n",
       "161059  ffa669605249ab2236ec1cde7181af998b516139        0.80         960.0   \n",
       "161060  ffc343a3f412894260393f3041d653e566810128        1.90         300.0   \n",
       "161061  ffe16bdb43e6e226a31009554f7aac1878e0437a        4.00         960.0   \n",
       "\n",
       "         Fare  Tips  Tolls  Extras  Trip_Total  trip_start_hour__00  \\\n",
       "0        8.44  0.00    0.0     0.0        8.44                    0   \n",
       "1        7.75  0.00    0.0     0.0        7.75                    0   \n",
       "2        9.25  2.00    0.0     0.0       11.75                    0   \n",
       "3        7.05  0.00    0.0     0.0        7.05                    0   \n",
       "4        4.75  0.00    0.0     0.0        4.75                    0   \n",
       "...       ...   ...    ...     ...         ...                  ...   \n",
       "161057  43.75  9.55    0.0     4.0       57.30                    0   \n",
       "161058   4.85  0.00    0.0     0.0        4.85                    0   \n",
       "161059   8.75  0.00    0.0     1.5       10.25                    0   \n",
       "161060   7.75  0.00    0.0     0.0        7.75                    0   \n",
       "161061  12.05  0.00    0.0     1.0       13.05                    0   \n",
       "\n",
       "        trip_start_hour__01  ...  payment_type__Credit_Card  \\\n",
       "0                         0  ...                          0   \n",
       "1                         0  ...                          0   \n",
       "2                         0  ...                          1   \n",
       "3                         0  ...                          0   \n",
       "4                         0  ...                          0   \n",
       "...                     ...  ...                        ...   \n",
       "161057                    0  ...                          1   \n",
       "161058                    0  ...                          0   \n",
       "161059                    0  ...                          0   \n",
       "161060                    0  ...                          0   \n",
       "161061                    0  ...                          0   \n",
       "\n",
       "        payment_type__Dispute  payment_type__Mobile  payment_type__No_Charge  \\\n",
       "0                           0                     0                        0   \n",
       "1                           0                     0                        0   \n",
       "2                           0                     0                        0   \n",
       "3                           0                     0                        0   \n",
       "4                           0                     0                        0   \n",
       "...                       ...                   ...                      ...   \n",
       "161057                      0                     0                        0   \n",
       "161058                      0                     0                        0   \n",
       "161059                      0                     0                        0   \n",
       "161060                      0                     0                        0   \n",
       "161061                      0                     0                        0   \n",
       "\n",
       "        payment_type__Pcard  payment_type__Prcard  payment_type__Prepaid  \\\n",
       "0                         0                     0                      0   \n",
       "1                         0                     0                      0   \n",
       "2                         0                     0                      0   \n",
       "3                         0                     0                      0   \n",
       "4                         0                     0                      0   \n",
       "...                     ...                   ...                    ...   \n",
       "161057                    0                     0                      0   \n",
       "161058                    0                     0                      0   \n",
       "161059                    0                     0                      0   \n",
       "161060                    0                     0                      0   \n",
       "161061                    0                     0                      0   \n",
       "\n",
       "        payment_type__Split  payment_type__Unknown  payment_type__Way2ride  \n",
       "0                         0                      0                       0  \n",
       "1                         0                      0                       0  \n",
       "2                         0                      0                       0  \n",
       "3                         0                      0                       0  \n",
       "4                         0                      0                       0  \n",
       "...                     ...                    ...                     ...  \n",
       "161057                    0                      0                       0  \n",
       "161058                    0                      0                       0  \n",
       "161059                    0                      0                       0  \n",
       "161060                    0                      0                       0  \n",
       "161061                    0                      0                       0  \n",
       "\n",
       "[161062 rows x 123 columns]"
      ]
     },
     "execution_count": 114,
     "metadata": {},
     "output_type": "execute_result"
    }
   ],
   "source": [
    "df_sample=df.sample(0.001,seed=20).toPandas()\n",
    "df_sample"
   ]
  },
  {
   "cell_type": "markdown",
   "metadata": {},
   "source": [
    "## Analisar pela amostra qual o melhor modelo de ML usando PyCaret"
   ]
  },
  {
   "cell_type": "code",
   "execution_count": 115,
   "metadata": {},
   "outputs": [
    {
     "data": {
      "text/html": [
       "<style type=\"text/css\">\n",
       "#T_aa666 th {\n",
       "  text-align: left;\n",
       "}\n",
       "#T_aa666_row0_col0, #T_aa666_row1_col0, #T_aa666_row1_col1, #T_aa666_row1_col2, #T_aa666_row1_col3, #T_aa666_row1_col4, #T_aa666_row1_col5, #T_aa666_row1_col6, #T_aa666_row2_col0, #T_aa666_row2_col1, #T_aa666_row2_col2, #T_aa666_row2_col3, #T_aa666_row2_col4, #T_aa666_row2_col5, #T_aa666_row2_col6, #T_aa666_row3_col0, #T_aa666_row3_col1, #T_aa666_row3_col2, #T_aa666_row3_col3, #T_aa666_row3_col4, #T_aa666_row3_col5, #T_aa666_row3_col6, #T_aa666_row4_col0, #T_aa666_row4_col1, #T_aa666_row4_col2, #T_aa666_row4_col3, #T_aa666_row4_col4, #T_aa666_row4_col5, #T_aa666_row4_col6, #T_aa666_row5_col0, #T_aa666_row5_col1, #T_aa666_row5_col2, #T_aa666_row5_col3, #T_aa666_row5_col4, #T_aa666_row5_col5, #T_aa666_row5_col6, #T_aa666_row6_col0, #T_aa666_row6_col1, #T_aa666_row6_col2, #T_aa666_row6_col3, #T_aa666_row6_col4, #T_aa666_row6_col5, #T_aa666_row6_col6, #T_aa666_row7_col0, #T_aa666_row7_col1, #T_aa666_row7_col2, #T_aa666_row7_col3, #T_aa666_row7_col4, #T_aa666_row7_col5, #T_aa666_row7_col6, #T_aa666_row8_col0, #T_aa666_row8_col1, #T_aa666_row8_col2, #T_aa666_row8_col3, #T_aa666_row8_col4, #T_aa666_row8_col5, #T_aa666_row8_col6, #T_aa666_row9_col0, #T_aa666_row9_col1, #T_aa666_row9_col2, #T_aa666_row9_col3, #T_aa666_row9_col4, #T_aa666_row9_col5, #T_aa666_row9_col6, #T_aa666_row10_col0, #T_aa666_row10_col1, #T_aa666_row10_col2, #T_aa666_row10_col3, #T_aa666_row10_col4, #T_aa666_row10_col5, #T_aa666_row10_col6, #T_aa666_row11_col0, #T_aa666_row11_col1, #T_aa666_row11_col2, #T_aa666_row11_col3, #T_aa666_row11_col4, #T_aa666_row11_col5, #T_aa666_row11_col6, #T_aa666_row12_col0, #T_aa666_row12_col1, #T_aa666_row12_col2, #T_aa666_row12_col3, #T_aa666_row12_col4, #T_aa666_row12_col5, #T_aa666_row12_col6, #T_aa666_row13_col0, #T_aa666_row13_col1, #T_aa666_row13_col2, #T_aa666_row13_col3, #T_aa666_row13_col4, #T_aa666_row13_col5, #T_aa666_row13_col6, #T_aa666_row14_col0, #T_aa666_row14_col1, #T_aa666_row14_col2, #T_aa666_row14_col3, #T_aa666_row14_col4, #T_aa666_row14_col5, #T_aa666_row14_col6 {\n",
       "  text-align: left;\n",
       "}\n",
       "#T_aa666_row0_col1, #T_aa666_row0_col2, #T_aa666_row0_col3, #T_aa666_row0_col4, #T_aa666_row0_col5, #T_aa666_row0_col6 {\n",
       "  text-align: left;\n",
       "  background-color: yellow;\n",
       "}\n",
       "#T_aa666_row0_col7, #T_aa666_row1_col7, #T_aa666_row2_col7, #T_aa666_row3_col7, #T_aa666_row4_col7, #T_aa666_row5_col7, #T_aa666_row6_col7, #T_aa666_row7_col7, #T_aa666_row8_col7, #T_aa666_row9_col7, #T_aa666_row10_col7, #T_aa666_row11_col7, #T_aa666_row13_col7, #T_aa666_row14_col7 {\n",
       "  text-align: left;\n",
       "  background-color: lightgrey;\n",
       "}\n",
       "#T_aa666_row12_col7 {\n",
       "  text-align: left;\n",
       "  background-color: yellow;\n",
       "  background-color: lightgrey;\n",
       "}\n",
       "</style>\n",
       "<table id=\"T_aa666\">\n",
       "  <thead>\n",
       "    <tr>\n",
       "      <th class=\"blank level0\" >&nbsp;</th>\n",
       "      <th id=\"T_aa666_level0_col0\" class=\"col_heading level0 col0\" >Model</th>\n",
       "      <th id=\"T_aa666_level0_col1\" class=\"col_heading level0 col1\" >MAE</th>\n",
       "      <th id=\"T_aa666_level0_col2\" class=\"col_heading level0 col2\" >MSE</th>\n",
       "      <th id=\"T_aa666_level0_col3\" class=\"col_heading level0 col3\" >RMSE</th>\n",
       "      <th id=\"T_aa666_level0_col4\" class=\"col_heading level0 col4\" >R2</th>\n",
       "      <th id=\"T_aa666_level0_col5\" class=\"col_heading level0 col5\" >RMSLE</th>\n",
       "      <th id=\"T_aa666_level0_col6\" class=\"col_heading level0 col6\" >MAPE</th>\n",
       "      <th id=\"T_aa666_level0_col7\" class=\"col_heading level0 col7\" >TT (Sec)</th>\n",
       "    </tr>\n",
       "  </thead>\n",
       "  <tbody>\n",
       "    <tr>\n",
       "      <th id=\"T_aa666_level0_row0\" class=\"row_heading level0 row0\" >lightgbm</th>\n",
       "      <td id=\"T_aa666_row0_col0\" class=\"data row0 col0\" >Light Gradient Boosting Machine</td>\n",
       "      <td id=\"T_aa666_row0_col1\" class=\"data row0 col1\" >0.4321</td>\n",
       "      <td id=\"T_aa666_row0_col2\" class=\"data row0 col2\" >1.5734</td>\n",
       "      <td id=\"T_aa666_row0_col3\" class=\"data row0 col3\" >1.2522</td>\n",
       "      <td id=\"T_aa666_row0_col4\" class=\"data row0 col4\" >0.7853</td>\n",
       "      <td id=\"T_aa666_row0_col5\" class=\"data row0 col5\" >0.2823</td>\n",
       "      <td id=\"T_aa666_row0_col6\" class=\"data row0 col6\" >0.5852</td>\n",
       "      <td id=\"T_aa666_row0_col7\" class=\"data row0 col7\" >0.3340</td>\n",
       "    </tr>\n",
       "    <tr>\n",
       "      <th id=\"T_aa666_level0_row1\" class=\"row_heading level0 row1\" >rf</th>\n",
       "      <td id=\"T_aa666_row1_col0\" class=\"data row1 col0\" >Random Forest Regressor</td>\n",
       "      <td id=\"T_aa666_row1_col1\" class=\"data row1 col1\" >0.4466</td>\n",
       "      <td id=\"T_aa666_row1_col2\" class=\"data row1 col2\" >1.6403</td>\n",
       "      <td id=\"T_aa666_row1_col3\" class=\"data row1 col3\" >1.2784</td>\n",
       "      <td id=\"T_aa666_row1_col4\" class=\"data row1 col4\" >0.7762</td>\n",
       "      <td id=\"T_aa666_row1_col5\" class=\"data row1 col5\" >0.2859</td>\n",
       "      <td id=\"T_aa666_row1_col6\" class=\"data row1 col6\" >0.5952</td>\n",
       "      <td id=\"T_aa666_row1_col7\" class=\"data row1 col7\" >19.6610</td>\n",
       "    </tr>\n",
       "    <tr>\n",
       "      <th id=\"T_aa666_level0_row2\" class=\"row_heading level0 row2\" >et</th>\n",
       "      <td id=\"T_aa666_row2_col0\" class=\"data row2 col0\" >Extra Trees Regressor</td>\n",
       "      <td id=\"T_aa666_row2_col1\" class=\"data row2 col1\" >0.4596</td>\n",
       "      <td id=\"T_aa666_row2_col2\" class=\"data row2 col2\" >1.7005</td>\n",
       "      <td id=\"T_aa666_row2_col3\" class=\"data row2 col3\" >1.3018</td>\n",
       "      <td id=\"T_aa666_row2_col4\" class=\"data row2 col4\" >0.7680</td>\n",
       "      <td id=\"T_aa666_row2_col5\" class=\"data row2 col5\" >0.2906</td>\n",
       "      <td id=\"T_aa666_row2_col6\" class=\"data row2 col6\" >0.6177</td>\n",
       "      <td id=\"T_aa666_row2_col7\" class=\"data row2 col7\" >30.9500</td>\n",
       "    </tr>\n",
       "    <tr>\n",
       "      <th id=\"T_aa666_level0_row3\" class=\"row_heading level0 row3\" >dt</th>\n",
       "      <td id=\"T_aa666_row3_col0\" class=\"data row3 col0\" >Decision Tree Regressor</td>\n",
       "      <td id=\"T_aa666_row3_col1\" class=\"data row3 col1\" >0.6183</td>\n",
       "      <td id=\"T_aa666_row3_col2\" class=\"data row3 col2\" >3.0930</td>\n",
       "      <td id=\"T_aa666_row3_col3\" class=\"data row3 col3\" >1.7564</td>\n",
       "      <td id=\"T_aa666_row3_col4\" class=\"data row3 col4\" >0.5768</td>\n",
       "      <td id=\"T_aa666_row3_col5\" class=\"data row3 col5\" >0.3925</td>\n",
       "      <td id=\"T_aa666_row3_col6\" class=\"data row3 col6\" >0.7059</td>\n",
       "      <td id=\"T_aa666_row3_col7\" class=\"data row3 col7\" >0.3250</td>\n",
       "    </tr>\n",
       "    <tr>\n",
       "      <th id=\"T_aa666_level0_row4\" class=\"row_heading level0 row4\" >ridge</th>\n",
       "      <td id=\"T_aa666_row4_col0\" class=\"data row4 col0\" >Ridge Regression</td>\n",
       "      <td id=\"T_aa666_row4_col1\" class=\"data row4 col1\" >0.9650</td>\n",
       "      <td id=\"T_aa666_row4_col2\" class=\"data row4 col2\" >3.1097</td>\n",
       "      <td id=\"T_aa666_row4_col3\" class=\"data row4 col3\" >1.7617</td>\n",
       "      <td id=\"T_aa666_row4_col4\" class=\"data row4 col4\" >0.5743</td>\n",
       "      <td id=\"T_aa666_row4_col5\" class=\"data row4 col5\" >0.4869</td>\n",
       "      <td id=\"T_aa666_row4_col6\" class=\"data row4 col6\" >0.8375</td>\n",
       "      <td id=\"T_aa666_row4_col7\" class=\"data row4 col7\" >0.0470</td>\n",
       "    </tr>\n",
       "    <tr>\n",
       "      <th id=\"T_aa666_level0_row5\" class=\"row_heading level0 row5\" >br</th>\n",
       "      <td id=\"T_aa666_row5_col0\" class=\"data row5 col0\" >Bayesian Ridge</td>\n",
       "      <td id=\"T_aa666_row5_col1\" class=\"data row5 col1\" >0.9644</td>\n",
       "      <td id=\"T_aa666_row5_col2\" class=\"data row5 col2\" >3.1101</td>\n",
       "      <td id=\"T_aa666_row5_col3\" class=\"data row5 col3\" >1.7618</td>\n",
       "      <td id=\"T_aa666_row5_col4\" class=\"data row5 col4\" >0.5743</td>\n",
       "      <td id=\"T_aa666_row5_col5\" class=\"data row5 col5\" >0.4865</td>\n",
       "      <td id=\"T_aa666_row5_col6\" class=\"data row5 col6\" >0.8372</td>\n",
       "      <td id=\"T_aa666_row5_col7\" class=\"data row5 col7\" >1.9470</td>\n",
       "    </tr>\n",
       "    <tr>\n",
       "      <th id=\"T_aa666_level0_row6\" class=\"row_heading level0 row6\" >omp</th>\n",
       "      <td id=\"T_aa666_row6_col0\" class=\"data row6 col0\" >Orthogonal Matching Pursuit</td>\n",
       "      <td id=\"T_aa666_row6_col1\" class=\"data row6 col1\" >0.9620</td>\n",
       "      <td id=\"T_aa666_row6_col2\" class=\"data row6 col2\" >3.1200</td>\n",
       "      <td id=\"T_aa666_row6_col3\" class=\"data row6 col3\" >1.7646</td>\n",
       "      <td id=\"T_aa666_row6_col4\" class=\"data row6 col4\" >0.5729</td>\n",
       "      <td id=\"T_aa666_row6_col5\" class=\"data row6 col5\" >0.4829</td>\n",
       "      <td id=\"T_aa666_row6_col6\" class=\"data row6 col6\" >0.8376</td>\n",
       "      <td id=\"T_aa666_row6_col7\" class=\"data row6 col7\" >0.1530</td>\n",
       "    </tr>\n",
       "    <tr>\n",
       "      <th id=\"T_aa666_level0_row7\" class=\"row_heading level0 row7\" >lr</th>\n",
       "      <td id=\"T_aa666_row7_col0\" class=\"data row7 col0\" >Linear Regression</td>\n",
       "      <td id=\"T_aa666_row7_col1\" class=\"data row7 col1\" >0.9658</td>\n",
       "      <td id=\"T_aa666_row7_col2\" class=\"data row7 col2\" >3.1772</td>\n",
       "      <td id=\"T_aa666_row7_col3\" class=\"data row7 col3\" >1.7797</td>\n",
       "      <td id=\"T_aa666_row7_col4\" class=\"data row7 col4\" >0.5652</td>\n",
       "      <td id=\"T_aa666_row7_col5\" class=\"data row7 col5\" >0.4872</td>\n",
       "      <td id=\"T_aa666_row7_col6\" class=\"data row7 col6\" >0.8377</td>\n",
       "      <td id=\"T_aa666_row7_col7\" class=\"data row7 col7\" >0.8320</td>\n",
       "    </tr>\n",
       "    <tr>\n",
       "      <th id=\"T_aa666_level0_row8\" class=\"row_heading level0 row8\" >huber</th>\n",
       "      <td id=\"T_aa666_row8_col0\" class=\"data row8 col0\" >Huber Regressor</td>\n",
       "      <td id=\"T_aa666_row8_col1\" class=\"data row8 col1\" >0.8094</td>\n",
       "      <td id=\"T_aa666_row8_col2\" class=\"data row8 col2\" >3.6915</td>\n",
       "      <td id=\"T_aa666_row8_col3\" class=\"data row8 col3\" >1.9189</td>\n",
       "      <td id=\"T_aa666_row8_col4\" class=\"data row8 col4\" >0.4950</td>\n",
       "      <td id=\"T_aa666_row8_col5\" class=\"data row8 col5\" >0.4341</td>\n",
       "      <td id=\"T_aa666_row8_col6\" class=\"data row8 col6\" >0.6052</td>\n",
       "      <td id=\"T_aa666_row8_col7\" class=\"data row8 col7\" >4.9850</td>\n",
       "    </tr>\n",
       "    <tr>\n",
       "      <th id=\"T_aa666_level0_row9\" class=\"row_heading level0 row9\" >en</th>\n",
       "      <td id=\"T_aa666_row9_col0\" class=\"data row9 col0\" >Elastic Net</td>\n",
       "      <td id=\"T_aa666_row9_col1\" class=\"data row9 col1\" >1.5593</td>\n",
       "      <td id=\"T_aa666_row9_col2\" class=\"data row9 col2\" >5.9666</td>\n",
       "      <td id=\"T_aa666_row9_col3\" class=\"data row9 col3\" >2.4417</td>\n",
       "      <td id=\"T_aa666_row9_col4\" class=\"data row9 col4\" >0.1842</td>\n",
       "      <td id=\"T_aa666_row9_col5\" class=\"data row9 col5\" >0.7261</td>\n",
       "      <td id=\"T_aa666_row9_col6\" class=\"data row9 col6\" >0.6094</td>\n",
       "      <td id=\"T_aa666_row9_col7\" class=\"data row9 col7\" >0.0640</td>\n",
       "    </tr>\n",
       "    <tr>\n",
       "      <th id=\"T_aa666_level0_row10\" class=\"row_heading level0 row10\" >lasso</th>\n",
       "      <td id=\"T_aa666_row10_col0\" class=\"data row10 col0\" >Lasso Regression</td>\n",
       "      <td id=\"T_aa666_row10_col1\" class=\"data row10 col1\" >1.8549</td>\n",
       "      <td id=\"T_aa666_row10_col2\" class=\"data row10 col2\" >7.3120</td>\n",
       "      <td id=\"T_aa666_row10_col3\" class=\"data row10 col3\" >2.7033</td>\n",
       "      <td id=\"T_aa666_row10_col4\" class=\"data row10 col4\" >-0.0001</td>\n",
       "      <td id=\"T_aa666_row10_col5\" class=\"data row10 col5\" >0.8438</td>\n",
       "      <td id=\"T_aa666_row10_col6\" class=\"data row10 col6\" >0.6401</td>\n",
       "      <td id=\"T_aa666_row10_col7\" class=\"data row10 col7\" >0.2200</td>\n",
       "    </tr>\n",
       "    <tr>\n",
       "      <th id=\"T_aa666_level0_row11\" class=\"row_heading level0 row11\" >llar</th>\n",
       "      <td id=\"T_aa666_row11_col0\" class=\"data row11 col0\" >Lasso Least Angle Regression</td>\n",
       "      <td id=\"T_aa666_row11_col1\" class=\"data row11 col1\" >1.8549</td>\n",
       "      <td id=\"T_aa666_row11_col2\" class=\"data row11 col2\" >7.3120</td>\n",
       "      <td id=\"T_aa666_row11_col3\" class=\"data row11 col3\" >2.7033</td>\n",
       "      <td id=\"T_aa666_row11_col4\" class=\"data row11 col4\" >-0.0001</td>\n",
       "      <td id=\"T_aa666_row11_col5\" class=\"data row11 col5\" >0.8438</td>\n",
       "      <td id=\"T_aa666_row11_col6\" class=\"data row11 col6\" >0.6401</td>\n",
       "      <td id=\"T_aa666_row11_col7\" class=\"data row11 col7\" >0.2470</td>\n",
       "    </tr>\n",
       "    <tr>\n",
       "      <th id=\"T_aa666_level0_row12\" class=\"row_heading level0 row12\" >dummy</th>\n",
       "      <td id=\"T_aa666_row12_col0\" class=\"data row12 col0\" >Dummy Regressor</td>\n",
       "      <td id=\"T_aa666_row12_col1\" class=\"data row12 col1\" >1.8549</td>\n",
       "      <td id=\"T_aa666_row12_col2\" class=\"data row12 col2\" >7.3120</td>\n",
       "      <td id=\"T_aa666_row12_col3\" class=\"data row12 col3\" >2.7033</td>\n",
       "      <td id=\"T_aa666_row12_col4\" class=\"data row12 col4\" >-0.0001</td>\n",
       "      <td id=\"T_aa666_row12_col5\" class=\"data row12 col5\" >0.8438</td>\n",
       "      <td id=\"T_aa666_row12_col6\" class=\"data row12 col6\" >0.6401</td>\n",
       "      <td id=\"T_aa666_row12_col7\" class=\"data row12 col7\" >0.0240</td>\n",
       "    </tr>\n",
       "    <tr>\n",
       "      <th id=\"T_aa666_level0_row13\" class=\"row_heading level0 row13\" >ada</th>\n",
       "      <td id=\"T_aa666_row13_col0\" class=\"data row13 col0\" >AdaBoost Regressor</td>\n",
       "      <td id=\"T_aa666_row13_col1\" class=\"data row13 col1\" >1.3642</td>\n",
       "      <td id=\"T_aa666_row13_col2\" class=\"data row13 col2\" >7.8811</td>\n",
       "      <td id=\"T_aa666_row13_col3\" class=\"data row13 col3\" >2.5875</td>\n",
       "      <td id=\"T_aa666_row13_col4\" class=\"data row13 col4\" >-0.0788</td>\n",
       "      <td id=\"T_aa666_row13_col5\" class=\"data row13 col5\" >0.5670</td>\n",
       "      <td id=\"T_aa666_row13_col6\" class=\"data row13 col6\" >1.4192</td>\n",
       "      <td id=\"T_aa666_row13_col7\" class=\"data row13 col7\" >4.9960</td>\n",
       "    </tr>\n",
       "    <tr>\n",
       "      <th id=\"T_aa666_level0_row14\" class=\"row_heading level0 row14\" >par</th>\n",
       "      <td id=\"T_aa666_row14_col0\" class=\"data row14 col0\" >Passive Aggressive Regressor</td>\n",
       "      <td id=\"T_aa666_row14_col1\" class=\"data row14 col1\" >1.2776</td>\n",
       "      <td id=\"T_aa666_row14_col2\" class=\"data row14 col2\" >9.5171</td>\n",
       "      <td id=\"T_aa666_row14_col3\" class=\"data row14 col3\" >2.8733</td>\n",
       "      <td id=\"T_aa666_row14_col4\" class=\"data row14 col4\" >-0.3146</td>\n",
       "      <td id=\"T_aa666_row14_col5\" class=\"data row14 col5\" >0.6276</td>\n",
       "      <td id=\"T_aa666_row14_col6\" class=\"data row14 col6\" >0.8455</td>\n",
       "      <td id=\"T_aa666_row14_col7\" class=\"data row14 col7\" >0.1780</td>\n",
       "    </tr>\n",
       "  </tbody>\n",
       "</table>\n"
      ],
      "text/plain": [
       "<pandas.io.formats.style.Styler at 0x7f22277eafa0>"
      ]
     },
     "metadata": {},
     "output_type": "display_data"
    },
    {
     "data": {
      "text/plain": [
       "LGBMRegressor(boosting_type='gbdt', class_weight=None, colsample_bytree=1.0,\n",
       "              importance_type='split', learning_rate=0.1, max_depth=-1,\n",
       "              min_child_samples=20, min_child_weight=0.001, min_split_gain=0.0,\n",
       "              n_estimators=100, n_jobs=-1, num_leaves=31, objective=None,\n",
       "              random_state=7646, reg_alpha=0.0, reg_lambda=0.0, silent='warn',\n",
       "              subsample=1.0, subsample_for_bin=200000, subsample_freq=0)"
      ]
     },
     "execution_count": 115,
     "metadata": {},
     "output_type": "execute_result"
    },
    {
     "name": "stderr",
     "output_type": "stream",
     "text": [
      "/home/kite/.local/lib/python3.8/site-packages/sklearn/utils/deprecation.py:101: FutureWarning: The outputs_2d_ attribute is deprecated in version 0.22 and will be removed in version 0.24. It is equivalent to n_outputs_ > 1.\n",
      "  warnings.warn(msg, category=FutureWarning)\n",
      "/home/kite/.local/lib/python3.8/site-packages/sklearn/utils/deprecation.py:101: FutureWarning: The outputs_2d_ attribute is deprecated in version 0.22 and will be removed in version 0.24. It is equivalent to n_outputs_ > 1.\n",
      "  warnings.warn(msg, category=FutureWarning)\n",
      "/home/kite/.local/lib/python3.8/site-packages/sklearn/utils/deprecation.py:101: FutureWarning: The outputs_2d_ attribute is deprecated in version 0.22 and will be removed in version 0.24. It is equivalent to n_outputs_ > 1.\n",
      "  warnings.warn(msg, category=FutureWarning)\n",
      "/home/kite/.local/lib/python3.8/site-packages/sklearn/utils/deprecation.py:101: FutureWarning: The outputs_2d_ attribute is deprecated in version 0.22 and will be removed in version 0.24. It is equivalent to n_outputs_ > 1.\n",
      "  warnings.warn(msg, category=FutureWarning)\n",
      "/home/kite/.local/lib/python3.8/site-packages/sklearn/utils/deprecation.py:101: FutureWarning: The outputs_2d_ attribute is deprecated in version 0.22 and will be removed in version 0.24. It is equivalent to n_outputs_ > 1.\n",
      "  warnings.warn(msg, category=FutureWarning)\n",
      "/home/kite/.local/lib/python3.8/site-packages/sklearn/utils/deprecation.py:101: FutureWarning: The outputs_2d_ attribute is deprecated in version 0.22 and will be removed in version 0.24. It is equivalent to n_outputs_ > 1.\n",
      "  warnings.warn(msg, category=FutureWarning)\n",
      "/home/kite/.local/lib/python3.8/site-packages/sklearn/utils/deprecation.py:101: FutureWarning: The outputs_2d_ attribute is deprecated in version 0.22 and will be removed in version 0.24. It is equivalent to n_outputs_ > 1.\n",
      "  warnings.warn(msg, category=FutureWarning)\n",
      "/home/kite/.local/lib/python3.8/site-packages/sklearn/utils/deprecation.py:101: FutureWarning: The outputs_2d_ attribute is deprecated in version 0.22 and will be removed in version 0.24. It is equivalent to n_outputs_ > 1.\n",
      "  warnings.warn(msg, category=FutureWarning)\n",
      "/home/kite/.local/lib/python3.8/site-packages/sklearn/utils/deprecation.py:101: FutureWarning: Attribute standard_coef_ was deprecated in version 0.23 and will be removed in 0.25.\n",
      "  warnings.warn(msg, category=FutureWarning)\n",
      "/home/kite/.local/lib/python3.8/site-packages/sklearn/utils/deprecation.py:101: FutureWarning: Attribute standard_intercept_ was deprecated in version 0.23 and will be removed in 0.25.\n",
      "  warnings.warn(msg, category=FutureWarning)\n",
      "/home/kite/.local/lib/python3.8/site-packages/sklearn/utils/deprecation.py:101: FutureWarning: Attribute average_coef_ was deprecated in version 0.23 and will be removed in 0.25.\n",
      "  warnings.warn(msg, category=FutureWarning)\n",
      "/home/kite/.local/lib/python3.8/site-packages/sklearn/utils/deprecation.py:101: FutureWarning: Attribute average_intercept_ was deprecated in version 0.23 and will be removed in 0.25.\n",
      "  warnings.warn(msg, category=FutureWarning)\n",
      "/home/kite/.local/lib/python3.8/site-packages/sklearn/tree/_classes.py:1254: FutureWarning: the classes_ attribute is to be deprecated from version 0.22 and will be removed in 0.24.\n",
      "  warnings.warn(msg, FutureWarning)\n",
      "/home/kite/.local/lib/python3.8/site-packages/sklearn/tree/_classes.py:1262: FutureWarning: the n_classes_ attribute is to be deprecated from version 0.22 and will be removed in 0.24.\n",
      "  warnings.warn(msg, FutureWarning)\n",
      "/home/kite/.local/lib/python3.8/site-packages/sklearn/utils/deprecation.py:101: FutureWarning: The outputs_2d_ attribute is deprecated in version 0.22 and will be removed in version 0.24. It is equivalent to n_outputs_ > 1.\n",
      "  warnings.warn(msg, category=FutureWarning)\n",
      "/home/kite/.local/lib/python3.8/site-packages/sklearn/utils/deprecation.py:101: FutureWarning: Attribute standard_coef_ was deprecated in version 0.23 and will be removed in 0.25.\n",
      "  warnings.warn(msg, category=FutureWarning)\n",
      "/home/kite/.local/lib/python3.8/site-packages/sklearn/utils/deprecation.py:101: FutureWarning: Attribute standard_intercept_ was deprecated in version 0.23 and will be removed in 0.25.\n",
      "  warnings.warn(msg, category=FutureWarning)\n",
      "/home/kite/.local/lib/python3.8/site-packages/sklearn/utils/deprecation.py:101: FutureWarning: Attribute average_coef_ was deprecated in version 0.23 and will be removed in 0.25.\n",
      "  warnings.warn(msg, category=FutureWarning)\n",
      "/home/kite/.local/lib/python3.8/site-packages/sklearn/utils/deprecation.py:101: FutureWarning: Attribute average_intercept_ was deprecated in version 0.23 and will be removed in 0.25.\n",
      "  warnings.warn(msg, category=FutureWarning)\n",
      "/home/kite/.local/lib/python3.8/site-packages/sklearn/tree/_classes.py:1254: FutureWarning: the classes_ attribute is to be deprecated from version 0.22 and will be removed in 0.24.\n",
      "  warnings.warn(msg, FutureWarning)\n",
      "/home/kite/.local/lib/python3.8/site-packages/sklearn/tree/_classes.py:1262: FutureWarning: the n_classes_ attribute is to be deprecated from version 0.22 and will be removed in 0.24.\n",
      "  warnings.warn(msg, FutureWarning)\n",
      "/home/kite/.local/lib/python3.8/site-packages/sklearn/utils/deprecation.py:101: FutureWarning: The outputs_2d_ attribute is deprecated in version 0.22 and will be removed in version 0.24. It is equivalent to n_outputs_ > 1.\n",
      "  warnings.warn(msg, category=FutureWarning)\n"
     ]
    }
   ],
   "source": [
    "from pycaret.regression import *\n",
    "df_sample_pycaret=df_sample.drop(['Trip_ID','Trip_Total'], axis=1).copy()\n",
    "exp_reg101 = setup(data = df_sample_pycaret, target = 'Tips',normalize = True,silent=True) \n",
    "compare_models(exclude=['knn','gbr'])"
   ]
  },
  {
   "cell_type": "markdown",
   "metadata": {},
   "source": [
    "Com base nos dados colhidos pelo PyCaret o **Light Gradient Boosting Machine**  é o melhor algoritmo de regressão para predição das gorjetas (**Tips**), contudo a versão mais próxima dele que existe no PySpark (o GBTRegressor) é custosa computacionalmente. Por essa razão vai ser utilizado um modelo do tipo **Random Forest**, que apresentou uma qualidade próxima do **Light Gradient Boosting Machine** .\n",
    "\n",
    "Tanto o **Random Forest** quanto o **Light Gradient Boosting Machine** apresentaram boas métricas de qualidade, o que indica que modelos criados por esses algoritmos iriam funcionar bem na base de dados completa."
   ]
  },
  {
   "cell_type": "markdown",
   "metadata": {},
   "source": [
    " # Transformações dos dados para o pacote de ML do Spark (MLlib)\n",
    " Dividir dados em teste e treino"
   ]
  },
  {
   "cell_type": "code",
   "execution_count": 5,
   "metadata": {},
   "outputs": [],
   "source": [
    "df_train, df_test = df.randomSplit(weights=[0.8,0.2], seed=200)"
   ]
  },
  {
   "cell_type": "markdown",
   "metadata": {},
   "source": [
    "# Coluna que vai ser predita pelo modelo"
   ]
  },
  {
   "cell_type": "code",
   "execution_count": 11,
   "metadata": {},
   "outputs": [
    {
     "data": {
      "text/plain": [
       "'Tips'"
      ]
     },
     "execution_count": 11,
     "metadata": {},
     "output_type": "execute_result"
    }
   ],
   "source": [
    "col_output=['Tips']\n",
    "col_output[0]"
   ]
  },
  {
   "cell_type": "markdown",
   "metadata": {},
   "source": [
    " ## Colunas com dados continuos\n",
    " Nomes das colunas"
   ]
  },
  {
   "cell_type": "code",
   "execution_count": 12,
   "metadata": {},
   "outputs": [
    {
     "data": {
      "text/plain": [
       "['Trip_Miles', 'Trip_Seconds', 'Fare', 'Tolls', 'Extras']"
      ]
     },
     "execution_count": 12,
     "metadata": {},
     "output_type": "execute_result"
    }
   ],
   "source": [
    "cols_cont_atri=[    'Trip_Miles','Trip_Seconds',\n",
    "                    'Fare','Tolls','Extras']\n",
    "cols_cont_atri"
   ]
  },
  {
   "cell_type": "markdown",
   "metadata": {},
   "source": [
    " Criar um Vector Input para as colunas com dados continuos"
   ]
  },
  {
   "cell_type": "code",
   "execution_count": 8,
   "metadata": {},
   "outputs": [],
   "source": [
    "vectorAssembler_input_continuos = VectorAssembler(\n",
    "    inputCols=cols_cont_atri,\n",
    "    outputCol=\"input_for_ml_continuous\")\n",
    "df_train = vectorAssembler_input_continuos.transform(df_train)\n",
    "df_test = vectorAssembler_input_continuos.transform(df_test)"
   ]
  },
  {
   "cell_type": "markdown",
   "metadata": {},
   "source": [
    " Aplica a Standart scaler nas colunas *input_for_ml_continuous*"
   ]
  },
  {
   "cell_type": "code",
   "execution_count": 9,
   "metadata": {},
   "outputs": [
    {
     "name": "stdout",
     "output_type": "stream",
     "text": [
      "23/01/12 17:16:35 WARN package: Truncated the string representation of a plan since it was too large. This behavior can be adjusted by setting 'spark.sql.debug.maxToStringFields'.\n"
     ]
    },
    {
     "name": "stderr",
     "output_type": "stream",
     "text": [
      "                                                                                \r"
     ]
    }
   ],
   "source": [
    "scaler_input = StandardScaler(inputCol=\"input_for_ml_continuous\",\n",
    "                              outputCol=\"input_for_ml_continuous_scaler\",\n",
    "                              withStd=True, withMean=True)\n",
    "scaler_input_model = scaler_input.fit(df_train.sample(0.01))\n",
    "df_train = scaler_input_model.transform(df_train)\n",
    "\n",
    "df_test = scaler_input_model.transform(df_test)"
   ]
  },
  {
   "cell_type": "markdown",
   "metadata": {},
   "source": [
    "##  Colunas com dados discretos"
   ]
  },
  {
   "cell_type": "code",
   "execution_count": 10,
   "metadata": {},
   "outputs": [
    {
     "name": "stdout",
     "output_type": "stream",
     "text": [
      "['trip_start_hour__00', 'trip_start_hour__01', 'trip_start_hour__02', 'trip_start_hour__03', 'trip_start_hour__04', 'trip_start_hour__05', 'trip_start_hour__06', 'trip_start_hour__07', 'trip_start_hour__08', 'trip_start_hour__09', 'trip_start_hour__10', 'trip_start_hour__11', 'trip_start_hour__12', 'trip_start_hour__13', 'trip_start_hour__14', 'trip_start_hour__15', 'trip_start_hour__16', 'trip_start_hour__17', 'trip_start_hour__18', 'trip_start_hour__19', 'trip_start_hour__20', 'trip_start_hour__21', 'trip_start_hour__22', 'trip_start_hour__23', 'trip_end_hour__00', 'trip_end_hour__01', 'trip_end_hour__02', 'trip_end_hour__03', 'trip_end_hour__04', 'trip_end_hour__05', 'trip_end_hour__06', 'trip_end_hour__07', 'trip_end_hour__08', 'trip_end_hour__09', 'trip_end_hour__10', 'trip_end_hour__11', 'trip_end_hour__12', 'trip_end_hour__13', 'trip_end_hour__14', 'trip_end_hour__15', 'trip_end_hour__16', 'trip_end_hour__17', 'trip_end_hour__18', 'trip_end_hour__19', 'trip_end_hour__20', 'trip_end_hour__21', 'trip_end_hour__22', 'trip_end_hour__23', 'trip_month__01', 'trip_month__02', 'trip_month__03', 'trip_month__04', 'trip_month__05', 'trip_month__06', 'trip_month__07', 'trip_month__08', 'trip_month__09', 'trip_month__10', 'trip_month__11', 'trip_month__12', 'dropoff_area__22', 'dropoff_area__24', 'dropoff_area__28', 'dropoff_area__3', 'dropoff_area__32', 'dropoff_area__33', 'dropoff_area__6', 'dropoff_area__7', 'dropoff_area__76', 'dropoff_area__8', 'dropoff_area__m1', 'dropoff_area__m2', 'pickup_area__24', 'pickup_area__28', 'pickup_area__3', 'pickup_area__32', 'pickup_area__33', 'pickup_area__56', 'pickup_area__6', 'pickup_area__7', 'pickup_area__76', 'pickup_area__8', 'pickup_area__m1', 'pickup_area__m2', 'company__null', 'company__303_Taxi', 'company__American_United', 'company__Blue_Ribbon_Taxi_Association_Inc_', 'company__Chicago_Carriage_Cab_Corp', 'company__Choice_Taxi_Association', 'company__City_Service', 'company__Dispatch_Taxi_Affiliation', 'company__Flash_Cab', 'company__Globe_Taxi', 'company__KOAM_Taxi_Association', 'company__Medallion_Leasin', 'company__Northwest_Management_LLC', 'company__Star_North_Management_LLC', 'company__Sun_Taxi', 'company__Taxi_Affiliation_Service_Yellow', 'company__Taxi_Affiliation_Services', 'company__Top_Cab_Affiliation', 'company__Yellow_Cab', 'company__m1', 'payment_type__Cash', 'payment_type__Credit_Card', 'payment_type__Dispute', 'payment_type__Mobile', 'payment_type__No_Charge', 'payment_type__Pcard', 'payment_type__Prcard', 'payment_type__Prepaid', 'payment_type__Split', 'payment_type__Unknown', 'payment_type__Way2ride']\n"
     ]
    }
   ],
   "source": [
    "cols_disc_atri_temp=df.columns\n",
    "cols_disc_atri=[]\n",
    "\n",
    "for c in cols_disc_atri_temp:\n",
    "    if not(c in (cols_cont_atri+col_output+['Trip_ID', 'Trip_Total'])):\n",
    "        cols_disc_atri.append(c)\n",
    "print(cols_disc_atri)"
   ]
  },
  {
   "cell_type": "markdown",
   "metadata": {},
   "source": [
    " ## Juntar vetor da coluna *input_for_ml_continuous_scaler* com os valores das colunas com dados discretos. O novo vetor criado a partir dessa junção vai ser guardado na coluna *input_for_ml*."
   ]
  },
  {
   "cell_type": "code",
   "execution_count": 11,
   "metadata": {},
   "outputs": [],
   "source": [
    "vectorAssembler_input = VectorAssembler(\n",
    "    inputCols=cols_disc_atri+['input_for_ml_continuous_scaler'],\n",
    "    outputCol=\"input_for_ml\")\n",
    "df_train = vectorAssembler_input.transform(df_train)\n",
    "df_test = vectorAssembler_input.transform(df_test)"
   ]
  },
  {
   "cell_type": "markdown",
   "metadata": {},
   "source": [
    "  # Utilizar MLlib para criar modelo de machine learning"
   ]
  },
  {
   "cell_type": "markdown",
   "metadata": {},
   "source": [
    " Criar modelo de machine learning"
   ]
  },
  {
   "cell_type": "code",
   "execution_count": 12,
   "metadata": {},
   "outputs": [
    {
     "name": "stderr",
     "output_type": "stream",
     "text": [
      "[Stage 8:>                                                       (0 + 12) / 100]\r"
     ]
    },
    {
     "name": "stdout",
     "output_type": "stream",
     "text": [
      "23/01/12 17:30:22 WARN MemoryStore: Not enough space to cache rdd_33_4 in memory! (computed 230.3 MiB so far)\n",
      "23/01/12 17:30:22 WARN BlockManager: Persisting block rdd_33_4 to disk instead.\n",
      "23/01/12 17:30:22 WARN MemoryStore: Not enough space to cache rdd_33_9 in memory! (computed 230.3 MiB so far)\n",
      "23/01/12 17:30:22 WARN BlockManager: Persisting block rdd_33_9 to disk instead.\n",
      "23/01/12 17:30:22 WARN MemoryStore: Not enough space to cache rdd_33_3 in memory! (computed 230.3 MiB so far)\n",
      "23/01/12 17:30:22 WARN BlockManager: Persisting block rdd_33_3 to disk instead.\n",
      "23/01/12 17:30:25 WARN MemoryStore: Not enough space to cache rdd_33_10 in memory! (computed 348.4 MiB so far)\n",
      "23/01/12 17:30:25 WARN BlockManager: Persisting block rdd_33_10 to disk instead.\n",
      "23/01/12 17:30:25 WARN MemoryStore: Not enough space to cache rdd_33_6 in memory! (computed 348.4 MiB so far)\n",
      "23/01/12 17:30:25 WARN BlockManager: Persisting block rdd_33_6 to disk instead.\n",
      "23/01/12 17:30:25 WARN MemoryStore: Not enough space to cache rdd_33_7 in memory! (computed 348.4 MiB so far)\n",
      "23/01/12 17:30:25 WARN BlockManager: Persisting block rdd_33_7 to disk instead.\n",
      "23/01/12 17:30:25 WARN MemoryStore: Not enough space to cache rdd_33_8 in memory! (computed 348.4 MiB so far)\n",
      "23/01/12 17:30:25 WARN BlockManager: Persisting block rdd_33_8 to disk instead.\n",
      "23/01/12 17:30:25 WARN MemoryStore: Not enough space to cache rdd_33_11 in memory! (computed 348.4 MiB so far)\n",
      "23/01/12 17:30:25 WARN BlockManager: Persisting block rdd_33_11 to disk instead.\n",
      "23/01/12 17:30:25 WARN MemoryStore: Not enough space to cache rdd_33_1 in memory! (computed 348.4 MiB so far)\n",
      "23/01/12 17:30:25 WARN BlockManager: Persisting block rdd_33_1 to disk instead.\n"
     ]
    },
    {
     "name": "stderr",
     "output_type": "stream",
     "text": [
      "\r",
      "[Stage 8:>                                                       (0 + 12) / 100]\r"
     ]
    },
    {
     "name": "stdout",
     "output_type": "stream",
     "text": [
      "23/01/12 17:30:59 WARN MemoryStore: Not enough space to cache rdd_33_8 in memory! (computed 152.6 MiB so far)\n",
      "23/01/12 17:30:59 WARN MemoryStore: Not enough space to cache rdd_33_6 in memory! (computed 348.4 MiB so far)\n",
      "23/01/12 17:30:59 WARN MemoryStore: Not enough space to cache rdd_33_1 in memory! (computed 348.4 MiB so far)\n",
      "23/01/12 17:30:59 WARN MemoryStore: Not enough space to cache rdd_33_10 in memory! (computed 230.3 MiB so far)\n",
      "23/01/12 17:30:59 WARN MemoryStore: Not enough space to cache rdd_33_3 in memory! (computed 152.6 MiB so far)\n",
      "23/01/12 17:30:59 WARN MemoryStore: Not enough space to cache rdd_33_9 in memory! (computed 152.6 MiB so far)\n",
      "23/01/12 17:30:59 WARN MemoryStore: Not enough space to cache rdd_33_4 in memory! (computed 101.7 MiB so far)\n",
      "23/01/12 17:30:59 WARN MemoryStore: Not enough space to cache rdd_33_7 in memory! (computed 348.4 MiB so far)\n",
      "23/01/12 17:30:59 WARN MemoryStore: Not enough space to cache rdd_33_11 in memory! (computed 540.8 MiB so far)\n"
     ]
    },
    {
     "name": "stderr",
     "output_type": "stream",
     "text": [
      "[Stage 8:======>                                                (12 + 12) / 100]\r"
     ]
    },
    {
     "name": "stdout",
     "output_type": "stream",
     "text": [
      "23/01/12 17:32:06 WARN MemoryStore: Not enough space to cache rdd_33_16 in memory! (computed 152.6 MiB so far)\n",
      "23/01/12 17:32:06 WARN BlockManager: Persisting block rdd_33_16 to disk instead.\n",
      "23/01/12 17:32:22 WARN MemoryStore: Not enough space to cache rdd_33_13 in memory! (computed 540.8 MiB so far)\n",
      "23/01/12 17:32:22 WARN BlockManager: Persisting block rdd_33_13 to disk instead.\n",
      "23/01/12 17:32:22 WARN MemoryStore: Not enough space to cache rdd_33_14 in memory! (computed 540.8 MiB so far)\n",
      "23/01/12 17:32:22 WARN BlockManager: Persisting block rdd_33_14 to disk instead.\n",
      "23/01/12 17:32:30 WARN MemoryStore: Not enough space to cache rdd_33_19 in memory! (computed 230.3 MiB so far)\n",
      "23/01/12 17:32:30 WARN BlockManager: Persisting block rdd_33_19 to disk instead.\n",
      "23/01/12 17:32:37 WARN MemoryStore: Not enough space to cache rdd_33_15 in memory! (computed 811.2 MiB so far)\n",
      "23/01/12 17:32:37 WARN BlockManager: Persisting block rdd_33_15 to disk instead.\n",
      "23/01/12 17:32:38 WARN MemoryStore: Not enough space to cache rdd_33_21 in memory! (computed 152.6 MiB so far)\n",
      "23/01/12 17:32:38 WARN BlockManager: Persisting block rdd_33_21 to disk instead.\n",
      "23/01/12 17:32:38 WARN MemoryStore: Not enough space to cache rdd_33_23 in memory! (computed 67.6 MiB so far)\n",
      "23/01/12 17:32:38 WARN BlockManager: Persisting block rdd_33_23 to disk instead.\n",
      "23/01/12 17:32:41 WARN MemoryStore: Not enough space to cache rdd_33_18 in memory! (computed 811.2 MiB so far)\n",
      "23/01/12 17:32:41 WARN BlockManager: Persisting block rdd_33_18 to disk instead.\n",
      "23/01/12 17:32:41 WARN MemoryStore: Not enough space to cache rdd_33_20 in memory! (computed 540.8 MiB so far)\n",
      "23/01/12 17:32:41 WARN BlockManager: Persisting block rdd_33_20 to disk instead.\n",
      "23/01/12 17:32:41 WARN MemoryStore: Not enough space to cache rdd_33_17 in memory! (computed 811.2 MiB so far)\n",
      "23/01/12 17:32:41 WARN BlockManager: Persisting block rdd_33_17 to disk instead.\n",
      "23/01/12 17:33:00 WARN MemoryStore: Not enough space to cache rdd_33_14 in memory! (computed 348.4 MiB so far)\n",
      "23/01/12 17:33:00 WARN MemoryStore: Not enough space to cache rdd_33_13 in memory! (computed 348.4 MiB so far)\n",
      "23/01/12 17:33:01 WARN MemoryStore: Not enough space to cache rdd_33_15 in memory! (computed 811.2 MiB so far)\n",
      "23/01/12 17:33:02 WARN MemoryStore: Not enough space to cache rdd_33_18 in memory! (computed 101.7 MiB so far)\n",
      "23/01/12 17:33:02 WARN MemoryStore: Not enough space to cache rdd_33_17 in memory! (computed 152.6 MiB so far)\n"
     ]
    },
    {
     "name": "stderr",
     "output_type": "stream",
     "text": [
      "\r",
      "[Stage 8:======>                                                (12 + 12) / 100]\r"
     ]
    },
    {
     "name": "stdout",
     "output_type": "stream",
     "text": [
      "23/01/12 17:33:08 WARN MemoryStore: Not enough space to cache rdd_33_19 in memory! (computed 348.4 MiB so far)\n",
      "23/01/12 17:33:09 WARN MemoryStore: Not enough space to cache rdd_33_20 in memory! (computed 152.6 MiB so far)\n",
      "23/01/12 17:33:18 WARN MemoryStore: Not enough space to cache rdd_33_23 in memory! (computed 348.4 MiB so far)\n",
      "23/01/12 17:33:18 WARN MemoryStore: Not enough space to cache rdd_33_21 in memory! (computed 811.2 MiB so far)\n"
     ]
    },
    {
     "name": "stderr",
     "output_type": "stream",
     "text": [
      "[Stage 8:=========>                                             (18 + 12) / 100]\r"
     ]
    },
    {
     "name": "stdout",
     "output_type": "stream",
     "text": [
      "23/01/12 17:33:58 WARN MemoryStore: Not enough space to cache rdd_33_24 in memory! (computed 540.8 MiB so far)\n",
      "23/01/12 17:33:58 WARN BlockManager: Persisting block rdd_33_24 to disk instead.\n"
     ]
    },
    {
     "name": "stderr",
     "output_type": "stream",
     "text": [
      "[Stage 8:===========>                                           (21 + 12) / 100]\r"
     ]
    },
    {
     "name": "stdout",
     "output_type": "stream",
     "text": [
      "23/01/12 17:34:04 WARN MemoryStore: Not enough space to cache rdd_33_26 in memory! (computed 12.6 MiB so far)\n",
      "23/01/12 17:34:04 WARN BlockManager: Persisting block rdd_33_26 to disk instead.\n"
     ]
    },
    {
     "name": "stderr",
     "output_type": "stream",
     "text": [
      "\r",
      "[Stage 8:============>                                          (22 + 12) / 100]\r"
     ]
    },
    {
     "name": "stdout",
     "output_type": "stream",
     "text": [
      "23/01/12 17:34:06 WARN MemoryStore: Not enough space to cache rdd_33_27 in memory! (computed 28.4 MiB so far)\n",
      "23/01/12 17:34:06 WARN BlockManager: Persisting block rdd_33_27 to disk instead.\n",
      "23/01/12 17:34:07 WARN MemoryStore: Not enough space to cache rdd_33_29 in memory! (computed 12.6 MiB so far)\n",
      "23/01/12 17:34:07 WARN BlockManager: Persisting block rdd_33_29 to disk instead.\n",
      "23/01/12 17:34:07 WARN MemoryStore: Not enough space to cache rdd_33_28 in memory! (computed 5.1 MiB so far)\n",
      "23/01/12 17:34:07 WARN BlockManager: Persisting block rdd_33_28 to disk instead.\n",
      "23/01/12 17:34:11 WARN MemoryStore: Not enough space to cache rdd_33_25 in memory! (computed 348.4 MiB so far)\n",
      "23/01/12 17:34:11 WARN BlockManager: Persisting block rdd_33_25 to disk instead.\n",
      "23/01/12 17:34:13 WARN MemoryStore: Failed to reserve initial memory threshold of 1024.0 KiB for computing block rdd_33_30 in memory.\n",
      "23/01/12 17:34:13 WARN MemoryStore: Not enough space to cache rdd_33_30 in memory! (computed 384.0 B so far)\n",
      "23/01/12 17:34:13 WARN BlockManager: Persisting block rdd_33_30 to disk instead.\n",
      "23/01/12 17:34:17 WARN MemoryStore: Not enough space to cache rdd_33_32 in memory! (computed 152.6 MiB so far)\n",
      "23/01/12 17:34:17 WARN BlockManager: Persisting block rdd_33_32 to disk instead.\n"
     ]
    },
    {
     "name": "stderr",
     "output_type": "stream",
     "text": [
      "\r",
      "[Stage 8:============>                                          (23 + 12) / 100]\r",
      "\r",
      "[Stage 8:=============>                                         (24 + 12) / 100]\r"
     ]
    },
    {
     "name": "stdout",
     "output_type": "stream",
     "text": [
      "23/01/12 17:34:21 WARN MemoryStore: Not enough space to cache rdd_33_33 in memory! (computed 101.7 MiB so far)\n",
      "23/01/12 17:34:21 WARN BlockManager: Persisting block rdd_33_33 to disk instead.\n",
      "23/01/12 17:34:46 WARN MemoryStore: Not enough space to cache rdd_33_25 in memory! (computed 811.2 MiB so far)\n",
      "23/01/12 17:34:46 WARN MemoryStore: Not enough space to cache rdd_33_34 in memory! (computed 230.3 MiB so far)\n",
      "23/01/12 17:34:46 WARN BlockManager: Persisting block rdd_33_34 to disk instead.\n",
      "23/01/12 17:34:47 WARN MemoryStore: Not enough space to cache rdd_33_26 in memory! (computed 540.8 MiB so far)\n",
      "23/01/12 17:34:47 WARN MemoryStore: Not enough space to cache rdd_33_27 in memory! (computed 540.8 MiB so far)\n",
      "23/01/12 17:34:49 WARN MemoryStore: Not enough space to cache rdd_33_29 in memory! (computed 348.4 MiB so far)\n",
      "23/01/12 17:34:49 WARN MemoryStore: Not enough space to cache rdd_33_28 in memory! (computed 230.3 MiB so far)\n",
      "23/01/12 17:34:52 WARN MemoryStore: Not enough space to cache rdd_33_35 in memory! (computed 540.8 MiB so far)\n",
      "23/01/12 17:34:52 WARN BlockManager: Persisting block rdd_33_35 to disk instead.\n",
      "23/01/12 17:34:54 WARN MemoryStore: Not enough space to cache rdd_33_30 in memory! (computed 230.3 MiB so far)\n",
      "23/01/12 17:34:55 WARN MemoryStore: Not enough space to cache rdd_33_32 in memory! (computed 101.7 MiB so far)\n",
      "23/01/12 17:35:02 WARN MemoryStore: Not enough space to cache rdd_33_33 in memory! (computed 811.2 MiB so far)\n"
     ]
    },
    {
     "name": "stderr",
     "output_type": "stream",
     "text": [
      "\r",
      "[Stage 8:=============>                                         (24 + 12) / 100]\r"
     ]
    },
    {
     "name": "stdout",
     "output_type": "stream",
     "text": [
      "23/01/12 17:35:20 WARN MemoryStore: Not enough space to cache rdd_33_34 in memory! (computed 540.8 MiB so far)\n"
     ]
    },
    {
     "name": "stderr",
     "output_type": "stream",
     "text": [
      "[Stage 8:==================>                                    (34 + 12) / 100]\r"
     ]
    },
    {
     "name": "stdout",
     "output_type": "stream",
     "text": [
      "23/01/12 17:35:59 WARN MemoryStore: Not enough space to cache rdd_33_37 in memory! (computed 230.3 MiB so far)\n",
      "23/01/12 17:35:59 WARN BlockManager: Persisting block rdd_33_37 to disk instead.\n",
      "23/01/12 17:36:00 WARN MemoryStore: Not enough space to cache rdd_33_38 in memory! (computed 230.3 MiB so far)\n",
      "23/01/12 17:36:00 WARN BlockManager: Persisting block rdd_33_38 to disk instead.\n",
      "23/01/12 17:36:04 WARN MemoryStore: Not enough space to cache rdd_33_39 in memory! (computed 3.4 MiB so far)\n",
      "23/01/12 17:36:04 WARN BlockManager: Persisting block rdd_33_39 to disk instead.\n",
      "23/01/12 17:36:04 WARN MemoryStore: Not enough space to cache rdd_33_42 in memory! (computed 12.6 MiB so far)\n",
      "23/01/12 17:36:04 WARN BlockManager: Persisting block rdd_33_42 to disk instead.\n",
      "23/01/12 17:36:04 WARN MemoryStore: Not enough space to cache rdd_33_44 in memory! (computed 1025.2 KiB so far)\n",
      "23/01/12 17:36:04 WARN BlockManager: Persisting block rdd_33_44 to disk instead.\n",
      "23/01/12 17:36:04 WARN MemoryStore: Not enough space to cache rdd_33_40 in memory! (computed 12.6 MiB so far)\n",
      "23/01/12 17:36:04 WARN BlockManager: Persisting block rdd_33_40 to disk instead.\n",
      "23/01/12 17:36:04 WARN MemoryStore: Not enough space to cache rdd_33_41 in memory! (computed 28.4 MiB so far)\n",
      "23/01/12 17:36:04 WARN BlockManager: Persisting block rdd_33_41 to disk instead.\n"
     ]
    },
    {
     "name": "stderr",
     "output_type": "stream",
     "text": [
      "[Stage 8:===================>                                   (36 + 12) / 100]\r"
     ]
    },
    {
     "name": "stdout",
     "output_type": "stream",
     "text": [
      "23/01/12 17:36:29 WARN MemoryStore: Not enough space to cache rdd_33_46 in memory! (computed 152.6 MiB so far)\n",
      "23/01/12 17:36:29 WARN BlockManager: Persisting block rdd_33_46 to disk instead.\n",
      "23/01/12 17:36:38 WARN MemoryStore: Not enough space to cache rdd_33_37 in memory! (computed 348.4 MiB so far)\n",
      "23/01/12 17:36:39 WARN MemoryStore: Not enough space to cache rdd_33_38 in memory! (computed 348.4 MiB so far)\n",
      "23/01/12 17:36:39 WARN MemoryStore: Not enough space to cache rdd_33_47 in memory! (computed 67.6 MiB so far)\n",
      "23/01/12 17:36:39 WARN BlockManager: Persisting block rdd_33_47 to disk instead.\n",
      "23/01/12 17:36:47 WARN MemoryStore: Not enough space to cache rdd_33_39 in memory! (computed 230.3 MiB so far)\n",
      "23/01/12 17:36:47 WARN MemoryStore: Not enough space to cache rdd_33_41 in memory! (computed 540.8 MiB so far)\n",
      "23/01/12 17:36:47 WARN MemoryStore: Not enough space to cache rdd_33_40 in memory! (computed 152.6 MiB so far)\n",
      "23/01/12 17:36:47 WARN MemoryStore: Not enough space to cache rdd_33_42 in memory! (computed 101.7 MiB so far)\n",
      "23/01/12 17:36:47 WARN MemoryStore: Not enough space to cache rdd_33_44 in memory! (computed 230.3 MiB so far)\n"
     ]
    },
    {
     "name": "stderr",
     "output_type": "stream",
     "text": [
      "[Stage 8:=========================>                             (46 + 12) / 100]\r"
     ]
    },
    {
     "name": "stdout",
     "output_type": "stream",
     "text": [
      "23/01/12 17:37:55 WARN MemoryStore: Not enough space to cache rdd_33_49 in memory! (computed 152.6 MiB so far)\n",
      "23/01/12 17:37:55 WARN BlockManager: Persisting block rdd_33_49 to disk instead.\n",
      "23/01/12 17:37:59 WARN MemoryStore: Not enough space to cache rdd_33_50 in memory! (computed 12.6 MiB so far)\n",
      "23/01/12 17:37:59 WARN BlockManager: Persisting block rdd_33_50 to disk instead.\n",
      "23/01/12 17:38:07 WARN MemoryStore: Not enough space to cache rdd_33_51 in memory! (computed 230.3 MiB so far)\n",
      "23/01/12 17:38:07 WARN BlockManager: Persisting block rdd_33_51 to disk instead.\n",
      "23/01/12 17:38:07 WARN MemoryStore: Not enough space to cache rdd_33_55 in memory! (computed 101.7 MiB so far)\n",
      "23/01/12 17:38:07 WARN BlockManager: Persisting block rdd_33_55 to disk instead.\n",
      "23/01/12 17:38:07 WARN MemoryStore: Not enough space to cache rdd_33_56 in memory! (computed 28.4 MiB so far)\n",
      "23/01/12 17:38:07 WARN BlockManager: Persisting block rdd_33_56 to disk instead.\n",
      "23/01/12 17:38:07 WARN MemoryStore: Not enough space to cache rdd_33_52 in memory! (computed 230.3 MiB so far)\n",
      "23/01/12 17:38:07 WARN BlockManager: Persisting block rdd_33_52 to disk instead.\n"
     ]
    },
    {
     "name": "stderr",
     "output_type": "stream",
     "text": [
      "[Stage 8:==========================>                            (48 + 12) / 100]\r"
     ]
    },
    {
     "name": "stdout",
     "output_type": "stream",
     "text": [
      "23/01/12 17:38:17 WARN MemoryStore: Not enough space to cache rdd_33_54 in memory! (computed 540.8 MiB so far)\n",
      "23/01/12 17:38:17 WARN BlockManager: Persisting block rdd_33_54 to disk instead.\n",
      "23/01/12 17:38:32 WARN MemoryStore: Not enough space to cache rdd_33_58 in memory! (computed 540.8 MiB so far)\n",
      "23/01/12 17:38:32 WARN BlockManager: Persisting block rdd_33_58 to disk instead.\n",
      "23/01/12 17:38:33 WARN MemoryStore: Not enough space to cache rdd_33_49 in memory! (computed 152.6 MiB so far)\n",
      "23/01/12 17:38:42 WARN MemoryStore: Not enough space to cache rdd_33_51 in memory! (computed 348.4 MiB so far)\n",
      "23/01/12 17:38:43 WARN MemoryStore: Not enough space to cache rdd_33_50 in memory! (computed 540.8 MiB so far)\n",
      "23/01/12 17:38:43 WARN MemoryStore: Not enough space to cache rdd_33_52 in memory! (computed 42.9 MiB so far)\n",
      "23/01/12 17:38:44 WARN MemoryStore: Not enough space to cache rdd_33_59 in memory! (computed 811.2 MiB so far)\n",
      "23/01/12 17:38:44 WARN BlockManager: Persisting block rdd_33_59 to disk instead.\n",
      "23/01/12 17:38:45 WARN MemoryStore: Not enough space to cache rdd_33_54 in memory! (computed 152.6 MiB so far)\n",
      "23/01/12 17:38:47 WARN MemoryStore: Not enough space to cache rdd_33_55 in memory! (computed 230.3 MiB so far)\n",
      "23/01/12 17:38:47 WARN MemoryStore: Not enough space to cache rdd_33_56 in memory! (computed 152.6 MiB so far)\n"
     ]
    },
    {
     "name": "stderr",
     "output_type": "stream",
     "text": [
      "\r",
      "[Stage 8:==========================>                            (49 + 12) / 100]\r"
     ]
    },
    {
     "name": "stdout",
     "output_type": "stream",
     "text": [
      "23/01/12 17:39:01 WARN MemoryStore: Not enough space to cache rdd_33_58 in memory! (computed 811.2 MiB so far)\n",
      "23/01/12 17:39:01 WARN MemoryStore: Not enough space to cache rdd_33_59 in memory! (computed 230.3 MiB so far)\n",
      "23/01/12 17:39:02 WARN MemoryStore: Not enough space to cache rdd_33_60 in memory! (computed 101.7 MiB so far)\n",
      "23/01/12 17:39:02 WARN BlockManager: Persisting block rdd_33_60 to disk instead.\n"
     ]
    },
    {
     "name": "stderr",
     "output_type": "stream",
     "text": [
      "[Stage 8:=================================>                     (60 + 12) / 100]\r"
     ]
    },
    {
     "name": "stdout",
     "output_type": "stream",
     "text": [
      "23/01/12 17:40:07 WARN MemoryStore: Not enough space to cache rdd_33_66 in memory! (computed 101.7 MiB so far)\n",
      "23/01/12 17:40:07 WARN BlockManager: Persisting block rdd_33_66 to disk instead.\n",
      "23/01/12 17:40:07 WARN MemoryStore: Not enough space to cache rdd_33_67 in memory! (computed 101.7 MiB so far)\n",
      "23/01/12 17:40:07 WARN BlockManager: Persisting block rdd_33_67 to disk instead.\n",
      "23/01/12 17:40:08 WARN MemoryStore: Not enough space to cache rdd_33_64 in memory! (computed 348.4 MiB so far)\n",
      "23/01/12 17:40:08 WARN BlockManager: Persisting block rdd_33_64 to disk instead.\n",
      "23/01/12 17:40:08 WARN MemoryStore: Not enough space to cache rdd_33_63 in memory! (computed 348.4 MiB so far)\n",
      "23/01/12 17:40:08 WARN MemoryStore: Not enough space to cache rdd_33_62 in memory! (computed 348.4 MiB so far)\n",
      "23/01/12 17:40:08 WARN BlockManager: Persisting block rdd_33_63 to disk instead.\n",
      "23/01/12 17:40:08 WARN BlockManager: Persisting block rdd_33_62 to disk instead.\n",
      "23/01/12 17:40:08 WARN MemoryStore: Not enough space to cache rdd_33_69 in memory! (computed 152.6 MiB so far)\n",
      "23/01/12 17:40:08 WARN BlockManager: Persisting block rdd_33_69 to disk instead.\n",
      "23/01/12 17:40:09 WARN MemoryStore: Not enough space to cache rdd_33_65 in memory! (computed 540.8 MiB so far)\n",
      "23/01/12 17:40:09 WARN BlockManager: Persisting block rdd_33_65 to disk instead.\n",
      "23/01/12 17:40:09 WARN MemoryStore: Not enough space to cache rdd_33_68 in memory! (computed 230.3 MiB so far)\n",
      "23/01/12 17:40:09 WARN BlockManager: Persisting block rdd_33_68 to disk instead.\n",
      "23/01/12 17:40:31 WARN MemoryStore: Not enough space to cache rdd_33_70 in memory! (computed 811.2 MiB so far)\n",
      "23/01/12 17:40:31 WARN BlockManager: Persisting block rdd_33_70 to disk instead.\n"
     ]
    },
    {
     "name": "stderr",
     "output_type": "stream",
     "text": [
      "\r",
      "[Stage 8:=================================>                     (61 + 12) / 100]\r"
     ]
    },
    {
     "name": "stdout",
     "output_type": "stream",
     "text": [
      "23/01/12 17:40:41 WARN MemoryStore: Not enough space to cache rdd_33_64 in memory! (computed 348.4 MiB so far)\n",
      "23/01/12 17:40:42 WARN MemoryStore: Not enough space to cache rdd_33_62 in memory! (computed 348.4 MiB so far)\n",
      "23/01/12 17:40:42 WARN MemoryStore: Not enough space to cache rdd_33_63 in memory! (computed 540.8 MiB so far)\n",
      "23/01/12 17:40:45 WARN MemoryStore: Not enough space to cache rdd_33_67 in memory! (computed 19.0 MiB so far)\n",
      "23/01/12 17:40:45 WARN MemoryStore: Failed to reserve initial memory threshold of 1024.0 KiB for computing block rdd_33_72 in memory.\n",
      "23/01/12 17:40:45 WARN MemoryStore: Not enough space to cache rdd_33_72 in memory! (computed 384.0 B so far)\n",
      "23/01/12 17:40:45 WARN BlockManager: Persisting block rdd_33_72 to disk instead.\n",
      "23/01/12 17:40:45 WARN MemoryStore: Not enough space to cache rdd_33_69 in memory! (computed 152.6 MiB so far)\n",
      "23/01/12 17:40:45 WARN MemoryStore: Not enough space to cache rdd_33_66 in memory! (computed 67.6 MiB so far)\n",
      "23/01/12 17:40:46 WARN MemoryStore: Not enough space to cache rdd_33_68 in memory! (computed 540.8 MiB so far)\n",
      "23/01/12 17:40:51 WARN MemoryStore: Not enough space to cache rdd_33_70 in memory! (computed 152.6 MiB so far)\n"
     ]
    },
    {
     "name": "stderr",
     "output_type": "stream",
     "text": [
      "[Stage 8:==================================>                    (63 + 12) / 100]\r"
     ]
    },
    {
     "name": "stdout",
     "output_type": "stream",
     "text": [
      "23/01/12 17:41:34 WARN MemoryStore: Not enough space to cache rdd_33_73 in memory! (computed 811.2 MiB so far)\n",
      "23/01/12 17:41:34 WARN BlockManager: Persisting block rdd_33_73 to disk instead.\n"
     ]
    },
    {
     "name": "stderr",
     "output_type": "stream",
     "text": [
      "[Stage 8:=======================================>               (72 + 12) / 100]\r"
     ]
    },
    {
     "name": "stdout",
     "output_type": "stream",
     "text": [
      "23/01/12 17:41:58 WARN MemoryStore: Not enough space to cache rdd_33_75 in memory! (computed 230.3 MiB so far)\n",
      "23/01/12 17:41:58 WARN BlockManager: Persisting block rdd_33_75 to disk instead.\n",
      "23/01/12 17:41:58 WARN MemoryStore: Not enough space to cache rdd_33_78 in memory! (computed 230.3 MiB so far)\n",
      "23/01/12 17:41:58 WARN BlockManager: Persisting block rdd_33_78 to disk instead.\n",
      "23/01/12 17:41:58 WARN MemoryStore: Not enough space to cache rdd_33_77 in memory! (computed 101.7 MiB so far)\n",
      "23/01/12 17:41:58 WARN BlockManager: Persisting block rdd_33_77 to disk instead.\n",
      "23/01/12 17:41:58 WARN MemoryStore: Not enough space to cache rdd_33_81 in memory! (computed 67.6 MiB so far)\n",
      "23/01/12 17:41:58 WARN BlockManager: Persisting block rdd_33_81 to disk instead.\n",
      "23/01/12 17:41:59 WARN MemoryStore: Not enough space to cache rdd_33_73 in memory! (computed 811.2 MiB so far)\n",
      "23/01/12 17:42:02 WARN MemoryStore: Not enough space to cache rdd_33_80 in memory! (computed 230.3 MiB so far)\n",
      "23/01/12 17:42:02 WARN BlockManager: Persisting block rdd_33_80 to disk instead.\n",
      "23/01/12 17:42:02 WARN MemoryStore: Not enough space to cache rdd_33_76 in memory! (computed 230.3 MiB so far)\n",
      "23/01/12 17:42:02 WARN BlockManager: Persisting block rdd_33_76 to disk instead.\n",
      "23/01/12 17:42:03 WARN MemoryStore: Not enough space to cache rdd_33_82 in memory! (computed 152.6 MiB so far)\n",
      "23/01/12 17:42:03 WARN BlockManager: Persisting block rdd_33_82 to disk instead.\n",
      "23/01/12 17:42:03 WARN MemoryStore: Not enough space to cache rdd_33_83 in memory! (computed 67.6 MiB so far)\n",
      "23/01/12 17:42:03 WARN BlockManager: Persisting block rdd_33_83 to disk instead.\n",
      "23/01/12 17:42:03 WARN MemoryStore: Not enough space to cache rdd_33_79 in memory! (computed 230.3 MiB so far)\n",
      "23/01/12 17:42:03 WARN BlockManager: Persisting block rdd_33_79 to disk instead.\n"
     ]
    },
    {
     "name": "stderr",
     "output_type": "stream",
     "text": [
      "\r",
      "[Stage 8:========================================>              (73 + 12) / 100]\r"
     ]
    },
    {
     "name": "stdout",
     "output_type": "stream",
     "text": [
      "23/01/12 17:42:41 WARN MemoryStore: Not enough space to cache rdd_33_80 in memory! (computed 348.4 MiB so far)\n",
      "23/01/12 17:42:42 WARN MemoryStore: Not enough space to cache rdd_33_77 in memory! (computed 348.4 MiB so far)\n",
      "23/01/12 17:42:42 WARN MemoryStore: Not enough space to cache rdd_33_76 in memory! (computed 67.6 MiB so far)\n",
      "23/01/12 17:42:42 WARN MemoryStore: Not enough space to cache rdd_33_81 in memory! (computed 348.4 MiB so far)\n",
      "23/01/12 17:42:42 WARN MemoryStore: Not enough space to cache rdd_33_79 in memory! (computed 28.4 MiB so far)\n",
      "23/01/12 17:42:42 WARN MemoryStore: Not enough space to cache rdd_33_78 in memory! (computed 811.2 MiB so far)\n",
      "23/01/12 17:42:43 WARN MemoryStore: Not enough space to cache rdd_33_84 in memory! (computed 101.7 MiB so far)\n",
      "23/01/12 17:42:43 WARN BlockManager: Persisting block rdd_33_84 to disk instead.\n",
      "23/01/12 17:42:43 WARN MemoryStore: Not enough space to cache rdd_33_82 in memory! (computed 67.6 MiB so far)\n",
      "23/01/12 17:42:47 WARN MemoryStore: Not enough space to cache rdd_33_83 in memory! (computed 348.4 MiB so far)\n"
     ]
    },
    {
     "name": "stderr",
     "output_type": "stream",
     "text": [
      "[Stage 8:==============================================>        (84 + 12) / 100]\r"
     ]
    },
    {
     "name": "stdout",
     "output_type": "stream",
     "text": [
      "23/01/12 17:43:54 WARN MemoryStore: Failed to reserve initial memory threshold of 1024.0 KiB for computing block rdd_33_89 in memory.\n",
      "23/01/12 17:43:54 WARN MemoryStore: Not enough space to cache rdd_33_89 in memory! (computed 384.0 B so far)\n",
      "23/01/12 17:43:54 WARN BlockManager: Persisting block rdd_33_89 to disk instead.\n",
      "23/01/12 17:43:55 WARN MemoryStore: Failed to reserve initial memory threshold of 1024.0 KiB for computing block rdd_33_90 in memory.\n",
      "23/01/12 17:43:55 WARN MemoryStore: Not enough space to cache rdd_33_90 in memory! (computed 384.0 B so far)\n",
      "23/01/12 17:43:55 WARN BlockManager: Persisting block rdd_33_90 to disk instead.\n",
      "23/01/12 17:43:56 WARN MemoryStore: Not enough space to cache rdd_33_88 in memory! (computed 28.4 MiB so far)\n",
      "23/01/12 17:43:56 WARN BlockManager: Persisting block rdd_33_88 to disk instead.\n",
      "23/01/12 17:43:56 WARN MemoryStore: Not enough space to cache rdd_33_91 in memory! (computed 19.0 MiB so far)\n",
      "23/01/12 17:43:56 WARN BlockManager: Persisting block rdd_33_91 to disk instead.\n",
      "23/01/12 17:44:02 WARN MemoryStore: Not enough space to cache rdd_33_94 in memory! (computed 67.6 MiB so far)\n",
      "23/01/12 17:44:02 WARN BlockManager: Persisting block rdd_33_94 to disk instead.\n",
      "23/01/12 17:44:04 WARN MemoryStore: Not enough space to cache rdd_33_92 in memory! (computed 152.6 MiB so far)\n",
      "23/01/12 17:44:04 WARN BlockManager: Persisting block rdd_33_92 to disk instead.\n",
      "23/01/12 17:44:04 WARN MemoryStore: Not enough space to cache rdd_33_95 in memory! (computed 67.6 MiB so far)\n",
      "23/01/12 17:44:04 WARN BlockManager: Persisting block rdd_33_95 to disk instead.\n",
      "23/01/12 17:44:04 WARN MemoryStore: Not enough space to cache rdd_33_93 in memory! (computed 152.6 MiB so far)\n",
      "23/01/12 17:44:04 WARN BlockManager: Persisting block rdd_33_93 to disk instead.\n",
      "23/01/12 17:44:04 WARN MemoryStore: Not enough space to cache rdd_33_86 in memory! (computed 811.2 MiB so far)\n",
      "23/01/12 17:44:04 WARN BlockManager: Persisting block rdd_33_86 to disk instead.\n",
      "23/01/12 17:44:09 WARN MemoryStore: Not enough space to cache rdd_33_87 in memory! (computed 811.2 MiB so far)\n",
      "23/01/12 17:44:09 WARN BlockManager: Persisting block rdd_33_87 to disk instead.\n"
     ]
    },
    {
     "name": "stderr",
     "output_type": "stream",
     "text": [
      "[Stage 8:===============================================>       (86 + 12) / 100]\r"
     ]
    },
    {
     "name": "stdout",
     "output_type": "stream",
     "text": [
      "23/01/12 17:44:34 WARN MemoryStore: Not enough space to cache rdd_33_96 in memory! (computed 101.7 MiB so far)\n",
      "23/01/12 17:44:34 WARN BlockManager: Persisting block rdd_33_96 to disk instead.\n",
      "23/01/12 17:44:36 WARN MemoryStore: Not enough space to cache rdd_33_89 in memory! (computed 67.6 MiB so far)\n",
      "23/01/12 17:44:38 WARN MemoryStore: Not enough space to cache rdd_33_88 in memory! (computed 101.7 MiB so far)\n",
      "23/01/12 17:44:38 WARN MemoryStore: Not enough space to cache rdd_33_91 in memory! (computed 101.7 MiB so far)\n",
      "23/01/12 17:44:39 WARN MemoryStore: Not enough space to cache rdd_33_90 in memory! (computed 152.6 MiB so far)\n",
      "23/01/12 17:44:43 WARN MemoryStore: Not enough space to cache rdd_33_94 in memory! (computed 152.6 MiB so far)\n",
      "23/01/12 17:44:53 WARN MemoryStore: Not enough space to cache rdd_33_95 in memory! (computed 540.8 MiB so far)\n",
      "23/01/12 17:44:53 WARN MemoryStore: Not enough space to cache rdd_33_92 in memory! (computed 811.2 MiB so far)\n",
      "23/01/12 17:44:53 WARN MemoryStore: Not enough space to cache rdd_33_97 in memory! (computed 101.7 MiB so far)\n",
      "23/01/12 17:44:53 WARN BlockManager: Persisting block rdd_33_97 to disk instead.\n",
      "23/01/12 17:45:11 WARN MemoryStore: Not enough space to cache rdd_33_96 in memory! (computed 152.6 MiB so far)\n"
     ]
    },
    {
     "name": "stderr",
     "output_type": "stream",
     "text": [
      "[Stage 8:================================================>      (88 + 12) / 100]\r"
     ]
    },
    {
     "name": "stdout",
     "output_type": "stream",
     "text": [
      "23/01/12 17:45:34 WARN MemoryStore: Not enough space to cache rdd_33_98 in memory! (computed 152.6 MiB so far)\n",
      "23/01/12 17:45:34 WARN BlockManager: Persisting block rdd_33_98 to disk instead.\n"
     ]
    },
    {
     "name": "stderr",
     "output_type": "stream",
     "text": [
      "[Stage 8:======================================================> (97 + 3) / 100]\r"
     ]
    },
    {
     "name": "stdout",
     "output_type": "stream",
     "text": [
      "23/01/12 17:46:02 WARN MemoryStore: Not enough space to cache rdd_33_98 in memory! (computed 811.2 MiB so far)\n"
     ]
    },
    {
     "name": "stderr",
     "output_type": "stream",
     "text": [
      "[Stage 10:>                                                      (0 + 12) / 100]\r"
     ]
    },
    {
     "name": "stdout",
     "output_type": "stream",
     "text": [
      "23/01/12 17:46:31 WARN MemoryStore: Not enough space to cache rdd_33_2 in memory! (computed 67.6 MiB so far)\n",
      "23/01/12 17:46:31 WARN MemoryStore: Not enough space to cache rdd_33_3 in memory! (computed 67.6 MiB so far)\n",
      "23/01/12 17:46:32 WARN MemoryStore: Not enough space to cache rdd_33_4 in memory! (computed 101.7 MiB so far)\n",
      "23/01/12 17:46:32 WARN MemoryStore: Not enough space to cache rdd_33_5 in memory! (computed 101.7 MiB so far)\n",
      "23/01/12 17:46:32 WARN MemoryStore: Not enough space to cache rdd_33_7 in memory! (computed 101.7 MiB so far)\n",
      "23/01/12 17:46:32 WARN MemoryStore: Not enough space to cache rdd_33_8 in memory! (computed 101.7 MiB so far)\n",
      "23/01/12 17:46:32 WARN MemoryStore: Not enough space to cache rdd_33_11 in memory! (computed 101.7 MiB so far)\n",
      "23/01/12 17:46:32 WARN MemoryStore: Not enough space to cache rdd_33_6 in memory! (computed 101.7 MiB so far)\n",
      "23/01/12 17:46:32 WARN MemoryStore: Not enough space to cache rdd_33_1 in memory! (computed 101.7 MiB so far)\n",
      "23/01/12 17:46:32 WARN MemoryStore: Not enough space to cache rdd_33_9 in memory! (computed 101.7 MiB so far)\n",
      "23/01/12 17:46:32 WARN MemoryStore: Not enough space to cache rdd_33_0 in memory! (computed 101.7 MiB so far)\n",
      "23/01/12 17:46:32 WARN MemoryStore: Not enough space to cache rdd_33_10 in memory! (computed 101.7 MiB so far)\n"
     ]
    },
    {
     "name": "stderr",
     "output_type": "stream",
     "text": [
      "[Stage 10:==>                                                    (5 + 12) / 100]\r"
     ]
    },
    {
     "name": "stdout",
     "output_type": "stream",
     "text": [
      "23/01/12 17:47:35 WARN MemoryStore: Not enough space to cache rdd_33_12 in memory! (computed 348.4 MiB so far)\n",
      "23/01/12 17:47:36 WARN MemoryStore: Not enough space to cache rdd_33_15 in memory! (computed 152.6 MiB so far)\n",
      "23/01/12 17:47:36 WARN MemoryStore: Not enough space to cache rdd_33_13 in memory! (computed 348.4 MiB so far)\n",
      "23/01/12 17:47:36 WARN MemoryStore: Not enough space to cache rdd_33_16 in memory! (computed 67.6 MiB so far)\n"
     ]
    },
    {
     "name": "stderr",
     "output_type": "stream",
     "text": [
      "\r",
      "[Stage 10:===>                                                   (6 + 12) / 100]\r"
     ]
    },
    {
     "name": "stdout",
     "output_type": "stream",
     "text": [
      "23/01/12 17:47:36 WARN MemoryStore: Not enough space to cache rdd_33_17 in memory! (computed 19.0 MiB so far)\n",
      "23/01/12 17:47:36 WARN MemoryStore: Not enough space to cache rdd_33_14 in memory! (computed 230.3 MiB so far)\n",
      "23/01/12 17:47:36 WARN MemoryStore: Not enough space to cache rdd_33_18 in memory! (computed 5.1 MiB so far)\n"
     ]
    },
    {
     "name": "stderr",
     "output_type": "stream",
     "text": [
      "\r",
      "[Stage 10:===>                                                   (7 + 12) / 100]\r"
     ]
    },
    {
     "name": "stdout",
     "output_type": "stream",
     "text": [
      "23/01/12 17:47:37 WARN MemoryStore: Not enough space to cache rdd_33_19 in memory! (computed 8.4 MiB so far)\n"
     ]
    },
    {
     "name": "stderr",
     "output_type": "stream",
     "text": [
      "[Stage 10:====>                                                  (9 + 12) / 100]\r"
     ]
    },
    {
     "name": "stdout",
     "output_type": "stream",
     "text": [
      "23/01/12 17:47:38 WARN MemoryStore: Not enough space to cache rdd_33_20 in memory! (computed 19.0 MiB so far)\n"
     ]
    },
    {
     "name": "stderr",
     "output_type": "stream",
     "text": [
      "\r",
      "[Stage 10:=====>                                                (10 + 12) / 100]\r"
     ]
    },
    {
     "name": "stdout",
     "output_type": "stream",
     "text": [
      "23/01/12 17:47:38 WARN MemoryStore: Not enough space to cache rdd_33_21 in memory! (computed 8.4 MiB so far)\n"
     ]
    },
    {
     "name": "stderr",
     "output_type": "stream",
     "text": [
      "\r",
      "[Stage 10:=====>                                                (11 + 12) / 100]\r",
      "\r",
      "[Stage 10:======>                                               (12 + 12) / 100]\r"
     ]
    },
    {
     "name": "stdout",
     "output_type": "stream",
     "text": [
      "23/01/12 17:47:39 WARN MemoryStore: Not enough space to cache rdd_33_23 in memory! (computed 19.0 MiB so far)\n",
      "23/01/12 17:47:39 WARN MemoryStore: Not enough space to cache rdd_33_22 in memory! (computed 67.6 MiB so far)\n"
     ]
    },
    {
     "name": "stderr",
     "output_type": "stream",
     "text": [
      "[Stage 10:=========>                                            (17 + 12) / 100]\r"
     ]
    },
    {
     "name": "stdout",
     "output_type": "stream",
     "text": [
      "23/01/12 17:48:40 WARN MemoryStore: Not enough space to cache rdd_33_25 in memory! (computed 230.3 MiB so far)\n",
      "23/01/12 17:48:40 WARN MemoryStore: Not enough space to cache rdd_33_28 in memory! (computed 101.7 MiB so far)\n",
      "23/01/12 17:48:40 WARN MemoryStore: Not enough space to cache rdd_33_29 in memory! (computed 28.4 MiB so far)\n",
      "23/01/12 17:48:40 WARN MemoryStore: Not enough space to cache rdd_33_26 in memory! (computed 230.3 MiB so far)\n"
     ]
    },
    {
     "name": "stderr",
     "output_type": "stream",
     "text": [
      "\r",
      "[Stage 10:=========>                                            (18 + 12) / 100]\r"
     ]
    },
    {
     "name": "stdout",
     "output_type": "stream",
     "text": [
      "23/01/12 17:48:40 WARN MemoryStore: Not enough space to cache rdd_33_27 in memory! (computed 230.3 MiB so far)\n",
      "23/01/12 17:48:40 WARN MemoryStore: Not enough space to cache rdd_33_30 in memory! (computed 1539.7 KiB so far)\n"
     ]
    },
    {
     "name": "stderr",
     "output_type": "stream",
     "text": [
      "\r",
      "[Stage 10:==========>                                           (19 + 12) / 100]\r"
     ]
    },
    {
     "name": "stdout",
     "output_type": "stream",
     "text": [
      "23/01/12 17:48:40 WARN MemoryStore: Not enough space to cache rdd_33_24 in memory! (computed 348.4 MiB so far)\n",
      "23/01/12 17:48:41 WARN MemoryStore: Not enough space to cache rdd_33_31 in memory! (computed 1539.7 KiB so far)\n"
     ]
    },
    {
     "name": "stderr",
     "output_type": "stream",
     "text": [
      "[Stage 10:===========>                                          (21 + 12) / 100]\r"
     ]
    },
    {
     "name": "stdout",
     "output_type": "stream",
     "text": [
      "23/01/12 17:48:41 WARN MemoryStore: Not enough space to cache rdd_33_32 in memory! (computed 28.4 MiB so far)\n"
     ]
    },
    {
     "name": "stderr",
     "output_type": "stream",
     "text": [
      "\r",
      "[Stage 10:===========>                                          (22 + 12) / 100]\r"
     ]
    },
    {
     "name": "stdout",
     "output_type": "stream",
     "text": [
      "23/01/12 17:48:43 WARN MemoryStore: Not enough space to cache rdd_33_33 in memory! (computed 28.4 MiB so far)\n",
      "23/01/12 17:48:44 WARN MemoryStore: Not enough space to cache rdd_33_34 in memory! (computed 1539.7 KiB so far)\n"
     ]
    },
    {
     "name": "stderr",
     "output_type": "stream",
     "text": [
      "\r",
      "[Stage 10:============>                                         (23 + 12) / 100]\r"
     ]
    },
    {
     "name": "stdout",
     "output_type": "stream",
     "text": [
      "23/01/12 17:48:44 WARN MemoryStore: Not enough space to cache rdd_33_35 in memory! (computed 1539.7 KiB so far)\n"
     ]
    },
    {
     "name": "stderr",
     "output_type": "stream",
     "text": [
      "[Stage 10:================>                                     (30 + 12) / 100]\r"
     ]
    },
    {
     "name": "stdout",
     "output_type": "stream",
     "text": [
      "23/01/12 17:49:45 WARN MemoryStore: Not enough space to cache rdd_33_37 in memory! (computed 230.3 MiB so far)\n",
      "23/01/12 17:49:45 WARN MemoryStore: Not enough space to cache rdd_33_38 in memory! (computed 152.6 MiB so far)\n",
      "23/01/12 17:49:45 WARN MemoryStore: Not enough space to cache rdd_33_39 in memory! (computed 152.6 MiB so far)\n",
      "23/01/12 17:49:45 WARN MemoryStore: Not enough space to cache rdd_33_41 in memory! (computed 101.7 MiB so far)\n",
      "23/01/12 17:49:45 WARN MemoryStore: Not enough space to cache rdd_33_40 in memory! (computed 152.6 MiB so far)\n",
      "23/01/12 17:49:45 WARN MemoryStore: Not enough space to cache rdd_33_36 in memory! (computed 348.4 MiB so far)\n",
      "23/01/12 17:49:46 WARN MemoryStore: Not enough space to cache rdd_33_43 in memory! (computed 8.4 MiB so far)\n",
      "23/01/12 17:49:46 WARN MemoryStore: Not enough space to cache rdd_33_42 in memory! (computed 19.0 MiB so far)\n"
     ]
    },
    {
     "name": "stderr",
     "output_type": "stream",
     "text": [
      "[Stage 10:==================>                                   (34 + 12) / 100]\r"
     ]
    },
    {
     "name": "stdout",
     "output_type": "stream",
     "text": [
      "23/01/12 17:49:47 WARN MemoryStore: Not enough space to cache rdd_33_44 in memory! (computed 28.4 MiB so far)\n",
      "23/01/12 17:49:47 WARN MemoryStore: Not enough space to cache rdd_33_45 in memory! (computed 1539.7 KiB so far)\n"
     ]
    },
    {
     "name": "stderr",
     "output_type": "stream",
     "text": [
      "[Stage 10:===================>                                  (36 + 12) / 100]\r"
     ]
    },
    {
     "name": "stdout",
     "output_type": "stream",
     "text": [
      "23/01/12 17:49:51 WARN MemoryStore: Not enough space to cache rdd_33_46 in memory! (computed 67.6 MiB so far)\n",
      "23/01/12 17:49:51 WARN MemoryStore: Not enough space to cache rdd_33_47 in memory! (computed 67.6 MiB so far)\n"
     ]
    },
    {
     "name": "stderr",
     "output_type": "stream",
     "text": [
      "[Stage 10:=====================>                                (39 + 12) / 100]\r"
     ]
    },
    {
     "name": "stdout",
     "output_type": "stream",
     "text": [
      "23/01/12 17:50:49 WARN MemoryStore: Not enough space to cache rdd_33_48 in memory! (computed 540.8 MiB so far)\n"
     ]
    },
    {
     "name": "stderr",
     "output_type": "stream",
     "text": [
      "\r",
      "[Stage 10:=====================>                                (40 + 12) / 100]\r"
     ]
    },
    {
     "name": "stdout",
     "output_type": "stream",
     "text": [
      "23/01/12 17:50:50 WARN MemoryStore: Not enough space to cache rdd_33_50 in memory! (computed 230.3 MiB so far)\n",
      "23/01/12 17:50:50 WARN MemoryStore: Not enough space to cache rdd_33_51 in memory! (computed 67.6 MiB so far)\n"
     ]
    },
    {
     "name": "stderr",
     "output_type": "stream",
     "text": [
      "\r",
      "[Stage 10:======================>                               (41 + 12) / 100]\r"
     ]
    },
    {
     "name": "stdout",
     "output_type": "stream",
     "text": [
      "23/01/12 17:50:50 WARN MemoryStore: Not enough space to cache rdd_33_52 in memory! (computed 1539.7 KiB so far)\n",
      "23/01/12 17:50:50 WARN MemoryStore: Not enough space to cache rdd_33_49 in memory! (computed 348.4 MiB so far)\n",
      "23/01/12 17:50:50 WARN MemoryStore: Not enough space to cache rdd_33_53 in memory! (computed 1539.7 KiB so far)\n"
     ]
    },
    {
     "name": "stderr",
     "output_type": "stream",
     "text": [
      "[Stage 10:=======================>                              (43 + 12) / 100]\r"
     ]
    },
    {
     "name": "stdout",
     "output_type": "stream",
     "text": [
      "23/01/12 17:50:51 WARN MemoryStore: Not enough space to cache rdd_33_54 in memory! (computed 1539.7 KiB so far)\n",
      "23/01/12 17:50:51 WARN MemoryStore: Not enough space to cache rdd_33_55 in memory! (computed 1539.7 KiB so far)\n"
     ]
    },
    {
     "name": "stderr",
     "output_type": "stream",
     "text": [
      "\r",
      "[Stage 10:=======================>                              (44 + 12) / 100]\r",
      "\r",
      "[Stage 10:========================>                             (45 + 12) / 100]\r"
     ]
    },
    {
     "name": "stdout",
     "output_type": "stream",
     "text": [
      "23/01/12 17:50:51 WARN MemoryStore: Not enough space to cache rdd_33_56 in memory! (computed 1539.7 KiB so far)\n"
     ]
    },
    {
     "name": "stderr",
     "output_type": "stream",
     "text": [
      "\r",
      "[Stage 10:========================>                             (46 + 12) / 100]\r"
     ]
    },
    {
     "name": "stdout",
     "output_type": "stream",
     "text": [
      "23/01/12 17:50:54 WARN MemoryStore: Not enough space to cache rdd_33_57 in memory! (computed 67.6 MiB so far)\n",
      "23/01/12 17:50:55 WARN MemoryStore: Not enough space to cache rdd_33_58 in memory! (computed 1539.7 KiB so far)\n"
     ]
    },
    {
     "name": "stderr",
     "output_type": "stream",
     "text": [
      "[Stage 10:=========================>                            (48 + 12) / 100]\r"
     ]
    },
    {
     "name": "stdout",
     "output_type": "stream",
     "text": [
      "23/01/12 17:50:56 WARN MemoryStore: Not enough space to cache rdd_33_59 in memory! (computed 1539.7 KiB so far)\n"
     ]
    },
    {
     "name": "stderr",
     "output_type": "stream",
     "text": [
      "[Stage 10:===========================>                          (51 + 12) / 100]\r"
     ]
    },
    {
     "name": "stdout",
     "output_type": "stream",
     "text": [
      "23/01/12 17:51:53 WARN MemoryStore: Not enough space to cache rdd_33_60 in memory! (computed 540.8 MiB so far)\n",
      "23/01/12 17:51:54 WARN MemoryStore: Not enough space to cache rdd_33_62 in memory! (computed 230.3 MiB so far)\n"
     ]
    },
    {
     "name": "stderr",
     "output_type": "stream",
     "text": [
      "\r",
      "[Stage 10:============================>                         (53 + 12) / 100]\r"
     ]
    },
    {
     "name": "stdout",
     "output_type": "stream",
     "text": [
      "23/01/12 17:51:54 WARN MemoryStore: Not enough space to cache rdd_33_64 in memory! (computed 19.0 MiB so far)\n",
      "23/01/12 17:51:54 WARN MemoryStore: Not enough space to cache rdd_33_63 in memory! (computed 42.9 MiB so far)\n",
      "23/01/12 17:51:54 WARN MemoryStore: Not enough space to cache rdd_33_61 in memory! (computed 348.4 MiB so far)\n"
     ]
    },
    {
     "name": "stderr",
     "output_type": "stream",
     "text": [
      "\r",
      "[Stage 10:=============================>                        (54 + 12) / 100]\r"
     ]
    },
    {
     "name": "stdout",
     "output_type": "stream",
     "text": [
      "23/01/12 17:51:54 WARN MemoryStore: Not enough space to cache rdd_33_65 in memory! (computed 3.4 MiB so far)\n",
      "23/01/12 17:51:55 WARN MemoryStore: Not enough space to cache rdd_33_66 in memory! (computed 3.4 MiB so far)\n"
     ]
    },
    {
     "name": "stderr",
     "output_type": "stream",
     "text": [
      "[Stage 10:==============================>                       (57 + 12) / 100]\r"
     ]
    },
    {
     "name": "stdout",
     "output_type": "stream",
     "text": [
      "23/01/12 17:51:56 WARN MemoryStore: Not enough space to cache rdd_33_67 in memory! (computed 19.0 MiB so far)\n",
      "23/01/12 17:51:56 WARN MemoryStore: Not enough space to cache rdd_33_68 in memory! (computed 3.4 MiB so far)\n"
     ]
    },
    {
     "name": "stderr",
     "output_type": "stream",
     "text": [
      "\r",
      "[Stage 10:===============================>                      (58 + 12) / 100]\r"
     ]
    },
    {
     "name": "stdout",
     "output_type": "stream",
     "text": [
      "23/01/12 17:52:00 WARN MemoryStore: Not enough space to cache rdd_33_69 in memory! (computed 67.6 MiB so far)\n",
      "23/01/12 17:52:01 WARN MemoryStore: Not enough space to cache rdd_33_70 in memory! (computed 1539.7 KiB so far)\n"
     ]
    },
    {
     "name": "stderr",
     "output_type": "stream",
     "text": [
      "[Stage 10:================================>                     (60 + 12) / 100]\r"
     ]
    },
    {
     "name": "stdout",
     "output_type": "stream",
     "text": [
      "23/01/12 17:52:02 WARN MemoryStore: Not enough space to cache rdd_33_71 in memory! (computed 1539.7 KiB so far)\n"
     ]
    },
    {
     "name": "stderr",
     "output_type": "stream",
     "text": [
      "[Stage 10:==================================>                   (64 + 12) / 100]\r"
     ]
    },
    {
     "name": "stdout",
     "output_type": "stream",
     "text": [
      "23/01/12 17:52:55 WARN MemoryStore: Not enough space to cache rdd_33_73 in memory! (computed 348.4 MiB so far)\n",
      "23/01/12 17:52:55 WARN MemoryStore: Not enough space to cache rdd_33_75 in memory! (computed 101.7 MiB so far)\n",
      "23/01/12 17:52:55 WARN MemoryStore: Not enough space to cache rdd_33_74 in memory! (computed 152.6 MiB so far)\n",
      "23/01/12 17:52:55 WARN MemoryStore: Not enough space to cache rdd_33_72 in memory! (computed 540.8 MiB so far)\n"
     ]
    },
    {
     "name": "stderr",
     "output_type": "stream",
     "text": [
      "\r",
      "[Stage 10:===================================>                  (65 + 12) / 100]\r"
     ]
    },
    {
     "name": "stdout",
     "output_type": "stream",
     "text": [
      "23/01/12 17:52:56 WARN MemoryStore: Not enough space to cache rdd_33_76 in memory! (computed 28.4 MiB so far)\n"
     ]
    },
    {
     "name": "stderr",
     "output_type": "stream",
     "text": [
      "\r",
      "[Stage 10:===================================>                  (66 + 12) / 100]\r",
      "\r",
      "[Stage 10:====================================>                 (67 + 12) / 100]\r"
     ]
    },
    {
     "name": "stdout",
     "output_type": "stream",
     "text": [
      "23/01/12 17:52:57 WARN MemoryStore: Not enough space to cache rdd_33_77 in memory! (computed 12.6 MiB so far)\n",
      "23/01/12 17:52:57 WARN MemoryStore: Failed to reserve initial memory threshold of 1024.0 KiB for computing block rdd_33_78 in memory.\n",
      "23/01/12 17:52:57 WARN MemoryStore: Not enough space to cache rdd_33_78 in memory! (computed 384.0 B so far)\n"
     ]
    },
    {
     "name": "stderr",
     "output_type": "stream",
     "text": [
      "\r",
      "[Stage 10:====================================>                 (68 + 12) / 100]\r"
     ]
    },
    {
     "name": "stdout",
     "output_type": "stream",
     "text": [
      "23/01/12 17:52:58 WARN MemoryStore: Not enough space to cache rdd_33_79 in memory! (computed 28.4 MiB so far)\n"
     ]
    },
    {
     "name": "stderr",
     "output_type": "stream",
     "text": [
      "\r",
      "[Stage 10:=====================================>                (69 + 12) / 100]\r"
     ]
    },
    {
     "name": "stdout",
     "output_type": "stream",
     "text": [
      "23/01/12 17:53:01 WARN MemoryStore: Not enough space to cache rdd_33_80 in memory! (computed 101.7 MiB so far)\n"
     ]
    },
    {
     "name": "stderr",
     "output_type": "stream",
     "text": [
      "\r",
      "[Stage 10:=====================================>                (70 + 12) / 100]\r"
     ]
    },
    {
     "name": "stdout",
     "output_type": "stream",
     "text": [
      "23/01/12 17:53:02 WARN MemoryStore: Not enough space to cache rdd_33_81 in memory! (computed 28.4 MiB so far)\n"
     ]
    },
    {
     "name": "stderr",
     "output_type": "stream",
     "text": [
      "\r",
      "[Stage 10:======================================>               (71 + 12) / 100]\r",
      "\r",
      "[Stage 10:======================================>               (72 + 12) / 100]\r"
     ]
    },
    {
     "name": "stdout",
     "output_type": "stream",
     "text": [
      "23/01/12 17:53:05 WARN MemoryStore: Not enough space to cache rdd_33_82 in memory! (computed 101.7 MiB so far)\n",
      "23/01/12 17:53:05 WARN MemoryStore: Not enough space to cache rdd_33_83 in memory! (computed 67.6 MiB so far)\n"
     ]
    },
    {
     "name": "stderr",
     "output_type": "stream",
     "text": [
      "[Stage 10:=========================================>            (77 + 12) / 100]\r"
     ]
    },
    {
     "name": "stdout",
     "output_type": "stream",
     "text": [
      "23/01/12 17:54:00 WARN MemoryStore: Not enough space to cache rdd_33_85 in memory! (computed 348.4 MiB so far)\n",
      "23/01/12 17:54:00 WARN MemoryStore: Not enough space to cache rdd_33_84 in memory! (computed 348.4 MiB so far)\n",
      "23/01/12 17:54:00 WARN MemoryStore: Not enough space to cache rdd_33_86 in memory! (computed 230.3 MiB so far)\n",
      "23/01/12 17:54:01 WARN MemoryStore: Not enough space to cache rdd_33_88 in memory! (computed 230.3 MiB so far)\n",
      "23/01/12 17:54:03 WARN MemoryStore: Not enough space to cache rdd_33_89 in memory! (computed 12.6 MiB so far)\n",
      "23/01/12 17:54:03 WARN MemoryStore: Not enough space to cache rdd_33_90 in memory! (computed 1539.7 KiB so far)\n"
     ]
    },
    {
     "name": "stderr",
     "output_type": "stream",
     "text": [
      "[Stage 10:===========================================>          (80 + 12) / 100]\r"
     ]
    },
    {
     "name": "stdout",
     "output_type": "stream",
     "text": [
      "23/01/12 17:54:04 WARN MemoryStore: Not enough space to cache rdd_33_91 in memory! (computed 12.6 MiB so far)\n"
     ]
    },
    {
     "name": "stderr",
     "output_type": "stream",
     "text": [
      "\r",
      "[Stage 10:===========================================>          (81 + 12) / 100]\r"
     ]
    },
    {
     "name": "stdout",
     "output_type": "stream",
     "text": [
      "23/01/12 17:54:06 WARN MemoryStore: Not enough space to cache rdd_33_92 in memory! (computed 12.6 MiB so far)\n"
     ]
    },
    {
     "name": "stderr",
     "output_type": "stream",
     "text": [
      "\r",
      "[Stage 10:============================================>         (82 + 12) / 100]\r"
     ]
    },
    {
     "name": "stdout",
     "output_type": "stream",
     "text": [
      "23/01/12 17:54:12 WARN MemoryStore: Not enough space to cache rdd_33_94 in memory! (computed 12.6 MiB so far)\n"
     ]
    },
    {
     "name": "stderr",
     "output_type": "stream",
     "text": [
      "[Stage 10:=============================================>        (84 + 12) / 100]\r"
     ]
    },
    {
     "name": "stdout",
     "output_type": "stream",
     "text": [
      "23/01/12 17:54:15 WARN MemoryStore: Not enough space to cache rdd_33_95 in memory! (computed 348.4 MiB so far)\n"
     ]
    },
    {
     "name": "stderr",
     "output_type": "stream",
     "text": [
      "\r",
      "[Stage 10:=============================================>        (85 + 12) / 100]\r"
     ]
    },
    {
     "name": "stdout",
     "output_type": "stream",
     "text": [
      "23/01/12 17:55:03 WARN MemoryStore: Not enough space to cache rdd_33_96 in memory! (computed 811.2 MiB so far)\n"
     ]
    },
    {
     "name": "stderr",
     "output_type": "stream",
     "text": [
      "[Stage 10:==============================================>       (87 + 12) / 100]\r"
     ]
    },
    {
     "name": "stdout",
     "output_type": "stream",
     "text": [
      "23/01/12 17:55:07 WARN MemoryStore: Not enough space to cache rdd_33_98 in memory! (computed 348.4 MiB so far)\n"
     ]
    },
    {
     "name": "stderr",
     "output_type": "stream",
     "text": [
      "[Stage 12:>                                                      (0 + 12) / 100]\r"
     ]
    },
    {
     "name": "stdout",
     "output_type": "stream",
     "text": [
      "23/01/12 17:55:46 WARN MemoryStore: Not enough space to cache rdd_33_9 in memory! (computed 67.6 MiB so far)\n",
      "23/01/12 17:55:46 WARN MemoryStore: Not enough space to cache rdd_33_0 in memory! (computed 67.6 MiB so far)\n",
      "23/01/12 17:55:47 WARN MemoryStore: Not enough space to cache rdd_33_3 in memory! (computed 101.7 MiB so far)\n",
      "23/01/12 17:55:47 WARN MemoryStore: Not enough space to cache rdd_33_7 in memory! (computed 101.7 MiB so far)\n",
      "23/01/12 17:55:47 WARN MemoryStore: Not enough space to cache rdd_33_10 in memory! (computed 101.7 MiB so far)\n",
      "23/01/12 17:55:47 WARN MemoryStore: Not enough space to cache rdd_33_6 in memory! (computed 101.7 MiB so far)\n",
      "23/01/12 17:55:47 WARN MemoryStore: Not enough space to cache rdd_33_4 in memory! (computed 101.7 MiB so far)\n",
      "23/01/12 17:55:47 WARN MemoryStore: Not enough space to cache rdd_33_11 in memory! (computed 101.7 MiB so far)\n",
      "23/01/12 17:55:47 WARN MemoryStore: Not enough space to cache rdd_33_2 in memory! (computed 101.7 MiB so far)\n",
      "23/01/12 17:55:47 WARN MemoryStore: Not enough space to cache rdd_33_8 in memory! (computed 101.7 MiB so far)\n",
      "23/01/12 17:55:47 WARN MemoryStore: Not enough space to cache rdd_33_5 in memory! (computed 101.7 MiB so far)\n",
      "23/01/12 17:55:47 WARN MemoryStore: Not enough space to cache rdd_33_1 in memory! (computed 101.7 MiB so far)\n"
     ]
    },
    {
     "name": "stderr",
     "output_type": "stream",
     "text": [
      "[Stage 12:=====>                                                (10 + 12) / 100]\r"
     ]
    },
    {
     "name": "stdout",
     "output_type": "stream",
     "text": [
      "23/01/12 17:56:57 WARN MemoryStore: Not enough space to cache rdd_33_14 in memory! (computed 152.6 MiB so far)\n",
      "23/01/12 17:56:57 WARN MemoryStore: Not enough space to cache rdd_33_19 in memory! (computed 42.9 MiB so far)\n",
      "23/01/12 17:56:58 WARN MemoryStore: Not enough space to cache rdd_33_20 in memory! (computed 19.0 MiB so far)\n",
      "23/01/12 17:56:58 WARN MemoryStore: Not enough space to cache rdd_33_18 in memory! (computed 67.6 MiB so far)\n",
      "23/01/12 17:56:58 WARN MemoryStore: Not enough space to cache rdd_33_17 in memory! (computed 101.7 MiB so far)\n",
      "23/01/12 17:56:58 WARN MemoryStore: Not enough space to cache rdd_33_21 in memory! (computed 19.0 MiB so far)\n",
      "23/01/12 17:56:58 WARN MemoryStore: Not enough space to cache rdd_33_15 in memory! (computed 152.6 MiB so far)\n",
      "23/01/12 17:56:58 WARN MemoryStore: Not enough space to cache rdd_33_12 in memory! (computed 230.3 MiB so far)\n",
      "23/01/12 17:56:58 WARN MemoryStore: Not enough space to cache rdd_33_16 in memory! (computed 152.6 MiB so far)\n",
      "23/01/12 17:56:58 WARN MemoryStore: Not enough space to cache rdd_33_13 in memory! (computed 230.3 MiB so far)\n",
      "23/01/12 17:56:58 WARN MemoryStore: Not enough space to cache rdd_33_22 in memory! (computed 1539.7 KiB so far)\n"
     ]
    },
    {
     "name": "stderr",
     "output_type": "stream",
     "text": [
      "[Stage 12:======>                                               (12 + 12) / 100]\r"
     ]
    },
    {
     "name": "stdout",
     "output_type": "stream",
     "text": [
      "23/01/12 17:57:00 WARN MemoryStore: Not enough space to cache rdd_33_23 in memory! (computed 28.4 MiB so far)\n"
     ]
    },
    {
     "name": "stderr",
     "output_type": "stream",
     "text": [
      "[Stage 12:========>                                             (15 + 12) / 100]\r"
     ]
    },
    {
     "name": "stdout",
     "output_type": "stream",
     "text": [
      "23/01/12 17:58:12 WARN MemoryStore: Not enough space to cache rdd_33_25 in memory! (computed 348.4 MiB so far)\n",
      "23/01/12 17:58:12 WARN MemoryStore: Not enough space to cache rdd_33_26 in memory! (computed 230.3 MiB so far)\n",
      "23/01/12 17:58:12 WARN MemoryStore: Not enough space to cache rdd_33_24 in memory! (computed 540.8 MiB so far)\n"
     ]
    },
    {
     "name": "stderr",
     "output_type": "stream",
     "text": [
      "\r",
      "[Stage 12:========>                                             (16 + 12) / 100]\r"
     ]
    },
    {
     "name": "stdout",
     "output_type": "stream",
     "text": [
      "23/01/12 17:58:13 WARN MemoryStore: Not enough space to cache rdd_33_27 in memory! (computed 67.6 MiB so far)\n",
      "23/01/12 17:58:14 WARN MemoryStore: Not enough space to cache rdd_33_28 in memory! (computed 1539.7 KiB so far)\n"
     ]
    },
    {
     "name": "stderr",
     "output_type": "stream",
     "text": [
      "\r",
      "[Stage 12:=========>                                            (17 + 12) / 100]\r"
     ]
    },
    {
     "name": "stdout",
     "output_type": "stream",
     "text": [
      "23/01/12 17:58:14 WARN MemoryStore: Not enough space to cache rdd_33_29 in memory! (computed 1539.7 KiB so far)\n",
      "23/01/12 17:58:14 WARN MemoryStore: Not enough space to cache rdd_33_30 in memory! (computed 1539.7 KiB so far)\n"
     ]
    },
    {
     "name": "stderr",
     "output_type": "stream",
     "text": [
      "\r",
      "[Stage 12:==========>                                           (19 + 12) / 100]\r",
      "\r",
      "[Stage 12:==========>                                           (20 + 12) / 100]\r"
     ]
    },
    {
     "name": "stdout",
     "output_type": "stream",
     "text": [
      "23/01/12 17:58:14 WARN MemoryStore: Failed to reserve initial memory threshold of 1024.0 KiB for computing block rdd_33_31 in memory.\n",
      "23/01/12 17:58:14 WARN MemoryStore: Not enough space to cache rdd_33_31 in memory! (computed 384.0 B so far)\n",
      "23/01/12 17:58:15 WARN MemoryStore: Not enough space to cache rdd_33_32 in memory! (computed 1539.7 KiB so far)\n"
     ]
    },
    {
     "name": "stderr",
     "output_type": "stream",
     "text": [
      "\r",
      "[Stage 12:===========>                                          (21 + 12) / 100]\r"
     ]
    },
    {
     "name": "stdout",
     "output_type": "stream",
     "text": [
      "23/01/12 17:58:16 WARN MemoryStore: Not enough space to cache rdd_33_33 in memory! (computed 1539.7 KiB so far)\n",
      "23/01/12 17:58:16 WARN MemoryStore: Not enough space to cache rdd_33_34 in memory! (computed 1539.7 KiB so far)\n"
     ]
    },
    {
     "name": "stderr",
     "output_type": "stream",
     "text": [
      "[Stage 12:============>                                         (24 + 12) / 100]\r"
     ]
    },
    {
     "name": "stdout",
     "output_type": "stream",
     "text": [
      "23/01/12 17:58:18 WARN MemoryStore: Not enough space to cache rdd_33_35 in memory! (computed 67.6 MiB so far)\n"
     ]
    },
    {
     "name": "stderr",
     "output_type": "stream",
     "text": [
      "\r",
      "[Stage 12:=============>                                        (25 + 12) / 100]\r",
      "\r",
      "[Stage 12:==============>                                       (26 + 12) / 100]\r"
     ]
    },
    {
     "name": "stdout",
     "output_type": "stream",
     "text": [
      "23/01/12 17:59:19 WARN MemoryStore: Not enough space to cache rdd_33_36 in memory! (computed 540.8 MiB so far)\n",
      "23/01/12 17:59:20 WARN MemoryStore: Not enough space to cache rdd_33_37 in memory! (computed 540.8 MiB so far)\n"
     ]
    },
    {
     "name": "stderr",
     "output_type": "stream",
     "text": [
      "[Stage 12:===============>                                      (28 + 12) / 100]\r"
     ]
    },
    {
     "name": "stdout",
     "output_type": "stream",
     "text": [
      "23/01/12 17:59:21 WARN MemoryStore: Not enough space to cache rdd_33_39 in memory! (computed 12.6 MiB so far)\n",
      "23/01/12 17:59:21 WARN MemoryStore: Not enough space to cache rdd_33_38 in memory! (computed 101.7 MiB so far)\n",
      "23/01/12 17:59:22 WARN MemoryStore: Not enough space to cache rdd_33_41 in memory! (computed 5.1 MiB so far)\n",
      "23/01/12 17:59:22 WARN MemoryStore: Not enough space to cache rdd_33_42 in memory! (computed 3.4 MiB so far)\n",
      "23/01/12 17:59:22 WARN MemoryStore: Not enough space to cache rdd_33_40 in memory! (computed 8.4 MiB so far)\n"
     ]
    },
    {
     "name": "stderr",
     "output_type": "stream",
     "text": [
      "[Stage 12:=================>                                    (32 + 12) / 100]\r"
     ]
    },
    {
     "name": "stdout",
     "output_type": "stream",
     "text": [
      "23/01/12 17:59:23 WARN MemoryStore: Not enough space to cache rdd_33_43 in memory! (computed 12.6 MiB so far)\n",
      "23/01/12 17:59:24 WARN MemoryStore: Not enough space to cache rdd_33_44 in memory! (computed 12.6 MiB so far)\n",
      "23/01/12 17:59:24 WARN MemoryStore: Not enough space to cache rdd_33_45 in memory! (computed 3.4 MiB so far)\n"
     ]
    },
    {
     "name": "stderr",
     "output_type": "stream",
     "text": [
      "\r",
      "[Stage 12:==================>                                   (34 + 12) / 100]\r"
     ]
    },
    {
     "name": "stdout",
     "output_type": "stream",
     "text": [
      "23/01/12 17:59:24 WARN MemoryStore: Not enough space to cache rdd_33_46 in memory! (computed 3.4 MiB so far)\n"
     ]
    },
    {
     "name": "stderr",
     "output_type": "stream",
     "text": [
      "[Stage 12:===================>                                  (36 + 12) / 100]\r"
     ]
    },
    {
     "name": "stdout",
     "output_type": "stream",
     "text": [
      "23/01/12 17:59:26 WARN MemoryStore: Not enough space to cache rdd_33_47 in memory! (computed 101.7 MiB so far)\n"
     ]
    },
    {
     "name": "stderr",
     "output_type": "stream",
     "text": [
      "[Stage 12:=====================>                                (40 + 12) / 100]\r"
     ]
    },
    {
     "name": "stdout",
     "output_type": "stream",
     "text": [
      "23/01/12 18:00:29 WARN MemoryStore: Not enough space to cache rdd_33_51 in memory! (computed 67.6 MiB so far)\n",
      "23/01/12 18:00:29 WARN MemoryStore: Not enough space to cache rdd_33_50 in memory! (computed 230.3 MiB so far)\n",
      "23/01/12 18:00:29 WARN MemoryStore: Not enough space to cache rdd_33_48 in memory! (computed 540.8 MiB so far)\n",
      "23/01/12 18:00:29 WARN MemoryStore: Not enough space to cache rdd_33_52 in memory! (computed 1539.7 KiB so far)\n"
     ]
    },
    {
     "name": "stderr",
     "output_type": "stream",
     "text": [
      "\r",
      "[Stage 12:======================>                               (41 + 12) / 100]\r"
     ]
    },
    {
     "name": "stdout",
     "output_type": "stream",
     "text": [
      "23/01/12 18:00:29 WARN MemoryStore: Not enough space to cache rdd_33_49 in memory! (computed 348.4 MiB so far)\n",
      "23/01/12 18:00:30 WARN MemoryStore: Not enough space to cache rdd_33_53 in memory! (computed 1539.7 KiB so far)\n"
     ]
    },
    {
     "name": "stderr",
     "output_type": "stream",
     "text": [
      "\r",
      "[Stage 12:======================>                               (42 + 12) / 100]\r",
      "\r",
      "[Stage 12:=======================>                              (43 + 12) / 100]\r"
     ]
    },
    {
     "name": "stdout",
     "output_type": "stream",
     "text": [
      "23/01/12 18:00:31 WARN MemoryStore: Not enough space to cache rdd_33_54 in memory! (computed 1539.7 KiB so far)\n",
      "23/01/12 18:00:32 WARN MemoryStore: Not enough space to cache rdd_33_55 in memory! (computed 1539.7 KiB so far)\n"
     ]
    },
    {
     "name": "stderr",
     "output_type": "stream",
     "text": [
      "\r",
      "[Stage 12:=======================>                              (44 + 12) / 100]\r"
     ]
    },
    {
     "name": "stdout",
     "output_type": "stream",
     "text": [
      "23/01/12 18:00:33 WARN MemoryStore: Failed to reserve initial memory threshold of 1024.0 KiB for computing block rdd_33_57 in memory.\n",
      "23/01/12 18:00:33 WARN MemoryStore: Not enough space to cache rdd_33_57 in memory! (computed 384.0 B so far)\n",
      "23/01/12 18:00:33 WARN MemoryStore: Not enough space to cache rdd_33_56 in memory! (computed 1539.7 KiB so far)\n"
     ]
    },
    {
     "name": "stderr",
     "output_type": "stream",
     "text": [
      "[Stage 12:=========================>                            (47 + 12) / 100]\r"
     ]
    },
    {
     "name": "stdout",
     "output_type": "stream",
     "text": [
      "23/01/12 18:00:33 WARN MemoryStore: Not enough space to cache rdd_33_58 in memory! (computed 67.6 MiB so far)\n",
      "23/01/12 18:00:34 WARN MemoryStore: Not enough space to cache rdd_33_59 in memory! (computed 1539.7 KiB so far)\n"
     ]
    },
    {
     "name": "stderr",
     "output_type": "stream",
     "text": [
      "[Stage 12:============================>                         (52 + 12) / 100]\r"
     ]
    },
    {
     "name": "stdout",
     "output_type": "stream",
     "text": [
      "23/01/12 18:01:36 WARN MemoryStore: Not enough space to cache rdd_33_62 in memory! (computed 5.1 MiB so far)\n",
      "23/01/12 18:01:36 WARN MemoryStore: Not enough space to cache rdd_33_61 in memory! (computed 348.4 MiB so far)\n",
      "23/01/12 18:01:36 WARN MemoryStore: Not enough space to cache rdd_33_60 in memory! (computed 811.2 MiB so far)\n",
      "23/01/12 18:01:36 WARN MemoryStore: Not enough space to cache rdd_33_63 in memory! (computed 1539.7 KiB so far)\n"
     ]
    },
    {
     "name": "stderr",
     "output_type": "stream",
     "text": [
      "\r",
      "[Stage 12:============================>                         (53 + 12) / 100]\r",
      "\r",
      "[Stage 12:=============================>                        (54 + 12) / 100]\r"
     ]
    },
    {
     "name": "stdout",
     "output_type": "stream",
     "text": [
      "23/01/12 18:01:37 WARN MemoryStore: Not enough space to cache rdd_33_64 in memory! (computed 5.1 MiB so far)\n",
      "23/01/12 18:01:37 WARN MemoryStore: Not enough space to cache rdd_33_65 in memory! (computed 1539.7 KiB so far)\n",
      "23/01/12 18:01:39 WARN MemoryStore: Not enough space to cache rdd_33_66 in memory! (computed 5.1 MiB so far)\n"
     ]
    },
    {
     "name": "stderr",
     "output_type": "stream",
     "text": [
      "\r",
      "[Stage 12:=============================>                        (55 + 12) / 100]\r"
     ]
    },
    {
     "name": "stdout",
     "output_type": "stream",
     "text": [
      "23/01/12 18:01:39 WARN MemoryStore: Not enough space to cache rdd_33_67 in memory! (computed 5.1 MiB so far)\n"
     ]
    },
    {
     "name": "stderr",
     "output_type": "stream",
     "text": [
      "\r",
      "[Stage 12:==============================>                       (56 + 12) / 100]\r"
     ]
    },
    {
     "name": "stdout",
     "output_type": "stream",
     "text": [
      "23/01/12 18:01:40 WARN MemoryStore: Not enough space to cache rdd_33_68 in memory! (computed 5.1 MiB so far)\n",
      "23/01/12 18:01:40 WARN MemoryStore: Not enough space to cache rdd_33_69 in memory! (computed 1539.7 KiB so far)\n"
     ]
    },
    {
     "name": "stderr",
     "output_type": "stream",
     "text": [
      "\r",
      "[Stage 12:==============================>                       (57 + 12) / 100]\r",
      "\r",
      "[Stage 12:===============================>                      (58 + 12) / 100]\r"
     ]
    },
    {
     "name": "stdout",
     "output_type": "stream",
     "text": [
      "23/01/12 18:01:42 WARN MemoryStore: Not enough space to cache rdd_33_70 in memory! (computed 5.1 MiB so far)\n"
     ]
    },
    {
     "name": "stderr",
     "output_type": "stream",
     "text": [
      "\r",
      "[Stage 12:===============================>                      (59 + 12) / 100]\r"
     ]
    },
    {
     "name": "stdout",
     "output_type": "stream",
     "text": [
      "23/01/12 18:01:42 WARN MemoryStore: Not enough space to cache rdd_33_71 in memory! (computed 5.1 MiB so far)\n"
     ]
    },
    {
     "name": "stderr",
     "output_type": "stream",
     "text": [
      "[Stage 12:==================================>                   (63 + 12) / 100]\r"
     ]
    },
    {
     "name": "stdout",
     "output_type": "stream",
     "text": [
      "23/01/12 18:02:43 WARN MemoryStore: Not enough space to cache rdd_33_74 in memory! (computed 5.1 MiB so far)\n",
      "23/01/12 18:02:44 WARN MemoryStore: Not enough space to cache rdd_33_73 in memory! (computed 348.4 MiB so far)\n",
      "23/01/12 18:02:44 WARN MemoryStore: Not enough space to cache rdd_33_75 in memory! (computed 5.1 MiB so far)\n"
     ]
    },
    {
     "name": "stderr",
     "output_type": "stream",
     "text": [
      "\r",
      "[Stage 12:==================================>                   (64 + 12) / 100]\r"
     ]
    },
    {
     "name": "stdout",
     "output_type": "stream",
     "text": [
      "23/01/12 18:02:44 WARN MemoryStore: Not enough space to cache rdd_33_72 in memory! (computed 811.2 MiB so far)\n",
      "23/01/12 18:02:44 WARN MemoryStore: Not enough space to cache rdd_33_76 in memory! (computed 5.1 MiB so far)\n"
     ]
    },
    {
     "name": "stderr",
     "output_type": "stream",
     "text": [
      "\r",
      "[Stage 12:===================================>                  (65 + 12) / 100]\r"
     ]
    },
    {
     "name": "stdout",
     "output_type": "stream",
     "text": [
      "23/01/12 18:02:46 WARN MemoryStore: Not enough space to cache rdd_33_77 in memory! (computed 5.1 MiB so far)\n",
      "23/01/12 18:02:46 WARN MemoryStore: Not enough space to cache rdd_33_78 in memory! (computed 1539.7 KiB so far)\n"
     ]
    },
    {
     "name": "stderr",
     "output_type": "stream",
     "text": [
      "[Stage 12:====================================>                 (68 + 12) / 100]\r"
     ]
    },
    {
     "name": "stdout",
     "output_type": "stream",
     "text": [
      "23/01/12 18:02:48 WARN MemoryStore: Not enough space to cache rdd_33_79 in memory! (computed 5.1 MiB so far)\n",
      "23/01/12 18:02:49 WARN MemoryStore: Not enough space to cache rdd_33_80 in memory! (computed 5.1 MiB so far)\n"
     ]
    },
    {
     "name": "stderr",
     "output_type": "stream",
     "text": [
      "\r",
      "[Stage 12:=====================================>                (69 + 12) / 100]\r"
     ]
    },
    {
     "name": "stdout",
     "output_type": "stream",
     "text": [
      "23/01/12 18:02:49 WARN MemoryStore: Not enough space to cache rdd_33_81 in memory! (computed 5.1 MiB so far)\n"
     ]
    },
    {
     "name": "stderr",
     "output_type": "stream",
     "text": [
      "[Stage 12:======================================>               (71 + 12) / 100]\r"
     ]
    },
    {
     "name": "stdout",
     "output_type": "stream",
     "text": [
      "23/01/12 18:02:50 WARN MemoryStore: Not enough space to cache rdd_33_82 in memory! (computed 5.1 MiB so far)\n",
      "23/01/12 18:02:51 WARN MemoryStore: Not enough space to cache rdd_33_83 in memory! (computed 5.1 MiB so far)\n"
     ]
    },
    {
     "name": "stderr",
     "output_type": "stream",
     "text": [
      "[Stage 12:=======================================>              (74 + 12) / 100]\r"
     ]
    },
    {
     "name": "stdout",
     "output_type": "stream",
     "text": [
      "23/01/12 18:03:51 WARN MemoryStore: Not enough space to cache rdd_33_85 in memory! (computed 348.4 MiB so far)\n",
      "23/01/12 18:03:51 WARN MemoryStore: Not enough space to cache rdd_33_84 in memory! (computed 811.2 MiB so far)\n"
     ]
    },
    {
     "name": "stderr",
     "output_type": "stream",
     "text": [
      "\r",
      "[Stage 12:========================================>             (75 + 12) / 100]\r"
     ]
    },
    {
     "name": "stdout",
     "output_type": "stream",
     "text": [
      "23/01/12 18:03:53 WARN MemoryStore: Not enough space to cache rdd_33_86 in memory! (computed 5.1 MiB so far)\n"
     ]
    },
    {
     "name": "stderr",
     "output_type": "stream",
     "text": [
      "\r",
      "[Stage 12:=========================================>            (76 + 12) / 100]\r"
     ]
    },
    {
     "name": "stdout",
     "output_type": "stream",
     "text": [
      "23/01/12 18:03:55 WARN MemoryStore: Not enough space to cache rdd_33_88 in memory! (computed 5.1 MiB so far)\n"
     ]
    },
    {
     "name": "stderr",
     "output_type": "stream",
     "text": [
      "\r",
      "[Stage 12:=========================================>            (77 + 12) / 100]\r"
     ]
    },
    {
     "name": "stdout",
     "output_type": "stream",
     "text": [
      "23/01/12 18:03:55 WARN MemoryStore: Not enough space to cache rdd_33_89 in memory! (computed 5.1 MiB so far)\n"
     ]
    },
    {
     "name": "stderr",
     "output_type": "stream",
     "text": [
      "[Stage 12:==========================================>           (79 + 12) / 100]\r"
     ]
    },
    {
     "name": "stdout",
     "output_type": "stream",
     "text": [
      "23/01/12 18:03:58 WARN MemoryStore: Not enough space to cache rdd_33_90 in memory! (computed 5.1 MiB so far)\n",
      "23/01/12 18:03:58 WARN MemoryStore: Not enough space to cache rdd_33_91 in memory! (computed 1539.7 KiB so far)\n"
     ]
    },
    {
     "name": "stderr",
     "output_type": "stream",
     "text": [
      "\r",
      "[Stage 12:===========================================>          (80 + 12) / 100]\r"
     ]
    },
    {
     "name": "stdout",
     "output_type": "stream",
     "text": [
      "23/01/12 18:04:00 WARN MemoryStore: Not enough space to cache rdd_33_92 in memory! (computed 5.1 MiB so far)\n"
     ]
    },
    {
     "name": "stderr",
     "output_type": "stream",
     "text": [
      "[Stage 12:============================================>         (83 + 12) / 100]\r"
     ]
    },
    {
     "name": "stdout",
     "output_type": "stream",
     "text": [
      "23/01/12 18:04:01 WARN MemoryStore: Not enough space to cache rdd_33_94 in memory! (computed 5.1 MiB so far)\n",
      "23/01/12 18:04:02 WARN MemoryStore: Not enough space to cache rdd_33_95 in memory! (computed 5.1 MiB so far)\n"
     ]
    },
    {
     "name": "stderr",
     "output_type": "stream",
     "text": [
      "[Stage 12:==============================================>       (87 + 12) / 100]\r"
     ]
    },
    {
     "name": "stdout",
     "output_type": "stream",
     "text": [
      "23/01/12 18:04:56 WARN MemoryStore: Not enough space to cache rdd_33_98 in memory! (computed 348.4 MiB so far)\n",
      "23/01/12 18:04:57 WARN MemoryStore: Not enough space to cache rdd_33_96 in memory! (computed 811.2 MiB so far)\n"
     ]
    },
    {
     "name": "stderr",
     "output_type": "stream",
     "text": [
      "[Stage 14:>                                                      (0 + 12) / 100]\r"
     ]
    },
    {
     "name": "stdout",
     "output_type": "stream",
     "text": [
      "23/01/12 18:05:40 WARN MemoryStore: Not enough space to cache rdd_33_6 in memory! (computed 67.6 MiB so far)\n",
      "23/01/12 18:05:40 WARN MemoryStore: Not enough space to cache rdd_33_0 in memory! (computed 67.6 MiB so far)\n",
      "23/01/12 18:05:40 WARN MemoryStore: Not enough space to cache rdd_33_1 in memory! (computed 101.7 MiB so far)\n",
      "23/01/12 18:05:40 WARN MemoryStore: Not enough space to cache rdd_33_9 in memory! (computed 101.7 MiB so far)\n",
      "23/01/12 18:05:40 WARN MemoryStore: Not enough space to cache rdd_33_5 in memory! (computed 101.7 MiB so far)\n",
      "23/01/12 18:05:40 WARN MemoryStore: Not enough space to cache rdd_33_3 in memory! (computed 101.7 MiB so far)\n",
      "23/01/12 18:05:40 WARN MemoryStore: Not enough space to cache rdd_33_11 in memory! (computed 101.7 MiB so far)\n",
      "23/01/12 18:05:40 WARN MemoryStore: Not enough space to cache rdd_33_8 in memory! (computed 101.7 MiB so far)\n",
      "23/01/12 18:05:40 WARN MemoryStore: Not enough space to cache rdd_33_10 in memory! (computed 101.7 MiB so far)\n",
      "23/01/12 18:05:40 WARN MemoryStore: Not enough space to cache rdd_33_7 in memory! (computed 101.7 MiB so far)\n",
      "23/01/12 18:05:40 WARN MemoryStore: Not enough space to cache rdd_33_4 in memory! (computed 101.7 MiB so far)\n",
      "23/01/12 18:05:40 WARN MemoryStore: Not enough space to cache rdd_33_2 in memory! (computed 101.7 MiB so far)\n"
     ]
    },
    {
     "name": "stderr",
     "output_type": "stream",
     "text": [
      "[Stage 14:===>                                                   (7 + 12) / 100]\r"
     ]
    },
    {
     "name": "stdout",
     "output_type": "stream",
     "text": [
      "23/01/12 18:07:05 WARN MemoryStore: Not enough space to cache rdd_33_16 in memory! (computed 67.6 MiB so far)\n",
      "23/01/12 18:07:05 WARN MemoryStore: Not enough space to cache rdd_33_17 in memory! (computed 67.6 MiB so far)\n",
      "23/01/12 18:07:05 WARN MemoryStore: Not enough space to cache rdd_33_18 in memory! (computed 12.6 MiB so far)\n",
      "23/01/12 18:07:05 WARN MemoryStore: Not enough space to cache rdd_33_12 in memory! (computed 348.4 MiB so far)\n",
      "23/01/12 18:07:05 WARN MemoryStore: Not enough space to cache rdd_33_14 in memory! (computed 230.3 MiB so far)\n",
      "23/01/12 18:07:05 WARN MemoryStore: Not enough space to cache rdd_33_15 in memory! (computed 101.7 MiB so far)\n",
      "23/01/12 18:07:05 WARN MemoryStore: Failed to reserve initial memory threshold of 1024.0 KiB for computing block rdd_33_19 in memory.\n",
      "23/01/12 18:07:05 WARN MemoryStore: Not enough space to cache rdd_33_19 in memory! (computed 384.0 B so far)\n"
     ]
    },
    {
     "name": "stderr",
     "output_type": "stream",
     "text": [
      "\r",
      "[Stage 14:====>                                                  (8 + 12) / 100]\r"
     ]
    },
    {
     "name": "stdout",
     "output_type": "stream",
     "text": [
      "23/01/12 18:07:05 WARN MemoryStore: Not enough space to cache rdd_33_13 in memory! (computed 348.4 MiB so far)\n",
      "23/01/12 18:07:05 WARN MemoryStore: Failed to reserve initial memory threshold of 1024.0 KiB for computing block rdd_33_20 in memory.\n",
      "23/01/12 18:07:05 WARN MemoryStore: Not enough space to cache rdd_33_20 in memory! (computed 384.0 B so far)\n"
     ]
    },
    {
     "name": "stderr",
     "output_type": "stream",
     "text": [
      "\r",
      "[Stage 14:====>                                                  (9 + 12) / 100]\r"
     ]
    },
    {
     "name": "stdout",
     "output_type": "stream",
     "text": [
      "23/01/12 18:07:06 WARN MemoryStore: Not enough space to cache rdd_33_21 in memory! (computed 8.4 MiB so far)\n",
      "23/01/12 18:07:06 WARN MemoryStore: Not enough space to cache rdd_33_22 in memory! (computed 5.1 MiB so far)\n"
     ]
    },
    {
     "name": "stderr",
     "output_type": "stream",
     "text": [
      "\r",
      "[Stage 14:=====>                                                (11 + 12) / 100]\r"
     ]
    },
    {
     "name": "stdout",
     "output_type": "stream",
     "text": [
      "23/01/12 18:07:07 WARN MemoryStore: Not enough space to cache rdd_33_23 in memory! (computed 12.6 MiB so far)\n"
     ]
    },
    {
     "name": "stderr",
     "output_type": "stream",
     "text": [
      "[Stage 14:==========>                                           (19 + 12) / 100]\r"
     ]
    },
    {
     "name": "stdout",
     "output_type": "stream",
     "text": [
      "23/01/12 18:08:32 WARN MemoryStore: Not enough space to cache rdd_33_25 in memory! (computed 152.6 MiB so far)\n",
      "23/01/12 18:08:32 WARN MemoryStore: Not enough space to cache rdd_33_26 in memory! (computed 152.6 MiB so far)\n",
      "23/01/12 18:08:32 WARN MemoryStore: Not enough space to cache rdd_33_29 in memory! (computed 28.4 MiB so far)\n",
      "23/01/12 18:08:32 WARN MemoryStore: Not enough space to cache rdd_33_30 in memory! (computed 1025.2 KiB so far)\n",
      "23/01/12 18:08:32 WARN MemoryStore: Not enough space to cache rdd_33_31 in memory! (computed 1025.2 KiB so far)\n"
     ]
    },
    {
     "name": "stderr",
     "output_type": "stream",
     "text": [
      "\r",
      "[Stage 14:==========>                                           (20 + 12) / 100]\r",
      "\r",
      "[Stage 14:===========>                                          (21 + 12) / 100]\r"
     ]
    },
    {
     "name": "stdout",
     "output_type": "stream",
     "text": [
      "23/01/12 18:08:32 WARN MemoryStore: Not enough space to cache rdd_33_27 in memory! (computed 152.6 MiB so far)\n",
      "23/01/12 18:08:32 WARN MemoryStore: Not enough space to cache rdd_33_28 in memory! (computed 152.6 MiB so far)\n",
      "23/01/12 18:08:32 WARN MemoryStore: Not enough space to cache rdd_33_24 in memory! (computed 540.8 MiB so far)\n",
      "23/01/12 18:08:32 WARN MemoryStore: Not enough space to cache rdd_33_32 in memory! (computed 1539.7 KiB so far)\n",
      "23/01/12 18:08:33 WARN MemoryStore: Not enough space to cache rdd_33_33 in memory! (computed 1539.7 KiB so far)\n",
      "23/01/12 18:08:33 WARN MemoryStore: Failed to reserve initial memory threshold of 1024.0 KiB for computing block rdd_33_34 in memory.\n",
      "23/01/12 18:08:33 WARN MemoryStore: Not enough space to cache rdd_33_34 in memory! (computed 384.0 B so far)\n"
     ]
    },
    {
     "name": "stderr",
     "output_type": "stream",
     "text": [
      "\r",
      "[Stage 14:============>                                         (23 + 12) / 100]\r"
     ]
    },
    {
     "name": "stdout",
     "output_type": "stream",
     "text": [
      "23/01/12 18:08:34 WARN MemoryStore: Not enough space to cache rdd_33_35 in memory! (computed 1539.7 KiB so far)\n"
     ]
    },
    {
     "name": "stderr",
     "output_type": "stream",
     "text": [
      "[Stage 14:===============>                                      (29 + 12) / 100]\r"
     ]
    },
    {
     "name": "stdout",
     "output_type": "stream",
     "text": [
      "23/01/12 18:09:55 WARN MemoryStore: Not enough space to cache rdd_33_41 in memory! (computed 5.1 MiB so far)\n"
     ]
    },
    {
     "name": "stderr",
     "output_type": "stream",
     "text": [
      "\r",
      "[Stage 14:================>                                     (30 + 12) / 100]\r"
     ]
    },
    {
     "name": "stdout",
     "output_type": "stream",
     "text": [
      "23/01/12 18:09:56 WARN MemoryStore: Not enough space to cache rdd_33_40 in memory! (computed 101.7 MiB so far)\n",
      "23/01/12 18:09:56 WARN MemoryStore: Not enough space to cache rdd_33_39 in memory! (computed 152.6 MiB so far)\n",
      "23/01/12 18:09:56 WARN MemoryStore: Not enough space to cache rdd_33_37 in memory! (computed 230.3 MiB so far)\n",
      "23/01/12 18:09:56 WARN MemoryStore: Not enough space to cache rdd_33_38 in memory! (computed 152.6 MiB so far)\n",
      "23/01/12 18:09:56 WARN MemoryStore: Not enough space to cache rdd_33_36 in memory! (computed 540.8 MiB so far)\n",
      "23/01/12 18:09:57 WARN MemoryStore: Not enough space to cache rdd_33_43 in memory! (computed 1539.7 KiB so far)\n",
      "23/01/12 18:09:57 WARN MemoryStore: Not enough space to cache rdd_33_42 in memory! (computed 3.4 MiB so far)\n"
     ]
    },
    {
     "name": "stderr",
     "output_type": "stream",
     "text": [
      "\r",
      "[Stage 14:=================>                                    (32 + 12) / 100]\r"
     ]
    },
    {
     "name": "stdout",
     "output_type": "stream",
     "text": [
      "23/01/12 18:09:57 WARN MemoryStore: Not enough space to cache rdd_33_44 in memory! (computed 3.4 MiB so far)\n",
      "23/01/12 18:09:58 WARN MemoryStore: Not enough space to cache rdd_33_45 in memory! (computed 1539.7 KiB so far)\n"
     ]
    },
    {
     "name": "stderr",
     "output_type": "stream",
     "text": [
      "\r",
      "[Stage 14:==================>                                   (34 + 12) / 100]\r"
     ]
    },
    {
     "name": "stdout",
     "output_type": "stream",
     "text": [
      "23/01/12 18:09:58 WARN MemoryStore: Not enough space to cache rdd_33_46 in memory! (computed 5.1 MiB so far)\n"
     ]
    },
    {
     "name": "stderr",
     "output_type": "stream",
     "text": [
      "\r",
      "[Stage 14:==================>                                   (35 + 12) / 100]\r"
     ]
    },
    {
     "name": "stdout",
     "output_type": "stream",
     "text": [
      "23/01/12 18:10:00 WARN MemoryStore: Not enough space to cache rdd_33_47 in memory! (computed 5.1 MiB so far)\n"
     ]
    },
    {
     "name": "stderr",
     "output_type": "stream",
     "text": [
      "[Stage 14:=====================>                                (39 + 12) / 100]\r"
     ]
    },
    {
     "name": "stdout",
     "output_type": "stream",
     "text": [
      "23/01/12 18:11:19 WARN MemoryStore: Not enough space to cache rdd_33_49 in memory! (computed 230.3 MiB so far)\n",
      "23/01/12 18:11:19 WARN MemoryStore: Not enough space to cache rdd_33_48 in memory! (computed 811.2 MiB so far)\n",
      "23/01/12 18:11:19 WARN MemoryStore: Not enough space to cache rdd_33_50 in memory! (computed 101.7 MiB so far)\n"
     ]
    },
    {
     "name": "stderr",
     "output_type": "stream",
     "text": [
      "\r",
      "[Stage 14:=====================>                                (40 + 12) / 100]\r"
     ]
    },
    {
     "name": "stdout",
     "output_type": "stream",
     "text": [
      "23/01/12 18:11:20 WARN MemoryStore: Not enough space to cache rdd_33_51 in memory! (computed 19.0 MiB so far)\n",
      "23/01/12 18:11:20 WARN MemoryStore: Not enough space to cache rdd_33_52 in memory! (computed 2.3 MiB so far)\n"
     ]
    },
    {
     "name": "stderr",
     "output_type": "stream",
     "text": [
      "\r",
      "[Stage 14:======================>                               (41 + 12) / 100]\r"
     ]
    },
    {
     "name": "stdout",
     "output_type": "stream",
     "text": [
      "23/01/12 18:11:21 WARN MemoryStore: Not enough space to cache rdd_33_53 in memory! (computed 2.3 MiB so far)\n",
      "23/01/12 18:11:21 WARN MemoryStore: Failed to reserve initial memory threshold of 1024.0 KiB for computing block rdd_33_54 in memory.\n",
      "23/01/12 18:11:21 WARN MemoryStore: Not enough space to cache rdd_33_54 in memory! (computed 384.0 B so far)\n",
      "23/01/12 18:11:21 WARN MemoryStore: Failed to reserve initial memory threshold of 1024.0 KiB for computing block rdd_33_55 in memory.\n",
      "23/01/12 18:11:21 WARN MemoryStore: Not enough space to cache rdd_33_55 in memory! (computed 384.0 B so far)\n"
     ]
    },
    {
     "name": "stderr",
     "output_type": "stream",
     "text": [
      "\r",
      "[Stage 14:======================>                               (42 + 12) / 100]\r",
      "\r",
      "[Stage 14:=======================>                              (44 + 12) / 100]\r"
     ]
    },
    {
     "name": "stdout",
     "output_type": "stream",
     "text": [
      "23/01/12 18:11:21 WARN MemoryStore: Not enough space to cache rdd_33_56 in memory! (computed 2.3 MiB so far)\n"
     ]
    },
    {
     "name": "stderr",
     "output_type": "stream",
     "text": [
      "[Stage 14:========================>                             (46 + 12) / 100]\r"
     ]
    },
    {
     "name": "stdout",
     "output_type": "stream",
     "text": [
      "23/01/12 18:11:23 WARN MemoryStore: Not enough space to cache rdd_33_57 in memory! (computed 19.0 MiB so far)\n"
     ]
    },
    {
     "name": "stderr",
     "output_type": "stream",
     "text": [
      "\r",
      "[Stage 14:=========================>                            (47 + 12) / 100]\r"
     ]
    },
    {
     "name": "stdout",
     "output_type": "stream",
     "text": [
      "23/01/12 18:11:25 WARN MemoryStore: Not enough space to cache rdd_33_58 in memory! (computed 19.0 MiB so far)\n"
     ]
    },
    {
     "name": "stderr",
     "output_type": "stream",
     "text": [
      "\r",
      "[Stage 14:=========================>                            (48 + 12) / 100]\r"
     ]
    },
    {
     "name": "stdout",
     "output_type": "stream",
     "text": [
      "23/01/12 18:11:27 WARN MemoryStore: Not enough space to cache rdd_33_59 in memory! (computed 101.7 MiB so far)\n"
     ]
    },
    {
     "name": "stderr",
     "output_type": "stream",
     "text": [
      "[Stage 14:============================>                         (53 + 12) / 100]\r"
     ]
    },
    {
     "name": "stdout",
     "output_type": "stream",
     "text": [
      "23/01/12 18:12:43 WARN MemoryStore: Not enough space to cache rdd_33_62 in memory! (computed 42.9 MiB so far)\n",
      "23/01/12 18:12:44 WARN MemoryStore: Not enough space to cache rdd_33_63 in memory! (computed 42.9 MiB so far)\n",
      "23/01/12 18:12:44 WARN MemoryStore: Not enough space to cache rdd_33_64 in memory! (computed 28.4 MiB so far)\n",
      "23/01/12 18:12:44 WARN MemoryStore: Not enough space to cache rdd_33_61 in memory! (computed 230.3 MiB so far)\n",
      "23/01/12 18:12:44 WARN MemoryStore: Not enough space to cache rdd_33_65 in memory! (computed 5.1 MiB so far)\n",
      "23/01/12 18:12:44 WARN MemoryStore: Not enough space to cache rdd_33_66 in memory! (computed 3.4 MiB so far)\n"
     ]
    },
    {
     "name": "stderr",
     "output_type": "stream",
     "text": [
      "\r",
      "[Stage 14:=============================>                        (55 + 12) / 100]\r"
     ]
    },
    {
     "name": "stdout",
     "output_type": "stream",
     "text": [
      "23/01/12 18:12:45 WARN MemoryStore: Not enough space to cache rdd_33_60 in memory! (computed 811.2 MiB so far)\n",
      "23/01/12 18:12:45 WARN MemoryStore: Not enough space to cache rdd_33_67 in memory! (computed 8.4 MiB so far)\n"
     ]
    },
    {
     "name": "stderr",
     "output_type": "stream",
     "text": [
      "[Stage 14:==============================>                       (57 + 12) / 100]\r"
     ]
    },
    {
     "name": "stdout",
     "output_type": "stream",
     "text": [
      "23/01/12 18:12:45 WARN MemoryStore: Not enough space to cache rdd_33_68 in memory! (computed 8.4 MiB so far)\n"
     ]
    },
    {
     "name": "stderr",
     "output_type": "stream",
     "text": [
      "\r",
      "[Stage 14:===============================>                      (58 + 12) / 100]\r"
     ]
    },
    {
     "name": "stdout",
     "output_type": "stream",
     "text": [
      "23/01/12 18:12:46 WARN MemoryStore: Not enough space to cache rdd_33_69 in memory! (computed 28.4 MiB so far)\n"
     ]
    },
    {
     "name": "stderr",
     "output_type": "stream",
     "text": [
      "[Stage 14:================================>                     (60 + 12) / 100]\r"
     ]
    },
    {
     "name": "stdout",
     "output_type": "stream",
     "text": [
      "23/01/12 18:12:51 WARN MemoryStore: Not enough space to cache rdd_33_70 in memory! (computed 101.7 MiB so far)\n",
      "23/01/12 18:12:51 WARN MemoryStore: Not enough space to cache rdd_33_71 in memory! (computed 19.0 MiB so far)\n"
     ]
    },
    {
     "name": "stderr",
     "output_type": "stream",
     "text": [
      "[Stage 14:==================================>                   (64 + 12) / 100]\r"
     ]
    },
    {
     "name": "stdout",
     "output_type": "stream",
     "text": [
      "23/01/12 18:14:11 WARN MemoryStore: Not enough space to cache rdd_33_75 in memory! (computed 101.7 MiB so far)\n",
      "23/01/12 18:14:12 WARN MemoryStore: Not enough space to cache rdd_33_76 in memory! (computed 28.4 MiB so far)\n"
     ]
    },
    {
     "name": "stderr",
     "output_type": "stream",
     "text": [
      "\r",
      "[Stage 14:===================================>                  (65 + 12) / 100]\r"
     ]
    },
    {
     "name": "stdout",
     "output_type": "stream",
     "text": [
      "23/01/12 18:14:12 WARN MemoryStore: Not enough space to cache rdd_33_73 in memory! (computed 348.4 MiB so far)\n",
      "23/01/12 18:14:12 WARN MemoryStore: Not enough space to cache rdd_33_74 in memory! (computed 152.6 MiB so far)\n"
     ]
    },
    {
     "name": "stderr",
     "output_type": "stream",
     "text": [
      "\r",
      "[Stage 14:===================================>                  (66 + 12) / 100]\r"
     ]
    },
    {
     "name": "stdout",
     "output_type": "stream",
     "text": [
      "23/01/12 18:14:12 WARN MemoryStore: Not enough space to cache rdd_33_77 in memory! (computed 12.6 MiB so far)\n",
      "23/01/12 18:14:12 WARN MemoryStore: Not enough space to cache rdd_33_72 in memory! (computed 540.8 MiB so far)\n",
      "23/01/12 18:14:14 WARN MemoryStore: Failed to reserve initial memory threshold of 1024.0 KiB for computing block rdd_33_78 in memory.\n",
      "23/01/12 18:14:14 WARN MemoryStore: Not enough space to cache rdd_33_78 in memory! (computed 384.0 B so far)\n"
     ]
    },
    {
     "name": "stderr",
     "output_type": "stream",
     "text": [
      "[Stage 14:====================================>                 (68 + 12) / 100]\r"
     ]
    },
    {
     "name": "stdout",
     "output_type": "stream",
     "text": [
      "23/01/12 18:14:15 WARN MemoryStore: Not enough space to cache rdd_33_79 in memory! (computed 28.4 MiB so far)\n"
     ]
    },
    {
     "name": "stderr",
     "output_type": "stream",
     "text": [
      "\r",
      "[Stage 14:=====================================>                (70 + 12) / 100]\r"
     ]
    },
    {
     "name": "stdout",
     "output_type": "stream",
     "text": [
      "23/01/12 18:14:16 WARN MemoryStore: Not enough space to cache rdd_33_80 in memory! (computed 8.4 MiB so far)\n",
      "23/01/12 18:14:16 WARN MemoryStore: Not enough space to cache rdd_33_81 in memory! (computed 5.1 MiB so far)\n"
     ]
    },
    {
     "name": "stderr",
     "output_type": "stream",
     "text": [
      "\r",
      "[Stage 14:======================================>               (71 + 12) / 100]\r"
     ]
    },
    {
     "name": "stdout",
     "output_type": "stream",
     "text": [
      "23/01/12 18:14:17 WARN MemoryStore: Not enough space to cache rdd_33_82 in memory! (computed 28.4 MiB so far)\n"
     ]
    },
    {
     "name": "stderr",
     "output_type": "stream",
     "text": [
      "\r",
      "[Stage 14:======================================>               (72 + 12) / 100]\r"
     ]
    },
    {
     "name": "stdout",
     "output_type": "stream",
     "text": [
      "23/01/12 18:14:19 WARN MemoryStore: Not enough space to cache rdd_33_83 in memory! (computed 101.7 MiB so far)\n"
     ]
    },
    {
     "name": "stderr",
     "output_type": "stream",
     "text": [
      "[Stage 14:=========================================>            (76 + 12) / 100]\r"
     ]
    },
    {
     "name": "stdout",
     "output_type": "stream",
     "text": [
      "23/01/12 18:15:40 WARN MemoryStore: Not enough space to cache rdd_33_86 in memory! (computed 101.7 MiB so far)\n",
      "23/01/12 18:15:40 WARN MemoryStore: Not enough space to cache rdd_33_84 in memory! (computed 540.8 MiB so far)\n"
     ]
    },
    {
     "name": "stderr",
     "output_type": "stream",
     "text": [
      "\r",
      "[Stage 14:=========================================>            (77 + 12) / 100]\r"
     ]
    },
    {
     "name": "stdout",
     "output_type": "stream",
     "text": [
      "23/01/12 18:15:40 WARN MemoryStore: Not enough space to cache rdd_33_88 in memory! (computed 12.6 MiB so far)\n",
      "23/01/12 18:15:41 WARN MemoryStore: Not enough space to cache rdd_33_85 in memory! (computed 540.8 MiB so far)\n",
      "23/01/12 18:15:41 WARN MemoryStore: Not enough space to cache rdd_33_89 in memory! (computed 3.4 MiB so far)\n"
     ]
    },
    {
     "name": "stderr",
     "output_type": "stream",
     "text": [
      "\r",
      "[Stage 14:==========================================>           (78 + 12) / 100]\r"
     ]
    },
    {
     "name": "stdout",
     "output_type": "stream",
     "text": [
      "23/01/12 18:15:42 WARN MemoryStore: Not enough space to cache rdd_33_90 in memory! (computed 12.6 MiB so far)\n"
     ]
    },
    {
     "name": "stderr",
     "output_type": "stream",
     "text": [
      "\r",
      "[Stage 14:==========================================>           (79 + 12) / 100]\r"
     ]
    },
    {
     "name": "stdout",
     "output_type": "stream",
     "text": [
      "23/01/12 18:15:42 WARN MemoryStore: Not enough space to cache rdd_33_91 in memory! (computed 3.4 MiB so far)\n"
     ]
    },
    {
     "name": "stderr",
     "output_type": "stream",
     "text": [
      "\r",
      "[Stage 14:===========================================>          (80 + 12) / 100]\r"
     ]
    },
    {
     "name": "stdout",
     "output_type": "stream",
     "text": [
      "23/01/12 18:15:43 WARN MemoryStore: Not enough space to cache rdd_33_92 in memory! (computed 12.6 MiB so far)\n"
     ]
    },
    {
     "name": "stderr",
     "output_type": "stream",
     "text": [
      "[Stage 14:============================================>         (82 + 12) / 100]\r"
     ]
    },
    {
     "name": "stdout",
     "output_type": "stream",
     "text": [
      "23/01/12 18:15:46 WARN MemoryStore: Not enough space to cache rdd_33_94 in memory! (computed 12.6 MiB so far)\n"
     ]
    },
    {
     "name": "stderr",
     "output_type": "stream",
     "text": [
      "[Stage 14:=============================================>        (84 + 12) / 100]\r"
     ]
    },
    {
     "name": "stdout",
     "output_type": "stream",
     "text": [
      "23/01/12 18:15:49 WARN MemoryStore: Not enough space to cache rdd_33_95 in memory! (computed 101.7 MiB so far)\n"
     ]
    },
    {
     "name": "stderr",
     "output_type": "stream",
     "text": [
      "[Stage 14:==============================================>       (86 + 12) / 100]\r"
     ]
    },
    {
     "name": "stdout",
     "output_type": "stream",
     "text": [
      "23/01/12 18:17:00 WARN MemoryStore: Not enough space to cache rdd_33_96 in memory! (computed 811.2 MiB so far)\n"
     ]
    },
    {
     "name": "stderr",
     "output_type": "stream",
     "text": [
      "[Stage 14:==================================================>    (91 + 9) / 100]\r"
     ]
    },
    {
     "name": "stdout",
     "output_type": "stream",
     "text": [
      "23/01/12 18:17:05 WARN MemoryStore: Not enough space to cache rdd_33_98 in memory! (computed 348.4 MiB so far)\n"
     ]
    },
    {
     "name": "stderr",
     "output_type": "stream",
     "text": [
      "[Stage 16:>                                                      (0 + 12) / 100]\r"
     ]
    },
    {
     "name": "stdout",
     "output_type": "stream",
     "text": [
      "23/01/12 18:17:51 WARN MemoryStore: Not enough space to cache rdd_33_8 in memory! (computed 67.6 MiB so far)\n",
      "23/01/12 18:17:51 WARN MemoryStore: Not enough space to cache rdd_33_7 in memory! (computed 67.6 MiB so far)\n",
      "23/01/12 18:17:51 WARN MemoryStore: Not enough space to cache rdd_33_4 in memory! (computed 101.7 MiB so far)\n",
      "23/01/12 18:17:51 WARN MemoryStore: Not enough space to cache rdd_33_2 in memory! (computed 101.7 MiB so far)\n",
      "23/01/12 18:17:51 WARN MemoryStore: Not enough space to cache rdd_33_1 in memory! (computed 101.7 MiB so far)\n",
      "23/01/12 18:17:51 WARN MemoryStore: Not enough space to cache rdd_33_10 in memory! (computed 101.7 MiB so far)\n",
      "23/01/12 18:17:51 WARN MemoryStore: Not enough space to cache rdd_33_6 in memory! (computed 101.7 MiB so far)\n",
      "23/01/12 18:17:51 WARN MemoryStore: Not enough space to cache rdd_33_5 in memory! (computed 101.7 MiB so far)\n",
      "23/01/12 18:17:51 WARN MemoryStore: Not enough space to cache rdd_33_3 in memory! (computed 101.7 MiB so far)\n",
      "23/01/12 18:17:51 WARN MemoryStore: Not enough space to cache rdd_33_9 in memory! (computed 101.7 MiB so far)\n",
      "23/01/12 18:17:51 WARN MemoryStore: Not enough space to cache rdd_33_11 in memory! (computed 101.7 MiB so far)\n",
      "23/01/12 18:17:51 WARN MemoryStore: Not enough space to cache rdd_33_0 in memory! (computed 101.7 MiB so far)\n"
     ]
    },
    {
     "name": "stderr",
     "output_type": "stream",
     "text": [
      "[Stage 16:===>                                                   (7 + 12) / 100]\r"
     ]
    },
    {
     "name": "stdout",
     "output_type": "stream",
     "text": [
      "23/01/12 18:19:47 WARN MemoryStore: Not enough space to cache rdd_33_17 in memory! (computed 42.9 MiB so far)\n",
      "23/01/12 18:19:47 WARN MemoryStore: Not enough space to cache rdd_33_13 in memory! (computed 230.3 MiB so far)\n",
      "23/01/12 18:19:47 WARN MemoryStore: Not enough space to cache rdd_33_16 in memory! (computed 101.7 MiB so far)\n",
      "23/01/12 18:19:47 WARN MemoryStore: Not enough space to cache rdd_33_18 in memory! (computed 42.9 MiB so far)\n",
      "23/01/12 18:19:47 WARN MemoryStore: Not enough space to cache rdd_33_12 in memory! (computed 348.4 MiB so far)\n"
     ]
    },
    {
     "name": "stderr",
     "output_type": "stream",
     "text": [
      "\r",
      "[Stage 16:====>                                                  (8 + 12) / 100]\r"
     ]
    },
    {
     "name": "stdout",
     "output_type": "stream",
     "text": [
      "23/01/12 18:19:47 WARN MemoryStore: Not enough space to cache rdd_33_14 in memory! (computed 230.3 MiB so far)\n",
      "23/01/12 18:19:47 WARN MemoryStore: Not enough space to cache rdd_33_15 in memory! (computed 152.6 MiB so far)\n",
      "23/01/12 18:19:47 WARN MemoryStore: Not enough space to cache rdd_33_19 in memory! (computed 19.0 MiB so far)\n"
     ]
    },
    {
     "name": "stderr",
     "output_type": "stream",
     "text": [
      "\r",
      "[Stage 16:=====>                                                (10 + 12) / 100]\r",
      "\r",
      "[Stage 16:=====>                                                (11 + 12) / 100]\r"
     ]
    },
    {
     "name": "stdout",
     "output_type": "stream",
     "text": [
      "23/01/12 18:19:50 WARN MemoryStore: Not enough space to cache rdd_33_21 in memory! (computed 348.4 MiB so far)\n",
      "23/01/12 18:19:50 WARN MemoryStore: Not enough space to cache rdd_33_22 in memory! (computed 348.4 MiB so far)\n",
      "23/01/12 18:19:51 WARN MemoryStore: Not enough space to cache rdd_33_20 in memory! (computed 540.8 MiB so far)\n"
     ]
    },
    {
     "name": "stderr",
     "output_type": "stream",
     "text": [
      "\r",
      "[Stage 16:======>                                               (12 + 12) / 100]\r"
     ]
    },
    {
     "name": "stdout",
     "output_type": "stream",
     "text": [
      "23/01/12 18:19:53 WARN MemoryStore: Not enough space to cache rdd_33_23 in memory! (computed 67.6 MiB so far)\n"
     ]
    },
    {
     "name": "stderr",
     "output_type": "stream",
     "text": [
      "[Stage 16:========>                                             (15 + 12) / 100]\r"
     ]
    },
    {
     "name": "stdout",
     "output_type": "stream",
     "text": [
      "23/01/12 18:21:44 WARN MemoryStore: Not enough space to cache rdd_33_24 in memory! (computed 811.2 MiB so far)\n",
      "23/01/12 18:21:45 WARN MemoryStore: Not enough space to cache rdd_33_26 in memory! (computed 540.8 MiB so far)\n"
     ]
    },
    {
     "name": "stderr",
     "output_type": "stream",
     "text": [
      "\r",
      "[Stage 16:========>                                             (16 + 12) / 100]\r"
     ]
    },
    {
     "name": "stdout",
     "output_type": "stream",
     "text": [
      "23/01/12 18:21:46 WARN MemoryStore: Not enough space to cache rdd_33_25 in memory! (computed 811.2 MiB so far)\n",
      "23/01/12 18:21:47 WARN MemoryStore: Not enough space to cache rdd_33_27 in memory! (computed 152.6 MiB so far)\n"
     ]
    },
    {
     "name": "stderr",
     "output_type": "stream",
     "text": [
      "\r",
      "[Stage 16:=========>                                            (17 + 12) / 100]\r"
     ]
    },
    {
     "name": "stdout",
     "output_type": "stream",
     "text": [
      "23/01/12 18:21:47 WARN MemoryStore: Not enough space to cache rdd_33_28 in memory! (computed 67.6 MiB so far)\n"
     ]
    },
    {
     "name": "stderr",
     "output_type": "stream",
     "text": [
      "[Stage 16:===========>                                          (22 + 12) / 100]\r"
     ]
    },
    {
     "name": "stdout",
     "output_type": "stream",
     "text": [
      "23/01/12 18:21:52 WARN MemoryStore: Not enough space to cache rdd_33_30 in memory! (computed 348.4 MiB so far)\n",
      "23/01/12 18:21:52 WARN MemoryStore: Not enough space to cache rdd_33_33 in memory! (computed 67.6 MiB so far)\n",
      "23/01/12 18:21:52 WARN MemoryStore: Not enough space to cache rdd_33_32 in memory! (computed 101.7 MiB so far)\n",
      "23/01/12 18:21:52 WARN MemoryStore: Not enough space to cache rdd_33_31 in memory! (computed 152.6 MiB so far)\n",
      "23/01/12 18:21:52 WARN MemoryStore: Not enough space to cache rdd_33_29 in memory! (computed 540.8 MiB so far)\n"
     ]
    },
    {
     "name": "stderr",
     "output_type": "stream",
     "text": [
      "\r",
      "[Stage 16:============>                                         (23 + 12) / 100]\r"
     ]
    },
    {
     "name": "stdout",
     "output_type": "stream",
     "text": [
      "23/01/12 18:21:53 WARN MemoryStore: Not enough space to cache rdd_33_34 in memory! (computed 67.6 MiB so far)\n",
      "23/01/12 18:21:53 WARN MemoryStore: Not enough space to cache rdd_33_35 in memory! (computed 12.6 MiB so far)\n"
     ]
    },
    {
     "name": "stderr",
     "output_type": "stream",
     "text": [
      "[Stage 16:==================>                                   (35 + 12) / 100]\r"
     ]
    },
    {
     "name": "stdout",
     "output_type": "stream",
     "text": [
      "23/01/12 18:23:46 WARN MemoryStore: Not enough space to cache rdd_33_46 in memory! (computed 28.4 MiB so far)\n",
      "23/01/12 18:23:47 WARN MemoryStore: Not enough space to cache rdd_33_40 in memory! (computed 230.3 MiB so far)\n",
      "23/01/12 18:23:47 WARN MemoryStore: Not enough space to cache rdd_33_45 in memory! (computed 101.7 MiB so far)\n",
      "23/01/12 18:23:47 WARN MemoryStore: Not enough space to cache rdd_33_43 in memory! (computed 152.6 MiB so far)\n",
      "23/01/12 18:23:47 WARN MemoryStore: Not enough space to cache rdd_33_44 in memory! (computed 152.6 MiB so far)\n",
      "23/01/12 18:23:47 WARN MemoryStore: Not enough space to cache rdd_33_41 in memory! (computed 230.3 MiB so far)\n",
      "23/01/12 18:23:47 WARN MemoryStore: Not enough space to cache rdd_33_38 in memory! (computed 348.4 MiB so far)\n",
      "23/01/12 18:23:47 WARN MemoryStore: Not enough space to cache rdd_33_42 in memory! (computed 230.3 MiB so far)\n",
      "23/01/12 18:23:47 WARN MemoryStore: Not enough space to cache rdd_33_37 in memory! (computed 540.8 MiB so far)\n",
      "23/01/12 18:23:47 WARN MemoryStore: Not enough space to cache rdd_33_47 in memory! (computed 8.4 MiB so far)\n",
      "23/01/12 18:23:47 WARN MemoryStore: Not enough space to cache rdd_33_39 in memory! (computed 348.4 MiB so far)\n"
     ]
    },
    {
     "name": "stderr",
     "output_type": "stream",
     "text": [
      "[Stage 16:=======================>                              (43 + 12) / 100]\r"
     ]
    },
    {
     "name": "stdout",
     "output_type": "stream",
     "text": [
      "23/01/12 18:25:54 WARN MemoryStore: Not enough space to cache rdd_33_52 in memory! (computed 101.7 MiB so far)\n",
      "23/01/12 18:25:54 WARN MemoryStore: Not enough space to cache rdd_33_53 in memory! (computed 28.4 MiB so far)\n",
      "23/01/12 18:25:54 WARN MemoryStore: Not enough space to cache rdd_33_54 in memory! (computed 28.4 MiB so far)\n"
     ]
    },
    {
     "name": "stderr",
     "output_type": "stream",
     "text": [
      "\r",
      "[Stage 16:=======================>                              (44 + 12) / 100]\r"
     ]
    },
    {
     "name": "stdout",
     "output_type": "stream",
     "text": [
      "23/01/12 18:25:56 WARN MemoryStore: Not enough space to cache rdd_33_51 in memory! (computed 540.8 MiB so far)\n",
      "23/01/12 18:25:56 WARN MemoryStore: Not enough space to cache rdd_33_49 in memory! (computed 811.2 MiB so far)\n",
      "23/01/12 18:25:57 WARN MemoryStore: Not enough space to cache rdd_33_50 in memory! (computed 811.2 MiB so far)\n",
      "23/01/12 18:25:57 WARN MemoryStore: Not enough space to cache rdd_33_48 in memory! (computed 811.2 MiB so far)\n",
      "23/01/12 18:25:57 WARN MemoryStore: Not enough space to cache rdd_33_55 in memory! (computed 348.4 MiB so far)\n"
     ]
    },
    {
     "name": "stderr",
     "output_type": "stream",
     "text": [
      "\r",
      "[Stage 16:========================>                             (45 + 12) / 100]\r",
      "\r",
      "[Stage 16:========================>                             (46 + 12) / 100]\r"
     ]
    },
    {
     "name": "stdout",
     "output_type": "stream",
     "text": [
      "23/01/12 18:26:00 WARN MemoryStore: Not enough space to cache rdd_33_56 in memory! (computed 67.6 MiB so far)\n",
      "23/01/12 18:26:00 WARN MemoryStore: Not enough space to cache rdd_33_58 in memory! (computed 28.4 MiB so far)\n",
      "23/01/12 18:26:00 WARN MemoryStore: Not enough space to cache rdd_33_57 in memory! (computed 67.6 MiB so far)\n"
     ]
    },
    {
     "name": "stderr",
     "output_type": "stream",
     "text": [
      "[Stage 16:=============================>                        (54 + 12) / 100]\r"
     ]
    },
    {
     "name": "stdout",
     "output_type": "stream",
     "text": [
      "23/01/12 18:28:02 WARN MemoryStore: Not enough space to cache rdd_33_62 in memory! (computed 811.2 MiB so far)\n",
      "23/01/12 18:28:02 WARN MemoryStore: Not enough space to cache rdd_33_64 in memory! (computed 67.6 MiB so far)\n",
      "23/01/12 18:28:02 WARN MemoryStore: Not enough space to cache rdd_33_63 in memory! (computed 230.3 MiB so far)\n",
      "23/01/12 18:28:02 WARN MemoryStore: Not enough space to cache rdd_33_65 in memory! (computed 42.9 MiB so far)\n"
     ]
    },
    {
     "name": "stderr",
     "output_type": "stream",
     "text": [
      "[Stage 16:===============================>                      (58 + 12) / 100]\r"
     ]
    },
    {
     "name": "stdout",
     "output_type": "stream",
     "text": [
      "23/01/12 18:28:06 WARN MemoryStore: Not enough space to cache rdd_33_69 in memory! (computed 152.6 MiB so far)\n"
     ]
    },
    {
     "name": "stderr",
     "output_type": "stream",
     "text": [
      "\r",
      "[Stage 16:===============================>                      (59 + 12) / 100]\r"
     ]
    },
    {
     "name": "stdout",
     "output_type": "stream",
     "text": [
      "23/01/12 18:28:06 WARN MemoryStore: Not enough space to cache rdd_33_66 in memory! (computed 348.4 MiB so far)\n",
      "23/01/12 18:28:06 WARN MemoryStore: Not enough space to cache rdd_33_70 in memory! (computed 12.6 MiB so far)\n",
      "23/01/12 18:28:07 WARN MemoryStore: Not enough space to cache rdd_33_67 in memory! (computed 348.4 MiB so far)\n",
      "23/01/12 18:28:07 WARN MemoryStore: Not enough space to cache rdd_33_68 in memory! (computed 348.4 MiB so far)\n"
     ]
    },
    {
     "name": "stderr",
     "output_type": "stream",
     "text": [
      "\r",
      "[Stage 16:================================>                     (60 + 12) / 100]\r"
     ]
    },
    {
     "name": "stdout",
     "output_type": "stream",
     "text": [
      "23/01/12 18:28:17 WARN MemoryStore: Not enough space to cache rdd_33_71 in memory! (computed 101.7 MiB so far)\n"
     ]
    },
    {
     "name": "stderr",
     "output_type": "stream",
     "text": [
      "[Stage 16:==================================>                   (63 + 12) / 100]\r"
     ]
    },
    {
     "name": "stdout",
     "output_type": "stream",
     "text": [
      "23/01/12 18:30:04 WARN MemoryStore: Not enough space to cache rdd_33_74 in memory! (computed 230.3 MiB so far)\n",
      "23/01/12 18:30:04 WARN MemoryStore: Not enough space to cache rdd_33_73 in memory! (computed 811.2 MiB so far)\n"
     ]
    },
    {
     "name": "stderr",
     "output_type": "stream",
     "text": [
      "\r",
      "[Stage 16:==================================>                   (64 + 12) / 100]\r"
     ]
    },
    {
     "name": "stdout",
     "output_type": "stream",
     "text": [
      "23/01/12 18:30:04 WARN MemoryStore: Not enough space to cache rdd_33_75 in memory! (computed 101.7 MiB so far)\n",
      "23/01/12 18:30:04 WARN MemoryStore: Not enough space to cache rdd_33_76 in memory! (computed 8.4 MiB so far)\n"
     ]
    },
    {
     "name": "stderr",
     "output_type": "stream",
     "text": [
      "\r",
      "[Stage 16:===================================>                  (65 + 12) / 100]\r"
     ]
    },
    {
     "name": "stdout",
     "output_type": "stream",
     "text": [
      "23/01/12 18:30:06 WARN MemoryStore: Not enough space to cache rdd_33_77 in memory! (computed 8.4 MiB so far)\n"
     ]
    },
    {
     "name": "stderr",
     "output_type": "stream",
     "text": [
      "[Stage 16:======================================>               (71 + 12) / 100]\r"
     ]
    },
    {
     "name": "stdout",
     "output_type": "stream",
     "text": [
      "23/01/12 18:30:10 WARN MemoryStore: Not enough space to cache rdd_33_82 in memory! (computed 28.4 MiB so far)\n",
      "23/01/12 18:30:10 WARN MemoryStore: Not enough space to cache rdd_33_79 in memory! (computed 348.4 MiB so far)\n",
      "23/01/12 18:30:10 WARN MemoryStore: Not enough space to cache rdd_33_81 in memory! (computed 152.6 MiB so far)\n",
      "23/01/12 18:30:10 WARN MemoryStore: Not enough space to cache rdd_33_80 in memory! (computed 152.6 MiB so far)\n",
      "23/01/12 18:30:10 WARN MemoryStore: Not enough space to cache rdd_33_78 in memory! (computed 540.8 MiB so far)\n"
     ]
    },
    {
     "name": "stderr",
     "output_type": "stream",
     "text": [
      "\r",
      "[Stage 16:======================================>               (72 + 12) / 100]\r"
     ]
    },
    {
     "name": "stdout",
     "output_type": "stream",
     "text": [
      "23/01/12 18:30:23 WARN MemoryStore: Not enough space to cache rdd_33_83 in memory! (computed 101.7 MiB so far)\n"
     ]
    },
    {
     "name": "stderr",
     "output_type": "stream",
     "text": [
      "[Stage 16:========================================>             (75 + 12) / 100]\r"
     ]
    },
    {
     "name": "stdout",
     "output_type": "stream",
     "text": [
      "23/01/12 18:32:04 WARN MemoryStore: Not enough space to cache rdd_33_86 in memory! (computed 230.3 MiB so far)\n",
      "23/01/12 18:32:05 WARN MemoryStore: Not enough space to cache rdd_33_85 in memory! (computed 811.2 MiB so far)\n"
     ]
    },
    {
     "name": "stderr",
     "output_type": "stream",
     "text": [
      "\r",
      "[Stage 16:=========================================>            (76 + 12) / 100]\r"
     ]
    },
    {
     "name": "stdout",
     "output_type": "stream",
     "text": [
      "23/01/12 18:32:06 WARN MemoryStore: Not enough space to cache rdd_33_87 in memory! (computed 101.7 MiB so far)\n",
      "23/01/12 18:32:08 WARN MemoryStore: Not enough space to cache rdd_33_88 in memory! (computed 8.4 MiB so far)\n"
     ]
    },
    {
     "name": "stderr",
     "output_type": "stream",
     "text": [
      "[Stage 16:===========================================>          (80 + 12) / 100]\r"
     ]
    },
    {
     "name": "stdout",
     "output_type": "stream",
     "text": [
      "23/01/12 18:32:11 WARN MemoryStore: Not enough space to cache rdd_33_92 in memory! (computed 8.4 MiB so far)\n",
      "23/01/12 18:32:11 WARN MemoryStore: Not enough space to cache rdd_33_91 in memory! (computed 152.6 MiB so far)\n",
      "23/01/12 18:32:11 WARN MemoryStore: Not enough space to cache rdd_33_93 in memory! (computed 8.4 MiB so far)\n"
     ]
    },
    {
     "name": "stderr",
     "output_type": "stream",
     "text": [
      "\r",
      "[Stage 16:============================================>         (82 + 12) / 100]\r"
     ]
    },
    {
     "name": "stdout",
     "output_type": "stream",
     "text": [
      "23/01/12 18:32:12 WARN MemoryStore: Not enough space to cache rdd_33_90 in memory! (computed 540.8 MiB so far)\n",
      "23/01/12 18:32:12 WARN MemoryStore: Not enough space to cache rdd_33_89 in memory! (computed 540.8 MiB so far)\n",
      "23/01/12 18:32:15 WARN MemoryStore: Not enough space to cache rdd_33_94 in memory! (computed 12.6 MiB so far)\n"
     ]
    },
    {
     "name": "stderr",
     "output_type": "stream",
     "text": [
      "[Stage 16:=============================================>        (84 + 12) / 100]\r"
     ]
    },
    {
     "name": "stdout",
     "output_type": "stream",
     "text": [
      "23/01/12 18:32:31 WARN MemoryStore: Not enough space to cache rdd_33_95 in memory! (computed 348.4 MiB so far)\n"
     ]
    },
    {
     "name": "stderr",
     "output_type": "stream",
     "text": [
      "[Stage 16:==============================================>       (87 + 12) / 100]\r"
     ]
    },
    {
     "name": "stdout",
     "output_type": "stream",
     "text": [
      "23/01/12 18:34:02 WARN MemoryStore: Not enough space to cache rdd_33_98 in memory! (computed 230.3 MiB so far)\n",
      "23/01/12 18:34:04 WARN MemoryStore: Not enough space to cache rdd_33_97 in memory! (computed 811.2 MiB so far)\n"
     ]
    },
    {
     "name": "stderr",
     "output_type": "stream",
     "text": [
      "\r",
      "[Stage 16:===============================================>      (88 + 12) / 100]\r"
     ]
    },
    {
     "name": "stdout",
     "output_type": "stream",
     "text": [
      "23/01/12 18:34:07 WARN MemoryStore: Not enough space to cache rdd_33_99 in memory! (computed 101.7 MiB so far)\n"
     ]
    },
    {
     "name": "stderr",
     "output_type": "stream",
     "text": [
      "                                                                                \r"
     ]
    }
   ],
   "source": [
    "'''\n",
    "lr=LinearRegression(featuresCol='input_for_ml', labelCol='Tips',\n",
    "                    regParam=0.3, elasticNetParam=0.8)\n",
    "'''\n",
    "rfg=RandomForestRegressor(numTrees=100,featuresCol='input_for_ml', labelCol='Tips')\n",
    "model = rfg.fit(df_train)"
   ]
  },
  {
   "cell_type": "code",
   "execution_count": 13,
   "metadata": {},
   "outputs": [
    {
     "name": "stderr",
     "output_type": "stream",
     "text": [
      "WARNING: An illegal reflective access operation has occurred\n",
      "WARNING: Illegal reflective access by org.apache.spark.util.SizeEstimator$ (file:/usr/local/lib/python3.8/dist-packages/pyspark/jars/spark-core_2.12-3.3.0.jar) to field java.nio.charset.Charset.name\n",
      "WARNING: Please consider reporting this to the maintainers of org.apache.spark.util.SizeEstimator$\n",
      "WARNING: Use --illegal-access=warn to enable warnings of further illegal reflective access operations\n",
      "WARNING: All illegal access operations will be denied in a future release\n",
      "                                                                                \r"
     ]
    },
    {
     "name": "stdout",
     "output_type": "stream",
     "text": [
      "R Squared (R2) on test data = 0.76066\n"
     ]
    },
    {
     "name": "stderr",
     "output_type": "stream",
     "text": [
      "[Stage 20:=====================================================> (98 + 2) / 100]\r"
     ]
    },
    {
     "name": "stdout",
     "output_type": "stream",
     "text": [
      "Mae on test data = 0.470748\n"
     ]
    },
    {
     "name": "stderr",
     "output_type": "stream",
     "text": [
      "\r",
      "[Stage 20:======================================================>(99 + 1) / 100]\r",
      "\r",
      "                                                                                \r"
     ]
    }
   ],
   "source": [
    "#df_test_1=df_test[df_test['Tips']>2]\n",
    "df_test_1=df_test\n",
    "df_predictions = model.transform(df_test_1)\n",
    "metrics = RegressionEvaluator(predictionCol='prediction',labelCol=\"Tips\",metricName='r2')\n",
    "print(\"R Squared (R2) on test data = %g\" % metrics.evaluate(df_predictions))\n",
    "metrics = RegressionEvaluator(predictionCol='prediction',labelCol=\"Tips\",metricName='mae')\n",
    "print(\"Mae on test data = %g\" % metrics.evaluate(df_predictions))"
   ]
  },
  {
   "cell_type": "code",
   "execution_count": 16,
   "metadata": {},
   "outputs": [
    {
     "name": "stderr",
     "output_type": "stream",
     "text": [
      "                                                                                \r"
     ]
    }
   ],
   "source": [
    "df_predictions[cols_cont_atri+['input_for_ml','prediction','Tips']].sample(0.01).toPandas().to_csv('predict_sample.csv') "
   ]
  },
  {
   "cell_type": "code",
   "execution_count": 14,
   "metadata": {},
   "outputs": [
    {
     "name": "stderr",
     "output_type": "stream",
     "text": [
      "                                                                                \r"
     ]
    }
   ],
   "source": [
    "df_predictions.write.parquet('predict_tips_for_taxi.parquet')"
   ]
  },
  {
   "cell_type": "markdown",
   "metadata": {},
   "source": [
    "### Discussão sobre a qualidade do modelo criado\n",
    "\n",
    "O modelo apresenta uma qualidade razoavel de predição com base nas métricas extraídas. O r2 possui um valor de 0.76,  o melhor valor possível é 1, o que mostra que a predição do modelo acompanha o real. O erro médio absoluto (em inglês possui a sigla **MAE**) é de 0.47, com o melhor resultado sendo 0, esse erro de predição é mediano quando observado, de acordo com o histograma de gorjetas, que a maioria das gorjetas possui um valor entre 0 a 2."
   ]
  },
  {
   "cell_type": "markdown",
   "metadata": {},
   "source": [
    "## Análise da importância dos atributos para o modelo criado\n",
    "A seguir a lista dos atributos que o modelo considera mais importantes determinar o valor da gorjeta:"
   ]
  },
  {
   "cell_type": "code",
   "execution_count": 15,
   "metadata": {},
   "outputs": [
    {
     "data": {
      "text/html": [
       "<div>\n",
       "<style scoped>\n",
       "    .dataframe tbody tr th:only-of-type {\n",
       "        vertical-align: middle;\n",
       "    }\n",
       "\n",
       "    .dataframe tbody tr th {\n",
       "        vertical-align: top;\n",
       "    }\n",
       "\n",
       "    .dataframe thead th {\n",
       "        text-align: right;\n",
       "    }\n",
       "</style>\n",
       "<table border=\"1\" class=\"dataframe\">\n",
       "  <thead>\n",
       "    <tr style=\"text-align: right;\">\n",
       "      <th></th>\n",
       "      <th>importance</th>\n",
       "      <th>name</th>\n",
       "    </tr>\n",
       "  </thead>\n",
       "  <tbody>\n",
       "    <tr>\n",
       "      <th>105</th>\n",
       "      <td>0.351859</td>\n",
       "      <td>payment_type__Credit_Card</td>\n",
       "    </tr>\n",
       "    <tr>\n",
       "      <th>117</th>\n",
       "      <td>0.206251</td>\n",
       "      <td>Fare</td>\n",
       "    </tr>\n",
       "    <tr>\n",
       "      <th>104</th>\n",
       "      <td>0.186649</td>\n",
       "      <td>payment_type__Cash</td>\n",
       "    </tr>\n",
       "    <tr>\n",
       "      <th>115</th>\n",
       "      <td>0.113623</td>\n",
       "      <td>Trip_Miles</td>\n",
       "    </tr>\n",
       "    <tr>\n",
       "      <th>116</th>\n",
       "      <td>0.062144</td>\n",
       "      <td>Trip_Seconds</td>\n",
       "    </tr>\n",
       "    <tr>\n",
       "      <th>119</th>\n",
       "      <td>0.046029</td>\n",
       "      <td>Extras</td>\n",
       "    </tr>\n",
       "    <tr>\n",
       "      <th>80</th>\n",
       "      <td>0.012670</td>\n",
       "      <td>pickup_area__76</td>\n",
       "    </tr>\n",
       "    <tr>\n",
       "      <th>107</th>\n",
       "      <td>0.007425</td>\n",
       "      <td>payment_type__Mobile</td>\n",
       "    </tr>\n",
       "    <tr>\n",
       "      <th>68</th>\n",
       "      <td>0.005696</td>\n",
       "      <td>dropoff_area__76</td>\n",
       "    </tr>\n",
       "    <tr>\n",
       "      <th>110</th>\n",
       "      <td>0.001876</td>\n",
       "      <td>payment_type__Prcard</td>\n",
       "    </tr>\n",
       "    <tr>\n",
       "      <th>77</th>\n",
       "      <td>0.000998</td>\n",
       "      <td>pickup_area__56</td>\n",
       "    </tr>\n",
       "    <tr>\n",
       "      <th>113</th>\n",
       "      <td>0.000785</td>\n",
       "      <td>payment_type__Unknown</td>\n",
       "    </tr>\n",
       "    <tr>\n",
       "      <th>81</th>\n",
       "      <td>0.000748</td>\n",
       "      <td>pickup_area__8</td>\n",
       "    </tr>\n",
       "    <tr>\n",
       "      <th>71</th>\n",
       "      <td>0.000577</td>\n",
       "      <td>dropoff_area__m2</td>\n",
       "    </tr>\n",
       "    <tr>\n",
       "      <th>82</th>\n",
       "      <td>0.000506</td>\n",
       "      <td>pickup_area__m1</td>\n",
       "    </tr>\n",
       "    <tr>\n",
       "      <th>75</th>\n",
       "      <td>0.000410</td>\n",
       "      <td>pickup_area__32</td>\n",
       "    </tr>\n",
       "    <tr>\n",
       "      <th>70</th>\n",
       "      <td>0.000358</td>\n",
       "      <td>dropoff_area__m1</td>\n",
       "    </tr>\n",
       "    <tr>\n",
       "      <th>73</th>\n",
       "      <td>0.000291</td>\n",
       "      <td>pickup_area__28</td>\n",
       "    </tr>\n",
       "    <tr>\n",
       "      <th>84</th>\n",
       "      <td>0.000287</td>\n",
       "      <td>company__null</td>\n",
       "    </tr>\n",
       "    <tr>\n",
       "      <th>108</th>\n",
       "      <td>0.000133</td>\n",
       "      <td>payment_type__No_Charge</td>\n",
       "    </tr>\n",
       "    <tr>\n",
       "      <th>92</th>\n",
       "      <td>0.000122</td>\n",
       "      <td>company__Flash_Cab</td>\n",
       "    </tr>\n",
       "    <tr>\n",
       "      <th>100</th>\n",
       "      <td>0.000117</td>\n",
       "      <td>company__Taxi_Affiliation_Services</td>\n",
       "    </tr>\n",
       "    <tr>\n",
       "      <th>85</th>\n",
       "      <td>0.000112</td>\n",
       "      <td>company__303_Taxi</td>\n",
       "    </tr>\n",
       "    <tr>\n",
       "      <th>98</th>\n",
       "      <td>0.000082</td>\n",
       "      <td>company__Sun_Taxi</td>\n",
       "    </tr>\n",
       "    <tr>\n",
       "      <th>69</th>\n",
       "      <td>0.000082</td>\n",
       "      <td>dropoff_area__8</td>\n",
       "    </tr>\n",
       "    <tr>\n",
       "      <th>64</th>\n",
       "      <td>0.000049</td>\n",
       "      <td>dropoff_area__32</td>\n",
       "    </tr>\n",
       "    <tr>\n",
       "      <th>87</th>\n",
       "      <td>0.000035</td>\n",
       "      <td>company__Blue_Ribbon_Taxi_Association_Inc_</td>\n",
       "    </tr>\n",
       "    <tr>\n",
       "      <th>83</th>\n",
       "      <td>0.000020</td>\n",
       "      <td>pickup_area__m2</td>\n",
       "    </tr>\n",
       "    <tr>\n",
       "      <th>76</th>\n",
       "      <td>0.000011</td>\n",
       "      <td>pickup_area__33</td>\n",
       "    </tr>\n",
       "    <tr>\n",
       "      <th>88</th>\n",
       "      <td>0.000010</td>\n",
       "      <td>company__Chicago_Carriage_Cab_Corp</td>\n",
       "    </tr>\n",
       "  </tbody>\n",
       "</table>\n",
       "</div>"
      ],
      "text/plain": [
       "     importance                                        name\n",
       "105    0.351859                   payment_type__Credit_Card\n",
       "117    0.206251                                        Fare\n",
       "104    0.186649                          payment_type__Cash\n",
       "115    0.113623                                  Trip_Miles\n",
       "116    0.062144                                Trip_Seconds\n",
       "119    0.046029                                      Extras\n",
       "80     0.012670                             pickup_area__76\n",
       "107    0.007425                        payment_type__Mobile\n",
       "68     0.005696                            dropoff_area__76\n",
       "110    0.001876                        payment_type__Prcard\n",
       "77     0.000998                             pickup_area__56\n",
       "113    0.000785                       payment_type__Unknown\n",
       "81     0.000748                              pickup_area__8\n",
       "71     0.000577                            dropoff_area__m2\n",
       "82     0.000506                             pickup_area__m1\n",
       "75     0.000410                             pickup_area__32\n",
       "70     0.000358                            dropoff_area__m1\n",
       "73     0.000291                             pickup_area__28\n",
       "84     0.000287                               company__null\n",
       "108    0.000133                     payment_type__No_Charge\n",
       "92     0.000122                          company__Flash_Cab\n",
       "100    0.000117          company__Taxi_Affiliation_Services\n",
       "85     0.000112                           company__303_Taxi\n",
       "98     0.000082                           company__Sun_Taxi\n",
       "69     0.000082                             dropoff_area__8\n",
       "64     0.000049                            dropoff_area__32\n",
       "87     0.000035  company__Blue_Ribbon_Taxi_Association_Inc_\n",
       "83     0.000020                             pickup_area__m2\n",
       "76     0.000011                             pickup_area__33\n",
       "88     0.000010          company__Chicago_Carriage_Cab_Corp"
      ]
     },
     "execution_count": 15,
     "metadata": {},
     "output_type": "execute_result"
    }
   ],
   "source": [
    "import numpy as np\n",
    "pd.DataFrame.from_dict({'importance': np.abs(model.featureImportances), 'name':cols_disc_atri+cols_cont_atri}).sort_values(ascending=False, by='importance').head(30)\n",
    "    \n"
   ]
  },
  {
   "cell_type": "markdown",
   "metadata": {},
   "source": [
    "# Conclusão\n",
    "\n",
    "Este trabalho propos a criação de um modelo de predição de gorjetas para as corridas de táxi feitas em Chicago.\n",
    "\n",
    "O modelo criado apresenta uma boa qualidade com base nas métricas de r2 e no erro médio absoluto. O fato do modelo ser do tipo Random Forest, escolhido com base na análise do PyCaret, facilita o entendimento deste. Olhando para dentro do modelo vemos que as colunas que mais influenciam a gorjeta são:\n",
    "* **payment_type__Credit_Card**, que diz quando o pagamento é por cartão de crédito.\n",
    "* **Fare**, tarifa da corrida.\n",
    "* **payment_type__Cash**, que diz quando o pagamento é por dinheiro.\n",
    "* **Trip_Miles**, distância percorrida na corrida."
   ]
  },
  {
   "cell_type": "code",
   "execution_count": null,
   "metadata": {},
   "outputs": [],
   "source": []
  }
 ],
 "metadata": {
  "kernelspec": {
   "display_name": "Python 3 (ipykernel)",
   "language": "python",
   "name": "python3"
  },
  "language_info": {
   "codemirror_mode": {
    "name": "ipython",
    "version": 3
   },
   "file_extension": ".py",
   "mimetype": "text/x-python",
   "name": "python",
   "nbconvert_exporter": "python",
   "pygments_lexer": "ipython3",
   "version": "3.10.6"
  }
 },
 "nbformat": 4,
 "nbformat_minor": 2
}
