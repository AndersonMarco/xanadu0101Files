{
 "cells": [
  {
   "cell_type": "markdown",
   "metadata": {},
   "source": [
    " # Introdução\n",
    "\n",
    "O objetivo desse notebook é criar um modelo de predição de gorjetas para as corridas de táxi de Chicago. A base de dados utilizada foi a [Chicago Taxi Trips](https://data.cityofchicago.org/Transportation/Taxi-Trips/wrvz-psew), por ser uma base de dados grande vai ser utilizado PySpark para o tratamento dos dados e criação do modelo de machine learning (**ML**).\n",
    "\n",
    "## Colunas da base utilizadas como entrada\n",
    "\n",
    "As colunas utilizadas como entrada para modelo de ML desenvolvido vão ser:\n",
    "* **Trip Start Timestamp**, a partir dela vai ser derivada a coluna trip_start_hour\n",
    "* **Trip End Timestamp**, a partir dela vai ser derivada a coluna trip_end_hour\n",
    "* **Pickup Community Area**, apenas as 11 áreas  mais frequentes vão ter o nome mantido as outras vão receber o nome m1\n",
    "* **Dropoff Community Area**, apenas as 11 áreas  mais frequentes vão ter o nome mantido as outras vão receber o nome m1\n",
    "* **Company**,  apenas as 19 companias mais frequentes vão ter o nome mantido, as outras vão receber nome m1\n",
    "* **Payment type**\n",
    "* Trip miles\n",
    "* Trip seconds\n",
    "* Fare\n",
    "* Tolls\n",
    "* Extras\n",
    "\n",
    "As colunas em negrito são de dados discretos. Esses dados passaram por um processo de pivoteamento, para que assim sejam criadas colunas númericas a partir destas.\n",
    "\n",
    "## Modelo de Machine learning utilizado\n",
    "\n",
    "O modelo de machine learning utilizado vai ser decido com base nas métricas alcançadas pela criação automatizada de vários modelos de ML, utilizando o **Pycaret**, em uma pequena amostra da base de dados. Apenas 1% da base foi utilizada como amostra, por questões de recursos computacionais, isso corresponde a um pouco mais que 160 mil registros de corridas de táxi."
   ]
  },
  {
   "cell_type": "markdown",
   "metadata": {},
   "source": [
    "# Configuração do ambiente\n",
    "\n",
    "Download dos pacotes necessarios\n"
   ]
  },
  {
   "cell_type": "code",
   "execution_count": 1,
   "metadata": {},
   "outputs": [],
   "source": [
    "!pip install pyspark\n",
    "!pip install pandas\n",
    "!pip install pycaret\n",
    "!pip install seaborn"
   ]
  },
  {
   "cell_type": "markdown",
   "metadata": {},
   "source": [
    " Carregamento dos pacotes"
   ]
  },
  {
   "cell_type": "code",
   "execution_count": 1,
   "metadata": {},
   "outputs": [],
   "source": [
    "import os\n",
    "import pandas as pd\n",
    "from pyspark.sql import SparkSession\n",
    "import pyspark\n",
    "import re\n",
    "from pyspark.sql.functions import col, udf\n",
    "import time\n",
    "import datetime\n",
    "import pyspark.sql.functions as F\n",
    "from pyspark.sql.functions import expr\n",
    "from pyspark.ml.feature import StandardScaler\n",
    "from pyspark.ml.feature import VectorAssembler\n",
    "from pyspark.ml.regression import LinearRegression\n",
    "from pyspark.mllib.evaluation import RegressionMetrics\n",
    "from pyspark.ml.evaluation import RegressionEvaluator\n",
    "from pyspark.mllib.tree import RandomForest\n",
    "from pyspark.ml.regression import RandomForestRegressor\n",
    "import pycaret\n",
    "import numpy as np"
   ]
  },
  {
   "cell_type": "markdown",
   "metadata": {},
   "source": [
    " Inicialização do spark"
   ]
  },
  {
   "cell_type": "code",
   "execution_count": 2,
   "metadata": {},
   "outputs": [
    {
     "name": "stdout",
     "output_type": "stream",
     "text": [
      "23/01/15 21:16:56 WARN Utils: Your hostname, DESKTOP-DHUKHBA resolves to a loopback address: 127.0.1.1; using 172.22.52.77 instead (on interface eth0)\n",
      "23/01/15 21:16:56 WARN Utils: Set SPARK_LOCAL_IP if you need to bind to another address\n"
     ]
    },
    {
     "name": "stderr",
     "output_type": "stream",
     "text": [
      "Setting default log level to \"WARN\".\n",
      "To adjust logging level use sc.setLogLevel(newLevel). For SparkR, use setLogLevel(newLevel).\n"
     ]
    },
    {
     "name": "stdout",
     "output_type": "stream",
     "text": [
      "23/01/15 21:16:57 WARN NativeCodeLoader: Unable to load native-hadoop library for your platform... using builtin-java classes where applicable\n",
      "23/01/15 21:16:57 WARN SparkConf: Note that spark.local.dir will be overridden by the value set by the cluster manager (via SPARK_LOCAL_DIRS in mesos/standalone/kubernetes and LOCAL_DIRS in YARN).\n"
     ]
    }
   ],
   "source": [
    "import os \n",
    "os.environ[\"SPARK_LOCAL_DIRS\"]='spark_temp'\n",
    "\n",
    "MAX_MEMORY = \"10g\"\n",
    "\n",
    "spark = SparkSession.builder.appName('sparkdf341')\\\n",
    "        .config(\"spark.executor.memory\", MAX_MEMORY)\\\n",
    "        .config(\"spark.driver.memory\", MAX_MEMORY)\\\n",
    "        .config(\"spark.local.dir\",os.environ[\"SPARK_LOCAL_DIRS\"])\\\n",
    "        .getOrCreate()\n"
   ]
  },
  {
   "cell_type": "markdown",
   "metadata": {},
   "source": [
    "Suspende warnings"
   ]
  },
  {
   "cell_type": "code",
   "execution_count": 3,
   "metadata": {},
   "outputs": [],
   "source": [
    "import warnings\n",
    "warnings.filterwarnings('ignore')\n",
    "spark.sparkContext.setLogLevel('ERROR')\n"
   ]
  },
  {
   "cell_type": "markdown",
   "metadata": {},
   "source": [
    " # Carregamento e otmizações na base de dados"
   ]
  },
  {
   "cell_type": "markdown",
   "metadata": {},
   "source": [
    " A base de dados fica armazenado na variável **df**\n",
    "\n",
    "  ---\n",
    "\n",
    " Carregamento da base"
   ]
  },
  {
   "cell_type": "code",
   "execution_count": 5,
   "metadata": {},
   "outputs": [],
   "source": [
    "pathToDatabse='database.csv'\n",
    "pathToParquet='database.parquet'\n",
    "\n",
    "if(os.path.exists(pathToDatabse)==False):\n",
    "    os.system('curl https://data.cityofchicago.org/api/views/wrvz-psew/rows.tsv?accessType=DOWNLOAD  -o '+pathToDatabse)\n",
    "\n",
    "df=spark.read.csv(pathToDatabse, header=True,sep='\\t')"
   ]
  },
  {
   "cell_type": "markdown",
   "metadata": {},
   "source": [
    " Otimização da base"
   ]
  },
  {
   "cell_type": "code",
   "execution_count": 6,
   "metadata": {},
   "outputs": [
    {
     "name": "stderr",
     "output_type": "stream",
     "text": [
      "                                                                                \r"
     ]
    }
   ],
   "source": [
    "def remove_special_characters(df):\n",
    "    columns=list(df.columns)\n",
    "    for col in columns:\n",
    "        col1=col.replace(\" \",\"_\")\n",
    "        col1=re.sub(r\"[^a-zA-Z0-9 ]\", \"_\", col1)\n",
    "        \n",
    "        df=df.withColumnRenamed(col,col1)\n",
    "    return df\n",
    "\n",
    "def get_date_from_datetime_in_str(x):\n",
    "    try:\n",
    "        return datetime.datetime.strptime(x,'%m/%d/%Y %I:%M:%S %p').strftime('%Y-%m-%d')\n",
    "    except:\n",
    "        return \"-1\"\n",
    "    \n",
    "\n",
    "def get_time_from_datetime_in_str(x):\n",
    "    try:\n",
    "        return datetime.datetime.strptime(x,'%m/%d/%Y %I:%M:%S %p').strftime('%H:%M')\n",
    "    except:\n",
    "        return \"-1\"\n",
    "\n",
    "if(os.path.exists(pathToParquet)==False):\n",
    "    get_time_from_datetime_in_str_udf=udf(lambda z: get_time_from_datetime_in_str(z))\n",
    "    get_date_from_datetime_in_str_udf=udf(lambda z: get_date_from_datetime_in_str(z))\n",
    "    df_t=df\n",
    "    df_t=df_t.withColumn(\"Trip Start Timestamp Hour Minute\",\n",
    "                     get_time_from_datetime_in_str_udf(col(\"Trip Start Timestamp\")))\n",
    "    df_t=df_t.withColumn(\"Trip Start Timestamp Date\",\n",
    "                     get_date_from_datetime_in_str_udf(col(\"Trip Start Timestamp\")))\n",
    "\n",
    "    df_t=df_t.withColumn(\"Trip End Timestamp Hour Minute\",\n",
    "                     get_time_from_datetime_in_str_udf(col(\"Trip End Timestamp\")))\n",
    "    df_t=df_t.withColumn(\"Trip End Timestamp Date\",\n",
    "                     get_date_from_datetime_in_str_udf(col(\"Trip End Timestamp\")))\n",
    "\n",
    "\n",
    "\n",
    "    df_t=remove_special_characters(df_t)\n",
    "    try:\n",
    "        df_t.write.partitionBy(\"Trip_Start_Timestamp_Date\").parquet(pathToParquet)\n",
    "    except:\n",
    "        pass\n",
    "\n",
    "df=spark.read.parquet(pathToParquet)\n",
    "n_rows_df=df.count()"
   ]
  },
  {
   "cell_type": "markdown",
   "metadata": {},
   "source": [
    " Converter dados da base"
   ]
  },
  {
   "cell_type": "code",
   "execution_count": 7,
   "metadata": {},
   "outputs": [],
   "source": [
    "df=df.withColumn(\"Trip_Miles\",df.Trip_Miles.cast('double'))\n",
    "df=df.withColumn(\"Trip_Seconds\",df.Trip_Seconds.cast('double'))\n",
    "df=df.withColumn(\"Fare\",df.Fare.cast('double'))\n",
    "df=df.withColumn(\"Tolls\",df.Tolls.cast('double'))\n",
    "df=df.withColumn(\"Extras\",df.Extras.cast('double'))\n",
    "df=df.withColumn(\"Trip_Total\",df.Trip_Total.cast('double'))\n",
    "df=df.withColumn(\"Tips\",df.Tips.cast('double'))"
   ]
  },
  {
   "cell_type": "markdown",
   "metadata": {},
   "source": [
    " # Tratamento da base de dados\n",
    " ## Retirar linha inválidas da base\n",
    " Retirar linhas onde **Trip_Miles** é igual a zero ou **Trip_Seconds** é igual a zero"
   ]
  },
  {
   "cell_type": "code",
   "execution_count": 8,
   "metadata": {},
   "outputs": [],
   "source": [
    "df=df[(df['Trip_Miles']>0.0) & (df['Trip_Seconds']>0.0)]"
   ]
  },
  {
   "cell_type": "markdown",
   "metadata": {},
   "source": [
    " Porcentagem da quantidades de linhas que permaneceram"
   ]
  },
  {
   "cell_type": "code",
   "execution_count": 9,
   "metadata": {},
   "outputs": [
    {
     "name": "stderr",
     "output_type": "stream",
     "text": [
      "                                                                                \r"
     ]
    },
    {
     "name": "stdout",
     "output_type": "stream",
     "text": [
      "0.7857097290668086\n"
     ]
    },
    {
     "name": "stderr",
     "output_type": "stream",
     "text": [
      "                                                                                \r"
     ]
    }
   ],
   "source": [
    "print(df.count()/n_rows_df)\n",
    "n_rows_df=df.count()"
   ]
  },
  {
   "cell_type": "markdown",
   "metadata": {},
   "source": [
    " ## Normalizar os nomes das companias\n",
    " Companias com pouca frequência vão ter o nome 'm1'\n",
    " ### Tabela mostrando a curva de pareto para a frequência dos nomes das companias"
   ]
  },
  {
   "cell_type": "code",
   "execution_count": 10,
   "metadata": {},
   "outputs": [
    {
     "name": "stderr",
     "output_type": "stream",
     "text": [
      "                                                                                \r"
     ]
    },
    {
     "name": "stdout",
     "output_type": "stream",
     "text": [
      "+--------------------+-------------------+\n",
      "|             Company|             pareto|\n",
      "+--------------------+-------------------+\n",
      "|                null|0.19986685092742143|\n",
      "|Taxi Affiliation ...| 0.3605392378862002|\n",
      "|           Flash Cab| 0.4786760961159568|\n",
      "|          Yellow Cab| 0.5378961097069753|\n",
      "|Dispatch Taxi Aff...| 0.5876181623394462|\n",
      "|Chicago Carriage ...| 0.6362457259884621|\n",
      "|Choice Taxi Assoc...|  0.675038622154915|\n",
      "|        City Service| 0.7115138003563017|\n",
      "|            Sun Taxi| 0.7478888509028575|\n",
      "|    Medallion Leasin| 0.7782671124868998|\n",
      "|Taxi Affiliation ...| 0.7999540996074587|\n",
      "|     American United| 0.8186120463810999|\n",
      "|Northwest Managem...| 0.8357287635671153|\n",
      "|          Globe Taxi| 0.8514234951740379|\n",
      "|Blue Ribbon Taxi ...|  0.866481616134103|\n",
      "|Star North Manage...| 0.8814918280541819|\n",
      "|KOAM Taxi Associa...| 0.8933410880805897|\n",
      "| Top Cab Affiliation| 0.9039738913144498|\n",
      "|            303 Taxi| 0.9132295397414473|\n",
      "|        Checker Taxi| 0.9219692393989045|\n",
      "+--------------------+-------------------+\n",
      "only showing top 20 rows\n",
      "\n"
     ]
    }
   ],
   "source": [
    "df_pareto_company=df.groupBy(\"Company\")\\\n",
    "                    .count()\\\n",
    "                    .withColumnRenamed('count','count_company')\\\n",
    "                    .orderBy(col('count_company').desc())\n",
    "df_pareto_company=df_pareto_company.withColumn('cumsum',\n",
    "                                             expr('sum(count_company) over (order by count_company desc)'))\n",
    "\n",
    "df_pareto_company=df_pareto_company.withColumn('pareto',df_pareto_company['cumsum']/n_rows_df)\n",
    "df_pareto_company[['Company','pareto']].show()"
   ]
  },
  {
   "cell_type": "markdown",
   "metadata": {},
   "source": [
    " ### Normaliza/Seta para 'm1' os nomes das companias para companias abaixo das 19 primeiras mais frequentes."
   ]
  },
  {
   "cell_type": "code",
   "execution_count": 11,
   "metadata": {},
   "outputs": [
    {
     "name": "stderr",
     "output_type": "stream",
     "text": [
      "                                                                                \r"
     ]
    }
   ],
   "source": [
    "companies_most_importants=[]\n",
    "companies_most_importants_row_format=df_pareto_company[['Company']].head(19)\n",
    "for company in companies_most_importants_row_format:\n",
    "    companies_most_importants.append(company['Company'])\n",
    "\n",
    "normalize_company_names_udf=udf(lambda x:  x if(x in companies_most_importants) else 'm1')\n",
    "df=df.withColumn(\"company_normalized\",\n",
    "                     normalize_company_names_udf(col(\"Company\")))"
   ]
  },
  {
   "cell_type": "markdown",
   "metadata": {},
   "source": [
    " ## Normalizar as áreas de Pickup\n",
    " Áreas com pouca frequência vão ter o valor m1\n",
    "\n",
    "\n",
    " Áreas com valores null vão ter o valor m2\n",
    " ### Substituir valores null por m2"
   ]
  },
  {
   "cell_type": "code",
   "execution_count": 12,
   "metadata": {},
   "outputs": [],
   "source": [
    "df=df.fillna('m2', subset=['Pickup_Community_Area'])"
   ]
  },
  {
   "cell_type": "markdown",
   "metadata": {},
   "source": [
    " ### Tabela mostrando a curva de pareto para a frequência das Áreas"
   ]
  },
  {
   "cell_type": "code",
   "execution_count": 13,
   "metadata": {},
   "outputs": [
    {
     "name": "stderr",
     "output_type": "stream",
     "text": [
      "                                                                                \r"
     ]
    },
    {
     "name": "stdout",
     "output_type": "stream",
     "text": [
      "+---------------------+------------------+\n",
      "|Pickup_Community_Area|            pareto|\n",
      "+---------------------+------------------+\n",
      "|                    8| 0.295146140761722|\n",
      "|                   32|0.5105832306855411|\n",
      "|                   28| 0.597641151402734|\n",
      "|                   m2|0.6816039018753958|\n",
      "|                   76|0.7538399322532344|\n",
      "|                    6|0.8070128287586077|\n",
      "|                    7|0.8480071092438359|\n",
      "|                   24|0.8744267993368976|\n",
      "|                   33| 0.898688095141483|\n",
      "|                   56|0.9171572850238076|\n",
      "|                    3| 0.930941768035734|\n",
      "|                   77|0.9402904983046985|\n",
      "|                   22|0.9496135514674708|\n",
      "|                    5|0.9546853240786302|\n",
      "|                    4|0.9592948528098288|\n",
      "|                    1| 0.963423574773689|\n",
      "|                    2|0.9672347190046809|\n",
      "|                   41|0.9708180216719378|\n",
      "|                   16|0.9743026829590984|\n",
      "|                   21|0.9766056687699942|\n",
      "+---------------------+------------------+\n",
      "only showing top 20 rows\n",
      "\n"
     ]
    }
   ],
   "source": [
    "df_pareto_area_pickup=df.groupBy(\"Pickup_Community_Area\")\\\n",
    "                    .count()\\\n",
    "                    .withColumnRenamed('count','count_area_pickup')\\\n",
    "                    .orderBy(col('count_area_pickup').desc())\n",
    "df_pareto_area_pickup=df_pareto_area_pickup.withColumn('cumsum',\n",
    "                                             expr('sum(count_area_pickup) over (order by count_area_pickup desc)'))\n",
    "\n",
    "df_pareto_area_pickup=df_pareto_area_pickup.withColumn('pareto',df_pareto_area_pickup['cumsum']/n_rows_df)\n",
    "df_pareto_area_pickup[['Pickup_Community_Area','pareto']].show()"
   ]
  },
  {
   "cell_type": "markdown",
   "metadata": {},
   "source": [
    " ### Normaliza/Seta para m1 os nomes das áreas para as áreas abaixo das 11 primeiras mais frequentes."
   ]
  },
  {
   "cell_type": "code",
   "execution_count": 14,
   "metadata": {},
   "outputs": [
    {
     "name": "stderr",
     "output_type": "stream",
     "text": [
      "                                                                                \r"
     ]
    }
   ],
   "source": [
    "pickup_areas_most_importants=[]\n",
    "pickup_areas_most_importants_row_format=df_pareto_area_pickup[['Pickup_Community_Area']].head(11)\n",
    "for area in pickup_areas_most_importants_row_format:\n",
    "    pickup_areas_most_importants.append(area['Pickup_Community_Area'])\n",
    "\n",
    "normalize_pickup_area_udf=udf(lambda x:  x if(x in pickup_areas_most_importants) else 'm1')\n",
    "df=df.withColumn(\"pickup_area_normalized\",\n",
    "                     normalize_pickup_area_udf(col(\"Pickup_Community_Area\")))"
   ]
  },
  {
   "cell_type": "markdown",
   "metadata": {},
   "source": [
    " ## Normalizar as áreas de Dropoff\n",
    " Áreas com pouca frequência vão ter o valor m1\n",
    "\n",
    "\n",
    " Áreas com valores null vão ter o valor m2\n",
    " ### Substituir valores null por m2"
   ]
  },
  {
   "cell_type": "code",
   "execution_count": 15,
   "metadata": {},
   "outputs": [],
   "source": [
    "df=df.fillna('m2', subset=['Dropoff_Community_Area'])"
   ]
  },
  {
   "cell_type": "markdown",
   "metadata": {},
   "source": [
    " ### Tabela mostrando a curva de pareto para a frequência das Áreas"
   ]
  },
  {
   "cell_type": "code",
   "execution_count": 16,
   "metadata": {},
   "outputs": [
    {
     "name": "stderr",
     "output_type": "stream",
     "text": [
      "                                                                                \r"
     ]
    },
    {
     "name": "stdout",
     "output_type": "stream",
     "text": [
      "+----------------------+------------------+\n",
      "|dropoff_Community_Area|            pareto|\n",
      "+----------------------+------------------+\n",
      "|                     8|0.2664798686730132|\n",
      "|                    32|0.4480058406243971|\n",
      "|                    m2|0.5527192126972638|\n",
      "|                    28| 0.645471648920764|\n",
      "|                     6| 0.704076214178408|\n",
      "|                     7|0.7578312266632713|\n",
      "|                    24|0.7974227933911768|\n",
      "|                    76|0.8338368291105874|\n",
      "|                    33|0.8639499119195658|\n",
      "|                     3|0.8809389089779545|\n",
      "|                    22|0.8962185781543421|\n",
      "|                    56|0.9080152029114816|\n",
      "|                    77|0.9191573319751642|\n",
      "|                     5|0.9277074289950125|\n",
      "|                     4|0.9348383637358915|\n",
      "|                     1|0.9404693487706907|\n",
      "|                    16|0.9455919407840784|\n",
      "|                    41|0.9507002608287785|\n",
      "|                     2|0.9554649218174404|\n",
      "|                    21|0.9593433277535843|\n",
      "+----------------------+------------------+\n",
      "only showing top 20 rows\n",
      "\n"
     ]
    }
   ],
   "source": [
    "df_pareto_area_dropoff=df.groupBy(\"Dropoff_Community_Area\")\\\n",
    "                    .count()\\\n",
    "                    .withColumnRenamed('count','count_area_dropoff')\\\n",
    "                    .orderBy(col('count_area_dropoff').desc())\n",
    "df_pareto_area_dropoff=df_pareto_area_dropoff.withColumn('cumsum',\n",
    "                                             expr('sum(count_area_dropoff) over (order by count_area_dropoff desc)'))\n",
    "\n",
    "df_pareto_area_dropoff=df_pareto_area_dropoff.withColumn('pareto',df_pareto_area_dropoff['cumsum']/n_rows_df)\n",
    "df_pareto_area_dropoff[['dropoff_Community_Area','pareto']].show()"
   ]
  },
  {
   "cell_type": "markdown",
   "metadata": {},
   "source": [
    " ### Normaliza/Seta para m1 os nomes das áreas para as áreas abaixo das 11 primeiras mais frequentes."
   ]
  },
  {
   "cell_type": "code",
   "execution_count": 17,
   "metadata": {},
   "outputs": [
    {
     "name": "stderr",
     "output_type": "stream",
     "text": [
      "                                                                                \r"
     ]
    }
   ],
   "source": [
    "dropoff_areas_most_importants=[]\n",
    "dropoff_areas_most_importants_row_format=df_pareto_area_dropoff[['Dropoff_Community_Area']].head(11)\n",
    "for area in dropoff_areas_most_importants_row_format:\n",
    "    dropoff_areas_most_importants.append(area['Dropoff_Community_Area'])\n",
    "\n",
    "normalize_dropoff_area_udf=udf(lambda x:  x if(x in dropoff_areas_most_importants) else 'm1')\n",
    "df=df.withColumn(\"dropoff_area_normalized\",\n",
    "                     normalize_dropoff_area_udf(col(\"Dropoff_Community_Area\")))"
   ]
  },
  {
   "cell_type": "markdown",
   "metadata": {},
   "source": [
    " ## Faz um pivoteamento da informacao hora nos campos Trip_End_Timestamp_Hour_Minute e Trip_Start_Timestamp_Hour_Minute"
   ]
  },
  {
   "cell_type": "code",
   "execution_count": 18,
   "metadata": {},
   "outputs": [],
   "source": [
    "columns_to_use=[\"Trip_ID\",'Trip_Miles','Trip_Seconds',\n",
    "                'Fare','Tips','Tolls','Extras','Trip_Total']"
   ]
  },
  {
   "cell_type": "markdown",
   "metadata": {},
   "source": [
    " ### Cria o campos de hora sem os minutos"
   ]
  },
  {
   "cell_type": "code",
   "execution_count": 19,
   "metadata": {},
   "outputs": [],
   "source": [
    "extract_hour_udf=udf(lambda z: z.split(\":\")[0])\n",
    "df_1=df.withColumn(\"trip_start_hour\",\n",
    "                  extract_hour_udf(col(\"Trip_Start_Timestamp_Hour_Minute\")))\n",
    "\n",
    "df_1=df_1.withColumn(\"trip_end_hour\",\n",
    "                  extract_hour_udf(col(\"Trip_End_Timestamp_Hour_Minute\")))"
   ]
  },
  {
   "cell_type": "markdown",
   "metadata": {},
   "source": [
    " ### Pivoteamento dos campos de horas"
   ]
  },
  {
   "cell_type": "code",
   "execution_count": 20,
   "metadata": {},
   "outputs": [
    {
     "name": "stderr",
     "output_type": "stream",
     "text": [
      "                                                                                \r"
     ]
    }
   ],
   "source": [
    "columns_to_useT=columns_to_use+['trip_end_hour',\"Trip_End_Timestamp_Date\"]+['pickup_area_normalized','dropoff_area_normalized','company_normalized','Payment_Type']\n",
    "df_1=df_1.groupBy(columns_to_useT).pivot(\"trip_start_hour\").count()\n",
    "for c in df_1.columns:\n",
    "    if(not(c  in  columns_to_useT)):\n",
    "        df_1=df_1.withColumnRenamed(c,'trip_start_hour__'+c)\n",
    "        columns_to_use.append('trip_start_hour__'+c)\n",
    "\n",
    "\n",
    "columns_to_useT=columns_to_use+[\"Trip_End_Timestamp_Date\"]+['pickup_area_normalized','dropoff_area_normalized','company_normalized','Payment_Type']\n",
    "df_1=df_1.groupBy(columns_to_useT).pivot(\"trip_end_hour\").count()\n",
    "for c in df_1.columns:\n",
    "    if(not(c  in  columns_to_useT)):\n",
    "        df_1=df_1.withColumnRenamed(c,'trip_end_hour__'+c)\n",
    "        columns_to_use.append('trip_end_hour__'+c)"
   ]
  },
  {
   "cell_type": "markdown",
   "metadata": {},
   "source": [
    " ### Cria o campo mês sem dia ou ano"
   ]
  },
  {
   "cell_type": "code",
   "execution_count": 21,
   "metadata": {},
   "outputs": [],
   "source": [
    "extract_month_udf=udf(lambda z: z.split(\"-\")[1])\n",
    "\n",
    "\n",
    "df_1=df_1.withColumn(\"trip_month\",\n",
    "                  extract_month_udf(col(\"Trip_End_Timestamp_Date\")))"
   ]
  },
  {
   "cell_type": "markdown",
   "metadata": {},
   "source": [
    " ### Pivoteamento do campo mês"
   ]
  },
  {
   "cell_type": "code",
   "execution_count": 22,
   "metadata": {},
   "outputs": [
    {
     "name": "stderr",
     "output_type": "stream",
     "text": [
      "                                                                                \r"
     ]
    }
   ],
   "source": [
    "columns_to_useT=columns_to_use+['pickup_area_normalized','dropoff_area_normalized','company_normalized','Payment_Type']\n",
    "df_1=df_1.groupBy(columns_to_useT).pivot(\"trip_month\").count()\n",
    "for c in df_1.columns:\n",
    "    if(not(c  in  columns_to_useT)):\n",
    "        df_1=df_1.withColumnRenamed(c,'trip_month__'+c)\n",
    "        columns_to_use.append('trip_month__'+c)\n",
    "\n",
    "\n",
    "df=df_1"
   ]
  },
  {
   "cell_type": "markdown",
   "metadata": {},
   "source": [
    " ##Substituir campos nulos em Patment_Type por 'm1'"
   ]
  },
  {
   "cell_type": "code",
   "execution_count": 23,
   "metadata": {},
   "outputs": [],
   "source": [
    "df=df.fillna('m1', subset=['Payment_Type'])"
   ]
  },
  {
   "cell_type": "markdown",
   "metadata": {},
   "source": [
    " ## Pivoteamento das colunas dropoff_area_normalized, pickup_area_normalized e company_normalized."
   ]
  },
  {
   "cell_type": "code",
   "execution_count": 24,
   "metadata": {},
   "outputs": [
    {
     "name": "stderr",
     "output_type": "stream",
     "text": [
      "                                                                                \r"
     ]
    }
   ],
   "source": [
    "columns_to_useT=columns_to_use+['pickup_area_normalized','company_normalized','Payment_Type']\n",
    "df_1=df.groupBy(columns_to_useT).pivot(\"dropoff_area_normalized\").count()\n",
    "\n",
    "for c in df_1.columns:\n",
    "    if(not(c  in  columns_to_useT)):\n",
    "        df_1=df_1.withColumnRenamed(c,'dropoff_area__'+c)\n",
    "        columns_to_use.append('dropoff_area__'+c)\n",
    "\n",
    "\n",
    "\n",
    "columns_to_useT=columns_to_use+['company_normalized','Payment_Type']\n",
    "df_1=df_1.groupBy(columns_to_useT).pivot(\"pickup_area_normalized\").count()       \n",
    "\n",
    "for c in df_1.columns:\n",
    "    if(not(c  in  columns_to_useT)):\n",
    "        df_1=df_1.withColumnRenamed(c,'pickup_area__'+c)\n",
    "        columns_to_use.append('pickup_area__'+c)\n",
    "        \n",
    "\n",
    "columns_to_useT=columns_to_use+['Payment_Type']\n",
    "df_1=df_1.groupBy(columns_to_useT)\\\n",
    "       .pivot(\"company_normalized\").count()\n",
    "\n",
    "\n",
    "for c in df_1.columns:\n",
    "    if(not(c  in  columns_to_useT)):\n",
    "        newNameForC=c.replace(\" \",\"_\")\n",
    "        newNameForC=re.sub(r\"[^a-zA-Z0-9 ]\", \"_\", newNameForC)\n",
    "        df_1=df_1.withColumnRenamed(c,'company__'+newNameForC)\n",
    "        columns_to_use.append('company__'+newNameForC)\n",
    "\n",
    "\n",
    "df_1=df_1.groupBy(columns_to_use)\\\n",
    "         .pivot(\"Payment_Type\").count()\n",
    "for c in df_1.columns:\n",
    "    if(not(c  in  columns_to_use)):\n",
    "        newNameForC=c.replace(\" \",\"_\")\n",
    "        newNameForC=re.sub(r\"[^a-zA-Z0-9 ]\", \"_\", c)\n",
    "        df_1=df_1.withColumnRenamed(c,'payment_type__'+newNameForC)\n",
    "        columns_to_use.append('payment_type__'+newNameForC)"
   ]
  },
  {
   "cell_type": "markdown",
   "metadata": {},
   "source": [
    " ## Trocar None por 0 nos campos"
   ]
  },
  {
   "cell_type": "code",
   "execution_count": 25,
   "metadata": {},
   "outputs": [],
   "source": [
    "df=df_1.fillna(0)"
   ]
  },
  {
   "cell_type": "markdown",
   "metadata": {},
   "source": [
    " ## Imprimir algumas linhas para ver se esta tudo certo"
   ]
  },
  {
   "cell_type": "code",
   "execution_count": 26,
   "metadata": {},
   "outputs": [
    {
     "name": "stderr",
     "output_type": "stream",
     "text": [
      "                                                                                \r"
     ]
    },
    {
     "data": {
      "text/plain": [
       "[Row(Trip_ID='653f058e33c4fbeeaf20af84f2f57e2cecdb7d4e', Trip_Miles=1.0, Trip_Seconds=300.0, Fare=6.0, Tips=2.0, Tolls=0.0, Extras=1.0, Trip_Total=9.5, trip_start_hour__00=0, trip_start_hour__01=0, trip_start_hour__02=0, trip_start_hour__03=0, trip_start_hour__04=0, trip_start_hour__05=0, trip_start_hour__06=0, trip_start_hour__07=0, trip_start_hour__08=0, trip_start_hour__09=0, trip_start_hour__10=0, trip_start_hour__11=0, trip_start_hour__12=0, trip_start_hour__13=0, trip_start_hour__14=0, trip_start_hour__15=0, trip_start_hour__16=0, trip_start_hour__17=0, trip_start_hour__18=0, trip_start_hour__19=0, trip_start_hour__20=1, trip_start_hour__21=0, trip_start_hour__22=0, trip_start_hour__23=0, trip_end_hour__00=0, trip_end_hour__01=0, trip_end_hour__02=0, trip_end_hour__03=0, trip_end_hour__04=0, trip_end_hour__05=0, trip_end_hour__06=0, trip_end_hour__07=0, trip_end_hour__08=0, trip_end_hour__09=0, trip_end_hour__10=0, trip_end_hour__11=0, trip_end_hour__12=0, trip_end_hour__13=0, trip_end_hour__14=0, trip_end_hour__15=0, trip_end_hour__16=0, trip_end_hour__17=0, trip_end_hour__18=0, trip_end_hour__19=0, trip_end_hour__20=1, trip_end_hour__21=0, trip_end_hour__22=0, trip_end_hour__23=0, trip_month__01=0, trip_month__02=0, trip_month__03=0, trip_month__04=0, trip_month__05=0, trip_month__06=0, trip_month__07=0, trip_month__08=0, trip_month__09=1, trip_month__10=0, trip_month__11=0, trip_month__12=0, dropoff_area__22=0, dropoff_area__24=0, dropoff_area__28=1, dropoff_area__3=0, dropoff_area__32=0, dropoff_area__33=0, dropoff_area__6=0, dropoff_area__7=0, dropoff_area__76=0, dropoff_area__8=0, dropoff_area__m1=0, dropoff_area__m2=0, pickup_area__24=0, pickup_area__28=0, pickup_area__3=0, pickup_area__32=1, pickup_area__33=0, pickup_area__56=0, pickup_area__6=0, pickup_area__7=0, pickup_area__76=0, pickup_area__8=0, pickup_area__m1=0, pickup_area__m2=0, company__null=0, company__303_Taxi=0, company__American_United=0, company__Blue_Ribbon_Taxi_Association_Inc_=0, company__Chicago_Carriage_Cab_Corp=0, company__Choice_Taxi_Association=0, company__City_Service=0, company__Dispatch_Taxi_Affiliation=0, company__Flash_Cab=0, company__Globe_Taxi=0, company__KOAM_Taxi_Association=0, company__Medallion_Leasin=1, company__Northwest_Management_LLC=0, company__Star_North_Management_LLC=0, company__Sun_Taxi=0, company__Taxi_Affiliation_Service_Yellow=0, company__Taxi_Affiliation_Services=0, company__Top_Cab_Affiliation=0, company__Yellow_Cab=0, company__m1=0, payment_type__Cash=0, payment_type__Credit Card=1, payment_type__Dispute=0, payment_type__Mobile=0, payment_type__No Charge=0, payment_type__Pcard=0, payment_type__Prcard=0, payment_type__Prepaid=0, payment_type__Split=0, payment_type__Unknown=0, payment_type__Way2ride=0)]"
      ]
     },
     "execution_count": 26,
     "metadata": {},
     "output_type": "execute_result"
    }
   ],
   "source": [
    "df[df['Trip_ID']=='653f058e33c4fbeeaf20af84f2f57e2cecdb7d4e'].collect()"
   ]
  },
  {
   "cell_type": "markdown",
   "metadata": {},
   "source": [
    " ## Salva os resultados obtidos até agora"
   ]
  },
  {
   "cell_type": "code",
   "execution_count": 27,
   "metadata": {},
   "outputs": [
    {
     "name": "stderr",
     "output_type": "stream",
     "text": [
      "                                                                                \r"
     ]
    }
   ],
   "source": [
    "df=remove_special_characters(df)\n",
    "df.write.parquet('temp.parquet')"
   ]
  },
  {
   "cell_type": "markdown",
   "metadata": {},
   "source": [
    " ## Carrega os resultados obtidos até agora"
   ]
  },
  {
   "cell_type": "code",
   "execution_count": 3,
   "metadata": {},
   "outputs": [
    {
     "name": "stderr",
     "output_type": "stream",
     "text": [
      "\r",
      "[Stage 0:>                                                          (0 + 1) / 1]\r",
      "\r",
      "                                                                                \r"
     ]
    }
   ],
   "source": [
    "df=spark.read.parquet('temp.parquet')"
   ]
  },
  {
   "cell_type": "markdown",
   "metadata": {},
   "source": [
    "# Análise da distribuição das gorjetas\n",
    "Para ter um melhor entendimento de algumas metricas de qualidade do modelos de ML (como **MAE* e **MSE**) é necessário fazer uma análise distribuição do atributo predito. A seguir um histograma com a distribuição das gorjetas em uma amostra de 30% da base de dados:"
   ]
  },
  {
   "cell_type": "code",
   "execution_count": 4,
   "metadata": {},
   "outputs": [
    {
     "name": "stderr",
     "output_type": "stream",
     "text": [
      "                                                                                \r"
     ]
    },
    {
     "data": {
      "text/plain": [
       "<AxesSubplot: xlabel='Tips', ylabel='Count'>"
      ]
     },
     "execution_count": 4,
     "metadata": {},
     "output_type": "execute_result"
    },
    {
     "data": {
      "image/png": "[encoded data removed]",
      "text/plain": [
       "<Figure size 640x480 with 1 Axes>"
      ]
     },
     "metadata": {},
     "output_type": "display_data"
    }
   ],
   "source": [
    "import seaborn as sns\n",
    "import matplotlib.pyplot as plt\n",
    "import os\n",
    "from scipy import stats\n",
    "import shutil\n",
    "def get_column___tips___from_pyspark(df_pyspark):\n",
    "    #I need to save df[['Tips']] in a CSV file because the PySpark use many ram to convert a\n",
    "    #dataframe to pandas\n",
    "    df_tips=df_pyspark[['Tips']].repartition(1).write.csv('data_to_plot_histogram.csv',header=True)\n",
    "    files=os.listdir(\"data_to_plot_histogram.csv\")\n",
    "    file_csv=''\n",
    "    for file in files:\n",
    "        if(file[-3:]=='csv'):\n",
    "            file_csv=file\n",
    "            break\n",
    "    \n",
    "    df_dataframe=pd.read_csv(\"data_to_plot_histogram.csv/\"+file_csv)\n",
    "    shutil.rmtree(\"data_to_plot_histogram.csv\")\n",
    "    return df_dataframe\n",
    "    \n",
    "    \n",
    "sns.set(style=\"darkgrid\")\n",
    "df_tips= get_column___tips___from_pyspark(df.sample(0.3))\n",
    "df_tips2=df_tips[(np.abs(stats.zscore(df_tips)) < 3)]# Remove outliers\n",
    "sns.histplot(data=df_tips2, x=\"Tips\",bins=8)"
   ]
  },
  {
   "cell_type": "markdown",
   "metadata": {},
   "source": [
    "# Estudo do modelo de ML a ser utilizado e análise das variáveis\n",
    "\n",
    "## Colher uma amostras dos dados para utilizar no Pycaret e Scikit\n",
    "\n"
   ]
  },
  {
   "cell_type": "code",
   "execution_count": 7,
   "metadata": {},
   "outputs": [
    {
     "name": "stderr",
     "output_type": "stream",
     "text": [
      "                                                                                \r"
     ]
    },
    {
     "data": {
      "text/html": [
       "<div>\n",
       "<style scoped>\n",
       "    .dataframe tbody tr th:only-of-type {\n",
       "        vertical-align: middle;\n",
       "    }\n",
       "\n",
       "    .dataframe tbody tr th {\n",
       "        vertical-align: top;\n",
       "    }\n",
       "\n",
       "    .dataframe thead th {\n",
       "        text-align: right;\n",
       "    }\n",
       "</style>\n",
       "<table border=\"1\" class=\"dataframe\">\n",
       "  <thead>\n",
       "    <tr style=\"text-align: right;\">\n",
       "      <th></th>\n",
       "      <th>Trip_ID</th>\n",
       "      <th>Trip_Miles</th>\n",
       "      <th>Trip_Seconds</th>\n",
       "      <th>Fare</th>\n",
       "      <th>Tips</th>\n",
       "      <th>Tolls</th>\n",
       "      <th>Extras</th>\n",
       "      <th>Trip_Total</th>\n",
       "      <th>trip_start_hour__00</th>\n",
       "      <th>trip_start_hour__01</th>\n",
       "      <th>...</th>\n",
       "      <th>payment_type__Credit_Card</th>\n",
       "      <th>payment_type__Dispute</th>\n",
       "      <th>payment_type__Mobile</th>\n",
       "      <th>payment_type__No_Charge</th>\n",
       "      <th>payment_type__Pcard</th>\n",
       "      <th>payment_type__Prcard</th>\n",
       "      <th>payment_type__Prepaid</th>\n",
       "      <th>payment_type__Split</th>\n",
       "      <th>payment_type__Unknown</th>\n",
       "      <th>payment_type__Way2ride</th>\n",
       "    </tr>\n",
       "  </thead>\n",
       "  <tbody>\n",
       "    <tr>\n",
       "      <th>0</th>\n",
       "      <td>47ac08f15da8006536f32560241172bc3190c9e5</td>\n",
       "      <td>7.20</td>\n",
       "      <td>1696.0</td>\n",
       "      <td>22.25</td>\n",
       "      <td>5.56</td>\n",
       "      <td>0.0</td>\n",
       "      <td>0.0</td>\n",
       "      <td>27.81</td>\n",
       "      <td>0</td>\n",
       "      <td>0</td>\n",
       "      <td>...</td>\n",
       "      <td>1</td>\n",
       "      <td>0</td>\n",
       "      <td>0</td>\n",
       "      <td>0</td>\n",
       "      <td>0</td>\n",
       "      <td>0</td>\n",
       "      <td>0</td>\n",
       "      <td>0</td>\n",
       "      <td>0</td>\n",
       "      <td>0</td>\n",
       "    </tr>\n",
       "    <tr>\n",
       "      <th>1</th>\n",
       "      <td>aa2332b5131d25ac49e5ee6bf10816afc36d9e71</td>\n",
       "      <td>1.10</td>\n",
       "      <td>295.0</td>\n",
       "      <td>5.65</td>\n",
       "      <td>0.00</td>\n",
       "      <td>0.0</td>\n",
       "      <td>0.0</td>\n",
       "      <td>5.65</td>\n",
       "      <td>0</td>\n",
       "      <td>0</td>\n",
       "      <td>...</td>\n",
       "      <td>0</td>\n",
       "      <td>0</td>\n",
       "      <td>0</td>\n",
       "      <td>0</td>\n",
       "      <td>0</td>\n",
       "      <td>0</td>\n",
       "      <td>0</td>\n",
       "      <td>0</td>\n",
       "      <td>0</td>\n",
       "      <td>0</td>\n",
       "    </tr>\n",
       "    <tr>\n",
       "      <th>2</th>\n",
       "      <td>aeb352237f5ab7c99e0e27e1d2c39c93c1582169</td>\n",
       "      <td>1.90</td>\n",
       "      <td>1020.0</td>\n",
       "      <td>9.85</td>\n",
       "      <td>0.00</td>\n",
       "      <td>0.0</td>\n",
       "      <td>0.0</td>\n",
       "      <td>9.85</td>\n",
       "      <td>0</td>\n",
       "      <td>0</td>\n",
       "      <td>...</td>\n",
       "      <td>0</td>\n",
       "      <td>0</td>\n",
       "      <td>0</td>\n",
       "      <td>0</td>\n",
       "      <td>0</td>\n",
       "      <td>0</td>\n",
       "      <td>0</td>\n",
       "      <td>0</td>\n",
       "      <td>0</td>\n",
       "      <td>0</td>\n",
       "    </tr>\n",
       "    <tr>\n",
       "      <th>3</th>\n",
       "      <td>001234b5797af723de2b203c70946e8f6567c49c</td>\n",
       "      <td>2.00</td>\n",
       "      <td>600.0</td>\n",
       "      <td>8.25</td>\n",
       "      <td>0.00</td>\n",
       "      <td>0.0</td>\n",
       "      <td>0.0</td>\n",
       "      <td>8.25</td>\n",
       "      <td>0</td>\n",
       "      <td>0</td>\n",
       "      <td>...</td>\n",
       "      <td>0</td>\n",
       "      <td>0</td>\n",
       "      <td>0</td>\n",
       "      <td>0</td>\n",
       "      <td>0</td>\n",
       "      <td>0</td>\n",
       "      <td>0</td>\n",
       "      <td>0</td>\n",
       "      <td>0</td>\n",
       "      <td>0</td>\n",
       "    </tr>\n",
       "    <tr>\n",
       "      <th>4</th>\n",
       "      <td>1fb180ff78fb0c3c301d4abca8e1251eaf8cb5a9</td>\n",
       "      <td>6.76</td>\n",
       "      <td>1079.0</td>\n",
       "      <td>20.50</td>\n",
       "      <td>0.00</td>\n",
       "      <td>0.0</td>\n",
       "      <td>0.0</td>\n",
       "      <td>20.50</td>\n",
       "      <td>0</td>\n",
       "      <td>0</td>\n",
       "      <td>...</td>\n",
       "      <td>0</td>\n",
       "      <td>0</td>\n",
       "      <td>0</td>\n",
       "      <td>0</td>\n",
       "      <td>0</td>\n",
       "      <td>0</td>\n",
       "      <td>0</td>\n",
       "      <td>0</td>\n",
       "      <td>0</td>\n",
       "      <td>0</td>\n",
       "    </tr>\n",
       "    <tr>\n",
       "      <th>...</th>\n",
       "      <td>...</td>\n",
       "      <td>...</td>\n",
       "      <td>...</td>\n",
       "      <td>...</td>\n",
       "      <td>...</td>\n",
       "      <td>...</td>\n",
       "      <td>...</td>\n",
       "      <td>...</td>\n",
       "      <td>...</td>\n",
       "      <td>...</td>\n",
       "      <td>...</td>\n",
       "      <td>...</td>\n",
       "      <td>...</td>\n",
       "      <td>...</td>\n",
       "      <td>...</td>\n",
       "      <td>...</td>\n",
       "      <td>...</td>\n",
       "      <td>...</td>\n",
       "      <td>...</td>\n",
       "      <td>...</td>\n",
       "      <td>...</td>\n",
       "    </tr>\n",
       "    <tr>\n",
       "      <th>161067</th>\n",
       "      <td>ff7bd93f201759019609317600b8b403710056f6</td>\n",
       "      <td>1.80</td>\n",
       "      <td>587.0</td>\n",
       "      <td>8.25</td>\n",
       "      <td>0.00</td>\n",
       "      <td>0.0</td>\n",
       "      <td>1.0</td>\n",
       "      <td>9.25</td>\n",
       "      <td>0</td>\n",
       "      <td>0</td>\n",
       "      <td>...</td>\n",
       "      <td>0</td>\n",
       "      <td>0</td>\n",
       "      <td>0</td>\n",
       "      <td>0</td>\n",
       "      <td>0</td>\n",
       "      <td>0</td>\n",
       "      <td>0</td>\n",
       "      <td>0</td>\n",
       "      <td>0</td>\n",
       "      <td>0</td>\n",
       "    </tr>\n",
       "    <tr>\n",
       "      <th>161068</th>\n",
       "      <td>ff821a659c47aa253ef52281215ccb227ba08839</td>\n",
       "      <td>2.21</td>\n",
       "      <td>977.0</td>\n",
       "      <td>11.00</td>\n",
       "      <td>1.88</td>\n",
       "      <td>0.0</td>\n",
       "      <td>1.0</td>\n",
       "      <td>13.88</td>\n",
       "      <td>0</td>\n",
       "      <td>0</td>\n",
       "      <td>...</td>\n",
       "      <td>0</td>\n",
       "      <td>0</td>\n",
       "      <td>0</td>\n",
       "      <td>0</td>\n",
       "      <td>0</td>\n",
       "      <td>1</td>\n",
       "      <td>0</td>\n",
       "      <td>0</td>\n",
       "      <td>0</td>\n",
       "      <td>0</td>\n",
       "    </tr>\n",
       "    <tr>\n",
       "      <th>161069</th>\n",
       "      <td>ffbe6535bd8972039b7a081470c2ddce1a449b34</td>\n",
       "      <td>11.00</td>\n",
       "      <td>1920.0</td>\n",
       "      <td>24.45</td>\n",
       "      <td>0.00</td>\n",
       "      <td>0.0</td>\n",
       "      <td>2.0</td>\n",
       "      <td>26.45</td>\n",
       "      <td>0</td>\n",
       "      <td>0</td>\n",
       "      <td>...</td>\n",
       "      <td>0</td>\n",
       "      <td>0</td>\n",
       "      <td>0</td>\n",
       "      <td>0</td>\n",
       "      <td>0</td>\n",
       "      <td>0</td>\n",
       "      <td>0</td>\n",
       "      <td>0</td>\n",
       "      <td>0</td>\n",
       "      <td>0</td>\n",
       "    </tr>\n",
       "    <tr>\n",
       "      <th>161070</th>\n",
       "      <td>ffdecebd63f126d278de2634f0e54fedfe378e98</td>\n",
       "      <td>0.70</td>\n",
       "      <td>1320.0</td>\n",
       "      <td>26.05</td>\n",
       "      <td>0.00</td>\n",
       "      <td>0.0</td>\n",
       "      <td>2.0</td>\n",
       "      <td>28.05</td>\n",
       "      <td>0</td>\n",
       "      <td>0</td>\n",
       "      <td>...</td>\n",
       "      <td>0</td>\n",
       "      <td>0</td>\n",
       "      <td>0</td>\n",
       "      <td>0</td>\n",
       "      <td>0</td>\n",
       "      <td>0</td>\n",
       "      <td>0</td>\n",
       "      <td>0</td>\n",
       "      <td>0</td>\n",
       "      <td>0</td>\n",
       "    </tr>\n",
       "    <tr>\n",
       "      <th>161071</th>\n",
       "      <td>fffc094c55706789ce0d6cb4b85836981b11c3cd</td>\n",
       "      <td>3.10</td>\n",
       "      <td>1478.0</td>\n",
       "      <td>13.50</td>\n",
       "      <td>4.13</td>\n",
       "      <td>0.0</td>\n",
       "      <td>3.0</td>\n",
       "      <td>20.63</td>\n",
       "      <td>0</td>\n",
       "      <td>0</td>\n",
       "      <td>...</td>\n",
       "      <td>1</td>\n",
       "      <td>0</td>\n",
       "      <td>0</td>\n",
       "      <td>0</td>\n",
       "      <td>0</td>\n",
       "      <td>0</td>\n",
       "      <td>0</td>\n",
       "      <td>0</td>\n",
       "      <td>0</td>\n",
       "      <td>0</td>\n",
       "    </tr>\n",
       "  </tbody>\n",
       "</table>\n",
       "<p>161072 rows × 123 columns</p>\n",
       "</div>"
      ],
      "text/plain": [
       "                                         Trip_ID  Trip_Miles  Trip_Seconds  \\\n",
       "0       47ac08f15da8006536f32560241172bc3190c9e5        7.20        1696.0   \n",
       "1       aa2332b5131d25ac49e5ee6bf10816afc36d9e71        1.10         295.0   \n",
       "2       aeb352237f5ab7c99e0e27e1d2c39c93c1582169        1.90        1020.0   \n",
       "3       001234b5797af723de2b203c70946e8f6567c49c        2.00         600.0   \n",
       "4       1fb180ff78fb0c3c301d4abca8e1251eaf8cb5a9        6.76        1079.0   \n",
       "...                                          ...         ...           ...   \n",
       "161067  ff7bd93f201759019609317600b8b403710056f6        1.80         587.0   \n",
       "161068  ff821a659c47aa253ef52281215ccb227ba08839        2.21         977.0   \n",
       "161069  ffbe6535bd8972039b7a081470c2ddce1a449b34       11.00        1920.0   \n",
       "161070  ffdecebd63f126d278de2634f0e54fedfe378e98        0.70        1320.0   \n",
       "161071  fffc094c55706789ce0d6cb4b85836981b11c3cd        3.10        1478.0   \n",
       "\n",
       "         Fare  Tips  Tolls  Extras  Trip_Total  trip_start_hour__00  \\\n",
       "0       22.25  5.56    0.0     0.0       27.81                    0   \n",
       "1        5.65  0.00    0.0     0.0        5.65                    0   \n",
       "2        9.85  0.00    0.0     0.0        9.85                    0   \n",
       "3        8.25  0.00    0.0     0.0        8.25                    0   \n",
       "4       20.50  0.00    0.0     0.0       20.50                    0   \n",
       "...       ...   ...    ...     ...         ...                  ...   \n",
       "161067   8.25  0.00    0.0     1.0        9.25                    0   \n",
       "161068  11.00  1.88    0.0     1.0       13.88                    0   \n",
       "161069  24.45  0.00    0.0     2.0       26.45                    0   \n",
       "161070  26.05  0.00    0.0     2.0       28.05                    0   \n",
       "161071  13.50  4.13    0.0     3.0       20.63                    0   \n",
       "\n",
       "        trip_start_hour__01  ...  payment_type__Credit_Card  \\\n",
       "0                         0  ...                          1   \n",
       "1                         0  ...                          0   \n",
       "2                         0  ...                          0   \n",
       "3                         0  ...                          0   \n",
       "4                         0  ...                          0   \n",
       "...                     ...  ...                        ...   \n",
       "161067                    0  ...                          0   \n",
       "161068                    0  ...                          0   \n",
       "161069                    0  ...                          0   \n",
       "161070                    0  ...                          0   \n",
       "161071                    0  ...                          1   \n",
       "\n",
       "        payment_type__Dispute  payment_type__Mobile  payment_type__No_Charge  \\\n",
       "0                           0                     0                        0   \n",
       "1                           0                     0                        0   \n",
       "2                           0                     0                        0   \n",
       "3                           0                     0                        0   \n",
       "4                           0                     0                        0   \n",
       "...                       ...                   ...                      ...   \n",
       "161067                      0                     0                        0   \n",
       "161068                      0                     0                        0   \n",
       "161069                      0                     0                        0   \n",
       "161070                      0                     0                        0   \n",
       "161071                      0                     0                        0   \n",
       "\n",
       "        payment_type__Pcard  payment_type__Prcard  payment_type__Prepaid  \\\n",
       "0                         0                     0                      0   \n",
       "1                         0                     0                      0   \n",
       "2                         0                     0                      0   \n",
       "3                         0                     0                      0   \n",
       "4                         0                     0                      0   \n",
       "...                     ...                   ...                    ...   \n",
       "161067                    0                     0                      0   \n",
       "161068                    0                     1                      0   \n",
       "161069                    0                     0                      0   \n",
       "161070                    0                     0                      0   \n",
       "161071                    0                     0                      0   \n",
       "\n",
       "        payment_type__Split  payment_type__Unknown  payment_type__Way2ride  \n",
       "0                         0                      0                       0  \n",
       "1                         0                      0                       0  \n",
       "2                         0                      0                       0  \n",
       "3                         0                      0                       0  \n",
       "4                         0                      0                       0  \n",
       "...                     ...                    ...                     ...  \n",
       "161067                    0                      0                       0  \n",
       "161068                    0                      0                       0  \n",
       "161069                    0                      0                       0  \n",
       "161070                    0                      0                       0  \n",
       "161071                    0                      0                       0  \n",
       "\n",
       "[161072 rows x 123 columns]"
      ]
     },
     "execution_count": 7,
     "metadata": {},
     "output_type": "execute_result"
    }
   ],
   "source": [
    "df_sample=df.sample(0.001,seed=20).toPandas()\n",
    "df_sample"
   ]
  },
  {
   "cell_type": "markdown",
   "metadata": {},
   "source": [
    "## Analisar pela amostra qual o melhor modelo de ML usando PyCaret"
   ]
  },
  {
   "cell_type": "code",
   "execution_count": 9,
   "metadata": {},
   "outputs": [
    {
     "data": {
      "text/html": [
       "<style type=\"text/css\">\n",
       "#T_3f664 th {\n",
       "  text-align: left;\n",
       "}\n",
       "#T_3f664_row0_col0, #T_3f664_row1_col0, #T_3f664_row1_col1, #T_3f664_row1_col2, #T_3f664_row1_col3, #T_3f664_row1_col4, #T_3f664_row1_col5, #T_3f664_row1_col6, #T_3f664_row2_col0, #T_3f664_row2_col1, #T_3f664_row2_col2, #T_3f664_row2_col3, #T_3f664_row2_col4, #T_3f664_row2_col5, #T_3f664_row2_col6, #T_3f664_row3_col0, #T_3f664_row3_col1, #T_3f664_row3_col2, #T_3f664_row3_col3, #T_3f664_row3_col4, #T_3f664_row3_col5, #T_3f664_row3_col6, #T_3f664_row4_col0, #T_3f664_row4_col1, #T_3f664_row4_col2, #T_3f664_row4_col3, #T_3f664_row4_col4, #T_3f664_row4_col5, #T_3f664_row4_col6, #T_3f664_row5_col0, #T_3f664_row5_col1, #T_3f664_row5_col2, #T_3f664_row5_col3, #T_3f664_row5_col4, #T_3f664_row5_col5, #T_3f664_row5_col6, #T_3f664_row6_col0, #T_3f664_row6_col1, #T_3f664_row6_col2, #T_3f664_row6_col3, #T_3f664_row6_col4, #T_3f664_row6_col5, #T_3f664_row6_col6, #T_3f664_row7_col0, #T_3f664_row7_col1, #T_3f664_row7_col2, #T_3f664_row7_col3, #T_3f664_row7_col4, #T_3f664_row7_col5, #T_3f664_row7_col6, #T_3f664_row8_col0, #T_3f664_row8_col1, #T_3f664_row8_col2, #T_3f664_row8_col3, #T_3f664_row8_col4, #T_3f664_row8_col5, #T_3f664_row8_col6, #T_3f664_row9_col0, #T_3f664_row9_col1, #T_3f664_row9_col2, #T_3f664_row9_col3, #T_3f664_row9_col4, #T_3f664_row9_col5, #T_3f664_row9_col6, #T_3f664_row10_col0, #T_3f664_row10_col1, #T_3f664_row10_col2, #T_3f664_row10_col3, #T_3f664_row10_col4, #T_3f664_row10_col5, #T_3f664_row10_col6, #T_3f664_row11_col0, #T_3f664_row11_col1, #T_3f664_row11_col2, #T_3f664_row11_col3, #T_3f664_row11_col4, #T_3f664_row11_col5, #T_3f664_row11_col6, #T_3f664_row12_col0, #T_3f664_row12_col1, #T_3f664_row12_col2, #T_3f664_row12_col3, #T_3f664_row12_col4, #T_3f664_row12_col5, #T_3f664_row12_col6, #T_3f664_row13_col0, #T_3f664_row13_col1, #T_3f664_row13_col2, #T_3f664_row13_col3, #T_3f664_row13_col4, #T_3f664_row13_col5, #T_3f664_row13_col6, #T_3f664_row14_col0, #T_3f664_row14_col1, #T_3f664_row14_col2, #T_3f664_row14_col3, #T_3f664_row14_col4, #T_3f664_row14_col5, #T_3f664_row14_col6 {\n",
       "  text-align: left;\n",
       "}\n",
       "#T_3f664_row0_col1, #T_3f664_row0_col2, #T_3f664_row0_col3, #T_3f664_row0_col4, #T_3f664_row0_col5, #T_3f664_row0_col6 {\n",
       "  text-align: left;\n",
       "  background-color: yellow;\n",
       "}\n",
       "#T_3f664_row0_col7, #T_3f664_row1_col7, #T_3f664_row2_col7, #T_3f664_row3_col7, #T_3f664_row4_col7, #T_3f664_row5_col7, #T_3f664_row6_col7, #T_3f664_row7_col7, #T_3f664_row8_col7, #T_3f664_row9_col7, #T_3f664_row10_col7, #T_3f664_row11_col7, #T_3f664_row13_col7, #T_3f664_row14_col7 {\n",
       "  text-align: left;\n",
       "  background-color: lightgrey;\n",
       "}\n",
       "#T_3f664_row12_col7 {\n",
       "  text-align: left;\n",
       "  background-color: yellow;\n",
       "  background-color: lightgrey;\n",
       "}\n",
       "</style>\n",
       "<table id=\"T_3f664\">\n",
       "  <thead>\n",
       "    <tr>\n",
       "      <th class=\"blank level0\" >&nbsp;</th>\n",
       "      <th id=\"T_3f664_level0_col0\" class=\"col_heading level0 col0\" >Model</th>\n",
       "      <th id=\"T_3f664_level0_col1\" class=\"col_heading level0 col1\" >MAE</th>\n",
       "      <th id=\"T_3f664_level0_col2\" class=\"col_heading level0 col2\" >MSE</th>\n",
       "      <th id=\"T_3f664_level0_col3\" class=\"col_heading level0 col3\" >RMSE</th>\n",
       "      <th id=\"T_3f664_level0_col4\" class=\"col_heading level0 col4\" >R2</th>\n",
       "      <th id=\"T_3f664_level0_col5\" class=\"col_heading level0 col5\" >RMSLE</th>\n",
       "      <th id=\"T_3f664_level0_col6\" class=\"col_heading level0 col6\" >MAPE</th>\n",
       "      <th id=\"T_3f664_level0_col7\" class=\"col_heading level0 col7\" >TT (Sec)</th>\n",
       "    </tr>\n",
       "  </thead>\n",
       "  <tbody>\n",
       "    <tr>\n",
       "      <th id=\"T_3f664_level0_row0\" class=\"row_heading level0 row0\" >lightgbm</th>\n",
       "      <td id=\"T_3f664_row0_col0\" class=\"data row0 col0\" >Light Gradient Boosting Machine</td>\n",
       "      <td id=\"T_3f664_row0_col1\" class=\"data row0 col1\" >0.4297</td>\n",
       "      <td id=\"T_3f664_row0_col2\" class=\"data row0 col2\" >1.5699</td>\n",
       "      <td id=\"T_3f664_row0_col3\" class=\"data row0 col3\" >1.2518</td>\n",
       "      <td id=\"T_3f664_row0_col4\" class=\"data row0 col4\" >0.7889</td>\n",
       "      <td id=\"T_3f664_row0_col5\" class=\"data row0 col5\" >0.2798</td>\n",
       "      <td id=\"T_3f664_row0_col6\" class=\"data row0 col6\" >0.5734</td>\n",
       "      <td id=\"T_3f664_row0_col7\" class=\"data row0 col7\" >0.2740</td>\n",
       "    </tr>\n",
       "    <tr>\n",
       "      <th id=\"T_3f664_level0_row1\" class=\"row_heading level0 row1\" >rf</th>\n",
       "      <td id=\"T_3f664_row1_col0\" class=\"data row1 col0\" >Random Forest Regressor</td>\n",
       "      <td id=\"T_3f664_row1_col1\" class=\"data row1 col1\" >0.4459</td>\n",
       "      <td id=\"T_3f664_row1_col2\" class=\"data row1 col2\" >1.6365</td>\n",
       "      <td id=\"T_3f664_row1_col3\" class=\"data row1 col3\" >1.2781</td>\n",
       "      <td id=\"T_3f664_row1_col4\" class=\"data row1 col4\" >0.7799</td>\n",
       "      <td id=\"T_3f664_row1_col5\" class=\"data row1 col5\" >0.2847</td>\n",
       "      <td id=\"T_3f664_row1_col6\" class=\"data row1 col6\" >0.5829</td>\n",
       "      <td id=\"T_3f664_row1_col7\" class=\"data row1 col7\" >20.1270</td>\n",
       "    </tr>\n",
       "    <tr>\n",
       "      <th id=\"T_3f664_level0_row2\" class=\"row_heading level0 row2\" >et</th>\n",
       "      <td id=\"T_3f664_row2_col0\" class=\"data row2 col0\" >Extra Trees Regressor</td>\n",
       "      <td id=\"T_3f664_row2_col1\" class=\"data row2 col1\" >0.4614</td>\n",
       "      <td id=\"T_3f664_row2_col2\" class=\"data row2 col2\" >1.7640</td>\n",
       "      <td id=\"T_3f664_row2_col3\" class=\"data row2 col3\" >1.3268</td>\n",
       "      <td id=\"T_3f664_row2_col4\" class=\"data row2 col4\" >0.7627</td>\n",
       "      <td id=\"T_3f664_row2_col5\" class=\"data row2 col5\" >0.2903</td>\n",
       "      <td id=\"T_3f664_row2_col6\" class=\"data row2 col6\" >0.6004</td>\n",
       "      <td id=\"T_3f664_row2_col7\" class=\"data row2 col7\" >28.7190</td>\n",
       "    </tr>\n",
       "    <tr>\n",
       "      <th id=\"T_3f664_level0_row3\" class=\"row_heading level0 row3\" >dt</th>\n",
       "      <td id=\"T_3f664_row3_col0\" class=\"data row3 col0\" >Decision Tree Regressor</td>\n",
       "      <td id=\"T_3f664_row3_col1\" class=\"data row3 col1\" >0.6184</td>\n",
       "      <td id=\"T_3f664_row3_col2\" class=\"data row3 col2\" >3.1856</td>\n",
       "      <td id=\"T_3f664_row3_col3\" class=\"data row3 col3\" >1.7818</td>\n",
       "      <td id=\"T_3f664_row3_col4\" class=\"data row3 col4\" >0.5713</td>\n",
       "      <td id=\"T_3f664_row3_col5\" class=\"data row3 col5\" >0.3925</td>\n",
       "      <td id=\"T_3f664_row3_col6\" class=\"data row3 col6\" >0.7112</td>\n",
       "      <td id=\"T_3f664_row3_col7\" class=\"data row3 col7\" >0.3380</td>\n",
       "    </tr>\n",
       "    <tr>\n",
       "      <th id=\"T_3f664_level0_row4\" class=\"row_heading level0 row4\" >lr</th>\n",
       "      <td id=\"T_3f664_row4_col0\" class=\"data row4 col0\" >Linear Regression</td>\n",
       "      <td id=\"T_3f664_row4_col1\" class=\"data row4 col1\" >0.9767</td>\n",
       "      <td id=\"T_3f664_row4_col2\" class=\"data row4 col2\" >3.7109</td>\n",
       "      <td id=\"T_3f664_row4_col3\" class=\"data row4 col3\" >1.8766</td>\n",
       "      <td id=\"T_3f664_row4_col4\" class=\"data row4 col4\" >0.5079</td>\n",
       "      <td id=\"T_3f664_row4_col5\" class=\"data row4 col5\" >0.4945</td>\n",
       "      <td id=\"T_3f664_row4_col6\" class=\"data row4 col6\" >0.8261</td>\n",
       "      <td id=\"T_3f664_row4_col7\" class=\"data row4 col7\" >0.4120</td>\n",
       "    </tr>\n",
       "    <tr>\n",
       "      <th id=\"T_3f664_level0_row5\" class=\"row_heading level0 row5\" >ridge</th>\n",
       "      <td id=\"T_3f664_row5_col0\" class=\"data row5 col0\" >Ridge Regression</td>\n",
       "      <td id=\"T_3f664_row5_col1\" class=\"data row5 col1\" >0.9763</td>\n",
       "      <td id=\"T_3f664_row5_col2\" class=\"data row5 col2\" >3.7111</td>\n",
       "      <td id=\"T_3f664_row5_col3\" class=\"data row5 col3\" >1.8767</td>\n",
       "      <td id=\"T_3f664_row5_col4\" class=\"data row5 col4\" >0.5079</td>\n",
       "      <td id=\"T_3f664_row5_col5\" class=\"data row5 col5\" >0.4943</td>\n",
       "      <td id=\"T_3f664_row5_col6\" class=\"data row5 col6\" >0.8259</td>\n",
       "      <td id=\"T_3f664_row5_col7\" class=\"data row5 col7\" >0.0440</td>\n",
       "    </tr>\n",
       "    <tr>\n",
       "      <th id=\"T_3f664_level0_row6\" class=\"row_heading level0 row6\" >br</th>\n",
       "      <td id=\"T_3f664_row6_col0\" class=\"data row6 col0\" >Bayesian Ridge</td>\n",
       "      <td id=\"T_3f664_row6_col1\" class=\"data row6 col1\" >0.9751</td>\n",
       "      <td id=\"T_3f664_row6_col2\" class=\"data row6 col2\" >3.7127</td>\n",
       "      <td id=\"T_3f664_row6_col3\" class=\"data row6 col3\" >1.8770</td>\n",
       "      <td id=\"T_3f664_row6_col4\" class=\"data row6 col4\" >0.5077</td>\n",
       "      <td id=\"T_3f664_row6_col5\" class=\"data row6 col5\" >0.4935</td>\n",
       "      <td id=\"T_3f664_row6_col6\" class=\"data row6 col6\" >0.8257</td>\n",
       "      <td id=\"T_3f664_row6_col7\" class=\"data row6 col7\" >1.5530</td>\n",
       "    </tr>\n",
       "    <tr>\n",
       "      <th id=\"T_3f664_level0_row7\" class=\"row_heading level0 row7\" >omp</th>\n",
       "      <td id=\"T_3f664_row7_col0\" class=\"data row7 col0\" >Orthogonal Matching Pursuit</td>\n",
       "      <td id=\"T_3f664_row7_col1\" class=\"data row7 col1\" >0.9701</td>\n",
       "      <td id=\"T_3f664_row7_col2\" class=\"data row7 col2\" >3.7191</td>\n",
       "      <td id=\"T_3f664_row7_col3\" class=\"data row7 col3\" >1.8805</td>\n",
       "      <td id=\"T_3f664_row7_col4\" class=\"data row7 col4\" >0.5067</td>\n",
       "      <td id=\"T_3f664_row7_col5\" class=\"data row7 col5\" >0.4888</td>\n",
       "      <td id=\"T_3f664_row7_col6\" class=\"data row7 col6\" >0.8284</td>\n",
       "      <td id=\"T_3f664_row7_col7\" class=\"data row7 col7\" >0.1350</td>\n",
       "    </tr>\n",
       "    <tr>\n",
       "      <th id=\"T_3f664_level0_row8\" class=\"row_heading level0 row8\" >huber</th>\n",
       "      <td id=\"T_3f664_row8_col0\" class=\"data row8 col0\" >Huber Regressor</td>\n",
       "      <td id=\"T_3f664_row8_col1\" class=\"data row8 col1\" >0.8139</td>\n",
       "      <td id=\"T_3f664_row8_col2\" class=\"data row8 col2\" >3.9915</td>\n",
       "      <td id=\"T_3f664_row8_col3\" class=\"data row8 col3\" >1.9913</td>\n",
       "      <td id=\"T_3f664_row8_col4\" class=\"data row8 col4\" >0.4637</td>\n",
       "      <td id=\"T_3f664_row8_col5\" class=\"data row8 col5\" >0.4302</td>\n",
       "      <td id=\"T_3f664_row8_col6\" class=\"data row8 col6\" >0.5952</td>\n",
       "      <td id=\"T_3f664_row8_col7\" class=\"data row8 col7\" >5.3920</td>\n",
       "    </tr>\n",
       "    <tr>\n",
       "      <th id=\"T_3f664_level0_row9\" class=\"row_heading level0 row9\" >en</th>\n",
       "      <td id=\"T_3f664_row9_col0\" class=\"data row9 col0\" >Elastic Net</td>\n",
       "      <td id=\"T_3f664_row9_col1\" class=\"data row9 col1\" >1.5529</td>\n",
       "      <td id=\"T_3f664_row9_col2\" class=\"data row9 col2\" >5.9633</td>\n",
       "      <td id=\"T_3f664_row9_col3\" class=\"data row9 col3\" >2.4411</td>\n",
       "      <td id=\"T_3f664_row9_col4\" class=\"data row9 col4\" >0.1975</td>\n",
       "      <td id=\"T_3f664_row9_col5\" class=\"data row9 col5\" >0.7214</td>\n",
       "      <td id=\"T_3f664_row9_col6\" class=\"data row9 col6\" >0.6254</td>\n",
       "      <td id=\"T_3f664_row9_col7\" class=\"data row9 col7\" >0.0630</td>\n",
       "    </tr>\n",
       "    <tr>\n",
       "      <th id=\"T_3f664_level0_row10\" class=\"row_heading level0 row10\" >lasso</th>\n",
       "      <td id=\"T_3f664_row10_col0\" class=\"data row10 col0\" >Lasso Regression</td>\n",
       "      <td id=\"T_3f664_row10_col1\" class=\"data row10 col1\" >1.8542</td>\n",
       "      <td id=\"T_3f664_row10_col2\" class=\"data row10 col2\" >7.4291</td>\n",
       "      <td id=\"T_3f664_row10_col3\" class=\"data row10 col3\" >2.7249</td>\n",
       "      <td id=\"T_3f664_row10_col4\" class=\"data row10 col4\" >-0.0001</td>\n",
       "      <td id=\"T_3f664_row10_col5\" class=\"data row10 col5\" >0.8437</td>\n",
       "      <td id=\"T_3f664_row10_col6\" class=\"data row10 col6\" >0.6555</td>\n",
       "      <td id=\"T_3f664_row10_col7\" class=\"data row10 col7\" >0.0530</td>\n",
       "    </tr>\n",
       "    <tr>\n",
       "      <th id=\"T_3f664_level0_row11\" class=\"row_heading level0 row11\" >llar</th>\n",
       "      <td id=\"T_3f664_row11_col0\" class=\"data row11 col0\" >Lasso Least Angle Regression</td>\n",
       "      <td id=\"T_3f664_row11_col1\" class=\"data row11 col1\" >1.8542</td>\n",
       "      <td id=\"T_3f664_row11_col2\" class=\"data row11 col2\" >7.4291</td>\n",
       "      <td id=\"T_3f664_row11_col3\" class=\"data row11 col3\" >2.7249</td>\n",
       "      <td id=\"T_3f664_row11_col4\" class=\"data row11 col4\" >-0.0001</td>\n",
       "      <td id=\"T_3f664_row11_col5\" class=\"data row11 col5\" >0.8437</td>\n",
       "      <td id=\"T_3f664_row11_col6\" class=\"data row11 col6\" >0.6555</td>\n",
       "      <td id=\"T_3f664_row11_col7\" class=\"data row11 col7\" >0.2520</td>\n",
       "    </tr>\n",
       "    <tr>\n",
       "      <th id=\"T_3f664_level0_row12\" class=\"row_heading level0 row12\" >dummy</th>\n",
       "      <td id=\"T_3f664_row12_col0\" class=\"data row12 col0\" >Dummy Regressor</td>\n",
       "      <td id=\"T_3f664_row12_col1\" class=\"data row12 col1\" >1.8542</td>\n",
       "      <td id=\"T_3f664_row12_col2\" class=\"data row12 col2\" >7.4291</td>\n",
       "      <td id=\"T_3f664_row12_col3\" class=\"data row12 col3\" >2.7249</td>\n",
       "      <td id=\"T_3f664_row12_col4\" class=\"data row12 col4\" >-0.0001</td>\n",
       "      <td id=\"T_3f664_row12_col5\" class=\"data row12 col5\" >0.8437</td>\n",
       "      <td id=\"T_3f664_row12_col6\" class=\"data row12 col6\" >0.6555</td>\n",
       "      <td id=\"T_3f664_row12_col7\" class=\"data row12 col7\" >0.0250</td>\n",
       "    </tr>\n",
       "    <tr>\n",
       "      <th id=\"T_3f664_level0_row13\" class=\"row_heading level0 row13\" >par</th>\n",
       "      <td id=\"T_3f664_row13_col0\" class=\"data row13 col0\" >Passive Aggressive Regressor</td>\n",
       "      <td id=\"T_3f664_row13_col1\" class=\"data row13 col1\" >1.1271</td>\n",
       "      <td id=\"T_3f664_row13_col2\" class=\"data row13 col2\" >17.0907</td>\n",
       "      <td id=\"T_3f664_row13_col3\" class=\"data row13 col3\" >3.5825</td>\n",
       "      <td id=\"T_3f664_row13_col4\" class=\"data row13 col4\" >-1.3503</td>\n",
       "      <td id=\"T_3f664_row13_col5\" class=\"data row13 col5\" >0.5416</td>\n",
       "      <td id=\"T_3f664_row13_col6\" class=\"data row13 col6\" >0.8030</td>\n",
       "      <td id=\"T_3f664_row13_col7\" class=\"data row13 col7\" >0.1760</td>\n",
       "    </tr>\n",
       "    <tr>\n",
       "      <th id=\"T_3f664_level0_row14\" class=\"row_heading level0 row14\" >ada</th>\n",
       "      <td id=\"T_3f664_row14_col0\" class=\"data row14 col0\" >AdaBoost Regressor</td>\n",
       "      <td id=\"T_3f664_row14_col1\" class=\"data row14 col1\" >6.5985</td>\n",
       "      <td id=\"T_3f664_row14_col2\" class=\"data row14 col2\" >57.1774</td>\n",
       "      <td id=\"T_3f664_row14_col3\" class=\"data row14 col3\" >7.5172</td>\n",
       "      <td id=\"T_3f664_row14_col4\" class=\"data row14 col4\" >-6.6741</td>\n",
       "      <td id=\"T_3f664_row14_col5\" class=\"data row14 col5\" >1.5764</td>\n",
       "      <td id=\"T_3f664_row14_col6\" class=\"data row14 col6\" >5.6782</td>\n",
       "      <td id=\"T_3f664_row14_col7\" class=\"data row14 col7\" >6.9520</td>\n",
       "    </tr>\n",
       "  </tbody>\n",
       "</table>\n"
      ],
      "text/plain": [
       "<pandas.io.formats.style.Styler at 0x7f7c11779c70>"
      ]
     },
     "metadata": {},
     "output_type": "display_data"
    },
    {
     "data": {
      "text/plain": [
       "LGBMRegressor(boosting_type='gbdt', class_weight=None, colsample_bytree=1.0,\n",
       "              importance_type='split', learning_rate=0.1, max_depth=-1,\n",
       "              min_child_samples=20, min_child_weight=0.001, min_split_gain=0.0,\n",
       "              n_estimators=100, n_jobs=-1, num_leaves=31, objective=None,\n",
       "              random_state=627, reg_alpha=0.0, reg_lambda=0.0, silent='warn',\n",
       "              subsample=1.0, subsample_for_bin=200000, subsample_freq=0)"
      ]
     },
     "execution_count": 9,
     "metadata": {},
     "output_type": "execute_result"
    }
   ],
   "source": [
    "\n",
    "from pycaret.regression import *\n",
    "import warnings\n",
    "warnings.filterwarnings('ignore')\n",
    "\n",
    "df_sample_pycaret=df_sample.drop(['Trip_ID','Trip_Total'], axis=1).copy()\n",
    "exp_reg101 = setup(data = df_sample_pycaret, target = 'Tips',normalize = True,silent=True) \n",
    "compare_models(exclude=['knn','gbr'])"
   ]
  },
  {
   "cell_type": "markdown",
   "metadata": {},
   "source": [
    "Com base nos dados colhidos pelo PyCaret o **Light Gradient Boosting Machine**  é o melhor algoritmo de regressão para predição das gorjetas (**Tips**), contudo a versão mais próxima dele que existe no PySpark (o GBTRegressor) é custosa computacionalmente. Por essa razão vai ser utilizado um modelo do tipo **Random Forest**, que apresentou uma qualidade próxima do **Light Gradient Boosting Machine** .\n",
    "\n",
    "Tanto o **Random Forest** quanto o **Light Gradient Boosting Machine** apresentaram boas métricas de qualidade, o que indica que modelos criados por esses algoritmos iriam funcionar bem na base de dados completa."
   ]
  },
  {
   "cell_type": "markdown",
   "metadata": {},
   "source": [
    " # Transformações dos dados para o pacote de ML do Spark (MLlib)\n",
    " Dividir dados em teste e treino"
   ]
  },
  {
   "cell_type": "code",
   "execution_count": 10,
   "metadata": {},
   "outputs": [],
   "source": [
    "df_train, df_test = df.randomSplit(weights=[0.8,0.2], seed=200)"
   ]
  },
  {
   "cell_type": "markdown",
   "metadata": {},
   "source": [
    "# Coluna que vai ser predita pelo modelo"
   ]
  },
  {
   "cell_type": "code",
   "execution_count": 11,
   "metadata": {},
   "outputs": [
    {
     "data": {
      "text/plain": [
       "'Tips'"
      ]
     },
     "execution_count": 11,
     "metadata": {},
     "output_type": "execute_result"
    }
   ],
   "source": [
    "col_output=['Tips']\n",
    "col_output[0]"
   ]
  },
  {
   "cell_type": "markdown",
   "metadata": {},
   "source": [
    " ## Colunas com dados continuos\n",
    " Nomes das colunas"
   ]
  },
  {
   "cell_type": "code",
   "execution_count": 12,
   "metadata": {},
   "outputs": [
    {
     "data": {
      "text/plain": [
       "['Trip_Miles', 'Trip_Seconds', 'Fare', 'Tolls', 'Extras']"
      ]
     },
     "execution_count": 12,
     "metadata": {},
     "output_type": "execute_result"
    }
   ],
   "source": [
    "cols_cont_atri=[    'Trip_Miles','Trip_Seconds',\n",
    "                    'Fare','Tolls','Extras']\n",
    "cols_cont_atri"
   ]
  },
  {
   "cell_type": "markdown",
   "metadata": {},
   "source": [
    " Criar um Vector Input para as colunas com dados continuos"
   ]
  },
  {
   "cell_type": "code",
   "execution_count": 13,
   "metadata": {},
   "outputs": [],
   "source": [
    "vectorAssembler_input_continuos = VectorAssembler(\n",
    "    inputCols=cols_cont_atri,\n",
    "    outputCol=\"input_for_ml_continuous\")\n",
    "df_train = vectorAssembler_input_continuos.transform(df_train)\n",
    "df_test = vectorAssembler_input_continuos.transform(df_test)"
   ]
  },
  {
   "cell_type": "markdown",
   "metadata": {},
   "source": [
    " Aplica a Standart scaler nas colunas *input_for_ml_continuous*"
   ]
  },
  {
   "cell_type": "code",
   "execution_count": 14,
   "metadata": {},
   "outputs": [
    {
     "name": "stderr",
     "output_type": "stream",
     "text": [
      "                                                                                \r"
     ]
    }
   ],
   "source": [
    "scaler_input = StandardScaler(inputCol=\"input_for_ml_continuous\",\n",
    "                              outputCol=\"input_for_ml_continuous_scaler\",\n",
    "                              withStd=True, withMean=True)\n",
    "scaler_input_model = scaler_input.fit(df_train.sample(0.01))\n",
    "df_train = scaler_input_model.transform(df_train)\n",
    "\n",
    "df_test = scaler_input_model.transform(df_test)"
   ]
  },
  {
   "cell_type": "markdown",
   "metadata": {},
   "source": [
    "##  Colunas com dados discretos"
   ]
  },
  {
   "cell_type": "code",
   "execution_count": 15,
   "metadata": {},
   "outputs": [],
   "source": [
    "cols_disc_atri_temp=df.columns\n",
    "cols_disc_atri=[]\n",
    "\n",
    "for c in cols_disc_atri_temp:\n",
    "    if not(c in (cols_cont_atri+col_output+['Trip_ID', 'Trip_Total'])):\n",
    "        cols_disc_atri.append(c)\n"
   ]
  },
  {
   "cell_type": "markdown",
   "metadata": {},
   "source": [
    " ## Juntar vetor da coluna *input_for_ml_continuous_scaler* com os valores das colunas com dados discretos. O novo vetor criado a partir dessa junção vai ser guardado na coluna *input_for_ml*."
   ]
  },
  {
   "cell_type": "code",
   "execution_count": 16,
   "metadata": {},
   "outputs": [],
   "source": [
    "vectorAssembler_input = VectorAssembler(\n",
    "    inputCols=cols_disc_atri+['input_for_ml_continuous_scaler'],\n",
    "    outputCol=\"input_for_ml\")\n",
    "df_train = vectorAssembler_input.transform(df_train)\n",
    "df_test = vectorAssembler_input.transform(df_test)"
   ]
  },
  {
   "cell_type": "markdown",
   "metadata": {},
   "source": [
    "  # Utilizar MLlib para criar modelo de machine learning"
   ]
  },
  {
   "cell_type": "markdown",
   "metadata": {},
   "source": [
    " Criar modelo de machine learning"
   ]
  },
  {
   "cell_type": "code",
   "execution_count": 18,
   "metadata": {},
   "outputs": [
    {
     "name": "stderr",
     "output_type": "stream",
     "text": [
      "                                                                                \r"
     ]
    }
   ],
   "source": [
    "'''\n",
    "lr=LinearRegression(featuresCol='input_for_ml', labelCol='Tips',\n",
    "                    regParam=0.3, elasticNetParam=0.8)\n",
    "'''\n",
    "rfg=RandomForestRegressor(numTrees=100,featuresCol='input_for_ml', labelCol='Tips')\n",
    "model = rfg.fit(df_train)"
   ]
  },
  {
   "cell_type": "code",
   "execution_count": 19,
   "metadata": {},
   "outputs": [
    {
     "name": "stderr",
     "output_type": "stream",
     "text": [
      "WARNING: An illegal reflective access operation has occurred\n",
      "WARNING: Illegal reflective access by org.apache.spark.util.SizeEstimator$ (file:/home/kite/mambaforge/envs/pycaret/lib/python3.8/site-packages/pyspark/jars/spark-core_2.12-3.3.1.jar) to field java.nio.charset.Charset.name\n",
      "WARNING: Please consider reporting this to the maintainers of org.apache.spark.util.SizeEstimator$\n",
      "WARNING: Use --illegal-access=warn to enable warnings of further illegal reflective access operations\n",
      "WARNING: All illegal access operations will be denied in a future release\n",
      "                                                                                \r"
     ]
    },
    {
     "name": "stdout",
     "output_type": "stream",
     "text": [
      "R Squared (R2) on test data = 0.761706\n"
     ]
    },
    {
     "name": "stderr",
     "output_type": "stream",
     "text": [
      "[Stage 35:======================================================>(99 + 1) / 100]\r"
     ]
    },
    {
     "name": "stdout",
     "output_type": "stream",
     "text": [
      "Mae on test data = 0.470685\n"
     ]
    },
    {
     "name": "stderr",
     "output_type": "stream",
     "text": [
      "\r",
      "                                                                                \r"
     ]
    }
   ],
   "source": [
    "#df_test_1=df_test[df_test['Tips']>2]\n",
    "df_test_1=df_test\n",
    "df_predictions = model.transform(df_test_1)\n",
    "metrics = RegressionEvaluator(predictionCol='prediction',labelCol=\"Tips\",metricName='r2')\n",
    "print(\"R Squared (R2) on test data = %g\" % metrics.evaluate(df_predictions))\n",
    "metrics = RegressionEvaluator(predictionCol='prediction',labelCol=\"Tips\",metricName='mae')\n",
    "print(\"Mae on test data = %g\" % metrics.evaluate(df_predictions))"
   ]
  },
  {
   "cell_type": "code",
   "execution_count": 20,
   "metadata": {},
   "outputs": [
    {
     "name": "stderr",
     "output_type": "stream",
     "text": [
      "                                                                                \r"
     ]
    }
   ],
   "source": [
    "df_predictions[cols_cont_atri+['input_for_ml','prediction','Tips']].sample(0.01).toPandas().to_csv('predict_sample.csv') "
   ]
  },
  {
   "cell_type": "code",
   "execution_count": 21,
   "metadata": {},
   "outputs": [
    {
     "name": "stderr",
     "output_type": "stream",
     "text": [
      "                                                                                \r"
     ]
    }
   ],
   "source": [
    "df_predictions.write.parquet('predict_tips_for_taxi.parquet')"
   ]
  },
  {
   "cell_type": "markdown",
   "metadata": {},
   "source": [
    "### Discussão sobre a qualidade do modelo criado\n",
    "\n",
    "O modelo apresenta uma qualidade razoavel de predição com base nas métricas extraídas. O r2 possui um valor de 0.76,  o melhor valor possível é 1, o que mostra que a predição do modelo acompanha o real. O erro médio absoluto (em inglês possui a sigla **MAE**) é de 0.47, com o melhor resultado sendo 0, esse erro de predição é razoavel quando observado, de acordo com o histograma de gorjetas, que a maioria das gorjetas possui um valor entre 0 a 2."
   ]
  },
  {
   "cell_type": "markdown",
   "metadata": {},
   "source": [
    "## Análise da importância dos atributos para o modelo criado\n",
    "A seguir a lista dos atributos que o modelo considera mais importantes determinar o valor da gorjeta:"
   ]
  },
  {
   "cell_type": "code",
   "execution_count": 22,
   "metadata": {},
   "outputs": [
    {
     "data": {
      "text/html": [
       "<div>\n",
       "<style scoped>\n",
       "    .dataframe tbody tr th:only-of-type {\n",
       "        vertical-align: middle;\n",
       "    }\n",
       "\n",
       "    .dataframe tbody tr th {\n",
       "        vertical-align: top;\n",
       "    }\n",
       "\n",
       "    .dataframe thead th {\n",
       "        text-align: right;\n",
       "    }\n",
       "</style>\n",
       "<table border=\"1\" class=\"dataframe\">\n",
       "  <thead>\n",
       "    <tr style=\"text-align: right;\">\n",
       "      <th></th>\n",
       "      <th>importance</th>\n",
       "      <th>name</th>\n",
       "    </tr>\n",
       "  </thead>\n",
       "  <tbody>\n",
       "    <tr>\n",
       "      <th>105</th>\n",
       "      <td>0.333604</td>\n",
       "      <td>payment_type__Credit_Card</td>\n",
       "    </tr>\n",
       "    <tr>\n",
       "      <th>117</th>\n",
       "      <td>0.211048</td>\n",
       "      <td>Fare</td>\n",
       "    </tr>\n",
       "    <tr>\n",
       "      <th>104</th>\n",
       "      <td>0.204373</td>\n",
       "      <td>payment_type__Cash</td>\n",
       "    </tr>\n",
       "    <tr>\n",
       "      <th>115</th>\n",
       "      <td>0.091340</td>\n",
       "      <td>Trip_Miles</td>\n",
       "    </tr>\n",
       "    <tr>\n",
       "      <th>119</th>\n",
       "      <td>0.067628</td>\n",
       "      <td>Extras</td>\n",
       "    </tr>\n",
       "    <tr>\n",
       "      <th>116</th>\n",
       "      <td>0.041659</td>\n",
       "      <td>Trip_Seconds</td>\n",
       "    </tr>\n",
       "    <tr>\n",
       "      <th>80</th>\n",
       "      <td>0.022227</td>\n",
       "      <td>pickup_area__76</td>\n",
       "    </tr>\n",
       "    <tr>\n",
       "      <th>68</th>\n",
       "      <td>0.011577</td>\n",
       "      <td>dropoff_area__76</td>\n",
       "    </tr>\n",
       "    <tr>\n",
       "      <th>107</th>\n",
       "      <td>0.006872</td>\n",
       "      <td>payment_type__Mobile</td>\n",
       "    </tr>\n",
       "    <tr>\n",
       "      <th>77</th>\n",
       "      <td>0.002834</td>\n",
       "      <td>pickup_area__56</td>\n",
       "    </tr>\n",
       "    <tr>\n",
       "      <th>110</th>\n",
       "      <td>0.002070</td>\n",
       "      <td>payment_type__Prcard</td>\n",
       "    </tr>\n",
       "    <tr>\n",
       "      <th>82</th>\n",
       "      <td>0.000849</td>\n",
       "      <td>pickup_area__m1</td>\n",
       "    </tr>\n",
       "    <tr>\n",
       "      <th>70</th>\n",
       "      <td>0.000815</td>\n",
       "      <td>dropoff_area__m1</td>\n",
       "    </tr>\n",
       "    <tr>\n",
       "      <th>113</th>\n",
       "      <td>0.000802</td>\n",
       "      <td>payment_type__Unknown</td>\n",
       "    </tr>\n",
       "    <tr>\n",
       "      <th>71</th>\n",
       "      <td>0.000728</td>\n",
       "      <td>dropoff_area__m2</td>\n",
       "    </tr>\n",
       "    <tr>\n",
       "      <th>81</th>\n",
       "      <td>0.000483</td>\n",
       "      <td>pickup_area__8</td>\n",
       "    </tr>\n",
       "    <tr>\n",
       "      <th>100</th>\n",
       "      <td>0.000203</td>\n",
       "      <td>company__Taxi_Affiliation_Services</td>\n",
       "    </tr>\n",
       "    <tr>\n",
       "      <th>75</th>\n",
       "      <td>0.000153</td>\n",
       "      <td>pickup_area__32</td>\n",
       "    </tr>\n",
       "    <tr>\n",
       "      <th>108</th>\n",
       "      <td>0.000141</td>\n",
       "      <td>payment_type__No_Charge</td>\n",
       "    </tr>\n",
       "    <tr>\n",
       "      <th>85</th>\n",
       "      <td>0.000136</td>\n",
       "      <td>company__303_Taxi</td>\n",
       "    </tr>\n",
       "    <tr>\n",
       "      <th>69</th>\n",
       "      <td>0.000124</td>\n",
       "      <td>dropoff_area__8</td>\n",
       "    </tr>\n",
       "    <tr>\n",
       "      <th>84</th>\n",
       "      <td>0.000067</td>\n",
       "      <td>company__null</td>\n",
       "    </tr>\n",
       "    <tr>\n",
       "      <th>83</th>\n",
       "      <td>0.000040</td>\n",
       "      <td>pickup_area__m2</td>\n",
       "    </tr>\n",
       "    <tr>\n",
       "      <th>92</th>\n",
       "      <td>0.000040</td>\n",
       "      <td>company__Flash_Cab</td>\n",
       "    </tr>\n",
       "    <tr>\n",
       "      <th>98</th>\n",
       "      <td>0.000032</td>\n",
       "      <td>company__Sun_Taxi</td>\n",
       "    </tr>\n",
       "    <tr>\n",
       "      <th>76</th>\n",
       "      <td>0.000027</td>\n",
       "      <td>pickup_area__33</td>\n",
       "    </tr>\n",
       "    <tr>\n",
       "      <th>90</th>\n",
       "      <td>0.000025</td>\n",
       "      <td>company__City_Service</td>\n",
       "    </tr>\n",
       "    <tr>\n",
       "      <th>66</th>\n",
       "      <td>0.000024</td>\n",
       "      <td>dropoff_area__6</td>\n",
       "    </tr>\n",
       "    <tr>\n",
       "      <th>62</th>\n",
       "      <td>0.000015</td>\n",
       "      <td>dropoff_area__28</td>\n",
       "    </tr>\n",
       "    <tr>\n",
       "      <th>64</th>\n",
       "      <td>0.000015</td>\n",
       "      <td>dropoff_area__32</td>\n",
       "    </tr>\n",
       "  </tbody>\n",
       "</table>\n",
       "</div>"
      ],
      "text/plain": [
       "     importance                                name\n",
       "105    0.333604           payment_type__Credit_Card\n",
       "117    0.211048                                Fare\n",
       "104    0.204373                  payment_type__Cash\n",
       "115    0.091340                          Trip_Miles\n",
       "119    0.067628                              Extras\n",
       "116    0.041659                        Trip_Seconds\n",
       "80     0.022227                     pickup_area__76\n",
       "68     0.011577                    dropoff_area__76\n",
       "107    0.006872                payment_type__Mobile\n",
       "77     0.002834                     pickup_area__56\n",
       "110    0.002070                payment_type__Prcard\n",
       "82     0.000849                     pickup_area__m1\n",
       "70     0.000815                    dropoff_area__m1\n",
       "113    0.000802               payment_type__Unknown\n",
       "71     0.000728                    dropoff_area__m2\n",
       "81     0.000483                      pickup_area__8\n",
       "100    0.000203  company__Taxi_Affiliation_Services\n",
       "75     0.000153                     pickup_area__32\n",
       "108    0.000141             payment_type__No_Charge\n",
       "85     0.000136                   company__303_Taxi\n",
       "69     0.000124                     dropoff_area__8\n",
       "84     0.000067                       company__null\n",
       "83     0.000040                     pickup_area__m2\n",
       "92     0.000040                  company__Flash_Cab\n",
       "98     0.000032                   company__Sun_Taxi\n",
       "76     0.000027                     pickup_area__33\n",
       "90     0.000025               company__City_Service\n",
       "66     0.000024                     dropoff_area__6\n",
       "62     0.000015                    dropoff_area__28\n",
       "64     0.000015                    dropoff_area__32"
      ]
     },
     "execution_count": 22,
     "metadata": {},
     "output_type": "execute_result"
    }
   ],
   "source": [
    "import numpy as np\n",
    "pd.DataFrame.from_dict({'importance': np.abs(model.featureImportances), 'name':cols_disc_atri+cols_cont_atri}).sort_values(ascending=False, by='importance').head(30)\n",
    "    \n"
   ]
  },
  {
   "cell_type": "markdown",
   "metadata": {},
   "source": [
    "# Conclusão\n",
    "\n",
    "Este trabalho propos a criação de um modelo de predição de gorjetas para as corridas de táxi feitas em Chicago.\n",
    "\n",
    "O modelo criado apresenta uma qualidade razoavel com base nas métricas de r2 e no erro médio absoluto. O fato do modelo ser do tipo Random Forest, escolhido com base na análise do PyCaret, facilita o entendimento deste. Olhando para dentro do modelo vemos que as colunas que mais influenciam a gorjeta são:\n",
    "* **payment_type__Credit_Card**, que diz quando o pagamento é por cartão de crédito.\n",
    "* **Fare**, tarifa da corrida.\n",
    "* **payment_type__Cash**, que diz quando o pagamento é por dinheiro.\n",
    "* **Trip_Miles**, distância percorrida na corrida."
   ]
  }
 ],
 "metadata": {
  "kernelspec": {
   "display_name": "Python 3 (ipykernel)",
   "language": "python",
   "name": "python3"
  },
  "language_info": {
   "codemirror_mode": {
    "name": "ipython",
    "version": 3
   },
   "file_extension": ".py",
   "mimetype": "text/x-python",
   "name": "python",
   "nbconvert_exporter": "python",
   "pygments_lexer": "ipython3",
   "version": "3.10.6"
  }
 },
 "nbformat": 4,
 "nbformat_minor": 2
}
